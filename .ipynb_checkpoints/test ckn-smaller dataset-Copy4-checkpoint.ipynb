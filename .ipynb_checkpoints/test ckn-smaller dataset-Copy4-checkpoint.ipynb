{
 "cells": [
  {
   "cell_type": "code",
   "execution_count": 1,
   "metadata": {
    "collapsed": false,
    "scrolled": true
   },
   "outputs": [],
   "source": [
    "%matplotlib inline\n",
    "from __future__ import print_function\n",
    "import argparse\n",
    "import torch\n",
    "import torch.nn as nn\n",
    "import torch.nn.functional as F\n",
    "import torch.optim as optim\n",
    "from torchvision import datasets, transforms\n",
    "from torch.autograd import Variable\n",
    "from CKN import *\n",
    "from Nystrom import *\n",
    "from image_processing_utils import *\n",
    "import scipy.optimize"
   ]
  },
  {
   "cell_type": "code",
   "execution_count": 2,
   "metadata": {
    "collapsed": true,
    "scrolled": true
   },
   "outputs": [],
   "source": [
    "batch_size=64\n",
    "test_batch_size=1000\n",
    "\n",
    "train_loader = torch.utils.data.DataLoader(\n",
    "    datasets.MNIST('../data', train=True, download=True,\n",
    "                   transform=transforms.Compose([\n",
    "                       transforms.ToTensor(),\n",
    "                       transforms.Normalize((0.1307,), (0.3081,))\n",
    "                   ])),\n",
    "    batch_size=batch_size, shuffle=True)\n",
    "test_loader = torch.utils.data.DataLoader(\n",
    "    datasets.MNIST('../data', train=False, transform=transforms.Compose([\n",
    "                       transforms.ToTensor(),\n",
    "                       transforms.Normalize((0.1307,), (0.3081,))\n",
    "                   ])),\n",
    "    batch_size=test_batch_size, shuffle=True)"
   ]
  },
  {
   "cell_type": "code",
   "execution_count": 3,
   "metadata": {
    "collapsed": false,
    "scrolled": true
   },
   "outputs": [],
   "source": [
    "inds=range(60000)\n",
    "import random\n",
    "random.seed(2017)\n",
    "random.shuffle(inds)\n",
    "\n",
    "test=train_loader.dataset.train_data[inds[:3000],:,:]"
   ]
  },
  {
   "cell_type": "code",
   "execution_count": 4,
   "metadata": {
    "collapsed": false,
    "scrolled": true
   },
   "outputs": [],
   "source": [
    "X_labels=train_loader.dataset.train_labels[torch.LongTensor(inds[:3000])]"
   ]
  },
  {
   "cell_type": "code",
   "execution_count": 5,
   "metadata": {
    "collapsed": false
   },
   "outputs": [
    {
     "data": {
      "text/plain": [
       "\n",
       " 0\n",
       " 9\n",
       " 6\n",
       "⋮ \n",
       " 1\n",
       " 1\n",
       " 5\n",
       "[torch.LongTensor of size 3000]"
      ]
     },
     "execution_count": 5,
     "metadata": {},
     "output_type": "execute_result"
    }
   ],
   "source": [
    "X_labels"
   ]
  },
  {
   "cell_type": "code",
   "execution_count": 6,
   "metadata": {
    "collapsed": true,
    "scrolled": true
   },
   "outputs": [],
   "source": [
    "import seaborn as sb\n",
    "import math\n",
    "import numpy as np\n"
   ]
  },
  {
   "cell_type": "code",
   "execution_count": null,
   "metadata": {
    "collapsed": false,
    "scrolled": true
   },
   "outputs": [],
   "source": [
    "data=test\n",
    "data=data.type(torch.FloatTensor)\n",
    "data2=data-torch.mean(data.view(-1,data.size()[1]*data.size()[2]),0).view(28,28)\n",
    "S=torch.std(data2.view(-1,data.size()[1]*data.size()[2]),0)\n",
    "S[S==0]=1\n",
    "data2=1.0/S*data2.view(-1,data.size()[1]*data.size()[2])\n",
    "data2=data2.view(-1,28,28)\n"
   ]
  },
  {
   "cell_type": "code",
   "execution_count": null,
   "metadata": {
    "collapsed": false,
    "scrolled": true
   },
   "outputs": [
    {
     "name": "stdout",
     "output_type": "stream",
     "text": [
      "torch.Size([3000, 28, 28])\n",
      "('patches extracted with size ', torch.Size([784, 3000, 25]))\n",
      "[[0, 601, 691], [0, 333, 98], [0, 441, 266], [0, 506, 343], [0, 214, 551], [0, 131, 748], [0, 636, 579], [0, 379, 150], [0, 143, 201], [0, 474, 687]]\n",
      "('sel', torch.Size([30000, 2, 25]))\n",
      "('The variance is: ', 0.10603480935096742)\n",
      "('inf values:', 0)\n",
      "('na values:', 0)\n",
      "('size input: ', torch.Size([30000, 2, 15]))\n",
      "(0, \n",
      "1.00000e-02 *\n",
      "  6.2411\n",
      "[torch.FloatTensor of size 1]\n",
      ", 10.590847969055176)\n",
      "(1, \n",
      "1.00000e-03 *\n",
      "  9.3336\n",
      "[torch.FloatTensor of size 1]\n",
      ", 11.627535104751587)\n",
      "(2, \n",
      "1.00000e-03 *\n",
      "  7.2879\n",
      "[torch.FloatTensor of size 1]\n",
      ", 13.248580932617188)\n",
      "(3, \n",
      "1.00000e-03 *\n",
      "  6.4557\n",
      "[torch.FloatTensor of size 1]\n",
      ", 11.808562994003296)\n",
      "(4, \n",
      "1.00000e-03 *\n",
      "  5.8718\n",
      "[torch.FloatTensor of size 1]\n",
      ", 12.212380170822144)\n",
      "(5, \n",
      "1.00000e-03 *\n",
      "  5.4673\n",
      "[torch.FloatTensor of size 1]\n",
      ", 12.449509859085083)\n",
      "(6, \n",
      "1.00000e-03 *\n",
      "  5.1678\n",
      "[torch.FloatTensor of size 1]\n",
      ", 11.711063146591187)\n",
      "(7, \n",
      "1.00000e-03 *\n",
      "  4.9046\n",
      "[torch.FloatTensor of size 1]\n",
      ", 10.73437213897705)\n",
      "(8, \n",
      "1.00000e-03 *\n",
      "  4.6923\n",
      "[torch.FloatTensor of size 1]\n",
      ", 11.288825035095215)\n",
      "(9, \n",
      "1.00000e-03 *\n",
      "  4.5242\n",
      "[torch.FloatTensor of size 1]\n",
      ", 11.060542106628418)\n",
      "(10, \n",
      "1.00000e-03 *\n",
      "  4.3862\n",
      "[torch.FloatTensor of size 1]\n",
      ", 12.115837097167969)\n",
      "(11, \n",
      "1.00000e-03 *\n",
      "  4.2705\n",
      "[torch.FloatTensor of size 1]\n",
      ", 11.296515941619873)\n",
      "(12, \n",
      "1.00000e-03 *\n",
      "  4.1710\n",
      "[torch.FloatTensor of size 1]\n",
      ", 11.33505392074585)\n",
      "(13, \n",
      "1.00000e-03 *\n",
      "  4.0817\n",
      "[torch.FloatTensor of size 1]\n",
      ", 10.823490858078003)\n",
      "(14, \n",
      "1.00000e-03 *\n",
      "  3.9966\n",
      "[torch.FloatTensor of size 1]\n",
      ", 10.758277893066406)\n",
      "(15, \n",
      "1.00000e-03 *\n",
      "  3.9071\n",
      "[torch.FloatTensor of size 1]\n",
      ", 13.140444040298462)\n",
      "(16, \n",
      "1.00000e-03 *\n",
      "  3.8021\n",
      "[torch.FloatTensor of size 1]\n",
      ", 10.535483837127686)\n",
      "(17, \n",
      "1.00000e-03 *\n",
      "  3.6705\n",
      "[torch.FloatTensor of size 1]\n",
      ", 10.415853023529053)\n",
      "(18, \n",
      "1.00000e-03 *\n",
      "  3.5064\n",
      "[torch.FloatTensor of size 1]\n",
      ", 13.829743146896362)\n",
      "(19, \n",
      "1.00000e-03 *\n",
      "  3.3454\n",
      "[torch.FloatTensor of size 1]\n",
      ", 14.500876188278198)\n",
      "(20, \n",
      "1.00000e-03 *\n",
      "  3.2443\n",
      "[torch.FloatTensor of size 1]\n",
      ", 12.616032838821411)\n",
      "(21, \n",
      "1.00000e-03 *\n",
      "  3.1854\n",
      "[torch.FloatTensor of size 1]\n",
      ", 10.143301010131836)\n",
      "(22, \n",
      "1.00000e-03 *\n",
      "  3.1459\n",
      "[torch.FloatTensor of size 1]\n",
      ", 10.572359800338745)\n",
      "(23, \n",
      "1.00000e-03 *\n",
      "  3.1164\n",
      "[torch.FloatTensor of size 1]\n",
      ", 13.017475128173828)\n",
      "(24, \n",
      "1.00000e-03 *\n",
      "  3.0930\n",
      "[torch.FloatTensor of size 1]\n",
      ", 11.97923493385315)\n",
      "(25, \n",
      "1.00000e-03 *\n",
      "  3.0738\n",
      "[torch.FloatTensor of size 1]\n",
      ", 10.428581953048706)\n",
      "(26, \n",
      "1.00000e-03 *\n",
      "  3.0577\n",
      "[torch.FloatTensor of size 1]\n",
      ", 12.179014921188354)\n",
      "(27, \n",
      "1.00000e-03 *\n",
      "  3.0440\n",
      "[torch.FloatTensor of size 1]\n",
      ", 12.922687768936157)\n",
      "(28, \n",
      "1.00000e-03 *\n",
      "  3.0318\n",
      "[torch.FloatTensor of size 1]\n",
      ", 11.885900974273682)\n",
      "(29, \n",
      "1.00000e-03 *\n",
      "  3.0203\n",
      "[torch.FloatTensor of size 1]\n",
      ", 11.45070195198059)\n",
      "(30, \n",
      "1.00000e-03 *\n",
      "  3.0087\n",
      "[torch.FloatTensor of size 1]\n",
      ", 10.436563968658447)\n",
      "(31, \n",
      "1.00000e-03 *\n",
      "  2.9970\n",
      "[torch.FloatTensor of size 1]\n",
      ", 10.543155908584595)\n",
      "(32, \n",
      "1.00000e-03 *\n",
      "  2.9865\n",
      "[torch.FloatTensor of size 1]\n",
      ", 10.695359945297241)\n",
      "(33, \n",
      "1.00000e-03 *\n",
      "  2.9777\n",
      "[torch.FloatTensor of size 1]\n",
      ", 11.95771598815918)\n",
      "(34, \n",
      "1.00000e-03 *\n",
      "  2.9705\n",
      "[torch.FloatTensor of size 1]\n",
      ", 11.819514036178589)\n",
      "(35, \n",
      "1.00000e-03 *\n",
      "  2.9645\n",
      "[torch.FloatTensor of size 1]\n",
      ", 10.576603889465332)\n",
      "(36, \n",
      "1.00000e-03 *\n",
      "  2.9595\n",
      "[torch.FloatTensor of size 1]\n",
      ", 10.071477890014648)\n",
      "(37, \n",
      "1.00000e-03 *\n",
      "  2.9551\n",
      "[torch.FloatTensor of size 1]\n",
      ", 10.081772804260254)\n",
      "(38, \n",
      "1.00000e-03 *\n",
      "  2.9512\n",
      "[torch.FloatTensor of size 1]\n",
      ", 9.87696886062622)\n",
      "(39, \n",
      "1.00000e-03 *\n",
      "  2.9476\n",
      "[torch.FloatTensor of size 1]\n",
      ", 9.962369918823242)\n",
      "(40, \n",
      "1.00000e-03 *\n",
      "  2.9443\n",
      "[torch.FloatTensor of size 1]\n",
      ", 9.884419918060303)\n",
      "(41, \n",
      "1.00000e-03 *\n",
      "  2.9412\n",
      "[torch.FloatTensor of size 1]\n",
      ", 9.859471082687378)\n",
      "(42, \n",
      "1.00000e-03 *\n",
      "  2.9384\n",
      "[torch.FloatTensor of size 1]\n",
      ", 9.860195875167847)\n",
      "(43, \n",
      "1.00000e-03 *\n",
      "  2.9357\n",
      "[torch.FloatTensor of size 1]\n",
      ", 9.861482858657837)\n",
      "(44, \n",
      "1.00000e-03 *\n",
      "  2.9331\n",
      "[torch.FloatTensor of size 1]\n",
      ", 9.818732976913452)\n",
      "(45, \n",
      "1.00000e-03 *\n",
      "  2.9306\n",
      "[torch.FloatTensor of size 1]\n",
      ", 9.896155834197998)\n",
      "(46, \n",
      "1.00000e-03 *\n",
      "  2.9283\n",
      "[torch.FloatTensor of size 1]\n",
      ", 9.74492597579956)\n",
      "(47, \n",
      "1.00000e-03 *\n",
      "  2.9262\n",
      "[torch.FloatTensor of size 1]\n",
      ", 9.786463975906372)\n",
      "(48, \n",
      "1.00000e-03 *\n",
      "  2.9242\n",
      "[torch.FloatTensor of size 1]\n",
      ", 10.288734912872314)\n",
      "(49, \n",
      "1.00000e-03 *\n",
      "  2.9221\n",
      "[torch.FloatTensor of size 1]\n",
      ", 9.79633116722107)\n",
      "(50, \n",
      "1.00000e-03 *\n",
      "  2.9202\n",
      "[torch.FloatTensor of size 1]\n",
      ", 9.830039978027344)\n",
      "(51, \n",
      "1.00000e-03 *\n",
      "  2.9184\n",
      "[torch.FloatTensor of size 1]\n",
      ", 9.80474305152893)\n",
      "(52, \n",
      "1.00000e-03 *\n",
      "  2.9167\n",
      "[torch.FloatTensor of size 1]\n",
      ", 9.960222959518433)\n",
      "(53, \n",
      "1.00000e-03 *\n",
      "  2.9150\n",
      "[torch.FloatTensor of size 1]\n",
      ", 9.851123094558716)\n",
      "(54, \n",
      "1.00000e-03 *\n",
      "  2.9134\n",
      "[torch.FloatTensor of size 1]\n",
      ", 9.754170894622803)\n",
      "(55, \n",
      "1.00000e-03 *\n",
      "  2.9119\n",
      "[torch.FloatTensor of size 1]\n",
      ", 9.741931915283203)\n",
      "(56, \n",
      "1.00000e-03 *\n",
      "  2.9104\n",
      "[torch.FloatTensor of size 1]\n",
      ", 10.082751035690308)\n",
      "(57, \n",
      "1.00000e-03 *\n",
      "  2.9090\n",
      "[torch.FloatTensor of size 1]\n",
      ", 9.752546072006226)\n",
      "(58, \n",
      "1.00000e-03 *\n",
      "  2.9076\n",
      "[torch.FloatTensor of size 1]\n",
      ", 9.819515943527222)\n",
      "(59, \n",
      "1.00000e-03 *\n",
      "  2.9063\n",
      "[torch.FloatTensor of size 1]\n",
      ", 9.80616807937622)\n",
      "(60, \n",
      "1.00000e-03 *\n",
      "  2.9050\n",
      "[torch.FloatTensor of size 1]\n",
      ", 9.741131067276001)\n",
      "(61, \n",
      "1.00000e-03 *\n",
      "  2.9038\n",
      "[torch.FloatTensor of size 1]\n",
      ", 9.819233894348145)\n",
      "(62, \n",
      "1.00000e-03 *\n",
      "  2.9026\n",
      "[torch.FloatTensor of size 1]\n",
      ", 10.650465965270996)\n",
      "(63, \n",
      "1.00000e-03 *\n",
      "  2.9015\n",
      "[torch.FloatTensor of size 1]\n",
      ", 9.790796041488647)\n",
      "(64, \n",
      "1.00000e-03 *\n",
      "  2.9004\n",
      "[torch.FloatTensor of size 1]\n",
      ", 1295.641352891922)\n",
      "(65, \n",
      "1.00000e-03 *\n",
      "  2.8994\n",
      "[torch.FloatTensor of size 1]\n",
      ", 5965.605664014816)\n",
      "(66, \n",
      "1.00000e-03 *\n",
      "  2.8984\n",
      "[torch.FloatTensor of size 1]\n",
      ", 11.068403959274292)\n",
      "(67, \n",
      "1.00000e-03 *\n",
      "  2.8974\n",
      "[torch.FloatTensor of size 1]\n",
      ", 14.752537965774536)\n",
      "(68, \n",
      "1.00000e-03 *\n",
      "  2.8965\n",
      "[torch.FloatTensor of size 1]\n",
      ", 14.526489019393921)\n",
      "(69, \n",
      "1.00000e-03 *\n",
      "  2.8956\n",
      "[torch.FloatTensor of size 1]\n",
      ", 2241.5174129009247)\n",
      "(70, \n",
      "1.00000e-03 *\n",
      "  2.8947\n",
      "[torch.FloatTensor of size 1]\n",
      ", 3537.957489967346)\n",
      "(71, \n",
      "1.00000e-03 *\n",
      "  2.8939\n",
      "[torch.FloatTensor of size 1]\n",
      ", 12.158176898956299)\n",
      "(72, \n",
      "1.00000e-03 *\n",
      "  2.8931\n",
      "[torch.FloatTensor of size 1]\n",
      ", 15.27358603477478)\n",
      "(73, \n",
      "1.00000e-03 *\n",
      "  2.8923\n",
      "[torch.FloatTensor of size 1]\n",
      ", 2276.4634749889374)\n",
      "(74, \n",
      "1.00000e-03 *\n",
      "  2.8916\n",
      "[torch.FloatTensor of size 1]\n",
      ", 15.26698088645935)\n",
      "(75, \n",
      "1.00000e-03 *\n",
      "  2.8909\n",
      "[torch.FloatTensor of size 1]\n",
      ", 2279.1219539642334)\n",
      "(76, \n",
      "1.00000e-03 *\n",
      "  2.8902\n",
      "[torch.FloatTensor of size 1]\n",
      ", 14.709321975708008)\n",
      "(77, \n",
      "1.00000e-03 *\n",
      "  2.8895\n",
      "[torch.FloatTensor of size 1]\n",
      ", 2277.8110570907593)\n",
      "(78, \n",
      "1.00000e-03 *\n",
      "  2.8889\n",
      "[torch.FloatTensor of size 1]\n",
      ", 14.23818588256836)\n",
      "(79, \n",
      "1.00000e-03 *\n",
      "  2.8883\n",
      "[torch.FloatTensor of size 1]\n",
      ", 1778.3420469760895)\n",
      "(80, \n",
      "1.00000e-03 *\n",
      "  2.8877\n",
      "[torch.FloatTensor of size 1]\n",
      ", 22.8749361038208)\n",
      "(81, \n",
      "1.00000e-03 *\n",
      "  2.8871\n",
      "[torch.FloatTensor of size 1]\n",
      ", 23.11059308052063)\n",
      "(82, \n",
      "1.00000e-03 *\n",
      "  2.8865\n",
      "[torch.FloatTensor of size 1]\n",
      ", 2324.303615808487)\n",
      "(83, \n",
      "1.00000e-03 *\n",
      "  2.8860\n",
      "[torch.FloatTensor of size 1]\n",
      ", 12.495836973190308)\n",
      "(84, \n",
      "1.00000e-03 *\n",
      "  2.8854\n",
      "[torch.FloatTensor of size 1]\n",
      ", 2282.0258219242096)\n",
      "(85, \n",
      "1.00000e-03 *\n",
      "  2.8849\n",
      "[torch.FloatTensor of size 1]\n",
      ", 11.620711088180542)\n",
      "(86, \n",
      "1.00000e-03 *\n",
      "  2.8844\n",
      "[torch.FloatTensor of size 1]\n",
      ", 15.059233903884888)\n",
      "(87, \n",
      "1.00000e-03 *\n",
      "  2.8838\n",
      "[torch.FloatTensor of size 1]\n",
      ", 2277.2232489585876)\n"
     ]
    }
   ],
   "source": [
    "net=CKN()\n",
    "net=CKN(n_components=[150,100,100],n_layers=3,iter_max=100,n_patches=[5,2,2],subsampling_factors=[2,2,2],batch_size=[60,60,60])#Cell.fit_LBFGS(X)\n",
    "net.train_network(data2)"
   ]
  },
  {
   "cell_type": "code",
   "execution_count": null,
   "metadata": {
    "collapsed": false
   },
   "outputs": [],
   "source": [
    "test=Nystrom()\n",
    "input_map=data\n",
    "test.init_W(input_map,patches_given=False)"
   ]
  },
  {
   "cell_type": "code",
   "execution_count": null,
   "metadata": {
    "collapsed": false
   },
   "outputs": [],
   "source": [
    "net.Kernel[2].eta"
   ]
  },
  {
   "cell_type": "code",
   "execution_count": null,
   "metadata": {
    "collapsed": false
   },
   "outputs": [],
   "source": [
    "sb.heatmap(net.Kernel[0].W.data.numpy())\n",
    "plt.figure()\n",
    "sb.heatmap(net.Kernel[1].W.data.numpy())\n",
    "plt.figure()\n",
    "sb.heatmap(net.Kernel[2].W.data.numpy())"
   ]
  },
  {
   "cell_type": "code",
   "execution_count": null,
   "metadata": {
    "collapsed": false
   },
   "outputs": [],
   "source": [
    "print(net.Kernel[2].all_patches.size())\n",
    "sb.heatmap(net.Kernel[2].all_patches[40,:100,:].numpy())"
   ]
  },
  {
   "cell_type": "code",
   "execution_count": null,
   "metadata": {
    "collapsed": false
   },
   "outputs": [],
   "source": [
    "plt.plot([ u.numpy() for u in net.Kernel[2].training_loss],c='red')\n",
    "plt.plot([ u.numpy() for u in net.Kernel[0].training_loss])\n",
    "plt.plot([ u.numpy() for u in net.Kernel[1].training_loss],c='yellow')"
   ]
  },
  {
   "cell_type": "code",
   "execution_count": null,
   "metadata": {
    "collapsed": false
   },
   "outputs": [],
   "source": [
    "net.Kernel[1].eta"
   ]
  },
  {
   "cell_type": "code",
   "execution_count": null,
   "metadata": {
    "collapsed": false
   },
   "outputs": [],
   "source": [
    "print(net.Kernel[0].output.size())\n",
    "sb.heatmap(net.Kernel[0].output[100,:100,:].numpy())\n",
    "print(X_labels[:10])"
   ]
  },
  {
   "cell_type": "code",
   "execution_count": null,
   "metadata": {
    "collapsed": false
   },
   "outputs": [],
   "source": [
    "plt.plot([ u.numpy() for u in net.Kernel[1].training_loss])"
   ]
  },
  {
   "cell_type": "code",
   "execution_count": null,
   "metadata": {
    "collapsed": false
   },
   "outputs": [],
   "source": [
    "sb.heatmap(test.W.data.numpy())"
   ]
  },
  {
   "cell_type": "code",
   "execution_count": null,
   "metadata": {
    "collapsed": false
   },
   "outputs": [],
   "source": [
    "X_tot=net.Kernel[1].eta\n",
    "X_tot\n",
    "#X_tot_2=test.pca.transform(X_tot.view(-1,X_tot.size()[2]).numpy())"
   ]
  },
  {
   "cell_type": "code",
   "execution_count": null,
   "metadata": {
    "collapsed": true
   },
   "outputs": [],
   "source": []
  },
  {
   "cell_type": "code",
   "execution_count": null,
   "metadata": {
    "collapsed": false
   },
   "outputs": [],
   "source": [
    "X_tilde=torch.cat((net.Kernel[1].training_data[:,0,:],net.Kernel[1].training_data[:,1,:]), dim=0)\n",
    "pca=PCA(n_components=np.min([X_tilde.size()[1],15]))\n",
    "X_tilde2=pca.fit_transform(X_tilde.numpy())\n",
    "X_tilde2.shape"
   ]
  },
  {
   "cell_type": "code",
   "execution_count": null,
   "metadata": {
    "collapsed": false
   },
   "outputs": [],
   "source": [
    "input_map=X\n",
    "    for k in range(self.n_layers):\n",
    "            print(input_map.size())\n",
    "            input_map=self.get_activation_map(k)\n",
    "        return input_map"
   ]
  },
  {
   "cell_type": "code",
   "execution_count": null,
   "metadata": {
    "collapsed": false
   },
   "outputs": [],
   "source": [
    "X.permute(1,0,2).size()"
   ]
  },
  {
   "cell_type": "code",
   "execution_count": null,
   "metadata": {
    "collapsed": false
   },
   "outputs": [],
   "source": [
    "kernel_svm = svm.SVC(gamma=.2)\n",
    "kernel_svm.fit(X.permute(1,0,2).contiguous().view(3000,-1).numpy(), X_labels.numpy())"
   ]
  },
  {
   "cell_type": "code",
   "execution_count": null,
   "metadata": {
    "collapsed": false
   },
   "outputs": [],
   "source": [
    "#### Une fois que l'archtexture a ete entrainee on peut se servir de la couche finale pour faire de la prediction\n",
    "kernel_svm_score = kernel_svm.score(X.permute(1,0,2).contiguous().view(3000,-1).numpy(), X_labels.numpy())"
   ]
  },
  {
   "cell_type": "code",
   "execution_count": null,
   "metadata": {
    "collapsed": false
   },
   "outputs": [],
   "source": [
    "kernel_svm_score"
   ]
  },
  {
   "cell_type": "code",
   "execution_count": null,
   "metadata": {
    "collapsed": true
   },
   "outputs": [],
   "source": [
    "X_test=train_loader.dataset.train_data[torch.LongTensor(inds[3000:6000])]\n",
    "X_test_labels=train_loader.dataset.train_labels[torch.LongTensor(inds[3000:6000])]"
   ]
  },
  {
   "cell_type": "code",
   "execution_count": null,
   "metadata": {
    "collapsed": false
   },
   "outputs": [],
   "source": [
    "X_test.size()"
   ]
  },
  {
   "cell_type": "code",
   "execution_count": null,
   "metadata": {
    "collapsed": false
   },
   "outputs": [],
   "source": [
    "X_test_out=net.propagate_through_network(X_test)"
   ]
  },
  {
   "cell_type": "code",
   "execution_count": null,
   "metadata": {
    "collapsed": false
   },
   "outputs": [],
   "source": [
    "tests=kernel_svm.predict(X_test_out.permute(1,0,2).contiguous().view(3000,-1).numpy())"
   ]
  },
  {
   "cell_type": "code",
   "execution_count": null,
   "metadata": {
    "collapsed": false
   },
   "outputs": [],
   "source": [
    "X_test.shape"
   ]
  },
  {
   "cell_type": "code",
   "execution_count": null,
   "metadata": {
    "collapsed": false
   },
   "outputs": [],
   "source": [
    "kernel_svm_score = kernel_svm.score(X_test_out.permute(1,0,2).contiguous().view(3000,-1).numpy(), X_test_labels.numpy())"
   ]
  },
  {
   "cell_type": "code",
   "execution_count": null,
   "metadata": {
    "collapsed": false
   },
   "outputs": [],
   "source": [
    "kernel_svm_score"
   ]
  },
  {
   "cell_type": "code",
   "execution_count": null,
   "metadata": {
    "collapsed": true
   },
   "outputs": [],
   "source": []
  }
 ],
 "metadata": {
  "anaconda-cloud": {},
  "kernelspec": {
   "display_name": "Python [default]",
   "language": "python",
   "name": "python2"
  },
  "language_info": {
   "codemirror_mode": {
    "name": "ipython",
    "version": 2
   },
   "file_extension": ".py",
   "mimetype": "text/x-python",
   "name": "python",
   "nbconvert_exporter": "python",
   "pygments_lexer": "ipython2",
   "version": "2.7.11"
  }
 },
 "nbformat": 4,
 "nbformat_minor": 1
}
