{
 "cells": [
  {
   "cell_type": "code",
   "execution_count": 1,
   "metadata": {
    "collapsed": false,
    "scrolled": true
   },
   "outputs": [],
   "source": [
    "%matplotlib inline\n",
    "from __future__ import print_function\n",
    "import argparse\n",
    "import torch\n",
    "import torch.nn as nn\n",
    "import torch.nn.functional as F\n",
    "import torch.optim as optim\n",
    "from torchvision import datasets, transforms\n",
    "from torch.autograd import Variable\n",
    "from CKN import *\n",
    "from Nystrom import *\n",
    "from image_processing_utils import *\n",
    "import scipy.optimize"
   ]
  },
  {
   "cell_type": "code",
   "execution_count": 2,
   "metadata": {
    "collapsed": true,
    "scrolled": true
   },
   "outputs": [],
   "source": [
    "batch_size=64\n",
    "test_batch_size=1000\n",
    "\n",
    "train_loader = torch.utils.data.DataLoader(\n",
    "    datasets.MNIST('../data', train=True, download=True,\n",
    "                   transform=transforms.Compose([\n",
    "                       transforms.ToTensor(),\n",
    "                       transforms.Normalize((0.1307,), (0.3081,))\n",
    "                   ])),\n",
    "    batch_size=batch_size, shuffle=True)\n",
    "test_loader = torch.utils.data.DataLoader(\n",
    "    datasets.MNIST('../data', train=False, transform=transforms.Compose([\n",
    "                       transforms.ToTensor(),\n",
    "                       transforms.Normalize((0.1307,), (0.3081,))\n",
    "                   ])),\n",
    "    batch_size=test_batch_size, shuffle=True)"
   ]
  },
  {
   "cell_type": "code",
   "execution_count": 3,
   "metadata": {
    "collapsed": false,
    "scrolled": true
   },
   "outputs": [],
   "source": [
    "inds=range(60000)\n",
    "import random\n",
    "random.seed(2017)\n",
    "random.shuffle(inds)\n",
    "\n",
    "test=train_loader.dataset.train_data[inds[:3000],:,:]"
   ]
  },
  {
   "cell_type": "code",
   "execution_count": 4,
   "metadata": {
    "collapsed": false,
    "scrolled": true
   },
   "outputs": [],
   "source": [
    "X_labels=train_loader.dataset.train_labels[torch.LongTensor(inds[:3000])]"
   ]
  },
  {
   "cell_type": "code",
   "execution_count": 5,
   "metadata": {
    "collapsed": false
   },
   "outputs": [
    {
     "data": {
      "text/plain": [
       "\n",
       " 0\n",
       " 9\n",
       " 6\n",
       "⋮ \n",
       " 1\n",
       " 1\n",
       " 5\n",
       "[torch.LongTensor of size 3000]"
      ]
     },
     "execution_count": 5,
     "metadata": {},
     "output_type": "execute_result"
    }
   ],
   "source": [
    "X_labels"
   ]
  },
  {
   "cell_type": "code",
   "execution_count": 6,
   "metadata": {
    "collapsed": true,
    "scrolled": true
   },
   "outputs": [],
   "source": [
    "import seaborn as sb\n",
    "import math\n",
    "import numpy as np\n"
   ]
  },
  {
   "cell_type": "code",
   "execution_count": 7,
   "metadata": {
    "collapsed": false,
    "scrolled": true
   },
   "outputs": [],
   "source": [
    "data=test\n",
    "data=1.0/255*data.type(torch.FloatTensor)\n",
    "#data2=data-torch.mean(data.view(-1,data.size()[1]*data.size()[2]),0).view(28,28)\n",
    "#S=torch.std(data2.view(-1,data.size()[1]*data.size()[2]),0)\n",
    "#S[S==0]=1\n",
    "#data2=1.0/255*data2.view(-1,data.size()[1]*data.size()[2])\n",
    "#data2=data2.view(-1,28,28)\n"
   ]
  },
  {
   "cell_type": "code",
   "execution_count": 8,
   "metadata": {
    "collapsed": false
   },
   "outputs": [],
   "source": [
    "### contrast normalize\n",
    "n_d,p_dim,_=data.size()\n",
    "norm=torch.max(torch.sum(data.view(n_d,-1)**2,1),torch.Tensor([0.00001]))\n",
    "data=torch.div(data.view(n_d,-1),norm.view(n_d,1).expand(n_d,p_dim**2))"
   ]
  },
  {
   "cell_type": "code",
   "execution_count": 9,
   "metadata": {
    "collapsed": false
   },
   "outputs": [],
   "source": [
    "data=data.view(n_d,p_dim,p_dim)"
   ]
  },
  {
   "cell_type": "code",
   "execution_count": 10,
   "metadata": {
    "collapsed": false,
    "scrolled": true
   },
   "outputs": [
    {
     "name": "stdout",
     "output_type": "stream",
     "text": [
      "torch.Size([3000, 28, 28])\n",
      "patches extracted with size  torch.Size([784, 3000, 9])\n",
      "torch.Size([784, 3000, 9])\n",
      "[[0, 140, 381], [0, 645, 740], [0, 365, 282], [0, 249, 80], [0, 731, 23], [0, 753, 17], [0, 478, 775], [0, 761, 214], [0, 444, 524], [0, 11, 635]]\n",
      "('sel', torch.Size([90000, 2, 9]))\n",
      "('The data has size', torch.Size([784, 3000, 9]))\n",
      "('all okay', True)\n",
      "('The variance is: ', 6.365025520324707)\n",
      "('size input: ', torch.Size([90000, 2, 9]))\n",
      "(0, \n",
      "1.00000e-03 *\n",
      "  9.2918\n",
      "[torch.FloatTensor of size 1]\n",
      ", 19.62826895713806)\n",
      "(1, \n",
      "1.00000e-03 *\n",
      "  3.3327\n",
      "[torch.FloatTensor of size 1]\n",
      ", 21.23923897743225)\n",
      "(2, \n",
      "1.00000e-03 *\n",
      "  1.9704\n",
      "[torch.FloatTensor of size 1]\n",
      ", 16.128214120864868)\n",
      "(3, \n",
      "1.00000e-03 *\n",
      "  1.2623\n",
      "[torch.FloatTensor of size 1]\n",
      ", 15.5836820602417)\n",
      "(4, \n",
      "1.00000e-04 *\n",
      "  9.3663\n",
      "[torch.FloatTensor of size 1]\n",
      ", 15.775722026824951)\n",
      "(5, \n",
      "1.00000e-04 *\n",
      "  7.7287\n",
      "[torch.FloatTensor of size 1]\n",
      ", 15.708839893341064)\n",
      "(6, \n",
      "1.00000e-04 *\n",
      "  6.6598\n",
      "[torch.FloatTensor of size 1]\n",
      ", 15.64531421661377)\n",
      "(7, \n",
      "1.00000e-04 *\n",
      "  5.8095\n",
      "[torch.FloatTensor of size 1]\n",
      ", 15.683423042297363)\n",
      "(8, \n",
      "1.00000e-04 *\n",
      "  5.0920\n",
      "[torch.FloatTensor of size 1]\n",
      ", 15.79192304611206)\n",
      "(9, \n",
      "1.00000e-04 *\n",
      "  4.4891\n",
      "[torch.FloatTensor of size 1]\n",
      ", 18.14523983001709)\n",
      "(10, \n",
      "1.00000e-04 *\n",
      "  3.9881\n",
      "[torch.FloatTensor of size 1]\n",
      ", 19.416401863098145)\n",
      "(11, \n",
      "1.00000e-04 *\n",
      "  3.5786\n",
      "[torch.FloatTensor of size 1]\n",
      ", 23.981585025787354)\n",
      "(12, \n",
      "1.00000e-04 *\n",
      "  3.2421\n",
      "[torch.FloatTensor of size 1]\n",
      ", 18.53857183456421)\n",
      "(13, \n",
      "1.00000e-04 *\n",
      "  2.9632\n",
      "[torch.FloatTensor of size 1]\n",
      ", 18.59249210357666)\n",
      "(14, \n",
      "1.00000e-04 *\n",
      "  2.7282\n",
      "[torch.FloatTensor of size 1]\n",
      ", 18.76124405860901)\n",
      "(15, \n",
      "1.00000e-04 *\n",
      "  2.5255\n",
      "[torch.FloatTensor of size 1]\n",
      ", 19.38891887664795)\n",
      "(16, \n",
      "1.00000e-04 *\n",
      "  2.3481\n",
      "[torch.FloatTensor of size 1]\n",
      ", 19.0568790435791)\n",
      "(17, \n",
      "1.00000e-04 *\n",
      "  2.1904\n",
      "[torch.FloatTensor of size 1]\n",
      ", 18.55327582359314)\n",
      "(18, \n",
      "1.00000e-04 *\n",
      "  2.0485\n",
      "[torch.FloatTensor of size 1]\n",
      ", 18.592808961868286)\n",
      "(19, \n",
      "1.00000e-04 *\n",
      "  1.9202\n",
      "[torch.FloatTensor of size 1]\n",
      ", 19.412176847457886)\n",
      "(20, \n",
      "1.00000e-04 *\n",
      "  1.8035\n",
      "[torch.FloatTensor of size 1]\n",
      ", 23.333466053009033)\n",
      "(21, \n",
      "1.00000e-04 *\n",
      "  1.6970\n",
      "[torch.FloatTensor of size 1]\n",
      ", 22.79949688911438)\n",
      "(22, \n",
      "1.00000e-04 *\n",
      "  1.5993\n",
      "[torch.FloatTensor of size 1]\n",
      ", 20.184893131256104)\n",
      "(23, \n",
      "1.00000e-04 *\n",
      "  1.5097\n",
      "[torch.FloatTensor of size 1]\n",
      ", 20.191526174545288)\n",
      "(24, \n",
      "1.00000e-04 *\n",
      "  1.4271\n",
      "[torch.FloatTensor of size 1]\n",
      ", 20.626934051513672)\n",
      "(25, \n",
      "1.00000e-04 *\n",
      "  1.3510\n",
      "[torch.FloatTensor of size 1]\n",
      ", 20.039613008499146)\n",
      "(26, \n",
      "1.00000e-04 *\n",
      "  1.2807\n",
      "[torch.FloatTensor of size 1]\n",
      ", 19.864495038986206)\n",
      "(27, \n",
      "1.00000e-04 *\n",
      "  1.2157\n",
      "[torch.FloatTensor of size 1]\n",
      ", 20.47399377822876)\n",
      "(28, \n",
      "1.00000e-04 *\n",
      "  1.1555\n",
      "[torch.FloatTensor of size 1]\n",
      ", 19.744494915008545)\n",
      "(29, \n",
      "1.00000e-04 *\n",
      "  1.0997\n",
      "[torch.FloatTensor of size 1]\n",
      ", 19.852057933807373)\n",
      "(30, \n",
      "1.00000e-04 *\n",
      "  1.0478\n",
      "[torch.FloatTensor of size 1]\n",
      ", 18.930211067199707)\n",
      "(31, \n",
      "1.00000e-05 *\n",
      "  9.9965\n",
      "[torch.FloatTensor of size 1]\n",
      ", 20.738646984100342)\n",
      "(32, \n",
      "1.00000e-05 *\n",
      "  9.5500\n",
      "[torch.FloatTensor of size 1]\n",
      ", 19.251340866088867)\n",
      "(33, \n",
      "1.00000e-05 *\n",
      "  9.1338\n",
      "[torch.FloatTensor of size 1]\n",
      ", 19.182776927947998)\n",
      "(34, \n",
      "1.00000e-05 *\n",
      "  8.7462\n",
      "[torch.FloatTensor of size 1]\n",
      ", 21.30419898033142)\n",
      "(35, \n",
      "1.00000e-05 *\n",
      "  8.3849\n",
      "[torch.FloatTensor of size 1]\n",
      ", 19.812571048736572)\n",
      "(36, \n",
      "1.00000e-05 *\n",
      "  8.0469\n",
      "[torch.FloatTensor of size 1]\n",
      ", 21.004530906677246)\n",
      "(37, \n",
      "1.00000e-05 *\n",
      "  7.7315\n",
      "[torch.FloatTensor of size 1]\n",
      ", 18.660494089126587)\n",
      "(38, \n",
      "1.00000e-05 *\n",
      "  7.4360\n",
      "[torch.FloatTensor of size 1]\n",
      ", 18.392433881759644)\n",
      "(39, \n",
      "1.00000e-05 *\n",
      "  7.1594\n",
      "[torch.FloatTensor of size 1]\n",
      ", 21.401577949523926)\n",
      "(40, \n",
      "1.00000e-05 *\n",
      "  6.9000\n",
      "[torch.FloatTensor of size 1]\n",
      ", 24.90136194229126)\n",
      "(41, \n",
      "1.00000e-05 *\n",
      "  6.6569\n",
      "[torch.FloatTensor of size 1]\n",
      ", 20.23030996322632)\n",
      "(42, \n",
      "1.00000e-05 *\n",
      "  6.4289\n",
      "[torch.FloatTensor of size 1]\n",
      ", 21.61275815963745)\n",
      "(43, \n",
      "1.00000e-05 *\n",
      "  6.2146\n",
      "[torch.FloatTensor of size 1]\n",
      ", 22.702068090438843)\n",
      "(44, \n",
      "1.00000e-05 *\n",
      "  6.0133\n",
      "[torch.FloatTensor of size 1]\n",
      ", 19.317609071731567)\n",
      "(45, \n",
      "1.00000e-05 *\n",
      "  5.8236\n",
      "[torch.FloatTensor of size 1]\n",
      ", 18.915122985839844)\n",
      "(46, \n",
      "1.00000e-05 *\n",
      "  5.6449\n",
      "[torch.FloatTensor of size 1]\n",
      ", 19.470242977142334)\n",
      "(47, \n",
      "1.00000e-05 *\n",
      "  5.4766\n",
      "[torch.FloatTensor of size 1]\n",
      ", 19.456578016281128)\n",
      "(48, \n",
      "1.00000e-05 *\n",
      "  5.3176\n",
      "[torch.FloatTensor of size 1]\n",
      ", 24.402102947235107)\n",
      "(49, \n",
      "1.00000e-05 *\n",
      "  5.1675\n",
      "[torch.FloatTensor of size 1]\n",
      ", 22.89673399925232)\n",
      "(30, 30)\n",
      "0\n",
      "('tot', 0.8624531030654907)\n",
      "1\n",
      "('tot', 0.8631466627120972)\n",
      "2\n",
      "('tot', 0.8627887964248657)\n",
      "3\n",
      "('tot', 0.8663904070854187)\n",
      "4\n",
      "('tot', 0.8627573847770691)\n",
      "5\n",
      "('tot', 0.8573179244995117)\n",
      "6\n",
      "('tot', 0.8656213283538818)\n",
      "7\n",
      "('tot', 0.8568726181983948)\n",
      "8\n",
      "('tot', 0.8620260953903198)\n",
      "9\n",
      "('tot', 0.8625944256782532)\n",
      "10\n",
      "('tot', 0.8627219200134277)\n",
      "11\n",
      "('tot', 0.8628828525543213)\n",
      "12\n",
      "('tot', 0.8613594770431519)\n",
      "13\n",
      "('tot', 0.8617682456970215)\n",
      "14\n",
      "('tot', 0.8677939772605896)\n",
      "15\n",
      "('tot', 0.8624996542930603)\n",
      "16\n",
      "('tot', 0.8654080629348755)\n",
      "17\n",
      "('tot', 0.8635572791099548)\n",
      "18\n",
      "('tot', 0.8624227643013)\n",
      "19\n",
      "('tot', 0.8654001951217651)\n",
      "20\n",
      "('tot', 0.8628091216087341)\n",
      "21\n",
      "('tot', 0.8594107031822205)\n",
      "22\n",
      "('tot', 0.8660386800765991)\n",
      "23\n",
      "('tot', 0.8623840808868408)\n",
      "24\n",
      "('tot', 0.8657822012901306)\n",
      "25\n",
      "('tot', 0.8628091216087341)\n",
      "26\n",
      "('tot', 0.8628091216087341)\n",
      "27\n",
      "('tot', 0.8674529790878296)\n",
      "28\n",
      "('tot', 0.8620260953903198)\n",
      "29\n",
      "('tot', 0.8671912550926208)\n",
      "('size outpit', torch.Size([196, 3000, 150]))\n"
     ]
    },
    {
     "data": {
      "text/plain": [
       "\n",
       "( 0  ,.,.) = \n",
       "1.00000e-02 *\n",
       "  0.0000  0.0000  0.0000  ...   0.0000  0.0000  0.0000\n",
       "  0.0000  0.0000  0.0000  ...   0.0000  0.0000  0.0000\n",
       "  0.0000  0.0000  0.0000  ...   0.0000  0.0000  0.0000\n",
       "           ...             ⋱             ...          \n",
       "  0.0000  0.0000  0.0000  ...   0.0000  0.0000  0.0000\n",
       "  0.0000  0.0000  0.0000  ...   0.0000  0.0000  0.0000\n",
       "  0.0000  0.0000  0.0000  ...   0.0000  0.0000  0.0000\n",
       "\n",
       "( 1  ,.,.) = \n",
       "1.00000e-02 *\n",
       "  0.0000  0.0000  0.0000  ...   0.0000  0.0000  0.0000\n",
       "  0.0000  0.0000  0.0000  ...   0.0000  0.0000  0.0000\n",
       "  0.0000  0.0000  0.0000  ...   0.0000  0.0000  0.0000\n",
       "           ...             ⋱             ...          \n",
       "  0.0000  0.0000  0.0000  ...   0.0000  0.0000  0.0000\n",
       "  0.0000  0.0000  0.0000  ...   0.0000  0.0000  0.0000\n",
       "  0.0000  0.0000  0.0000  ...   0.0000  0.0000  0.0000\n",
       "\n",
       "( 2  ,.,.) = \n",
       "1.00000e-02 *\n",
       "  0.0000  0.0000  0.0000  ...   0.0000  0.0000  0.0000\n",
       "  0.0000  0.0000  0.0000  ...   0.0000  0.0000  0.0000\n",
       "  0.0000  0.0000  0.0000  ...   0.0000  0.0000  0.0000\n",
       "           ...             ⋱             ...          \n",
       "  0.0000  0.0000  0.0000  ...   0.0000  0.0000  0.0000\n",
       "  0.0000  0.0000  0.0000  ...   0.0000  0.0000  0.0000\n",
       "  0.0000  0.0000  0.0000  ...   0.0000  0.0000  0.0000\n",
       " ... \n",
       "\n",
       "(193 ,.,.) = \n",
       "1.00000e-02 *\n",
       "  0.0000  0.0000  0.0000  ...   0.0000  0.0000  0.0000\n",
       "  0.0000  0.0000  0.0000  ...   0.0000  0.0000  0.0000\n",
       "  0.0000  0.0000  0.0000  ...   0.0000  0.0000  0.0000\n",
       "           ...             ⋱             ...          \n",
       "  0.0000  0.0000  0.0000  ...   0.0000  0.0000  0.0000\n",
       "  0.0000  0.0000  0.0000  ...   0.0000  0.0000  0.0000\n",
       "  0.0000  0.0000  0.0000  ...   0.0000  0.0000  0.0000\n",
       "\n",
       "(194 ,.,.) = \n",
       "1.00000e-02 *\n",
       "  0.0000  0.0000  0.0000  ...   0.0000  0.0000  0.0000\n",
       "  0.0000  0.0000  0.0000  ...   0.0000  0.0000  0.0000\n",
       "  0.0000  0.0000  0.0000  ...   0.0000  0.0000  0.0000\n",
       "           ...             ⋱             ...          \n",
       "  0.0000  0.0000  0.0000  ...   0.0000  0.0000  0.0000\n",
       "  0.0000  0.0000  0.0000  ...   0.0000  0.0000  0.0000\n",
       "  0.0000  0.0000  0.0000  ...   0.0000  0.0000  0.0000\n",
       "\n",
       "(195 ,.,.) = \n",
       "1.00000e-02 *\n",
       "  0.0000  0.0000  0.0000  ...   0.0000  0.0000  0.0000\n",
       "  0.0000  0.0000  0.0000  ...   0.0000  0.0000  0.0000\n",
       "  0.0000  0.0000  0.0000  ...   0.0000  0.0000  0.0000\n",
       "           ...             ⋱             ...          \n",
       "  0.0000  0.0000  0.0000  ...   0.0000  0.0000  0.0000\n",
       "  0.0000  0.0000  0.0000  ...   0.0000  0.0000  0.0000\n",
       "  0.0000  0.0000  0.0000  ...   0.0000  0.0000  0.0000\n",
       "[torch.FloatTensor of size 196x3000x150]"
      ]
     },
     "execution_count": 10,
     "metadata": {},
     "output_type": "execute_result"
    }
   ],
   "source": [
    "net=CKN()\n",
    "size_patch=3\n",
    "net=CKN(n_components=[150],n_layers=1,iter_max=50,n_patches=[size_patch],subsampling_factors=[2],batch_size=[60])#Cell.fit_LBFGS(X)\n",
    "net.train_network(data)"
   ]
  },
  {
   "cell_type": "code",
   "execution_count": 11,
   "metadata": {
    "collapsed": false
   },
   "outputs": [
    {
     "name": "stdout",
     "output_type": "stream",
     "text": [
      "\n",
      " 0.8293\n",
      " 0.0113\n",
      " 0.1205\n",
      " 0.1686\n",
      " 0.1993\n",
      " 0.1621\n",
      " 0.0034\n",
      " 0.1606\n",
      " 0.1391\n",
      " 0.1446\n",
      " 0.1037\n",
      " 0.1185\n",
      " 0.0694\n",
      " 0.1697\n",
      " 0.2083\n",
      " 0.0651\n",
      " 0.1986\n",
      " 0.3476\n",
      " 0.1043\n",
      " 0.1008\n",
      " 0.1619\n",
      " 0.2582\n",
      " 0.0846\n",
      " 0.1574\n",
      " 0.0910\n",
      " 0.1087\n",
      " 0.0345\n",
      " 0.1464\n",
      " 0.1800\n",
      " 0.1189\n",
      " 0.2156\n",
      " 0.3139\n",
      " 0.2288\n",
      " 0.2215\n",
      " 0.0381\n",
      " 0.0617\n",
      " 0.2014\n",
      " 0.1409\n",
      " 0.0904\n",
      " 0.1552\n",
      " 0.1219\n",
      " 0.1276\n",
      " 0.2042\n",
      " 0.1162\n",
      " 0.0334\n",
      " 0.1995\n",
      " 0.2475\n",
      " 0.1657\n",
      " 0.0990\n",
      " 0.7588\n",
      " 0.2633\n",
      " 0.1525\n",
      " 0.9275\n",
      " 0.0387\n",
      " 0.0190\n",
      " 0.0514\n",
      " 0.1544\n",
      " 0.1482\n",
      " 0.9099\n",
      " 0.3782\n",
      " 0.2125\n",
      " 0.0027\n",
      " 0.8025\n",
      " 0.2001\n",
      " 0.1126\n",
      " 0.1294\n",
      " 0.1143\n",
      " 0.1023\n",
      " 0.0009\n",
      " 0.1253\n",
      " 0.0566\n",
      " 0.1329\n",
      " 0.7347\n",
      " 0.6472\n",
      " 0.0669\n",
      " 0.2285\n",
      " 0.0736\n",
      " 0.4724\n",
      " 0.0841\n",
      " 0.1719\n",
      " 0.0739\n",
      " 0.3407\n",
      " 0.0737\n",
      " 0.1754\n",
      " 0.1385\n",
      " 0.1269\n",
      " 0.1620\n",
      " 0.2133\n",
      " 0.0226\n",
      " 0.1734\n",
      " 0.1581\n",
      " 0.1882\n",
      " 0.1245\n",
      " 0.1985\n",
      " 0.3581\n",
      " 0.1167\n",
      " 0.1711\n",
      " 0.1974\n",
      " 0.2451\n",
      " 0.2849\n",
      " 0.3874\n",
      " 0.2579\n",
      " 0.2723\n",
      " 0.0282\n",
      " 0.0533\n",
      " 0.4517\n",
      " 0.0868\n",
      " 0.6660\n",
      " 0.1706\n",
      " 0.1539\n",
      " 0.1623\n",
      " 0.2425\n",
      " 0.1040\n",
      " 0.0279\n",
      " 0.8574\n",
      " 0.0240\n",
      " 0.0221\n",
      " 0.1453\n",
      " 0.1396\n",
      " 0.2297\n",
      " 0.1616\n",
      " 0.0012\n",
      " 0.5834\n",
      " 0.0941\n",
      " 0.1502\n",
      " 0.0508\n",
      " 0.1435\n",
      " 0.6826\n",
      " 0.3187\n",
      " 0.3896\n",
      " 0.3249\n",
      " 0.2045\n",
      " 0.2525\n",
      " 0.1212\n",
      " 0.2766\n",
      " 0.1869\n",
      " 0.0787\n",
      " 0.2344\n",
      " 0.0935\n",
      " 0.1959\n",
      " 0.2367\n",
      " 0.1796\n",
      " 0.6492\n",
      " 0.1278\n",
      " 0.1952\n",
      " 0.0173\n",
      " 0.4919\n",
      " 0.0939\n",
      " 0.1982\n",
      " 0.3324\n",
      "[torch.FloatTensor of size 150]\n",
      "\n"
     ]
    },
    {
     "data": {
      "text/plain": [
       "<matplotlib.figure.Figure at 0x11f78ad10>"
      ]
     },
     "execution_count": 11,
     "metadata": {},
     "output_type": "execute_result"
    },
    {
     "data": {
      "image/png": "[encoded data removed]",
      "text/plain": [
       "<matplotlib.figure.Figure at 0x103f52710>"
      ]
     },
     "metadata": {},
     "output_type": "display_data"
    },
    {
     "data": {
      "text/plain": [
       "<matplotlib.figure.Figure at 0x11f78ad10>"
      ]
     },
     "metadata": {},
     "output_type": "display_data"
    }
   ],
   "source": [
    "print(net.Kernel[0].eta.data)\n",
    "self=net\n",
    "sb.heatmap(net.Kernel[0].W.data.numpy())\n",
    "plt.figure()"
   ]
  },
  {
   "cell_type": "code",
   "execution_count": 12,
   "metadata": {
    "collapsed": false
   },
   "outputs": [
    {
     "name": "stdout",
     "output_type": "stream",
     "text": [
      "torch.Size([90000, 2, 9])\n"
     ]
    },
    {
     "data": {
      "text/plain": [
       "LinearRegression(copy_X=True, fit_intercept=True, n_jobs=1, normalize=False)"
      ]
     },
     "execution_count": 12,
     "metadata": {},
     "output_type": "execute_result"
    },
    {
     "data": {
      "image/png": "[encoded data removed]",
      "text/plain": [
       "<matplotlib.figure.Figure at 0x105651c10>"
      ]
     },
     "metadata": {},
     "output_type": "display_data"
    }
   ],
   "source": [
    "net.Kernel[0].convergence_check()"
   ]
  },
  {
   "cell_type": "code",
   "execution_count": 13,
   "metadata": {
    "collapsed": false
   },
   "outputs": [
    {
     "data": {
      "text/plain": [
       "[<matplotlib.lines.Line2D at 0x11f774090>]"
      ]
     },
     "execution_count": 13,
     "metadata": {},
     "output_type": "execute_result"
    },
    {
     "data": {
      "image/png": "[encoded data removed]",
      "text/plain": [
       "<matplotlib.figure.Figure at 0x11fc6a150>"
      ]
     },
     "metadata": {},
     "output_type": "display_data"
    }
   ],
   "source": [
    "plt.plot([ u.numpy() for u in net.Kernel[0].training_loss])\n",
    "#plt.plot([ u.numpy() for u in net.Kernel[1].training_loss],c='yellow')"
   ]
  },
  {
   "cell_type": "code",
   "execution_count": 14,
   "metadata": {
    "collapsed": false
   },
   "outputs": [
    {
     "name": "stdout",
     "output_type": "stream",
     "text": [
      "torch.Size([196, 3000, 150])\n",
      "\n",
      " 0\n",
      " 9\n",
      " 6\n",
      " 1\n",
      " 2\n",
      " 3\n",
      " 9\n",
      " 2\n",
      " 4\n",
      " 3\n",
      "[torch.LongTensor of size 10]\n",
      "\n"
     ]
    },
    {
     "data": {
      "image/png": "[encoded data removed]",
      "text/plain": [
       "<matplotlib.figure.Figure at 0x11f78a750>"
      ]
     },
     "metadata": {},
     "output_type": "display_data"
    }
   ],
   "source": [
    "print(net.Kernel[0].output.size())\n",
    "sb.heatmap(net.Kernel[0].output[100,:100,:].numpy())\n",
    "print(X_labels[:10])"
   ]
  },
  {
   "cell_type": "code",
   "execution_count": 64,
   "metadata": {
    "collapsed": false
   },
   "outputs": [
    {
     "name": "stdout",
     "output_type": "stream",
     "text": [
      "XX size torch.Size([196, 3000, 150])\n",
      "torch.Size([3000, 196, 150])\n",
      "0.614\n"
     ]
    }
   ],
   "source": [
    "# Import datasets, classifiers and performance metrics\n",
    "from sklearn import datasets, svm, pipeline\n",
    "from sklearn.kernel_approximation import (RBFSampler,\n",
    "                                          Nystroem)\n",
    "from sklearn.decomposition import PCA\n",
    "\n",
    "\n",
    "\n",
    "#X=net.Kernel[0].output\n",
    "X=net.Kernel[0].get_activation_map()\n",
    "n_p,n_d,p_dim=X.size()\n",
    "print(X.size())\n",
    "X=X.permute(1,0,2)\n",
    "print(X.size())\n",
    "\n",
    "pca_mnis=PCA(n_components=15,whiten=True)\n",
    "pca_mnis.fit(X.contiguous().view(n_d, n_p*p_dim).numpy())\n",
    "print(X.contiguous().view(n_d, n_p*p_dim).size())\n",
    "\n",
    "print(X.contiguous().size())\n",
    "X2=pca_mnis.transform(X.contiguous().view(n_d, n_p*p_dim).numpy())\n",
    "\n",
    "kernel_svm = svm.SVC(gamma=0.2)\n",
    "\n",
    "kernel_svm.fit(X2, X_labels.numpy())\n",
    "kernel_svm_score = kernel_svm.score(X2, X_labels.numpy())\n",
    "print(kernel_svm_score)\n",
    "\n",
    "X_test=train_loader.dataset.train_data[torch.LongTensor(inds[3000:6000])]\n",
    "X_test_labels=train_loader.dataset.train_labels[torch.LongTensor(inds[3000:6000])]\n",
    "\n",
    "X_test=2.0/255*X_test.type(torch.FloatTensor)-1\n",
    "n_d,p_dim,_=data.size()\n",
    "norm=torch.max(torch.sum(X_test.view(n_d,-1)**2,1),torch.Tensor([0.00001]))\n",
    "X_test=torch.div(X_test.view(n_d,-1),norm.view(n_d,1).expand(n_d,p_dim**2))\n",
    "X_test=X_test.view(n_d,p_dim,p_dim)\n",
    "print(X_test.size())\n",
    "X_test=extract_patches_from_image(X_test,size_patch)\n",
    "print(X_test.size())\n",
    "n_p,n_d,p_dim,_=X_test.size()\n",
    "X_test=X_test.view(n_p,n_d,p_dim*p_dim)\n",
    "output_test=net.propagate_through_network(X=X_test,patches_given=True)\n",
    "\n",
    "#n_p,n_d,p_dim=X_test.size()\n",
    "XX=output_test\n",
    "print( 'XX size',XX.size())\n",
    "XX=XX.permute(1,0,2)\n",
    "print(XX.size())\n",
    "X_test1=pca_mnis.transform(X.contiguous().view(n_d, n_p*p_dim).numpy())\n",
    "X_test=pca_mnis.transform(XX.contiguous().view(n_d, n_p*p_dim).numpy())\n",
    "\n",
    "kernel_svm_score = kernel_svm.score(X_test, X_test_labels.numpy())\n",
    "print(kernel_svm_score)\n",
    "\n",
    "kernel_svm_score = kernel_svm.score(X2, X_labels.numpy())"
   ]
  },
  {
   "cell_type": "code",
   "execution_count": null,
   "metadata": {
    "collapsed": false
   },
   "outputs": [],
   "source": [
    "pca_mnist.transform(X.contiguous().view(n_d, n_p*p_dim).numpy())"
   ]
  },
  {
   "cell_type": "code",
   "execution_count": 21,
   "metadata": {
    "collapsed": false
   },
   "outputs": [
    {
     "data": {
      "text/plain": [
       "(3000L, 784L, 3L)"
      ]
     },
     "execution_count": 21,
     "metadata": {},
     "output_type": "execute_result"
    }
   ],
   "source": [
    "n_d, n_p,p_dim"
   ]
  },
  {
   "cell_type": "code",
   "execution_count": null,
   "metadata": {
    "collapsed": false
   },
   "outputs": [],
   "source": [
    "X_test=pca_mnist.transform(XX.contiguous().view(n_d, n_p*p_dim).numpy())\n",
    "\n",
    "kernel_svm_score = kernel_svm.score(X_test, X_test_labels.numpy())\n",
    "print(kernel_svm_score)\n",
    "\n",
    "kernel_svm_score = kernel_svm.score(X2, X_labels.numpy())"
   ]
  },
  {
   "cell_type": "code",
   "execution_count": null,
   "metadata": {
    "collapsed": false
   },
   "outputs": [],
   "source": [
    "X2=pca_mnist.transform(X.contiguous().view(n_d, n_p*p_dim).numpy())"
   ]
  },
  {
   "cell_type": "code",
   "execution_count": null,
   "metadata": {
    "collapsed": false
   },
   "outputs": [],
   "source": [
    "kernel_svm.fit(X2, X_labels.numpy())\n",
    "kernel_svm_score = kernel_svm.score(X2, X_labels.numpy())"
   ]
  }
 ],
 "metadata": {
  "anaconda-cloud": {},
  "kernelspec": {
   "display_name": "Python [default]",
   "language": "python",
   "name": "python2"
  },
  "language_info": {
   "codemirror_mode": {
    "name": "ipython",
    "version": 2
   },
   "file_extension": ".py",
   "mimetype": "text/x-python",
   "name": "python",
   "nbconvert_exporter": "python",
   "pygments_lexer": "ipython2",
   "version": "2.7.11"
  }
 },
 "nbformat": 4,
 "nbformat_minor": 1
}
