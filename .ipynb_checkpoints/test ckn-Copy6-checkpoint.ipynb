{
 "cells": [
  {
   "cell_type": "code",
   "execution_count": 1,
   "metadata": {
    "collapsed": false
   },
   "outputs": [],
   "source": [
    "%matplotlib inline\n",
    "from __future__ import print_function\n",
    "import argparse\n",
    "import torch\n",
    "import torch.nn as nn\n",
    "import torch.nn.functional as F\n",
    "import torch.optim as optim\n",
    "from torchvision import datasets, transforms\n",
    "from torch.autograd import Variable\n",
    "from CKN import *\n",
    "from Nystrom import *\n",
    "from image_processing_utils import *\n",
    "import scipy.optimize"
   ]
  },
  {
   "cell_type": "code",
   "execution_count": 2,
   "metadata": {
    "collapsed": true
   },
   "outputs": [],
   "source": [
    "batch_size=64\n",
    "test_batch_size=1000\n",
    "\n",
    "train_loader = torch.utils.data.DataLoader(\n",
    "    datasets.MNIST('../data', train=True, download=True,\n",
    "                   transform=transforms.Compose([\n",
    "                       transforms.ToTensor(),\n",
    "                       transforms.Normalize((0.1307,), (0.3081,))\n",
    "                   ])),\n",
    "    batch_size=batch_size, shuffle=True)\n",
    "test_loader = torch.utils.data.DataLoader(\n",
    "    datasets.MNIST('../data', train=False, transform=transforms.Compose([\n",
    "                       transforms.ToTensor(),\n",
    "                       transforms.Normalize((0.1307,), (0.3081,))\n",
    "                   ])),\n",
    "    batch_size=test_batch_size, shuffle=True)"
   ]
  },
  {
   "cell_type": "code",
   "execution_count": 3,
   "metadata": {
    "collapsed": false
   },
   "outputs": [
    {
     "data": {
      "text/plain": [
       "torch.utils.data.dataloader.DataLoader"
      ]
     },
     "execution_count": 3,
     "metadata": {},
     "output_type": "execute_result"
    }
   ],
   "source": [
    "type(train_loader)"
   ]
  },
  {
   "cell_type": "code",
   "execution_count": 4,
   "metadata": {
    "collapsed": true
   },
   "outputs": [],
   "source": [
    "test=train_loader.dataset.train_data"
   ]
  },
  {
   "cell_type": "code",
   "execution_count": 5,
   "metadata": {
    "collapsed": false
   },
   "outputs": [
    {
     "data": {
      "text/plain": [
       "torch.ByteTensor"
      ]
     },
     "execution_count": 5,
     "metadata": {},
     "output_type": "execute_result"
    }
   ],
   "source": [
    "type(test)"
   ]
  },
  {
   "cell_type": "code",
   "execution_count": 6,
   "metadata": {
    "collapsed": false
   },
   "outputs": [
    {
     "data": {
      "text/plain": [
       "torch.Size([60000, 28, 28])"
      ]
     },
     "execution_count": 6,
     "metadata": {},
     "output_type": "execute_result"
    }
   ],
   "source": [
    "test.shape"
   ]
  },
  {
   "cell_type": "code",
   "execution_count": 7,
   "metadata": {
    "collapsed": true
   },
   "outputs": [],
   "source": [
    "import seaborn as sb\n",
    "import math\n",
    "import numpy as np\n"
   ]
  },
  {
   "cell_type": "code",
   "execution_count": 8,
   "metadata": {
    "collapsed": false
   },
   "outputs": [
    {
     "data": {
      "text/plain": [
       "<matplotlib.axes._subplots.AxesSubplot at 0x11c86d610>"
      ]
     },
     "execution_count": 8,
     "metadata": {},
     "output_type": "execute_result"
    },
    {
     "data": {
      "image/png": "[encoded data removed]",
      "text/plain": [
       "<matplotlib.figure.Figure at 0x1190a6390>"
      ]
     },
     "metadata": {},
     "output_type": "display_data"
    },
    {
     "data": {
      "image/png": "[encoded data removed]",
      "text/plain": [
       "<matplotlib.figure.Figure at 0x1190a6210>"
      ]
     },
     "metadata": {},
     "output_type": "display_data"
    }
   ],
   "source": [
    "sb.heatmap(test[0,:,:].numpy())\n",
    "plt.figure()\n",
    "size_patch=5\n",
    "sb.heatmap(rel_distance_patch(size_patch).numpy())"
   ]
  },
  {
   "cell_type": "code",
   "execution_count": 9,
   "metadata": {
    "collapsed": true
   },
   "outputs": [],
   "source": [
    "inpt=test[0,:,:]\n",
    "sx,sy=inpt.size()"
   ]
  },
  {
   "cell_type": "code",
   "execution_count": 10,
   "metadata": {
    "collapsed": true
   },
   "outputs": [],
   "source": [
    "size_patch=5\n",
    "data=test"
   ]
  },
  {
   "cell_type": "code",
   "execution_count": 11,
   "metadata": {
    "collapsed": false
   },
   "outputs": [],
   "source": [
    "size_patch=5\n",
    "patches=extract_patches(data,size_patch, zero_padding=True)"
   ]
  },
  {
   "cell_type": "code",
   "execution_count": 12,
   "metadata": {
    "collapsed": false
   },
   "outputs": [
    {
     "data": {
      "text/plain": [
       "torch.Size([784, 60000, 5, 5])"
      ]
     },
     "execution_count": 12,
     "metadata": {},
     "output_type": "execute_result"
    }
   ],
   "source": [
    "patches.size()"
   ]
  },
  {
   "cell_type": "code",
   "execution_count": 13,
   "metadata": {
    "collapsed": false
   },
   "outputs": [],
   "source": [
    "id_patch=[]        \n",
    "distances=[]\n",
    "X=data\n",
    "n_patches_per_graph=10\n"
   ]
  },
  {
   "cell_type": "code",
   "execution_count": 14,
   "metadata": {
    "collapsed": true
   },
   "outputs": [],
   "source": [
    "X=test[:1000,:,:]"
   ]
  },
  {
   "cell_type": "code",
   "execution_count": 15,
   "metadata": {
    "collapsed": false
   },
   "outputs": [],
   "source": [
    "class Nystrom():\n",
    "    \n",
    "    def __init__(self,  n_components=50, iter_max=1000,random_state=None,size_patch=5,lr=0.001):\n",
    "        #self.eta = Variable(torch.Tensor(1.0/n_components *(np.ones((n_components,)))),requires_grad=True)\n",
    "        \n",
    "        self.eta = Variable(torch.Tensor(np.ones((n_components,))),requires_grad=True)\n",
    "        self.W = torch.Tensor(Variable(None))\n",
    "        self.sigma=None\n",
    "        self.n_components = n_components\n",
    "        self.random_state = random_state\n",
    "        self.iter_max=iter_max\n",
    "        self.print_lag=15\n",
    "        self.lr=lr\n",
    "        self.training_data=None\n",
    "        self.size_patch=size_patch\n",
    "        self.patches=None\n",
    "        self.distances=None\n",
    "    \t\t\n",
    "    def select_training_patches(self,X,n_patches_per_graph,patches=None):\n",
    "        #### X should be  a tensor (3D)\n",
    "        #### select training patches within the same graph\n",
    "       # X_train=torch.Tensor((X.size()[0],n_patches_per_graph,size_patch**2,size_patch**2))\n",
    "        id_patch=[]        \n",
    "        distances=[]\n",
    "        n_patches_per_graph=10\n",
    "        for i in range(X.size()[0]):\n",
    "            ## select at random 2 nodes in the adjacency matrix:\n",
    "            a=X.size()[1]\n",
    "            for j in range(n_patches_per_graph):\n",
    "                nx,ny=np.random.choice(range(X.size()[1]*X.size()[2]),2)\n",
    "                distances+=[(nx%a-ny%a)**2+(nx//a-ny//a)**2]\n",
    "                id_patch+=[[i,nx,ny]]\n",
    "        if patches==None:\n",
    "            patches=extract_patches(data,size_patch, zero_padding=True)\n",
    "        selected_patches=torch.Tensor(len(id_patch),2,size_patch**2)\n",
    "        for j in range(len(id_patch)):\n",
    "\n",
    "            while torch.sum(patches[id_patch[j][1],id_patch[j][0],:])==0 and torch.sum(patches[id_patch[j][2],id_patch[j][0],:])==0:\n",
    "                nx,ny=np.random.choice(range(X.size()[1]*X.size()[2]),2)\n",
    "                id_patch[j]=[id_patch[j][0],nx,ny]\n",
    "            selected_patches[j,0,:]=patches[id_patch[j][1],id_patch[j][0],:]\n",
    "            selected_patches[j,1,:]=patches[id_patch[j][2],id_patch[j][0],:]\n",
    "            \n",
    "        return extract_selected_patches(X,id_patch, self.size_patch),distances,patches\n",
    "            \n",
    "        \n",
    "    def init_W(self,X):\n",
    "        self.training_data,self.distances,self.patches=self.select_training_patches(X,50)\n",
    "        distances2=torch.sum((self.training_data[:,0,:]-self.training_data[:,1,:])**2,dim=1)\n",
    "        if self.sigma==None:\n",
    "        \t### set to be quantile\n",
    "            ### compute the distance between patches\n",
    "            self.sigma=np.percentile(distances2.numpy(),10)\n",
    "        X_tilde=torch.cat((self.training_data[:,0,:],self.training_data[:,1,:]), dim=0)\n",
    "        print(self.sigma)\n",
    "        km=KMeans(n_clusters=self.n_components)\n",
    "        inds=range(int(X_tilde.size()[0]))\n",
    "        np.random.shuffle(inds)\n",
    "        X_tilde=X_tilde[list(inds[:np.min([4000,len(inds)])]),:]\n",
    "        km.fit(X_tilde.numpy())\n",
    "        self.W=Variable(torch.Tensor(km.cluster_centers_), requires_grad=True)\n",
    "    \t\t\t\n",
    "    def fit(self, X, y=None, init=True):\n",
    "        rnd = check_random_state(self.random_state)\n",
    "        D=self.n_components\n",
    "        if init==True: self.init_W(X)\n",
    "        X_input=Variable(self.training_data, requires_grad=False)\n",
    "        N=X_input.size()[0]\n",
    "        n=X_input.size()[1]\n",
    "        expected_output=Variable(torch.Tensor(torch.exp(-torch.sum((X_input[:,0,:]-X_input[:,1,:])**2/self.sigma,1))),requires_grad=False)\n",
    "        loss_func = nn.MSELoss()\n",
    "        optimizer = optim.SGD([self.W,self.eta], lr=self.lr) # instantiate optimizer with model params + learning rate (SGD for the moment)\n",
    "        for t in range(self.iter_max):\n",
    "            output=(X_input[:,0,:].repeat(1, D)-self.W.view(1,D*n).repeat(N, 1))**2+(X_input[:,1,:].repeat(1, D)-self.W.view(1,D*n).repeat(N, 1))**2\n",
    "            output2=output.view(N,D,n)\n",
    "            output2=torch.exp(-1.0/sigma*torch.sum(output2,2))\n",
    "            output2=torch.matmul(output2,self.eta)\n",
    "            loss=loss_func(output2,expected_output)\n",
    "            if t%self.print_lag==0: print(t, loss.data[0])\n",
    "            optimizer.zero_grad() \n",
    "            loss.backward()\n",
    "            optimizer.step()\n",
    "            self.eta=Variable((self.eta).clamp(0,1000),requires_grad=True)\n",
    "        print('final loss is:',loss.data[0])\n",
    "        return self\n",
    "    \n",
    "\n",
    "    def fit_LBFGS(self,X,init=True):\n",
    "        rnd = check_random_state(self.random_state)\n",
    "        D=self.n_components\n",
    "        if init==True: self.init_W(X)\n",
    "        print(\"Initialization: done\")\n",
    "        D=self.n_components\n",
    "        X_input=self.training_data\n",
    "        N=X_input.size()[0]\n",
    "        n=X_input.size()[1]\n",
    "        expected_output=Variable(torch.exp(-torch.sum((X_input[:,0,:]-X_input[:,1,:])**2/(2*self.sigma),1)),requires_grad=False)\n",
    "        X_input=Variable(X_input, requires_grad=False)\n",
    "        loss_func = nn.MSELoss()\n",
    "        optimizer = optim.LBFGS([self.W,self.eta]) # instantiate optimizer with model params + learning rate (SGD for the moment)\n",
    "        batch_size=100\n",
    "        sigma=self.sigma\n",
    "        output_tot=torch.Tensor()\n",
    "        for t in range(self.iter_max):\n",
    "            overall_loss=0\n",
    "            for b in range(batch_size):\n",
    "                def closure():\n",
    "                    XX=X_input[b*batch_size:(b+1)*batch_size,0,:].contiguous().view((1,batch_size,p_size**2)).expand(D,batch_size,p_size**2)\n",
    "                    YY=X_input[b*batch_size:(b+1)*batch_size,1,:].contiguous().view((1,batch_size,p_size**2)).expand(D,batch_size,p_size**2)\n",
    "                    output=(XX-self.W.view(D,1,p_size**2).expand(D,batch_size,p_size**2))**2+(YY-self.W.view(D,1,p_size**2).expand(D,batch_size,p_size**2))**2\n",
    "                    \n",
    "                    output=torch.sum(output.view(-1,p_size**2),1)\n",
    "                    output2=torch.exp(Variable(torch.Tensor(np.array([-1.0/sigma]))).expand_as(output)*output)\n",
    "                    #output2=torch.exp((-1.0/sigma).expand_as(output)*torch.sum(output.view(-1,p_size**2),1))\n",
    "                    weights=(2.0/(math.pi*sigma**2))**(D/2)*F.softmax(-self.eta)\n",
    "                    output2=torch.matmul(output2.view(-1,D),weights)\n",
    "                    loss=loss_func(output2,expected_output[b*batch_size:(b+1)*batch_size])\n",
    "                    #overall_loss+=loss[0]\n",
    "                    #if t%self.print_lag==0: print(t, loss.data[0])\n",
    "                    optimizer.zero_grad() \n",
    "                    loss.backward()\n",
    "                    #optimizer.step()\n",
    "                    \n",
    "                optimizer.step(closure)\n",
    "                self.eta=(self.eta).clamp(0,1000)\n",
    "            print(t,overall_loss)\n",
    "        \n",
    "    def _get_kernel_params(self):\n",
    "        params = self.kernel_params\n",
    "        if params is None:\n",
    "            params = {}\n",
    "        return params\n",
    "    \n",
    "    \n",
    "    def fit_i(self):\n",
    "        D=self.n_components\n",
    "        X_input=self.training_data\n",
    "        N=X_input.size()[0]\n",
    "        n=X_input.size()[1]\n",
    "        m=size_patch**2\n",
    "        expected_output=Variable(torch.exp(torch.Tensor([-1.0/(2*self.sigma)])*torch.sum((X_input[:,0,:]-X_input[:,1,:])**2,1)),requires_grad=False)\n",
    "        expected_ouput=1.0/torch.sqrt(torch.mean(expected_output**2))*expected_output\n",
    "        X_input=Variable(X_input/255, requires_grad=False)\n",
    "        loss_func = nn.MSELoss()\n",
    "        optimizer = optim.Adamax([self.W,self.eta]) # instantiate optimizer with model params + learning rate (SGD for the moment)\n",
    "        batch_nb=50\n",
    "        batch_size=N//batch_nb\n",
    "        p_size=size_patch\n",
    "        output_tot=torch.Tensor()\n",
    "\n",
    "        for t in range(self.iter_max):\n",
    "                overall_loss=0\n",
    "            #def closure():\n",
    "                for b in range(batch_nb):\n",
    "                    #Cell.eta=F.relu(Cell.eta)\n",
    "                    XX=X_input[b*batch_size:(b+1)*batch_size,0,:].contiguous().view((1,batch_size,p_size**2)).expand(D,batch_size,p_size**2)\n",
    "                    YY=X_input[b*batch_size:(b+1)*batch_size,1,:].contiguous().view((1,batch_size,p_size**2)).expand(D,batch_size,p_size**2)\n",
    "                    output=(XX-self.W.view(D,1,p_size**2).expand(D,batch_size,p_size**2))**2+(YY-self.W.view(D,1,p_size**2).expand(D,batch_size,p_size**2))**2\n",
    "                    #output=(XX-Cell.W.view(D,1,p_size**2).expand(D,X_input.size()[0],p_size**2))**2+(X_input[:,1,:].repeat(1, D)-Cell.W.view(1,D*n).repeat(N, 1))**2\n",
    "                    #output2=output.view(N,D,n)\n",
    "                    output=torch.sum(output.view(-1,p_size**2),1)\n",
    "                    #print(output[:10])\n",
    "                    output2=torch.exp(Variable(torch.Tensor(np.array([-1.0/self.sigma]))).expand_as(output)*output)\n",
    "\n",
    "                    #output2=torch.exp((-1.0/sigma).expand_as(output)*torch.sum(output.view(-1,p_size**2),1))\n",
    "                    #weights=C.expand_as(eta)*F.softmax(-eta)\n",
    "                    output2=torch.matmul(output2.view(-1,D),F.relu(self.eta))\n",
    "                    #print(output2[:10])\n",
    "                    loss=loss_func(output2,expected_output[b*batch_size:(b+1)*batch_size])+torch.sum((self.eta-F.relu(self.eta))**2)\n",
    "                    #+0.1/D*torch.sum(Cell.eta)\n",
    "                    #+2.0/D*torch.dot(Variable(torch.Tensor([1]*D)),Cell.eta)\n",
    "                    overall_loss+=loss[0]\n",
    "                    #STOP\n",
    "                    #if t%Cell.print_lag==0: print(t, loss.data[0])\n",
    "                    optimizer.zero_grad() \n",
    "                    loss.backward(retain_graph=True)\n",
    "                    optimizer.step()\n",
    "                    #Cell.eta=F.relu(Cell.eta)\n",
    "\n",
    "\n",
    "                #optimizer.step()\n",
    "                #Cell.eta=(Cell.eta).clamp(0,1000)\n",
    "                print(t,overall_loss/(0))\n"
   ]
  },
  {
   "cell_type": "code",
   "execution_count": 17,
   "metadata": {
    "collapsed": true
   },
   "outputs": [],
   "source": [
    "data=data.type(torch.FloatTensor)"
   ]
  },
  {
   "cell_type": "code",
   "execution_count": 18,
   "metadata": {
    "collapsed": false
   },
   "outputs": [],
   "source": [
    "\n",
    "data2=data-torch.mean(data.view(-1,data.size()[1]*data.size()[2]),0).view(28,28)\n",
    "S=torch.std(data2.view(-1,data.size()[1]*data.size()[2]),0)\n",
    "S[S==0]=1\n",
    "data2=1.0/S*data.view(-1,data.size()[1]*data.size()[2])\n",
    "data2=data2.view(-1,28,28)"
   ]
  },
  {
   "cell_type": "code",
   "execution_count": 20,
   "metadata": {
    "collapsed": false
   },
   "outputs": [
    {
     "data": {
      "text/plain": [
       "<matplotlib.axes._subplots.AxesSubplot at 0x128787b90>"
      ]
     },
     "execution_count": 20,
     "metadata": {},
     "output_type": "execute_result"
    },
    {
     "data": {
      "image/png": "[encoded data removed]",
      "text/plain": [
       "<matplotlib.figure.Figure at 0x1287999d0>"
      ]
     },
     "metadata": {},
     "output_type": "display_data"
    }
   ],
   "source": [
    "sb.heatmap(data2[90,:,:].numpy())"
   ]
  },
  {
   "cell_type": "code",
   "execution_count": 21,
   "metadata": {
    "collapsed": false
   },
   "outputs": [
    {
     "name": "stdout",
     "output_type": "stream",
     "text": [
      "3.19582822323\n"
     ]
    }
   ],
   "source": [
    "Cell=Nystrom()\n",
    "#data=torch.Tensor([1.0/255]).expand_as(X)*X.type(torch.FloatTensor)\n",
    "#data=data-torch.mean(torch.mean(data.view(-1,data.size()[1]*data.size()[2]),0).view(28,28)).expand_as(data)\n",
    "Cell.init_W(data2)\n",
    "#Cell.fit_LBFGS(X)\n"
   ]
  },
  {
   "cell_type": "code",
   "execution_count": null,
   "metadata": {
    "collapsed": false
   },
   "outputs": [],
   "source": [
    "\n",
    "D=Cell.n_components\n",
    "X_input=Cell.training_data\n",
    "N=X_input.size()[0]\n",
    "n=X_input.size()[1]\n",
    "m=size_patch**2\n",
    "expected_output=Variable(torch.exp(torch.Tensor([-1.0/(2*Cell.sigma)])*torch.sum((X_input[:,0,:]-X_input[:,1,:])**2,1)),requires_grad=False)\n",
    "expected_output=1.0/torch.sqrt(torch.mean(expected_output**2))*expected_output\n",
    "X_input=Variable(X_input, requires_grad=False)\n",
    "loss_func = nn.MSELoss()\n",
    "optimizer = optim.Adamax([Cell.W,Cell.eta]) # instantiate optimizer with model params + learning rate (SGD for the moment)\n",
    "batch_nb=50\n",
    "batch_size=N//batch_nb\n",
    "p_size=size_patch\n",
    "output_tot=torch.Tensor()\n",
    "\n",
    "for t in range(Cell.iter_max):\n",
    "        overall_loss=0\n",
    "    #def closure():\n",
    "        for b in range(batch_nb):\n",
    "            #Cell.eta=F.relu(Cell.eta)\n",
    "            XX=X_input[b*batch_size:(b+1)*batch_size,0,:].contiguous().view((1,batch_size,p_size**2)).expand(D,batch_size,p_size**2)\n",
    "            YY=X_input[b*batch_size:(b+1)*batch_size,1,:].contiguous().view((1,batch_size,p_size**2)).expand(D,batch_size,p_size**2)\n",
    "            output=(XX-Cell.W.view(D,1,p_size**2).expand(D,batch_size,p_size**2))**2+(YY-Cell.W.view(D,1,p_size**2).expand(D,batch_size,p_size**2))**2\n",
    "            #output=(XX-Cell.W.view(D,1,p_size**2).expand(D,X_input.size()[0],p_size**2))**2+(X_input[:,1,:].repeat(1, D)-Cell.W.view(1,D*n).repeat(N, 1))**2\n",
    "            #output2=output.view(N,D,n)\n",
    "            output=torch.sum(output.view(-1,p_size**2),1)\n",
    "            #print(output[:10])\n",
    "            output2=torch.exp(Variable(torch.Tensor(np.array([-1.0/Cell.sigma]))).expand_as(output)*output)\n",
    "            \n",
    "            #output2=torch.exp((-1.0/sigma).expand_as(output)*torch.sum(output.view(-1,p_size**2),1))\n",
    "            #weights=C.expand_as(eta)*F.softmax(-eta)\n",
    "            output2=torch.matmul(output2.view(-1,D),F.relu(Cell.eta))\n",
    "            #print(output2[:10])\n",
    "            loss=loss_func(output2,expected_output[b*batch_size:(b+1)*batch_size])+torch.sum(((Cell.eta-F.relu(Cell.eta))/torch.sum(F.relu(Cell.eta)))**2)\n",
    "            #+0.1/D*torch.sum(Cell.eta)\n",
    "            #+2.0/D*torch.dot(Variable(torch.Tensor([1]*D)),Cell.eta)\n",
    "            overall_loss+=loss[0]\n",
    "            #STOP\n",
    "            #if t%Cell.print_lag==0: print(t, loss.data[0])\n",
    "            optimizer.zero_grad() \n",
    "            loss.backward(retain_graph=True)\n",
    "            optimizer.step()\n",
    "            #Cell.eta=F.relu(Cell.eta)\n",
    "             \n",
    "            if t%100==0 and b==49:\n",
    "                plt.figure()\n",
    "                plt.hist(expected_output[b*batch_size:(b+1)*batch_size].data.numpy(), color='red',bins=10)\n",
    "                plt.hist(output2.data.numpy(),bins=10)\n",
    "            \n",
    "        #optimizer.step()\n",
    "        #Cell.eta=(Cell.eta).clamp(0,1000)\n",
    "        print(t,overall_loss/(batch_nb))\n",
    "        #print(eta[:5])\n",
    "        "
   ]
  },
  {
   "cell_type": "code",
   "execution_count": null,
   "metadata": {
    "collapsed": false
   },
   "outputs": [],
   "source": [
    "plt.figure()\n",
    "plt.hist(expected_output[b*batch_size:(b+1)*batch_size].data.numpy(), color='red',bins=10)\n",
    "plt.hist(output2.data.numpy(),bins=10)"
   ]
  },
  {
   "cell_type": "code",
   "execution_count": null,
   "metadata": {
    "collapsed": false
   },
   "outputs": [],
   "source": [
    "Cell.eta"
   ]
  },
  {
   "cell_type": "code",
   "execution_count": null,
   "metadata": {
    "collapsed": false
   },
   "outputs": [],
   "source": [
    "output2"
   ]
  },
  {
   "cell_type": "code",
   "execution_count": null,
   "metadata": {
    "collapsed": false
   },
   "outputs": [],
   "source": [
    "from numpy import *\n",
    " \n",
    "##################################################################\n",
    "# Recursive generation of the Legendre polynomial of order n\n",
    "def Legendre(n,x):\n",
    "\tx=array(x)\n",
    "\tif (n==0):\n",
    "\t\treturn x*0+1.0\n",
    "\telif (n==1):\n",
    "\t\treturn x\n",
    "\telse:\n",
    "\t\treturn ((2.0*n-1.0)*x*Legendre(n-1,x)-(n-1)*Legendre(n-2,x))/n\n",
    " \n",
    "##################################################################\n",
    "# Derivative of the Legendre polynomials\n",
    "def DLegendre(n,x):\n",
    "\tx=array(x)\n",
    "\tif (n==0):\n",
    "\t\treturn x*0\n",
    "\telif (n==1):\n",
    "\t\treturn x*0+1.0\n",
    "\telse:\n",
    "\t\treturn (n/(x**2-1.0))*(x*Legendre(n,x)-Legendre(n-1,x))\n",
    "##################################################################\n",
    "# Roots of the polynomial obtained using Newton-Raphson method\n",
    "def LegendreRoots(polyorder,tolerance=1e-20):\n",
    "\tif polyorder<2:\n",
    "\t\terr=1 # bad polyorder no roots can be found\n",
    "\telse:\n",
    "\t\troots=[]\n",
    "\t\t# The polynomials are alternately even and odd functions. So we evaluate only half the number of roots. \n",
    "\t\tfor i in range(1,int(polyorder)/2 +1):\n",
    "\t\t\tx=cos(pi*(i-0.25)/(polyorder+0.5))\n",
    "\t\t\terror=10*tolerance\n",
    "\t\t        iters=0\n",
    "\t\t        while (error>tolerance) and (iters<1000):\n",
    "\t\t                dx=-Legendre(polyorder,x)/DLegendre(polyorder,x)\n",
    "\t\t                x=x+dx\n",
    "\t\t                iters=iters+1\n",
    "\t\t                error=abs(dx)\n",
    "\t\t\troots.append(x)\n",
    "\t\t# Use symmetry to get the other roots\n",
    "\t\troots=array(roots)\n",
    "\t\tif polyorder%2==0:\n",
    "\t\t\troots=concatenate( (-1.0*roots, roots[::-1]) )\n",
    "\t\telse:\n",
    "\t\t\troots=concatenate( (-1.0*roots, [0.0], roots[::-1]) )\n",
    "\t\terr=0 # successfully determined roots\n",
    "\treturn [roots, err]\n",
    "##################################################################\n",
    "# Weight coefficients\n",
    "def GaussLegendreWeights(polyorder):\n",
    "\tW=[]\n",
    "\t[xis,err]=LegendreRoots(polyorder)\n",
    "\tif err==0:\n",
    "\t\tW=2.0/( (1.0-xis**2)*(DLegendre(polyorder,xis)**2) )\n",
    "\t\terr=0\n",
    "\telse:\n",
    "\t\terr=1 # could not determine roots - so no weights\n",
    "\treturn [W, xis, err]\n",
    "##################################################################\n",
    "# The integral value \n",
    "# func \t\t: the integrand\n",
    "# a, b \t\t: lower and upper limits of the integral\n",
    "# polyorder \t: order of the Legendre polynomial to be used\n",
    "#\n",
    "def GaussLegendreQuadrature(func, polyorder, a, b):\n",
    "\t[Ws,xs, err]= GaussLegendreWeights(polyorder)\n",
    "\tif err==0:\n",
    "\t\tans=(b-a)*0.5*sum( Ws*func( (b-a)*0.5*xs+ (b+a)*0.5 ) )\n",
    "\telse: \n",
    "\t\t# (in case of error)\n",
    "\t\terr=1\n",
    "\t\tans=None\n",
    "\treturn [ans,err]\n",
    "##################################################################\n",
    "# The integrand - change as required\n",
    "def func(x):\n",
    "\treturn exp(-x**2/(2*sigma))\n",
    "##################################################################\n",
    "# \n",
    " \n",
    "order=100\n",
    "[Ws,xs,err]=GaussLegendreWeights(order)\n",
    "\n",
    " \n",
    "# Integrating the function\n",
    "[ans,err]=GaussLegendreQuadrature(func , order, -3,5)\n"
   ]
  },
  {
   "cell_type": "code",
   "execution_count": null,
   "metadata": {
    "collapsed": false
   },
   "outputs": [],
   "source": [
    "Cell.W.size()"
   ]
  },
  {
   "cell_type": "code",
   "execution_count": null,
   "metadata": {
    "collapsed": false
   },
   "outputs": [],
   "source": [
    "def func(params, *args):\n",
    "    D=args[4]\n",
    "    #print(params)\n",
    "    W_opt = params[:-D]\n",
    "    eta_opt=params[-D:]\n",
    "    \n",
    "    W_opt=W_opt.reshape([D,-1])\n",
    "    eta_opt=eta_opt.reshape([D,1])\n",
    "    print(W_opt.shape)\n",
    "    XX = args[0]\n",
    "    YY = args[1]  #.reshape([100,25,1]),D)\n",
    "    sigma=args[2]\n",
    "    N=XX.shape[0]\n",
    "    expected_ouput = args[3]\n",
    "    test=np.array([((XX[i,:]-W_opt)**2)+((YY[i,:]-W_opt)**2)  for i in range(N)])\n",
    "    #print((np.exp(-1.0/sigma*np.sum(test,2))).shape)\n",
    "    #print(eta.shape)\n",
    "    #print (np.sum(test,2).shape)\n",
    "    res=(expected_ouput_t -((np.exp(-1.0/sigma*np.sum(test,2)))).dot(eta))\n",
    "    return np.sum(res**2)"
   ]
  },
  {
   "cell_type": "code",
   "execution_count": null,
   "metadata": {
    "collapsed": false
   },
   "outputs": [],
   "source": [
    "D=Cell.n_components\n",
    "X_input=Cell.training_data\n",
    "N=X_input.size()[0]\n",
    "n=X_input.size()[1]\n",
    "m=size_patch**2\n",
    "expected_output=Variable(torch.exp(torch.Tensor([-1.0/(2*Cell.sigma)])*torch.sum((X_input[:,0,:]-X_input[:,1,:])**2,1)),requires_grad=False)\n",
    "X_input=Variable(X_input, requires_grad=False)\n",
    "loss_func = nn.MSELoss()\n",
    "eta=Variable(torch.Tensor([1]*D),requires_grad=True)\n",
    "W=Variable(W_storage.data,requires_grad=True)\n",
    "optimizer = optim.SGD([Cell.W,Cell.eta],lr=10) # instantiate optimizer with model params + learning rate (SGD for the moment)\n",
    "batch_size=100\n",
    "p_size=size_patch\n",
    "output_tot=torch.Tensor()\n",
    "print(W.size())\n",
    "W=Cell.W.data.numpy().reshape([-1,1])\n",
    "eta=Cell.eta.data.numpy().reshape([-1,1])\n",
    "for t in range(Cell.iter_max):\n",
    "        overall_loss=0\n",
    "        print(overall_loss)\n",
    "    #def closure():\n",
    "        for b in range(batch_size):\n",
    "            #Cell.eta=F.relu(Cell.eta)\n",
    "            XX=X_input[b*batch_size:(b+1)*batch_size,0,:] #.contiguous().view((1,batch_size,p_size**2)).expand(D,batch_size,p_size**2)\n",
    "            YY=X_input[b*batch_size:(b+1)*batch_size,1,:] #.contiguous().view((1,batch_size,p_size**2)).expand(D,batch_size,p_size**2)\n",
    "            #output=(XX-Cell.W.view(D,1,p_size**2).expand(D,batch_size,p_size**2))**2+(YY-Cell.W.view(D,1,p_size**2).expand(D,batch_size,p_size**2))**2\n",
    "            params=np.array(list(W)+list(eta))\n",
    "            #print(len(params))\n",
    "            expected_ouput_t=expected_output[b*batch_size:(b+1)*batch_size].data.numpy()\n",
    "            args=(X_input[b*batch_size:(b+1)*batch_size,0,:].data.numpy(),\\\n",
    "                X_input[b*batch_size:(b+1)*batch_size,1,:].data.numpy(),\\\n",
    "                Cell.sigma,\\\n",
    "                expected_ouput_t,\\\n",
    "                50)\n",
    "            initial_values = np.array(list(W)+list(eta))\n",
    "            mybounds = [(None,None)]*len(W)+[(0,None)]*len(eta)\n",
    "            x,f,d = scipy.optimize.fmin_l_bfgs_b(func, x0=initial_values, args=args, bounds=mybounds,approx_grad=True)\n",
    "            W=x[:-50]\n",
    "            eta=x[-50:]\n",
    "\n",
    "\n",
    "            #loss=loss_func(output2,expected_output[b*batch_size:(b+1)*batch_size])+torch.sum((Cell.eta-F.relu(Cell.eta))**2)\n",
    "            #+0.1/D*torch.sum(Cell.eta)\n",
    "            #+2.0/D*torch.dot(Variable(torch.Tensor([1]*D)),Cell.eta)\n",
    "            overall_loss+=f\n",
    "            #STOP\n",
    "            #if t%Cell.print_lag==0: print(t, loss.data[0])\n",
    "            #optimizer.zero_grad() \n",
    "            #loss.backward(retain_graph=True)\n",
    "            #optimizer.step()\n",
    "            #Cell.eta=F.relu(Cell.eta)\n",
    "    "
   ]
  },
  {
   "cell_type": "code",
   "execution_count": null,
   "metadata": {
    "collapsed": false
   },
   "outputs": [],
   "source": [
    "#XX=X_input[:,0,:] #.contiguous().view((1,batch_size,p_size**2)).expand(D,batch_size,p_size**2)\n",
    "#YY=X_input[b*batch_size:(b+1)*batch_size,1,:] #.contiguous().view((1,batch_size,p_size**2)).expand(D,batch_size,p_size**2)\n",
    "#output=(XX-Cell.W.view(D,1,p_size**2).expand(D,batch_size,p_size**2))**2+(YY-Cell.W.view(D,1,p_size**2).expand(D,batch_size,p_size**2))**2\n",
    "W=Cell.W.data.numpy().reshape([-1,1])\n",
    "eta=Cell.eta.data.numpy().reshape([-1,1])\n",
    "params=np.array(list(W)+list(eta))\n",
    "#print(len(params))\n",
    "expected_ouput_t=expected_output.data.numpy()\n",
    "args=(X_input[:,0,:].data.numpy(),\\\n",
    "    X_input[:,1,:].data.numpy(),\\\n",
    "    Cell.sigma,\\\n",
    "    expected_ouput_t,\\\n",
    "    50)\n",
    "initial_values = np.array(list(W)+list(eta))\n",
    "mybounds = [(None,None)]*len(W)+[(0,None)]*len(eta)\n",
    "print('optimizing')\n",
    "x,f,d = scipy.optimize.fmin_l_bfgs_b(func, x0=initial_values, args=args, bounds=mybounds,approx_grad=True,maxiter=5000)\n",
    "W=x[:-50]\n",
    "eta=x[-50:]"
   ]
  },
  {
   "cell_type": "code",
   "execution_count": null,
   "metadata": {
    "collapsed": false
   },
   "outputs": [],
   "source": [
    "testy2=np.array([((testy[i,:]-W.data.numpy())**2)+((testy[i,:]-W.data.numpy())**2) for i in range(100)])"
   ]
  },
  {
   "cell_type": "code",
   "execution_count": null,
   "metadata": {
    "collapsed": false
   },
   "outputs": [],
   "source": []
  },
  {
   "cell_type": "code",
   "execution_count": null,
   "metadata": {
    "collapsed": false
   },
   "outputs": [],
   "source": [
    "W=Cell.W.data\n",
    "eta=Cell.eta.data\n",
    "params=[W,eta]\n",
    "args=(X_input[b*batch_size:(b+1)*batch_size,0,:].data.numpy(),\\\n",
    "      X_input[b*batch_size:(b+1)*batch_size,1,:].data.numpy(),\\\n",
    "      Cell.sigma,\\\n",
    "      expected_ouput_t,\\\n",
    "      50)\n",
    "initial_values = np.array(list(Cell.W.data.numpy().reshape([-1,]))+list(Cell.eta.data))\n",
    "mybounds = [(None,None)]*2500+[(0,None)]*100\n",
    "x,f,d = scipy.optimize.fmin_l_bfgs_b(func, x0=initial_values, args=args, bounds=mybounds,approx_grad=True)\n",
    "\n",
    "\n"
   ]
  },
  {
   "cell_type": "code",
   "execution_count": null,
   "metadata": {
    "collapsed": false
   },
   "outputs": [],
   "source": [
    "f/100"
   ]
  },
  {
   "cell_type": "code",
   "execution_count": null,
   "metadata": {
    "collapsed": false
   },
   "outputs": [],
   "source": [
    "mybounds = [(None,None)*np.ones(Cell.W.data.shape), [(0,None)]*100]"
   ]
  },
  {
   "cell_type": "code",
   "execution_count": null,
   "metadata": {
    "collapsed": false
   },
   "outputs": [],
   "source": [
    "torch.exp(torch.Tensor([-1.0/(2*sigma)])*torch.sum((X_input[:,0,:]-X_input[:,1,:])**2,1))"
   ]
  },
  {
   "cell_type": "code",
   "execution_count": null,
   "metadata": {
    "collapsed": true
   },
   "outputs": [],
   "source": [
    "XX=X_input[b*batch_size:(b+1)*batch_size,0,:].contiguous().view((1,batch_size,p_size**2)).expand(D,batch_size,p_size**2)\n",
    "YY=X_input[b*batch_size:(b+1)*batch_size,1,:].contiguous().view((1,batch_size,p_size**2)).expand(D,batch_size,p_size**2)"
   ]
  },
  {
   "cell_type": "code",
   "execution_count": null,
   "metadata": {
    "collapsed": false
   },
   "outputs": [],
   "source": [
    "N=XX.shape[0]\n",
    "test=np.array([((W.numpy()-XX[i,:])**2)+((YY[i,:]-W.numpy())**2)  for i in range(N)])"
   ]
  },
  {
   "cell_type": "code",
   "execution_count": null,
   "metadata": {
    "collapsed": false
   },
   "outputs": [],
   "source": [
    "res=(expected_ouput_t -((eta.numpy().T).dot(np.exp(-1.0/sigma*np.sum(test,2)))))"
   ]
  },
  {
   "cell_type": "code",
   "execution_count": null,
   "metadata": {
    "collapsed": false
   },
   "outputs": [],
   "source": [
    "Wfinal=x[:-D].reshape([D,25])\n",
    "etafinal=x[-D:]"
   ]
  },
  {
   "cell_type": "code",
   "execution_count": null,
   "metadata": {
    "collapsed": false
   },
   "outputs": [],
   "source": [
    "test=np.array([((Wfinal-XX[i,:])**2)+((YY[i,:]-Wfinal)**2)  for i in range(N)])\n",
    "testy2=((etafinal.T).dot(np.exp(-1.0/sigma*np.sum(test,2))))"
   ]
  },
  {
   "cell_type": "code",
   "execution_count": null,
   "metadata": {
    "collapsed": false
   },
   "outputs": [],
   "source": [
    "### convergence feels super long"
   ]
  },
  {
   "cell_type": "code",
   "execution_count": null,
   "metadata": {
    "collapsed": false
   },
   "outputs": [],
   "source": [
    "sigma=Cell.sigma\n",
    "XX=X_input[b*batch_size:(b+1)*batch_size,0,:].contiguous().view((1,batch_size,p_size**2)).expand(D,batch_size,p_size**2)\n",
    "YY=X_input[b*batch_size:(b+1)*batch_size,1,:].contiguous().view((1,batch_size,p_size**2)).expand(D,batch_size,p_size**2)\n",
    "output=(XX-W.view(D,1,p_size**2).expand(D,batch_size,p_size**2))**2+(YY-W.view(D,1,p_size**2).expand(D,batch_size,p_size**2))**2\n",
    "            #output=(XX-Cell.W.view(D,1,p_size**2).expand(D,X_input.size()[0],p_size**2))**2+(X_input[:,1,:].repeat(1, D)-Cell.W.view(1,D*n).repeat(N, 1))**2\n",
    "            #output2=output.view(N,D,n)\n",
    "output=torch.sum(output.view(-1,p_size**2),1)"
   ]
  },
  {
   "cell_type": "code",
   "execution_count": null,
   "metadata": {
    "collapsed": false
   },
   "outputs": [],
   "source": [
    "output2=torch.exp(Variable(torch.Tensor(np.array([-1.0/sigma]))).expand_as(output)*output)\n",
    "            "
   ]
  },
  {
   "cell_type": "code",
   "execution_count": null,
   "metadata": {
    "collapsed": false
   },
   "outputs": [],
   "source": [
    "XX,YY,sigma=args"
   ]
  },
  {
   "cell_type": "code",
   "execution_count": null,
   "metadata": {
    "collapsed": false
   },
   "outputs": [],
   "source": [
    "XX"
   ]
  },
  {
   "cell_type": "code",
   "execution_count": null,
   "metadata": {
    "collapsed": true
   },
   "outputs": [],
   "source": [
    "optimizer = optim.SGD([Cell.W,Cell.eta], lr=0.001) # instantiate optimizer with model params + learning rate (SGD for the moment)"
   ]
  },
  {
   "cell_type": "code",
   "execution_count": null,
   "metadata": {
    "collapsed": false
   },
   "outputs": [],
   "source": [
    "b=0\n",
    "#for b in range(batch_size):\n",
    "if True:\n",
    "    XX=X_input[b*batch_size:(b+1)*batch_size,0,:].contiguous().view((1,batch_size,p_size**2)).expand(D,batch_size,p_size**2)\n",
    "    YY=X_input[b*batch_size:(b+1)*batch_size,1,:].contiguous().view((1,batch_size,p_size**2)).expand(D,batch_size,p_size**2)\n",
    "    output=(XX-Cell.W.view(D,1,p_size**2).expand(D,batch_size,p_size**2))**2+(YY-Cell.W.view(D,1,p_size**2).expand(D,batch_size,p_size**2))**2\n",
    "    #output=(XX-Cell.W.view(D,1,p_size**2).expand(D,X_input.size()[0],p_size**2))**2+(X_input[:,1,:].repeat(1, D)-Cell.W.view(1,D*n).repeat(N, 1))**2\n",
    "    #output2=output.view(N,D,n)\n",
    "    output=torch.sum(output.view(-1,p_size**2),1)\n",
    "    output2=torch.exp(Variable(torch.Tensor(np.array([-1.0/sigma]))).expand_as(output)*output)\n",
    "    #output2=torch.exp((-1.0/sigma).expand_as(output)*torch.sum(output.view(-1,p_size**2),1))\n",
    "    output2=torch.matmul(output2.view(-1,D),Cell.eta)\n",
    "    loss=loss_func(output2,expected_output[b*batch_size:(b+1)*batch_size])\n",
    "    if t%Cell.print_lag==0: print(t, loss.data[0])\n",
    "    optimizer.zero_grad() \n",
    "    loss.backward()\n",
    "    #optimizer.step()\n",
    "    "
   ]
  },
  {
   "cell_type": "code",
   "execution_count": null,
   "metadata": {
    "collapsed": false
   },
   "outputs": [],
   "source": [
    "output"
   ]
  },
  {
   "cell_type": "code",
   "execution_count": null,
   "metadata": {
    "collapsed": false
   },
   "outputs": [],
   "source": [
    "output=torch.sum(output.view(-1,p_size**2),1)\n",
    "output2=Variable(torch.Tensor(np.array([-1.0/sigma]))).expand_as(output)*output"
   ]
  },
  {
   "cell_type": "code",
   "execution_count": null,
   "metadata": {
    "collapsed": false
   },
   "outputs": [],
   "source": [
    "Cell.eta"
   ]
  },
  {
   "cell_type": "code",
   "execution_count": null,
   "metadata": {
    "collapsed": false
   },
   "outputs": [],
   "source": [
    "Cell.W"
   ]
  },
  {
   "cell_type": "code",
   "execution_count": null,
   "metadata": {
    "collapsed": false
   },
   "outputs": [],
   "source": [
    "size_image=data.size()[1:]\n",
    "selected_patches=torch.Tensor(len(id_patch),2,size_patch**2)\n",
    "for j in range(len(id_patch)):\n",
    "        selected_patches[j,0,:]=patches[id_patch[j][1],id_patch[j][0],:]\n",
    "        selected_patches[j,1,:]=patches[id_patch[j][2],id_patch[j][0],:]"
   ]
  },
  {
   "cell_type": "code",
   "execution_count": null,
   "metadata": {
    "collapsed": true
   },
   "outputs": [],
   "source": [
    "def extract_selected_patches(data,id_patch,size_patch, zero_padding=True):\n",
    "    \n",
    "    size_image=data.size()[1:]\n",
    "    center_x=id_patch[1]//size_image[0]\n",
    "    center_y=id_patch[1]%size_image[0]\n",
    "    selected_patches=torch.Tensor((len(id_patches),2,size_patch**2))\n",
    "    patches=extract_patches(data,size_patch, zero_padding=True)\n",
    "    for j in range(len(id_patch)):\n",
    "        selected_patches[j,0,:]=patches[center_x[j],id_patch[j][0],:]\n",
    "        selected_patches[j,1,:]=patches[center_y[j],id_patch[j][0],:]\n",
    "    return patches[id_patch[0],center_x,center_y]"
   ]
  },
  {
   "cell_type": "code",
   "execution_count": null,
   "metadata": {
    "collapsed": false
   },
   "outputs": [],
   "source": [
    "\n",
    "size_image=data.size()[1:]\n",
    "a=size_patch+size_image[0]\n",
    "b=size_patch+size_image[1]\n",
    "padded_image=torch.Tensor(np.zeros((data.size()[0],a,b)))\n",
    "padded_image[:,size_patch//2:(size_patch//2)+size_image[0],size_patch//2:(size_patch//2)+size_image[1]]=data"
   ]
  },
  {
   "cell_type": "code",
   "execution_count": null,
   "metadata": {
    "collapsed": false
   },
   "outputs": [],
   "source": [
    "nx,ny=padded_image.size()[1:]\n",
    "patches=torch.Tensor(np.array([padded_image[:,ii:ii+size_patch,jj:jj+size_patch].numpy() for ii in np.arange(0,nx-size_patch,1) for jj in np.arange(0,ny-size_patch,1) ]))"
   ]
  },
  {
   "cell_type": "code",
   "execution_count": null,
   "metadata": {
    "collapsed": false
   },
   "outputs": [],
   "source": [
    "patches=patches.view([patches.size()[0],patches.size()[1],size_patch**2])"
   ]
  },
  {
   "cell_type": "code",
   "execution_count": null,
   "metadata": {
    "collapsed": true
   },
   "outputs": [],
   "source": [
    "data=test\n",
    "size_patch=5\n",
    "import numpy as np\n",
    "patches=extract_patches(data,size_patch, zero_padding=True)\n",
    "patches=patches.view([patches.size()[0],patches.size()[1],size_patch**2])"
   ]
  },
  {
   "cell_type": "code",
   "execution_count": null,
   "metadata": {
    "collapsed": false
   },
   "outputs": [],
   "source": [
    "patches.size()"
   ]
  },
  {
   "cell_type": "code",
   "execution_count": null,
   "metadata": {
    "collapsed": true
   },
   "outputs": [],
   "source": [
    "p_shape=size_patch\n",
    "#spacing=np.min([p_shape, data.size()[2]//p_shape]) \n",
    "spacing=p_shape//2\n",
    "gamma=2\n",
    "D=100"
   ]
  },
  {
   "cell_type": "code",
   "execution_count": null,
   "metadata": {
    "collapsed": false
   },
   "outputs": [],
   "source": [
    "patches[100,30,:].norm(p=2)"
   ]
  },
  {
   "cell_type": "code",
   "execution_count": null,
   "metadata": {
    "collapsed": false
   },
   "outputs": [],
   "source": [
    "W=torch.Tensor(np.random.sample(D*size_patch**2).reshape([D,size_patch**2]))\n",
    "\n",
    "eta=torch.Tensor(np.random.dirichlet([1.0/D]*D))"
   ]
  },
  {
   "cell_type": "code",
   "execution_count": null,
   "metadata": {
    "collapsed": false
   },
   "outputs": [],
   "source": [
    "n_p,n_d=patches.size()[:2]\n",
    "norm = torch.Tensor(np.array([patches[i,j,:].norm(p=2) for i in range(n_p) for j in range(n_d)]))\n",
    "\n",
    "norm2 = patches.view((n_p*n_d,size_patch**2)).norm(p=2,dim=1).view((n_p,n_d,1))\n",
    "\n",
    "norm3=torch.max(norm2, torch.Tensor(np.ones(norm2.size())))\n",
    "\n",
    "norm_patches=patches.div(norm3.expand_as(patches))\n",
    "\n",
    "W2=W.expand(n_d*n_p,D,25)\n",
    "norm_patches2=norm_patches.view((n_d*n_p,1,size_patch**2)).expand(n_d*n_p,D,size_patch**2)\n",
    "batch_size=10000\n",
    "testy=torch.Tensor((n_d*n_p*D))\n",
    "output2=torch.Tensor((n_d*n_p*D))\n",
    "sigma=1\n",
    "\n",
    "\n",
    "\n",
    "for b in range(n_d*n_p//batch_size):\n",
    "    print(b)\n",
    "    testy[b*batch_size*D:(b+1)*batch_size*D]=torch.sum(((norm_patches2[b*batch_size:(b+1)*batch_size,:,:]\\\n",
    "            -W.expand_as(norm_patches2[b*batch_size:(b+1)*batch_size,:,:]))**2).contiguous().view((-1,25)),dim=1)\n",
    "    \n",
    "    output2[b*batch_size*D:(b+1)*batch_size*D]=torch.exp(-1.0/sigma*testy[b*batch_size*D:(b+1)*batch_size*D])"
   ]
  },
  {
   "cell_type": "code",
   "execution_count": null,
   "metadata": {
    "collapsed": false
   },
   "outputs": [],
   "source": [
    "output2[-10:]"
   ]
  },
  {
   "cell_type": "code",
   "execution_count": null,
   "metadata": {
    "collapsed": false
   },
   "outputs": [],
   "source": [
    "output2=testy.view(n_p,n_d,D)\n",
    "sigma=1\n",
    "output2=torch.exp(-1.0/sigma*output2)"
   ]
  },
  {
   "cell_type": "code",
   "execution_count": null,
   "metadata": {
    "collapsed": false
   },
   "outputs": [],
   "source": [
    "eta"
   ]
  },
  {
   "cell_type": "code",
   "execution_count": null,
   "metadata": {
    "collapsed": true
   },
   "outputs": [],
   "source": [
    "output2=torch.matmul(output2,eta)"
   ]
  },
  {
   "cell_type": "code",
   "execution_count": null,
   "metadata": {
    "collapsed": false
   },
   "outputs": [],
   "source": [
    "patches.size()"
   ]
  },
  {
   "cell_type": "code",
   "execution_count": null,
   "metadata": {
    "collapsed": false
   },
   "outputs": [],
   "source": [
    "zeta=norm.view((n_d,n_p))*(output2)"
   ]
  },
  {
   "cell_type": "code",
   "execution_count": null,
   "metadata": {
    "collapsed": true
   },
   "outputs": [],
   "source": [
    "#output2=torch.matmul(output2,eta)\n",
    "#zeta=norm.mmul(output2)\n",
    "#patches=[c.reshape([1,-1]) for c in extract_patches_2d(zeta.numpy(),[p_shape,p_shape])]\n",
    "beta=gamma*spacing  ### what is that spacing? Where is it defined?"
   ]
  },
  {
   "cell_type": "code",
   "execution_count": null,
   "metadata": {
    "collapsed": false
   },
   "outputs": [],
   "source": [
    "patches"
   ]
  },
  {
   "cell_type": "code",
   "execution_count": null,
   "metadata": {
    "collapsed": false
   },
   "outputs": [],
   "source": [
    "output_map=2.0/np.sqrt(math.pi)*torch.sum(torch.exp(-1.0/beta*torch.Tensor(model_patch))*zeta,0)"
   ]
  },
  {
   "cell_type": "code",
   "execution_count": null,
   "metadata": {
    "collapsed": false
   },
   "outputs": [],
   "source": [
    "test"
   ]
  },
  {
   "cell_type": "code",
   "execution_count": null,
   "metadata": {
    "collapsed": true
   },
   "outputs": [],
   "source": [
    "output2=output.view(N,p_shape**2,D)\n",
    "output2=torch.exp(-1.0/self.Kernels[id_map].sigma*torch.sum(output2,1))\n",
    "output2=torch.matmul(output2,self.Kernels[id_map].eta)\n",
    "zeta=norm.mmul(output2)\n",
    "patches=[c.reshape([1,-1]) for c in extract_patches_2d(zeta.numpy(),[p_shape,p_shape])]\n",
    "beta=gamma*spacing  ### what is that spacing? Where is it defined?\n",
    "output_map=self.model_patch[k]*patches\n",
    "return output_map"
   ]
  },
  {
   "cell_type": "code",
   "execution_count": null,
   "metadata": {
    "collapsed": true
   },
   "outputs": [],
   "source": [
    "    ### start by extracting patches from image\n",
    "    patches=[c.reshape([1,-1]) for c in extract_patches_2d(xi.numpy(),[p_shape,p_shape])]\n",
    "    patches=torch.Tensor(patches)\n",
    "    patches=patches.squeeze()\n",
    "    ### subsamples patches?\n",
    "    \n",
    "    ### l2 normalized version of the patches\n",
    "    norm = patches.norm(p=2, dim=0, keepdim=True)\n",
    "    norm_patches=patches.div(norm.expand_as(patches))\n",
    "    N=norm_patches.size()[0]"
   ]
  },
  {
   "cell_type": "code",
   "execution_count": null,
   "metadata": {
    "collapsed": true
   },
   "outputs": [],
   "source": [
    "def get_activation_map(im,xi,id_map):\n",
    "    ### have to generalize this guy to take as input lots of images in the right tensor shape\n",
    "    p_shape=self.patch_shape[id_map]\n",
    "    spacing=np.min([im.size()[0]//p_shape, im.size()[1]//p_shape]) \n",
    "    gamma=2\n",
    "    D=self.Kernels[id_map].n_components\n",
    "    ### start by extracting patches from image\n",
    "    patches=[c.reshape([1,-1]) for c in extract_patches_2d(xi.numpy(),[p_shape,p_shape])]\n",
    "    patches=torch.Tensor(patches)\n",
    "    patches=patches.squeeze()\n",
    "    ### subsamples patches?\n",
    "    \n",
    "    ### l2 normalized version of the patches\n",
    "    norm = patches.norm(p=2, dim=0, keepdim=True)\n",
    "    norm_patches=patches.div(norm.expand_as(patches))\n",
    "    N=norm_patches.size()[0]\n",
    "    output=(norm_patches.repeat(1, D).view(N,p_shape**2,D)-self.Kernels[id_map].W.view(p_shape**2,D).repeat(0, N))**2\n",
    "    output2=output.view(N,p_shape**2,D)\n",
    "    output2=torch.exp(-1.0/self.Kernels[id_map].sigma*torch.sum(output2,1))\n",
    "    output2=torch.matmul(output2,self.Kernels[id_map].eta)\n",
    "    zeta=norm.mmul(output2)\n",
    "    patches=[c.reshape([1,-1]) for c in extract_patches_2d(zeta.numpy(),[p_shape,p_shape])]\n",
    "    beta=gamma*spacing  ### what is that spacing? Where is it defined?\n",
    "    output_map=self.model_patch[k]*patches\n",
    "    return output_map"
   ]
  },
  {
   "cell_type": "code",
   "execution_count": null,
   "metadata": {
    "collapsed": true
   },
   "outputs": [],
   "source": []
  }
 ],
 "metadata": {
  "anaconda-cloud": {},
  "kernelspec": {
   "display_name": "Python [default]",
   "language": "python",
   "name": "python2"
  },
  "language_info": {
   "codemirror_mode": {
    "name": "ipython",
    "version": 2
   },
   "file_extension": ".py",
   "mimetype": "text/x-python",
   "name": "python",
   "nbconvert_exporter": "python",
   "pygments_lexer": "ipython2",
   "version": "2.7.11"
  }
 },
 "nbformat": 4,
 "nbformat_minor": 1
}
