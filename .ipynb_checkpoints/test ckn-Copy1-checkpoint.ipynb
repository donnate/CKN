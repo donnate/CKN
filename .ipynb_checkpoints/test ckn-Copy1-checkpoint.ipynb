{
 "cells": [
  {
   "cell_type": "code",
   "execution_count": 1,
   "metadata": {
    "collapsed": true
   },
   "outputs": [],
   "source": [
    "%matplotlib inline\n",
    "from __future__ import print_function\n",
    "import argparse\n",
    "import torch\n",
    "import torch.nn as nn\n",
    "import torch.nn.functional as F\n",
    "import torch.optim as optim\n",
    "from torchvision import datasets, transforms\n",
    "from torch.autograd import Variable"
   ]
  },
  {
   "cell_type": "code",
   "execution_count": 2,
   "metadata": {
    "collapsed": true
   },
   "outputs": [],
   "source": [
    "batch_size=64\n",
    "test_batch_size=1000\n",
    "\n",
    "train_loader = torch.utils.data.DataLoader(\n",
    "    datasets.MNIST('../data', train=True, download=True,\n",
    "                   transform=transforms.Compose([\n",
    "                       transforms.ToTensor(),\n",
    "                       transforms.Normalize((0.1307,), (0.3081,))\n",
    "                   ])),\n",
    "    batch_size=batch_size, shuffle=True)\n",
    "test_loader = torch.utils.data.DataLoader(\n",
    "    datasets.MNIST('../data', train=False, transform=transforms.Compose([\n",
    "                       transforms.ToTensor(),\n",
    "                       transforms.Normalize((0.1307,), (0.3081,))\n",
    "                   ])),\n",
    "    batch_size=test_batch_size, shuffle=True)"
   ]
  },
  {
   "cell_type": "code",
   "execution_count": 3,
   "metadata": {
    "collapsed": false
   },
   "outputs": [
    {
     "data": {
      "text/plain": [
       "torch.utils.data.dataloader.DataLoader"
      ]
     },
     "execution_count": 3,
     "metadata": {},
     "output_type": "execute_result"
    }
   ],
   "source": [
    "type(train_loader)"
   ]
  },
  {
   "cell_type": "code",
   "execution_count": 4,
   "metadata": {
    "collapsed": true
   },
   "outputs": [],
   "source": [
    "test=train_loader.dataset.train_data"
   ]
  },
  {
   "cell_type": "code",
   "execution_count": 5,
   "metadata": {
    "collapsed": false
   },
   "outputs": [
    {
     "data": {
      "text/plain": [
       "torch.ByteTensor"
      ]
     },
     "execution_count": 5,
     "metadata": {},
     "output_type": "execute_result"
    }
   ],
   "source": [
    "type(test)"
   ]
  },
  {
   "cell_type": "code",
   "execution_count": 6,
   "metadata": {
    "collapsed": false
   },
   "outputs": [
    {
     "data": {
      "text/plain": [
       "torch.Size([60000, 28, 28])"
      ]
     },
     "execution_count": 6,
     "metadata": {},
     "output_type": "execute_result"
    }
   ],
   "source": [
    "test.shape"
   ]
  },
  {
   "cell_type": "code",
   "execution_count": 7,
   "metadata": {
    "collapsed": true
   },
   "outputs": [],
   "source": [
    "import seaborn as sb\n"
   ]
  },
  {
   "cell_type": "code",
   "execution_count": 8,
   "metadata": {
    "collapsed": false
   },
   "outputs": [
    {
     "data": {
      "text/plain": [
       "<matplotlib.axes._subplots.AxesSubplot at 0x11389fed0>"
      ]
     },
     "execution_count": 8,
     "metadata": {},
     "output_type": "execute_result"
    },
    {
     "data": {
      "image/png": "[encoded data removed]",
      "text/plain": [
       "<matplotlib.figure.Figure at 0x11389fa50>"
      ]
     },
     "metadata": {},
     "output_type": "display_data"
    }
   ],
   "source": [
    "sb.heatmap(test[0,:,:].numpy())"
   ]
  },
  {
   "cell_type": "code",
   "execution_count": 9,
   "metadata": {
    "collapsed": true
   },
   "outputs": [],
   "source": [
    "inpt=test[0,:,:]\n",
    "sx,sy=inpt.size()"
   ]
  },
  {
   "cell_type": "code",
   "execution_count": 10,
   "metadata": {
    "collapsed": true
   },
   "outputs": [],
   "source": [
    "n_patches=5"
   ]
  },
  {
   "cell_type": "code",
   "execution_count": 11,
   "metadata": {
    "collapsed": true
   },
   "outputs": [],
   "source": [
    "sx,sy=inpt.size()"
   ]
  },
  {
   "cell_type": "code",
   "execution_count": 12,
   "metadata": {
    "collapsed": true
   },
   "outputs": [],
   "source": [
    "def extract_patches(image,size_patch, zero_padding=True, model_patch=None):\n",
    "    size_image=image.size()\n",
    "    offset_x=(size_image[0]%size_patch>0)*(size_patch-size_image[0]%size_patch)\n",
    "    offset_y=(size_image[1]%size_patch>0)*(size_patch-size_image[1]%size_patch)\n",
    "    a=offset_x+size_image[0]\n",
    "    b=offset_y+size_image[1]\n",
    "    padded_image=torch.Tensor(np.zeros((a,b)))\n",
    "    padded_image[offset_x//2:(offset_x//2)+size_image[0],offset_y//2:(offset_y//2)+size_image[1]]=image\n",
    "    nx,ny=padded_image.size()\n",
    "    cntr_x,cntr_y=[size_patch//2+size_patch%2-1,size_patch//2+size_patch%2-1]\n",
    "    patches=torch.Tensor([padded_image[ii:ii+size_patch,jj:jj+size_patch] for ii in range(nx-size_patch) for jj in range(ny-size_patch)])\n",
    "    #if size_image[0]%\n",
    "    return patches\n"
   ]
  },
  {
   "cell_type": "code",
   "execution_count": 13,
   "metadata": {
    "collapsed": true
   },
   "outputs": [],
   "source": [
    "size_patch=5\n",
    "cntr_x,cntr_y=[size_patch//2+size_patch%2-1,size_patch//2+size_patch%2-1]"
   ]
  },
  {
   "cell_type": "code",
   "execution_count": 14,
   "metadata": {
    "collapsed": false
   },
   "outputs": [
    {
     "data": {
      "text/plain": [
       "2"
      ]
     },
     "execution_count": 14,
     "metadata": {},
     "output_type": "execute_result"
    }
   ],
   "source": [
    "cntr_x"
   ]
  },
  {
   "cell_type": "code",
   "execution_count": 15,
   "metadata": {
    "collapsed": false
   },
   "outputs": [
    {
     "name": "stdout",
     "output_type": "stream",
     "text": [
      "-2\n",
      "-2\n",
      "-1\n",
      "0\n",
      "1\n",
      "2\n",
      "done\n",
      "-1\n",
      "-2\n",
      "-1\n",
      "0\n",
      "1\n",
      "2\n",
      "done\n",
      "0\n",
      "-2\n",
      "-1\n",
      "0\n",
      "1\n",
      "2\n",
      "done\n",
      "1\n",
      "-2\n",
      "-1\n",
      "0\n",
      "1\n",
      "2\n",
      "done\n",
      "2\n",
      "-2\n",
      "-1\n",
      "0\n",
      "1\n",
      "2\n",
      "done\n"
     ]
    }
   ],
   "source": [
    "import numpy as np\n",
    "model_patch=np.zeros((size_patch,size_patch))\n",
    "for ii in range(size_patch):\n",
    "    print (ii-cntr_x)\n",
    "    for jj in range(size_patch):\n",
    "        print (jj-cntr_x)\n",
    "        model_patch[ii,jj]=(ii-cntr_x)**2+(jj-cntr_y)**2\n",
    "    print(\"done\")"
   ]
  },
  {
   "cell_type": "code",
   "execution_count": 16,
   "metadata": {
    "collapsed": false
   },
   "outputs": [
    {
     "data": {
      "text/plain": [
       "<matplotlib.axes._subplots.AxesSubplot at 0x11389f450>"
      ]
     },
     "execution_count": 16,
     "metadata": {},
     "output_type": "execute_result"
    },
    {
     "data": {
      "image/png": "[encoded data removed]",
      "text/plain": [
       "<matplotlib.figure.Figure at 0x113c3a6d0>"
      ]
     },
     "metadata": {},
     "output_type": "display_data"
    }
   ],
   "source": [
    "sb.heatmap(model_patch)"
   ]
  },
  {
   "cell_type": "code",
   "execution_count": 17,
   "metadata": {
    "collapsed": true
   },
   "outputs": [],
   "source": [
    "data=test"
   ]
  },
  {
   "cell_type": "code",
   "execution_count": 18,
   "metadata": {
    "collapsed": false
   },
   "outputs": [],
   "source": [
    "def rel_distance_patch(size_patch):\n",
    "    model_patch=np.zeros((size_patch,size_patch))\n",
    "    cntr_x,cntr_y=[size_patch//2+size_patch%2-1,size_patch//2+size_patch%2-1]\n",
    "    for ii in range(size_patch):\n",
    "        for jj in range(size_patch):\n",
    "            model_patch[ii,jj]=(ii-cntr_x)**2+(jj-cntr_y)**2\n",
    "    return torch.Tensor(model_patch)\n",
    "\n",
    "\n",
    "def extract_patches(data,size_patch, zero_padding=True):\n",
    "\tsize_image=data.size()[1:]\n",
    "\toffset_x=(size_image[0]%size_patch>0)*(size_patch-size_image[0]%size_patch)\n",
    "\toffset_y=(size_image[1]%size_patch>0)*(size_patch-size_image[1]%size_patch)\n",
    "\ta=size_patch+size_image[0]\n",
    "\tb=size_patch+size_image[1]\n",
    "\tpadded_image=torch.Tensor(np.zeros((data.size()[0],a,b)))\n",
    "\tpadded_image[:,size_patch//2:(size_patch//2)+size_image[0],size_patch//2:(size_patch//2)+size_image[1]]=data\n",
    "\tnx,ny=padded_image.size()[1:]\n",
    "\tpatches=torch.Tensor(np.array([padded_image[:,ii:ii+size_patch,jj:jj+size_patch].numpy() for ii in np.arange(0,nx-size_patch,1) for jj in np.arange(0,ny-size_patch,1) ]))\n",
    "\treturn patches"
   ]
  },
  {
   "cell_type": "code",
   "execution_count": 19,
   "metadata": {
    "collapsed": false
   },
   "outputs": [],
   "source": [
    "\n",
    "size_image=data.size()[1:]\n",
    "a=size_patch+size_image[0]\n",
    "b=size_patch+size_image[1]\n",
    "padded_image=torch.Tensor(np.zeros((data.size()[0],a,b)))\n",
    "padded_image[:,size_patch//2:(size_patch//2)+size_image[0],size_patch//2:(size_patch//2)+size_image[1]]=data"
   ]
  },
  {
   "cell_type": "code",
   "execution_count": 20,
   "metadata": {
    "collapsed": false
   },
   "outputs": [],
   "source": [
    "nx,ny=padded_image.size()[1:]\n",
    "patches=torch.Tensor(np.array([padded_image[:,ii:ii+size_patch,jj:jj+size_patch].numpy() for ii in np.arange(0,nx-size_patch,1) for jj in np.arange(0,ny-size_patch,1) ]))"
   ]
  },
  {
   "cell_type": "code",
   "execution_count": 21,
   "metadata": {
    "collapsed": false
   },
   "outputs": [],
   "source": [
    "patches=patches.view([patches.size()[0],patches.size()[1],size_patch**2])"
   ]
  },
  {
   "cell_type": "code",
   "execution_count": 22,
   "metadata": {
    "collapsed": true
   },
   "outputs": [],
   "source": [
    "data=test\n",
    "size_patch=5\n",
    "import numpy as np\n",
    "patches=extract_patches(data,size_patch, zero_padding=True)\n",
    "patches=patches.view([patches.size()[0],patches.size()[1],size_patch**2])"
   ]
  },
  {
   "cell_type": "code",
   "execution_count": 23,
   "metadata": {
    "collapsed": false
   },
   "outputs": [
    {
     "data": {
      "text/plain": [
       "torch.Size([784, 60000, 25])"
      ]
     },
     "execution_count": 23,
     "metadata": {},
     "output_type": "execute_result"
    }
   ],
   "source": [
    "patches.size()"
   ]
  },
  {
   "cell_type": "code",
   "execution_count": 24,
   "metadata": {
    "collapsed": true
   },
   "outputs": [],
   "source": [
    "p_shape=size_patch\n",
    "#spacing=np.min([p_shape, data.size()[2]//p_shape]) \n",
    "spacing=p_shape//2\n",
    "gamma=2\n",
    "D=100"
   ]
  },
  {
   "cell_type": "code",
   "execution_count": 25,
   "metadata": {
    "collapsed": false
   },
   "outputs": [
    {
     "data": {
      "text/plain": [
       "0.0"
      ]
     },
     "execution_count": 25,
     "metadata": {},
     "output_type": "execute_result"
    }
   ],
   "source": [
    "patches[100,30,:].norm(p=2)"
   ]
  },
  {
   "cell_type": "code",
   "execution_count": 26,
   "metadata": {
    "collapsed": true
   },
   "outputs": [],
   "source": [
    "n_p,n_d=patches.size()[:2]\n",
    "norm = torch.Tensor(np.array([patches[i,j,:].norm(p=2) for i in range(n_p) for j in range(n_d)]))"
   ]
  },
  {
   "cell_type": "code",
   "execution_count": 27,
   "metadata": {
    "collapsed": true
   },
   "outputs": [],
   "source": [
    "norm2 = patches.view((n_p*n_d,size_patch**2)).norm(p=2,dim=1).view((n_p,n_d,1))"
   ]
  },
  {
   "cell_type": "code",
   "execution_count": 28,
   "metadata": {
    "collapsed": false
   },
   "outputs": [],
   "source": [
    "norm3=torch.max(norm2, torch.Tensor(np.ones(norm2.size())))"
   ]
  },
  {
   "cell_type": "code",
   "execution_count": 29,
   "metadata": {
    "collapsed": false
   },
   "outputs": [],
   "source": [
    "norm_patches=patches.div(norm3.expand_as(patches))"
   ]
  },
  {
   "cell_type": "code",
   "execution_count": 30,
   "metadata": {
    "collapsed": true
   },
   "outputs": [],
   "source": [
    "W=torch.Tensor(np.random.sample(D*size_patch**2).reshape([D,size_patch**2]))"
   ]
  },
  {
   "cell_type": "code",
   "execution_count": 31,
   "metadata": {
    "collapsed": false
   },
   "outputs": [],
   "source": [
    "eta=torch.Tensor(np.random.dirichlet([1.0/D]*D))"
   ]
  },
  {
   "cell_type": "code",
   "execution_count": 32,
   "metadata": {
    "collapsed": false
   },
   "outputs": [
    {
     "data": {
      "text/plain": [
       "torch.Size([784, 60000, 25])"
      ]
     },
     "execution_count": 32,
     "metadata": {},
     "output_type": "execute_result"
    }
   ],
   "source": [
    "norm_patches.size()"
   ]
  },
  {
   "cell_type": "code",
   "execution_count": 33,
   "metadata": {
    "collapsed": true
   },
   "outputs": [],
   "source": [
    "W2=W.expand(n_d*n_p,D,25)\n",
    "norm_patches2=norm_patches.view((n_d*n_p,1,size_patch**2)).expand(n_d*n_p,D,size_patch**2)"
   ]
  },
  {
   "cell_type": "code",
   "execution_count": 34,
   "metadata": {
    "collapsed": false
   },
   "outputs": [
    {
     "data": {
      "text/plain": [
       "torch.Size([47040000, 100, 25])"
      ]
     },
     "execution_count": 34,
     "metadata": {},
     "output_type": "execute_result"
    }
   ],
   "source": [
    "norm_patches2.size()"
   ]
  },
  {
   "cell_type": "code",
   "execution_count": 35,
   "metadata": {
    "collapsed": false
   },
   "outputs": [
    {
     "data": {
      "text/plain": [
       "\n",
       " 0\n",
       " 0\n",
       " 0\n",
       " 0\n",
       " 0\n",
       " 0\n",
       " 0\n",
       " 0\n",
       " 0\n",
       " 0\n",
       " 0\n",
       " 0\n",
       " 0\n",
       " 0\n",
       " 0\n",
       " 0\n",
       " 0\n",
       " 0\n",
       " 0\n",
       " 0\n",
       " 0\n",
       " 0\n",
       " 0\n",
       " 0\n",
       " 0\n",
       "[torch.FloatTensor of size 25]"
      ]
     },
     "execution_count": 35,
     "metadata": {},
     "output_type": "execute_result"
    }
   ],
   "source": [
    "norm_patches2[0,0,:]"
   ]
  },
  {
   "cell_type": "code",
   "execution_count": 36,
   "metadata": {
    "collapsed": true
   },
   "outputs": [],
   "source": [
    "batch_size=1000"
   ]
  },
  {
   "cell_type": "code",
   "execution_count": 37,
   "metadata": {
    "collapsed": false
   },
   "outputs": [
    {
     "data": {
      "text/plain": [
       "\n",
       " 15.1726\n",
       " 11.9650\n",
       " 11.4846\n",
       "   ⋮    \n",
       " 12.3725\n",
       " 11.1519\n",
       " 13.4718\n",
       "[torch.FloatTensor of size 100000]"
      ]
     },
     "execution_count": 37,
     "metadata": {},
     "output_type": "execute_result"
    }
   ],
   "source": [
    "torch.sum(W.expand_as(norm_patches2[b*batch_size:(b+1)*batch_size,:,:]).contiguous().view((-1,25)),dim=1)"
   ]
  },
  {
   "cell_type": "code",
   "execution_count": 38,
   "metadata": {
    "collapsed": false
   },
   "outputs": [
    {
     "data": {
      "text/plain": [
       "\n",
       " 11.0263\n",
       "  8.0175\n",
       "  7.7895\n",
       "   ⋮    \n",
       "  7.7725\n",
       "  6.9488\n",
       "  8.9523\n",
       "[torch.FloatTensor of size 100000]"
      ]
     },
     "execution_count": 38,
     "metadata": {},
     "output_type": "execute_result"
    }
   ],
   "source": [
    "b=0\n",
    "torch.sum(((norm_patches2[b*batch_size:(b+1)*batch_size,:,:]\\\n",
    "            -W.expand_as(norm_patches2[b*batch_size:(b+1)*batch_size,:,:]))**2).contiguous().view((-1,25)),dim=1)"
   ]
  },
  {
   "cell_type": "code",
   "execution_count": 39,
   "metadata": {
    "collapsed": false
   },
   "outputs": [
    {
     "data": {
      "text/plain": [
       "\n",
       " 11.0263\n",
       "  8.0175\n",
       "  7.7895\n",
       "   ⋮    \n",
       "  7.7725\n",
       "  6.9488\n",
       "  8.9523\n",
       "[torch.FloatTensor of size 100000]"
      ]
     },
     "execution_count": 39,
     "metadata": {},
     "output_type": "execute_result"
    }
   ],
   "source": [
    "torch.sum(((norm_patches2[b*batch_size:(b+1)*batch_size,:,:]\\\n",
    "            -W.expand_as(norm_patches2[b*batch_size:(b+1)*batch_size,:,:]))**2).contiguous().view((-1,25)),dim=1)"
   ]
  },
  {
   "cell_type": "code",
   "execution_count": 44,
   "metadata": {
    "collapsed": false
   },
   "outputs": [
    {
     "data": {
      "text/plain": [
       "\n",
       " 11.0263\n",
       "  8.0175\n",
       "  7.7895\n",
       "   ⋮    \n",
       "  7.7725\n",
       "  6.9488\n",
       "  8.9523\n",
       "[torch.FloatTensor of size 100000]"
      ]
     },
     "execution_count": 44,
     "metadata": {},
     "output_type": "execute_result"
    }
   ],
   "source": [
    "b=2\n",
    "torch.sum(((norm_patches2[b*batch_size:(b+1)*batch_size,:,:]\\\n",
    "            -W.expand_as(norm_patches2[b*batch_size:(b+1)*batch_size,:,:]))**2).contiguous().view((-1,25)),dim=1)"
   ]
  },
  {
   "cell_type": "code",
   "execution_count": null,
   "metadata": {
    "collapsed": false
   },
   "outputs": [],
   "source": [
    "batch_size=100\n",
    "testy=torch.Tensor((n_d*n_p*D))\n",
    "output2=torch.Tensor(np.zeros((n_d*n_p*D)))\n",
    "sigma=1\n",
    "\n"
   ]
  },
  {
   "cell_type": "code",
   "execution_count": null,
   "metadata": {
    "collapsed": true
   },
   "outputs": [],
   "source": [
    "for b in range(n_d*n_p//batch_size):\n",
    "    print(b)\n",
    "    testy[b*batch_size*D:(b+1)*batch_size*D]=torch.sum(((norm_patches2[b*batch_size:(b+1)*batch_size,:,:]\\\n",
    "            -W.expand_as(norm_patches2[b*batch_size:(b+1)*batch_size,:,:]))**2).contiguous().view((-1,25)),dim=1)\n",
    "    STOP\n",
    "    #output2[b*batch_size*D:(b+1)*batch_size*D]=torch.exp(-1.0/sigma*testy[b*batch_size*D:(b+1)*batch_size*D])"
   ]
  },
  {
   "cell_type": "code",
   "execution_count": null,
   "metadata": {
    "collapsed": false
   },
   "outputs": [],
   "source": [
    "STOP"
   ]
  },
  {
   "cell_type": "code",
   "execution_count": null,
   "metadata": {
    "collapsed": false
   },
   "outputs": [],
   "source": [
    "output2=testy.view(n_p,n_d,D)\n",
    "sigma=1\n",
    "output2=torch.exp(-1.0/sigma*output2)"
   ]
  },
  {
   "cell_type": "code",
   "execution_count": null,
   "metadata": {
    "collapsed": false
   },
   "outputs": [],
   "source": [
    "eta"
   ]
  },
  {
   "cell_type": "code",
   "execution_count": null,
   "metadata": {
    "collapsed": true
   },
   "outputs": [],
   "source": [
    "output2=torch.matmul(output2,eta)"
   ]
  },
  {
   "cell_type": "code",
   "execution_count": null,
   "metadata": {
    "collapsed": false
   },
   "outputs": [],
   "source": [
    "patches.size()"
   ]
  },
  {
   "cell_type": "code",
   "execution_count": null,
   "metadata": {
    "collapsed": false
   },
   "outputs": [],
   "source": [
    "zeta=norm.view((n_d,n_p))*(output2)"
   ]
  },
  {
   "cell_type": "code",
   "execution_count": null,
   "metadata": {
    "collapsed": true
   },
   "outputs": [],
   "source": [
    "#output2=torch.matmul(output2,eta)\n",
    "#zeta=norm.mmul(output2)\n",
    "#patches=[c.reshape([1,-1]) for c in extract_patches_2d(zeta.numpy(),[p_shape,p_shape])]\n",
    "beta=gamma*spacing  ### what is that spacing? Where is it defined?"
   ]
  },
  {
   "cell_type": "code",
   "execution_count": null,
   "metadata": {
    "collapsed": false
   },
   "outputs": [],
   "source": [
    "patches"
   ]
  },
  {
   "cell_type": "code",
   "execution_count": null,
   "metadata": {
    "collapsed": false
   },
   "outputs": [],
   "source": [
    "output_map=2.0/np.sqrt(math.pi)*torch.sum(torch.exp(-1.0/beta*torch.Tensor(model_patch))*zeta,0)"
   ]
  },
  {
   "cell_type": "code",
   "execution_count": null,
   "metadata": {
    "collapsed": false
   },
   "outputs": [],
   "source": [
    "test"
   ]
  },
  {
   "cell_type": "code",
   "execution_count": null,
   "metadata": {
    "collapsed": true
   },
   "outputs": [],
   "source": [
    "output2=output.view(N,p_shape**2,D)\n",
    "output2=torch.exp(-1.0/self.Kernels[id_map].sigma*torch.sum(output2,1))\n",
    "output2=torch.matmul(output2,self.Kernels[id_map].eta)\n",
    "zeta=norm.mmul(output2)\n",
    "patches=[c.reshape([1,-1]) for c in extract_patches_2d(zeta.numpy(),[p_shape,p_shape])]\n",
    "beta=gamma*spacing  ### what is that spacing? Where is it defined?\n",
    "output_map=self.model_patch[k]*patches\n",
    "return output_map"
   ]
  },
  {
   "cell_type": "code",
   "execution_count": null,
   "metadata": {
    "collapsed": true
   },
   "outputs": [],
   "source": [
    "    ### start by extracting patches from image\n",
    "    patches=[c.reshape([1,-1]) for c in extract_patches_2d(xi.numpy(),[p_shape,p_shape])]\n",
    "    patches=torch.Tensor(patches)\n",
    "    patches=patches.squeeze()\n",
    "    ### subsamples patches?\n",
    "    \n",
    "    ### l2 normalized version of the patches\n",
    "    norm = patches.norm(p=2, dim=0, keepdim=True)\n",
    "    norm_patches=patches.div(norm.expand_as(patches))\n",
    "    N=norm_patches.size()[0]"
   ]
  },
  {
   "cell_type": "code",
   "execution_count": null,
   "metadata": {
    "collapsed": true
   },
   "outputs": [],
   "source": [
    "def get_activation_map(im,xi,id_map):\n",
    "    ### have to generalize this guy to take as input lots of images in the right tensor shape\n",
    "    p_shape=self.patch_shape[id_map]\n",
    "    spacing=np.min([im.size()[0]//p_shape, im.size()[1]//p_shape]) \n",
    "    gamma=2\n",
    "    D=self.Kernels[id_map].n_components\n",
    "    ### start by extracting patches from image\n",
    "    patches=[c.reshape([1,-1]) for c in extract_patches_2d(xi.numpy(),[p_shape,p_shape])]\n",
    "    patches=torch.Tensor(patches)\n",
    "    patches=patches.squeeze()\n",
    "    ### subsamples patches?\n",
    "    \n",
    "    ### l2 normalized version of the patches\n",
    "    norm = patches.norm(p=2, dim=0, keepdim=True)\n",
    "    norm_patches=patches.div(norm.expand_as(patches))\n",
    "    N=norm_patches.size()[0]\n",
    "    output=(norm_patches.repeat(1, D).view(N,p_shape**2,D)-self.Kernels[id_map].W.view(p_shape**2,D).repeat(0, N))**2\n",
    "    output2=output.view(N,p_shape**2,D)\n",
    "    output2=torch.exp(-1.0/self.Kernels[id_map].sigma*torch.sum(output2,1))\n",
    "    output2=torch.matmul(output2,self.Kernels[id_map].eta)\n",
    "    zeta=norm.mmul(output2)\n",
    "    patches=[c.reshape([1,-1]) for c in extract_patches_2d(zeta.numpy(),[p_shape,p_shape])]\n",
    "    beta=gamma*spacing  ### what is that spacing? Where is it defined?\n",
    "    output_map=self.model_patch[k]*patches\n",
    "    return output_map"
   ]
  },
  {
   "cell_type": "code",
   "execution_count": null,
   "metadata": {
    "collapsed": true
   },
   "outputs": [],
   "source": []
  }
 ],
 "metadata": {
  "anaconda-cloud": {},
  "kernelspec": {
   "display_name": "Python [default]",
   "language": "python",
   "name": "python2"
  },
  "language_info": {
   "codemirror_mode": {
    "name": "ipython",
    "version": 2
   },
   "file_extension": ".py",
   "mimetype": "text/x-python",
   "name": "python",
   "nbconvert_exporter": "python",
   "pygments_lexer": "ipython2",
   "version": "2.7.11"
  }
 },
 "nbformat": 4,
 "nbformat_minor": 1
}
