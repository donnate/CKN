{
 "cells": [
  {
   "cell_type": "markdown",
   "metadata": {},
   "source": [
    "<h1><center><span style='color:blue'> MNIST: Full network with patch-centering   </center></h1></span> "
   ]
  },
  {
   "cell_type": "markdown",
   "metadata": {},
   "source": [
    "We here try to replicate the experiments as detailed in Mairal and al's 2014 paper on Convolutional Kernel Methods.\n",
    "\n",
    "The convolutional network is a __CKN__ object which comprises of $K$ different layers (or cells, since these cells are all trained independently of the others). Each cell is a __ Nystrom__ object, parameterized by a number of filters (the greater the number of filters, the better the linear kernel approximation).\n",
    "\n",
    "When training the network, each cell is trained as follows:\n",
    "__INPUT__: input_map: input data (contrast-normalized(?) image patches for instance for MNIST)\n",
    "+ (1) extract patches from input map (by concatenating neighboring pixel input)\n",
    "+ (2) apply dimensionality reduction to these large patches (RobustScaler+Pca), so that the whole things remains computable\n",
    "+ (3) initalize new filters with Kmeans\n",
    "+ (4) train W and eta (parameters of the cell) on a subset of the data. The function check_convergence() allows to check how well we are doing in terms of approximating the kernel.\n",
    "+ (5) call get_activation_map() to compute the activation of each patch\n",
    "__OUTPUT__: activation map of patches centered at each pixel with respect to the filter W\n",
    "\n",
    "From there, to compute the activation map of any new image, we simply have to:\n",
    "+ (1) extract the patches from the image\n",
    "+ (2) call propagate_through_network(X). This function at each layer applies the \n",
    "\n",
    "Here, we evaluate the impact of the preprocessing of the data by trying a \"patch-centering approach\": eahc patch extracted from the image is centered and scaled. We here try an approach where the data is scaled using a \"robust scaler\" ( that is, standardized with respect to the first 90\\% of the data.)\n"
   ]
  },
  {
   "cell_type": "code",
   "execution_count": 1,
   "metadata": {
    "collapsed": false,
    "scrolled": true
   },
   "outputs": [],
   "source": [
    "%matplotlib inline\n",
    "from __future__ import print_function\n",
    "import argparse\n",
    "import torch\n",
    "import torch.nn as nn\n",
    "import torch.nn.functional as F\n",
    "import torch.optim as optim\n",
    "from torchvision import datasets, transforms\n",
    "from torch.autograd import Variable\n",
    "from CKN import *\n",
    "from Nystrom import *\n",
    "from image_processing_utils import *\n",
    "import scipy.optimize"
   ]
  },
  {
   "cell_type": "code",
   "execution_count": 2,
   "metadata": {
    "collapsed": false,
    "scrolled": true
   },
   "outputs": [],
   "source": [
    "batch_size=64\n",
    "test_batch_size=300\n",
    "\n",
    "train_loader = torch.utils.data.DataLoader(\n",
    "    datasets.MNIST('../data', train=True, download=True,\n",
    "                   transform=transforms.Compose([\n",
    "                       transforms.ToTensor(),\n",
    "                       transforms.Normalize((0.1307,), (0.3081,))\n",
    "                   ])),\n",
    "    batch_size=batch_size, shuffle=True)\n",
    "test_loader = torch.utils.data.DataLoader(\n",
    "    datasets.MNIST('../data', train=False, transform=transforms.Compose([\n",
    "                       transforms.ToTensor(),\n",
    "                       transforms.Normalize((0.1307,), (0.3081,))\n",
    "                   ])),\n",
    "    batch_size=test_batch_size, shuffle=True)"
   ]
  },
  {
   "cell_type": "code",
   "execution_count": 3,
   "metadata": {
    "collapsed": false,
    "scrolled": true
   },
   "outputs": [],
   "source": [
    "inds=range(60000)\n",
    "import random\n",
    "random.seed(2017)\n",
    "random.shuffle(inds)\n",
    "\n",
    "test=train_loader.dataset.train_data[inds[:test_batch_size],:,:]"
   ]
  },
  {
   "cell_type": "code",
   "execution_count": 4,
   "metadata": {
    "collapsed": false,
    "scrolled": true
   },
   "outputs": [],
   "source": [
    "X_labels=train_loader.dataset.train_labels[torch.LongTensor(inds[:test_batch_size])]"
   ]
  },
  {
   "cell_type": "code",
   "execution_count": 5,
   "metadata": {
    "collapsed": false
   },
   "outputs": [
    {
     "data": {
      "text/plain": [
       "\n",
       " 0\n",
       " 9\n",
       " 6\n",
       " 1\n",
       " 2\n",
       " 3\n",
       " 9\n",
       " 2\n",
       " 4\n",
       " 3\n",
       " 8\n",
       " 1\n",
       " 5\n",
       " 6\n",
       " 1\n",
       " 6\n",
       " 7\n",
       " 5\n",
       " 0\n",
       " 7\n",
       " 8\n",
       " 9\n",
       " 6\n",
       " 3\n",
       " 4\n",
       " 9\n",
       " 4\n",
       " 3\n",
       " 1\n",
       " 0\n",
       " 3\n",
       " 2\n",
       " 4\n",
       " 1\n",
       " 4\n",
       " 1\n",
       " 2\n",
       " 1\n",
       " 7\n",
       " 7\n",
       " 4\n",
       " 1\n",
       " 8\n",
       " 4\n",
       " 7\n",
       " 4\n",
       " 9\n",
       " 0\n",
       " 5\n",
       " 3\n",
       " 6\n",
       " 3\n",
       " 3\n",
       " 9\n",
       " 4\n",
       " 4\n",
       " 4\n",
       " 1\n",
       " 8\n",
       " 2\n",
       " 3\n",
       " 3\n",
       " 1\n",
       " 7\n",
       " 3\n",
       " 3\n",
       " 9\n",
       " 9\n",
       " 2\n",
       " 9\n",
       " 3\n",
       " 6\n",
       " 9\n",
       " 4\n",
       " 1\n",
       " 0\n",
       " 1\n",
       " 3\n",
       " 0\n",
       " 0\n",
       " 5\n",
       " 4\n",
       " 5\n",
       " 2\n",
       " 9\n",
       " 0\n",
       " 7\n",
       " 0\n",
       " 0\n",
       " 0\n",
       " 2\n",
       " 4\n",
       " 8\n",
       " 2\n",
       " 8\n",
       " 1\n",
       " 4\n",
       " 4\n",
       " 1\n",
       " 1\n",
       " 7\n",
       " 5\n",
       " 8\n",
       " 2\n",
       " 4\n",
       " 6\n",
       " 9\n",
       " 1\n",
       " 8\n",
       " 1\n",
       " 5\n",
       " 3\n",
       " 1\n",
       " 4\n",
       " 1\n",
       " 3\n",
       " 8\n",
       " 4\n",
       " 7\n",
       " 2\n",
       " 4\n",
       " 5\n",
       " 8\n",
       " 1\n",
       " 3\n",
       " 2\n",
       " 2\n",
       " 0\n",
       " 6\n",
       " 0\n",
       " 8\n",
       " 0\n",
       " 3\n",
       " 8\n",
       " 1\n",
       " 3\n",
       " 5\n",
       " 2\n",
       " 6\n",
       " 4\n",
       " 4\n",
       " 7\n",
       " 0\n",
       " 8\n",
       " 6\n",
       " 5\n",
       " 7\n",
       " 9\n",
       " 3\n",
       " 1\n",
       " 0\n",
       " 7\n",
       " 0\n",
       " 0\n",
       " 6\n",
       " 0\n",
       " 9\n",
       " 2\n",
       " 8\n",
       " 8\n",
       " 4\n",
       " 9\n",
       " 4\n",
       " 7\n",
       " 9\n",
       " 5\n",
       " 8\n",
       " 9\n",
       " 1\n",
       " 0\n",
       " 5\n",
       " 6\n",
       " 2\n",
       " 3\n",
       " 0\n",
       " 0\n",
       " 5\n",
       " 4\n",
       " 1\n",
       " 7\n",
       " 5\n",
       " 5\n",
       " 0\n",
       " 6\n",
       " 6\n",
       " 0\n",
       " 5\n",
       " 9\n",
       " 6\n",
       " 2\n",
       " 8\n",
       " 4\n",
       " 6\n",
       " 4\n",
       " 9\n",
       " 3\n",
       " 7\n",
       " 8\n",
       " 6\n",
       " 0\n",
       " 8\n",
       " 0\n",
       " 8\n",
       " 6\n",
       " 7\n",
       " 9\n",
       " 7\n",
       " 6\n",
       " 0\n",
       " 8\n",
       " 1\n",
       " 8\n",
       " 1\n",
       " 1\n",
       " 0\n",
       " 1\n",
       " 1\n",
       " 6\n",
       " 0\n",
       " 2\n",
       " 1\n",
       " 7\n",
       " 4\n",
       " 6\n",
       " 4\n",
       " 0\n",
       " 9\n",
       " 7\n",
       " 1\n",
       " 8\n",
       " 8\n",
       " 3\n",
       " 3\n",
       " 1\n",
       " 4\n",
       " 4\n",
       " 3\n",
       " 7\n",
       " 0\n",
       " 4\n",
       " 7\n",
       " 0\n",
       " 2\n",
       " 0\n",
       " 4\n",
       " 8\n",
       " 1\n",
       " 8\n",
       " 7\n",
       " 0\n",
       " 2\n",
       " 7\n",
       " 1\n",
       " 8\n",
       " 0\n",
       " 7\n",
       " 5\n",
       " 2\n",
       " 6\n",
       " 0\n",
       " 5\n",
       " 9\n",
       " 1\n",
       " 5\n",
       " 3\n",
       " 7\n",
       " 2\n",
       " 6\n",
       " 3\n",
       " 4\n",
       " 8\n",
       " 9\n",
       " 1\n",
       " 6\n",
       " 4\n",
       " 9\n",
       " 4\n",
       " 9\n",
       " 6\n",
       " 9\n",
       " 8\n",
       " 4\n",
       " 9\n",
       " 1\n",
       " 1\n",
       " 8\n",
       " 1\n",
       " 4\n",
       " 3\n",
       " 3\n",
       " 4\n",
       " 2\n",
       " 6\n",
       " 9\n",
       " 0\n",
       " 1\n",
       " 7\n",
       " 1\n",
       " 9\n",
       " 7\n",
       "[torch.LongTensor of size 300]"
      ]
     },
     "execution_count": 5,
     "metadata": {},
     "output_type": "execute_result"
    }
   ],
   "source": [
    "X_labels"
   ]
  },
  {
   "cell_type": "code",
   "execution_count": 6,
   "metadata": {
    "collapsed": true,
    "scrolled": true
   },
   "outputs": [],
   "source": [
    "import seaborn as sb\n",
    "import math\n",
    "import numpy as np\n"
   ]
  },
  {
   "cell_type": "code",
   "execution_count": 7,
   "metadata": {
    "collapsed": false,
    "scrolled": true
   },
   "outputs": [],
   "source": [
    "data=test\n",
    "data=1.0/255*data.type(torch.FloatTensor)\n",
    "#data2=data-torch.mean(data.view(-1,data.size()[1]*data.size()[2]),0).view(28,28)\n",
    "#S=torch.std(data2.view(-1,data.size()[1]*data.size()[2]),0)\n",
    "#S[S==0]=1\n",
    "#data2=1.0/255*data2.view(-1,data.size()[1]*data.size()[2])\n",
    "#data2=data2.view(-1,28,28)\n"
   ]
  },
  {
   "cell_type": "code",
   "execution_count": 8,
   "metadata": {
    "collapsed": false
   },
   "outputs": [],
   "source": [
    "### contrast normalize\n",
    "n_d,p_dim,_=data.size()\n",
    "#norm=torch.max(torch.sum(data.view(n_d,-1)**2,1),torch.Tensor([0.00001]))\n",
    "#data=torch.div(data.view(n_d,-1),norm.view(n_d,1).expand(n_d,p_dim**2))"
   ]
  },
  {
   "cell_type": "code",
   "execution_count": 9,
   "metadata": {
    "collapsed": false
   },
   "outputs": [],
   "source": [
    "data=data.view(n_d,p_dim,p_dim)"
   ]
  },
  {
   "cell_type": "code",
   "execution_count": 10,
   "metadata": {
    "collapsed": false,
    "scrolled": true
   },
   "outputs": [
    {
     "name": "stdout",
     "output_type": "stream",
     "text": [
      "torch.Size([300, 28, 28])\n",
      "patches extracted with size  torch.Size([784, 300, 25])\n",
      "patches normalized extracted with size  torch.Size([784, 300, 25])\n",
      "Training patches have been standardized and have size torch.Size([784, 300, 25])\n",
      "[[0, 12, 454], [0, 339, 255], [0, 448, 220], [0, 686, 170], [0, 593, 29], [0, 594, 159], [0, 319, 693], [0, 610, 430], [0, 746, 324], [0, 771, 405]]\n",
      "('sel', torch.Size([9000, 2, 25]))\n",
      "('The data has size', torch.Size([784, 300, 25]))\n",
      "('all okay', True)\n",
      "('The variance is: ', 5.5311776161193853)\n",
      "('size input: ', torch.Size([9000, 2, 25]))\n",
      "Epoch: 0  Mean loss: \n",
      "1.00000e-02 *\n",
      "  7.5249\n",
      "[torch.FloatTensor of size 1]\n",
      "  time per epoch:  3.80837702751\n",
      "Epoch: 1  Mean loss: \n",
      "1.00000e-02 *\n",
      "  1.2582\n",
      "[torch.FloatTensor of size 1]\n",
      "  time per epoch:  3.97360110283\n",
      "Epoch: 2  Mean loss: \n",
      "1.00000e-03 *\n",
      "  8.7197\n",
      "[torch.FloatTensor of size 1]\n",
      "  time per epoch:  2.40090608597\n",
      "Epoch: 3  Mean loss: \n",
      "1.00000e-03 *\n",
      "  7.6154\n",
      "[torch.FloatTensor of size 1]\n",
      "  time per epoch:  2.54876899719\n",
      "Epoch: 4  Mean loss: \n",
      "1.00000e-03 *\n",
      "  7.0092\n",
      "[torch.FloatTensor of size 1]\n",
      "  time per epoch:  2.35700011253\n",
      "Epoch: 5  Mean loss: \n",
      "1.00000e-03 *\n",
      "  6.6024\n",
      "[torch.FloatTensor of size 1]\n",
      "  time per epoch:  2.33479595184\n",
      "Epoch: 6  Mean loss: \n",
      "1.00000e-03 *\n",
      "  6.2794\n",
      "[torch.FloatTensor of size 1]\n",
      "  time per epoch:  2.67035079002\n",
      "Epoch: 7  Mean loss: \n",
      "1.00000e-03 *\n",
      "  5.9989\n",
      "[torch.FloatTensor of size 1]\n",
      "  time per epoch:  2.99363803864\n",
      "Epoch: 8  Mean loss: \n",
      "1.00000e-03 *\n",
      "  5.7451\n",
      "[torch.FloatTensor of size 1]\n",
      "  time per epoch:  3.69421505928\n",
      "Epoch: 9  Mean loss: \n",
      "1.00000e-03 *\n",
      "  5.5107\n",
      "[torch.FloatTensor of size 1]\n",
      "  time per epoch:  3.76590394974\n",
      "Epoch: 10  Mean loss: \n",
      "1.00000e-03 *\n",
      "  5.2913\n",
      "[torch.FloatTensor of size 1]\n",
      "  time per epoch:  2.94939112663\n",
      "Epoch: 11  Mean loss: \n",
      "1.00000e-03 *\n",
      "  5.0837\n",
      "[torch.FloatTensor of size 1]\n",
      "  time per epoch:  2.81663703918\n",
      "Epoch: 12  Mean loss: \n",
      "1.00000e-03 *\n",
      "  4.8863\n",
      "[torch.FloatTensor of size 1]\n",
      "  time per epoch:  3.10541009903\n",
      "Epoch: 13  Mean loss: \n",
      "1.00000e-03 *\n",
      "  4.6977\n",
      "[torch.FloatTensor of size 1]\n",
      "  time per epoch:  2.65881204605\n",
      "Epoch: 14  Mean loss: \n",
      "1.00000e-03 *\n",
      "  4.5173\n",
      "[torch.FloatTensor of size 1]\n",
      "  time per epoch:  2.43990516663\n",
      "Epoch: 15  Mean loss: \n",
      "1.00000e-03 *\n",
      "  4.3451\n",
      "[torch.FloatTensor of size 1]\n",
      "  time per epoch:  2.33247089386\n",
      "Epoch: 16  Mean loss: \n",
      "1.00000e-03 *\n",
      "  4.1813\n",
      "[torch.FloatTensor of size 1]\n",
      "  time per epoch:  2.42033195496\n",
      "Epoch: 17  Mean loss: \n",
      "1.00000e-03 *\n",
      "  4.0262\n",
      "[torch.FloatTensor of size 1]\n",
      "  time per epoch:  2.41073083878\n",
      "Epoch: 18  Mean loss: \n",
      "1.00000e-03 *\n",
      "  3.8801\n",
      "[torch.FloatTensor of size 1]\n",
      "  time per epoch:  2.58548808098\n",
      "Epoch: 19  Mean loss: \n",
      "1.00000e-03 *\n",
      "  3.7428\n",
      "[torch.FloatTensor of size 1]\n",
      "  time per epoch:  2.61651992798\n",
      "Epoch: 20  Mean loss: \n",
      "1.00000e-03 *\n",
      "  3.6142\n",
      "[torch.FloatTensor of size 1]\n",
      "  time per epoch:  2.61646914482\n",
      "Epoch: 21  Mean loss: \n",
      "1.00000e-03 *\n",
      "  3.4939\n",
      "[torch.FloatTensor of size 1]\n",
      "  time per epoch:  2.65899801254\n",
      "Epoch: 22  Mean loss: \n",
      "1.00000e-03 *\n",
      "  3.3813\n",
      "[torch.FloatTensor of size 1]\n",
      "  time per epoch:  2.3940179348\n",
      "Epoch: 23  Mean loss: \n",
      "1.00000e-03 *\n",
      "  3.2760\n",
      "[torch.FloatTensor of size 1]\n",
      "  time per epoch:  2.43960905075\n",
      "Epoch: 24  Mean loss: \n",
      "1.00000e-03 *\n",
      "  3.1774\n",
      "[torch.FloatTensor of size 1]\n",
      "  time per epoch:  3.11501097679\n",
      "Epoch: 25  Mean loss: \n",
      "1.00000e-03 *\n",
      "  3.0851\n",
      "[torch.FloatTensor of size 1]\n",
      "  time per epoch:  2.27070903778\n",
      "Epoch: 26  Mean loss: \n",
      "1.00000e-03 *\n",
      "  2.9985\n",
      "[torch.FloatTensor of size 1]\n",
      "  time per epoch:  2.22374296188\n",
      "Epoch: 27  Mean loss: \n",
      "1.00000e-03 *\n",
      "  2.9171\n",
      "[torch.FloatTensor of size 1]\n",
      "  time per epoch:  2.27781796455\n",
      "Epoch: 28  Mean loss: \n",
      "1.00000e-03 *\n",
      "  2.8405\n",
      "[torch.FloatTensor of size 1]\n",
      "  time per epoch:  2.25936698914\n",
      "Epoch: 29  Mean loss: \n",
      "1.00000e-03 *\n",
      "  2.7684\n",
      "[torch.FloatTensor of size 1]\n",
      "  time per epoch:  2.35297012329\n",
      "Epoch: 30  Mean loss: \n",
      "1.00000e-03 *\n",
      "  2.7004\n",
      "[torch.FloatTensor of size 1]\n",
      "  time per epoch:  2.21782708168\n",
      "Epoch: 31  Mean loss: \n",
      "1.00000e-03 *\n",
      "  2.6362\n",
      "[torch.FloatTensor of size 1]\n",
      "  time per epoch:  2.27807593346\n",
      "Epoch: 32  Mean loss: \n",
      "1.00000e-03 *\n",
      "  2.5756\n",
      "[torch.FloatTensor of size 1]\n",
      "  time per epoch:  2.27785992622\n",
      "Epoch: 33  Mean loss: \n",
      "1.00000e-03 *\n",
      "  2.5183\n",
      "[torch.FloatTensor of size 1]\n",
      "  time per epoch:  2.26493906975\n",
      "Epoch: 34  Mean loss: \n",
      "1.00000e-03 *\n",
      "  2.4642\n",
      "[torch.FloatTensor of size 1]\n",
      "  time per epoch:  2.28622102737\n",
      "Epoch: 35  Mean loss: \n",
      "1.00000e-03 *\n",
      "  2.4129\n",
      "[torch.FloatTensor of size 1]\n",
      "  time per epoch:  2.25393986702\n",
      "Epoch: 36  Mean loss: \n",
      "1.00000e-03 *\n",
      "  2.3642\n",
      "[torch.FloatTensor of size 1]\n",
      "  time per epoch:  2.58785796165\n",
      "Epoch: 37  Mean loss: \n",
      "1.00000e-03 *\n",
      "  2.3180\n",
      "[torch.FloatTensor of size 1]\n",
      "  time per epoch:  2.45996594429\n",
      "Epoch: 38  Mean loss: \n",
      "1.00000e-03 *\n",
      "  2.2741\n",
      "[torch.FloatTensor of size 1]\n",
      "  time per epoch:  2.24821400642\n",
      "Epoch: 39  Mean loss: \n",
      "1.00000e-03 *\n",
      "  2.2323\n",
      "[torch.FloatTensor of size 1]\n",
      "  time per epoch:  2.29548811913\n",
      "Epoch: 40  Mean loss: \n",
      "1.00000e-03 *\n",
      "  2.1924\n",
      "[torch.FloatTensor of size 1]\n",
      "  time per epoch:  2.27251982689\n",
      "Epoch: 41  Mean loss: \n",
      "1.00000e-03 *\n",
      "  2.1544\n",
      "[torch.FloatTensor of size 1]\n",
      "  time per epoch:  2.31920480728\n",
      "Epoch: 42  Mean loss: \n",
      "1.00000e-03 *\n",
      "  2.1180\n",
      "[torch.FloatTensor of size 1]\n",
      "  time per epoch:  2.3155040741\n",
      "Epoch: 43  Mean loss: \n",
      "1.00000e-03 *\n",
      "  2.0834\n",
      "[torch.FloatTensor of size 1]\n",
      "  time per epoch:  2.29647684097\n",
      "Epoch: 44  Mean loss: \n",
      "1.00000e-03 *\n",
      "  2.0505\n",
      "[torch.FloatTensor of size 1]\n",
      "  time per epoch:  2.27686882019\n",
      "Epoch: 45  Mean loss: \n",
      "1.00000e-03 *\n",
      "  2.0188\n",
      "[torch.FloatTensor of size 1]\n",
      "  time per epoch:  2.36435198784\n",
      "Epoch: 46  Mean loss: \n",
      "1.00000e-03 *\n",
      "  1.9884\n",
      "[torch.FloatTensor of size 1]\n",
      "  time per epoch:  2.68813514709\n",
      "Epoch: 47  Mean loss: \n",
      "1.00000e-03 *\n",
      "  1.9591\n",
      "[torch.FloatTensor of size 1]\n",
      "  time per epoch:  2.45027184486\n",
      "Epoch: 48  Mean loss: \n",
      "1.00000e-03 *\n",
      "  1.9310\n",
      "[torch.FloatTensor of size 1]\n",
      "  time per epoch:  2.27292013168\n",
      "Epoch: 49  Mean loss: \n",
      "1.00000e-03 *\n",
      "  1.9038\n",
      "[torch.FloatTensor of size 1]\n",
      "  time per epoch:  2.25899910927\n",
      "(32, 32)\n",
      "0\n",
      "('tot', 0.9711130857467651)\n",
      "1\n",
      "('tot', 0.9675986170768738)\n",
      "2\n",
      "('tot', 0.9664121866226196)\n",
      "('size output', torch.Size([196, 300, 100]))\n",
      "torch.Size([196, 300, 100])\n",
      "size input at layer  1  :  torch.Size([196, 300, 100])\n",
      "patches extracted with size  torch.Size([196, 300, 400])\n",
      "patches normalized extracted with size  torch.Size([196, 300, 400])\n",
      "Training patches have been standardized and have size torch.Size([196, 300, 30])\n",
      "[[0, 149, 112], [0, 73, 159], [0, 52, 89], [0, 187, 16], [0, 136, 97], [0, 73, 82], [0, 19, 193], [0, 72, 93], [0, 138, 27], [0, 192, 172]]\n",
      "('sel', torch.Size([6000, 2, 30]))\n",
      "('The data has size', torch.Size([196, 300, 30]))\n",
      "('all okay', True)\n",
      "('The variance is: ', 38.795509338378906)\n",
      "('size input: ', torch.Size([6000, 2, 30]))\n",
      "Epoch: 0  Mean loss: \n",
      "1.00000e-02 *\n",
      "  8.7688\n",
      "[torch.FloatTensor of size 1]\n",
      "  time per epoch:  5.93666100502\n",
      "Epoch: 1  Mean loss: \n",
      "1.00000e-02 *\n",
      "  4.4828\n",
      "[torch.FloatTensor of size 1]\n",
      "  time per epoch:  6.6072947979\n",
      "Epoch: 2  Mean loss: \n",
      "1.00000e-02 *\n",
      "  2.5134\n",
      "[torch.FloatTensor of size 1]\n",
      "  time per epoch:  5.14921402931\n",
      "Epoch: 3  Mean loss: \n",
      "1.00000e-02 *\n",
      "  1.5842\n",
      "[torch.FloatTensor of size 1]\n",
      "  time per epoch:  5.34406399727\n",
      "Epoch: 4  Mean loss: \n",
      "1.00000e-02 *\n",
      "  1.1327\n",
      "[torch.FloatTensor of size 1]\n",
      "  time per epoch:  5.33089590073\n",
      "Epoch: 5  Mean loss: \n",
      "1.00000e-03 *\n",
      "  9.0744\n",
      "[torch.FloatTensor of size 1]\n",
      "  time per epoch:  4.98597311974\n",
      "Epoch: 6  Mean loss: \n",
      "1.00000e-03 *\n",
      "  7.8877\n",
      "[torch.FloatTensor of size 1]\n",
      "  time per epoch:  5.03960895538\n",
      "Epoch: 7  Mean loss: \n",
      "1.00000e-03 *\n",
      "  7.1935\n",
      "[torch.FloatTensor of size 1]\n",
      "  time per epoch:  5.47191905975\n",
      "Epoch: 8  Mean loss: \n",
      "1.00000e-03 *\n",
      "  6.7300\n",
      "[torch.FloatTensor of size 1]\n",
      "  time per epoch:  4.7763440609\n",
      "Epoch: 9  Mean loss: \n",
      "1.00000e-03 *\n",
      "  6.3837\n",
      "[torch.FloatTensor of size 1]\n",
      "  time per epoch:  4.72555685043\n",
      "Epoch: 10  Mean loss: \n",
      "1.00000e-03 *\n",
      "  6.1047\n",
      "[torch.FloatTensor of size 1]\n",
      "  time per epoch:  4.71354603767\n",
      "Epoch: 11  Mean loss: \n",
      "1.00000e-03 *\n",
      "  5.8695\n",
      "[torch.FloatTensor of size 1]\n",
      "  time per epoch:  4.74616312981\n",
      "Epoch: 12  Mean loss: \n",
      "1.00000e-03 *\n",
      "  5.6654\n",
      "[torch.FloatTensor of size 1]\n",
      "  time per epoch:  4.83923196793\n",
      "Epoch: 13  Mean loss: \n",
      "1.00000e-03 *\n",
      "  5.4845\n",
      "[torch.FloatTensor of size 1]\n",
      "  time per epoch:  4.74832701683\n",
      "Epoch: 14  Mean loss: \n",
      "1.00000e-03 *\n",
      "  5.3216\n",
      "[torch.FloatTensor of size 1]\n",
      "  time per epoch:  4.68828320503\n",
      "Epoch: 15  Mean loss: \n",
      "1.00000e-03 *\n",
      "  5.1729\n",
      "[torch.FloatTensor of size 1]\n",
      "  time per epoch:  4.70035505295\n",
      "Epoch: 16  Mean loss: \n",
      "1.00000e-03 *\n",
      "  5.0359\n",
      "[torch.FloatTensor of size 1]\n",
      "  time per epoch:  5.35207104683\n",
      "Epoch: 17  Mean loss: \n",
      "1.00000e-03 *\n",
      "  4.9086\n",
      "[torch.FloatTensor of size 1]\n",
      "  time per epoch:  4.79805111885\n",
      "Epoch: 18  Mean loss: \n",
      "1.00000e-03 *\n",
      "  4.7898\n",
      "[torch.FloatTensor of size 1]\n",
      "  time per epoch:  4.66447091103\n",
      "Epoch: 19  Mean loss: \n",
      "1.00000e-03 *\n",
      "  4.6785\n",
      "[torch.FloatTensor of size 1]\n",
      "  time per epoch:  4.7980158329\n",
      "Epoch: 20  Mean loss: \n",
      "1.00000e-03 *\n",
      "  4.5739\n",
      "[torch.FloatTensor of size 1]\n",
      "  time per epoch:  4.9282348156\n",
      "Epoch: 21  Mean loss: \n",
      "1.00000e-03 *\n",
      "  4.4755\n",
      "[torch.FloatTensor of size 1]\n",
      "  time per epoch:  4.70862412453\n",
      "Epoch: 22  Mean loss: \n",
      "1.00000e-03 *\n",
      "  4.3830\n",
      "[torch.FloatTensor of size 1]\n",
      "  time per epoch:  4.79708099365\n",
      "Epoch: 23  Mean loss: \n",
      "1.00000e-03 *\n",
      "  4.2960\n",
      "[torch.FloatTensor of size 1]\n",
      "  time per epoch:  4.63532185555\n",
      "Epoch: 24  Mean loss: \n",
      "1.00000e-03 *\n",
      "  4.2144\n",
      "[torch.FloatTensor of size 1]\n",
      "  time per epoch:  4.72800517082\n",
      "Epoch: 25  Mean loss: \n",
      "1.00000e-03 *\n",
      "  4.1377\n",
      "[torch.FloatTensor of size 1]\n",
      "  time per epoch:  4.68237805367\n",
      "Epoch: 26  Mean loss: \n",
      "1.00000e-03 *\n",
      "  4.0657\n",
      "[torch.FloatTensor of size 1]\n",
      "  time per epoch:  4.70129990578\n",
      "Epoch: 27  Mean loss: \n",
      "1.00000e-03 *\n",
      "  3.9983\n",
      "[torch.FloatTensor of size 1]\n",
      "  time per epoch:  5.07703709602\n",
      "Epoch: 28  Mean loss: \n",
      "1.00000e-03 *\n",
      "  3.9350\n",
      "[torch.FloatTensor of size 1]\n",
      "  time per epoch:  4.6589820385\n",
      "Epoch: 29  Mean loss: \n",
      "1.00000e-03 *\n",
      "  3.8757\n",
      "[torch.FloatTensor of size 1]\n",
      "  time per epoch:  4.74088907242\n",
      "Epoch: 30  Mean loss: \n",
      "1.00000e-03 *\n",
      "  3.8200\n",
      "[torch.FloatTensor of size 1]\n",
      "  time per epoch:  4.66809296608\n",
      "Epoch: 31  Mean loss: \n",
      "1.00000e-03 *\n",
      "  3.7676\n",
      "[torch.FloatTensor of size 1]\n",
      "  time per epoch:  4.79689097404\n",
      "Epoch: 32  Mean loss: \n",
      "1.00000e-03 *\n",
      "  3.7183\n",
      "[torch.FloatTensor of size 1]\n",
      "  time per epoch:  4.66214203835\n",
      "Epoch: 33  Mean loss: \n",
      "1.00000e-03 *\n",
      "  3.6717\n",
      "[torch.FloatTensor of size 1]\n",
      "  time per epoch:  4.64711403847\n",
      "Epoch: 34  Mean loss: \n",
      "1.00000e-03 *\n",
      "  3.6278\n",
      "[torch.FloatTensor of size 1]\n",
      "  time per epoch:  4.71053195\n",
      "Epoch: 35  Mean loss: \n",
      "1.00000e-03 *\n",
      "  3.5861\n",
      "[torch.FloatTensor of size 1]\n",
      "  time per epoch:  4.62178993225\n",
      "Epoch: 36  Mean loss: \n",
      "1.00000e-03 *\n",
      "  3.5466\n",
      "[torch.FloatTensor of size 1]\n",
      "  time per epoch:  4.63241100311\n",
      "Epoch: 37  Mean loss: \n",
      "1.00000e-03 *\n",
      "  3.5089\n",
      "[torch.FloatTensor of size 1]\n",
      "  time per epoch:  4.80376076698\n",
      "Epoch: 38  Mean loss: \n",
      "1.00000e-03 *\n",
      "  3.4730\n",
      "[torch.FloatTensor of size 1]\n",
      "  time per epoch:  4.67977380753\n",
      "Epoch: 39  Mean loss: \n",
      "1.00000e-03 *\n",
      "  3.4385\n",
      "[torch.FloatTensor of size 1]\n",
      "  time per epoch:  4.75201892853\n",
      "Epoch: 40  Mean loss: \n",
      "1.00000e-03 *\n",
      "  3.4052\n",
      "[torch.FloatTensor of size 1]\n",
      "  time per epoch:  4.79126119614\n",
      "Epoch: 41  Mean loss: \n",
      "1.00000e-03 *\n",
      "  3.3734\n",
      "[torch.FloatTensor of size 1]\n",
      "  time per epoch:  4.97501802444\n",
      "Epoch: 42  Mean loss: \n",
      "1.00000e-03 *\n",
      "  3.3431\n",
      "[torch.FloatTensor of size 1]\n",
      "  time per epoch:  4.90082812309\n",
      "Epoch: 43  Mean loss: \n",
      "1.00000e-03 *\n",
      "  3.3137\n",
      "[torch.FloatTensor of size 1]\n",
      "  time per epoch:  4.73145079613\n",
      "Epoch: 44  Mean loss: \n",
      "1.00000e-03 *\n",
      "  3.2851\n",
      "[torch.FloatTensor of size 1]\n",
      "  time per epoch:  4.72640490532\n",
      "Epoch: 45  Mean loss: \n",
      "1.00000e-03 *\n",
      "  3.2575\n",
      "[torch.FloatTensor of size 1]\n",
      "  time per epoch:  4.76758384705\n",
      "Epoch: 46  Mean loss: \n",
      "1.00000e-03 *\n",
      "  3.2306\n",
      "[torch.FloatTensor of size 1]\n",
      "  time per epoch:  4.769354105\n",
      "Epoch: 47  Mean loss: \n",
      "1.00000e-03 *\n",
      "  3.2042\n",
      "[torch.FloatTensor of size 1]\n",
      "  time per epoch:  4.83857584\n",
      "Epoch: 48  Mean loss: \n",
      "1.00000e-03 *\n",
      "  3.1782\n",
      "[torch.FloatTensor of size 1]\n",
      "  time per epoch:  4.77414703369\n",
      "Epoch: 49  Mean loss: \n",
      "1.00000e-03 *\n",
      "  3.1529\n",
      "[torch.FloatTensor of size 1]\n",
      "  time per epoch:  4.77457308769\n",
      "(16, 16)\n",
      "0\n",
      "('tot', 0.9964497685432434)\n",
      "1\n",
      "('tot', 1.0)\n",
      "2\n",
      "('tot', 1.0)\n",
      "('size output', torch.Size([49, 300, 200]))\n"
     ]
    },
    {
     "data": {
      "text/plain": [
       "\n",
       "( 0 ,.,.) = \n",
       "   0.0132   0.2260   0.0015  ...    0.0143   0.0195   0.0125\n",
       "   0.0301   0.3709   0.0048  ...    0.0383   0.0418   0.0284\n",
       "   0.0175   0.2531   0.0021  ...    0.0169   0.0227   0.0149\n",
       "            ...               ⋱              ...            \n",
       "   0.0348   0.4545   0.0052  ...    0.0621   0.0649   0.0383\n",
       "   0.0119   0.2463   0.0014  ...    0.0171   0.0233   0.0138\n",
       "   0.0268   0.3669   0.0040  ...    0.0441   0.0477   0.0288\n",
       "\n",
       "( 1 ,.,.) = \n",
       "   0.0000   0.0000   0.0000  ...    0.0000   0.0000   0.0000\n",
       "   0.0000   0.0000   0.0000  ...    0.0000   0.0000   0.0000\n",
       "   0.0001   0.0002   0.0000  ...    0.0003   0.0004   0.0002\n",
       "            ...               ⋱              ...            \n",
       "   0.6241   2.3839   0.2448  ...    0.5283   0.5235   0.3665\n",
       "   0.0000   0.0000   0.0000  ...    0.0000   0.0000   0.0000\n",
       "   0.4196   1.6067   0.1805  ...    0.4057   0.3818   0.2771\n",
       "\n",
       "( 2 ,.,.) = \n",
       "   0.3284   1.6553   0.0330  ...    0.2281   0.3257   0.1845\n",
       "   0.4082   1.3657   0.0289  ...    0.2021   0.2801   0.1591\n",
       "   0.3468   1.6338   0.0396  ...    0.2720   0.4037   0.2203\n",
       "            ...               ⋱              ...            \n",
       "   0.0019   0.0083   0.0006  ...    0.0016   0.0019   0.0013\n",
       "   0.0021   0.0093   0.0006  ...    0.0018   0.0021   0.0015\n",
       "   0.0297   0.1107   0.0058  ...    0.0196   0.0248   0.0167\n",
       "... \n",
       "\n",
       "(46 ,.,.) = \n",
       "   1.3953   0.6268   5.5614  ...    0.9268   1.3132   1.4914\n",
       "   1.0052   1.1012  13.0406  ...    1.0387   2.1684   3.0704\n",
       "   1.2436   1.1166   5.2706  ...    0.5038   1.6165   1.2322\n",
       "            ...               ⋱              ...            \n",
       "   0.6392   0.4723   9.0030  ...    0.4488   1.0788   1.3655\n",
       "   4.8164   1.4472   1.5056  ...    0.5819   1.7013   0.9659\n",
       "   1.9208   0.9952  10.3863  ...    1.3775   1.6574   2.0598\n",
       "\n",
       "(47 ,.,.) = \n",
       "   0.5336   0.6021   3.5674  ...    0.3953   1.7571   1.6490\n",
       "   0.4623   1.2213   1.0173  ...    0.5009   4.1785   3.3740\n",
       "   0.6514   1.0255   2.6918  ...    0.3962   2.1673   1.5998\n",
       "            ...               ⋱              ...            \n",
       "   0.1907   0.6626   0.3064  ...    0.3775   2.6668   3.2551\n",
       "   1.1777   0.6698  16.7979  ...    0.8689   1.2887   1.5784\n",
       "   0.7172   0.9573   5.2224  ...    0.5809   2.4375   2.4820\n",
       "\n",
       "(48 ,.,.) = \n",
       "   0.2042   0.6303   0.2399  ...    0.1869   2.1635   1.0793\n",
       "   0.0180   0.1060   0.0095  ...    0.0227   0.3206   0.1061\n",
       "   0.2534   0.7748   0.2940  ...    0.2115   2.3151   1.1168\n",
       "            ...               ⋱              ...            \n",
       "   0.0000   0.0000   0.0000  ...    0.0000   0.0000   0.0000\n",
       "   0.3305   1.0039   1.0279  ...    0.9014   3.4768   6.3342\n",
       "   0.2598   0.7368   0.3239  ...    0.2240   2.4784   1.3019\n",
       "[torch.FloatTensor of size 49x300x200]"
      ]
     },
     "execution_count": 10,
     "metadata": {},
     "output_type": "execute_result"
    }
   ],
   "source": [
    "net=CKN()\n",
    "size_patch=5\n",
    "net=CKN(n_components=[100,200],n_layers=2,iter_max=50,n_patches=[size_patch,2],subsampling_factors=[2,2],spacing=[1,2],batch_size=[60,60])#Cell.fit_LBFGS(X)\n",
    "net.train_network(data)"
   ]
  },
  {
   "cell_type": "code",
   "execution_count": 11,
   "metadata": {
    "collapsed": false
   },
   "outputs": [
    {
     "name": "stdout",
     "output_type": "stream",
     "text": [
      "\n",
      " 0.1311\n",
      " 0.1481\n",
      " 0.1468\n",
      " 0.2030\n",
      " 0.0012\n",
      " 0.1911\n",
      " 0.1908\n",
      " 0.2237\n",
      " 0.2960\n",
      " 0.1843\n",
      " 0.2660\n",
      " 0.2188\n",
      " 0.1731\n",
      " 0.1537\n",
      " 0.2050\n",
      " 0.2334\n",
      " 0.1358\n",
      " 0.2436\n",
      " 0.1443\n",
      " 0.1515\n",
      " 0.1343\n",
      " 0.1782\n",
      " 0.2364\n",
      " 0.1389\n",
      " 0.2044\n",
      " 0.1494\n",
      " 0.0780\n",
      " 0.1269\n",
      " 0.1751\n",
      " 0.1505\n",
      " 0.1370\n",
      " 0.1919\n",
      " 0.2665\n",
      " 0.2940\n",
      " 0.1934\n",
      " 0.0712\n",
      " 0.1611\n",
      " 0.2639\n",
      " 0.1564\n",
      " 0.2753\n",
      " 0.1458\n",
      " 0.1769\n",
      " 0.2822\n",
      " 0.2649\n",
      " 0.0356\n",
      " 0.2307\n",
      " 0.1413\n",
      " 0.1320\n",
      " 0.2091\n",
      " 0.1360\n",
      " 0.2081\n",
      " 0.2500\n",
      " 0.1583\n",
      " 0.1483\n",
      " 0.1592\n",
      " 0.0754\n",
      " 0.1505\n",
      " 0.1446\n",
      " 0.1639\n",
      " 0.0931\n",
      " 0.1558\n",
      " 0.2030\n",
      " 0.0834\n",
      " 0.1479\n",
      " 0.1608\n",
      " 0.3117\n",
      " 0.2108\n",
      " 0.3068\n",
      " 0.2462\n",
      " 0.0685\n",
      " 0.2157\n",
      " 0.1712\n",
      " 0.2808\n",
      " 0.2104\n",
      " 0.1425\n",
      " 0.2135\n",
      " 0.1944\n",
      " 0.1664\n",
      " 0.1452\n",
      " 0.3232\n",
      " 0.1641\n",
      " 0.2920\n",
      " 0.0573\n",
      " 0.1668\n",
      " 0.1640\n",
      " 0.1869\n",
      " 0.1577\n",
      " 0.2029\n",
      " 0.1889\n",
      " 0.1334\n",
      " 0.1807\n",
      " 0.1425\n",
      " 0.2461\n",
      " 0.2161\n",
      " 0.0899\n",
      " 0.2083\n",
      " 0.0634\n",
      " 0.1680\n",
      " 0.2697\n",
      " 0.2428\n",
      "[torch.FloatTensor of size 100]\n",
      "\n"
     ]
    },
    {
     "data": {
      "text/plain": [
       "<matplotlib.figure.Figure at 0x103e30610>"
      ]
     },
     "execution_count": 11,
     "metadata": {},
     "output_type": "execute_result"
    },
    {
     "data": {
      "image/png": "[encoded data removed]",
      "text/plain": [
       "<matplotlib.figure.Figure at 0x117ec2850>"
      ]
     },
     "metadata": {},
     "output_type": "display_data"
    },
    {
     "data": {
      "text/plain": [
       "<matplotlib.figure.Figure at 0x103e30610>"
      ]
     },
     "metadata": {},
     "output_type": "display_data"
    }
   ],
   "source": [
    "print(net.Kernel[0].eta.data)\n",
    "self=net\n",
    "sb.heatmap(net.Kernel[0].W.data.numpy())\n",
    "plt.figure()"
   ]
  },
  {
   "cell_type": "code",
   "execution_count": 12,
   "metadata": {
    "collapsed": false
   },
   "outputs": [
    {
     "name": "stdout",
     "output_type": "stream",
     "text": [
      "torch.Size([9000, 2, 25])\n"
     ]
    },
    {
     "data": {
      "text/plain": [
       "LinearRegression(copy_X=True, fit_intercept=True, n_jobs=1, normalize=False)"
      ]
     },
     "execution_count": 12,
     "metadata": {},
     "output_type": "execute_result"
    },
    {
     "data": {
      "image/png": "[encoded data removed]",
      "text/plain": [
       "<matplotlib.figure.Figure at 0x105487c10>"
      ]
     },
     "metadata": {},
     "output_type": "display_data"
    }
   ],
   "source": [
    "net.Kernel[0].convergence_check()"
   ]
  },
  {
   "cell_type": "code",
   "execution_count": 13,
   "metadata": {
    "collapsed": false
   },
   "outputs": [
    {
     "name": "stdout",
     "output_type": "stream",
     "text": [
      "torch.Size([6000, 2, 30])\n"
     ]
    },
    {
     "data": {
      "text/plain": [
       "LinearRegression(copy_X=True, fit_intercept=True, n_jobs=1, normalize=False)"
      ]
     },
     "execution_count": 13,
     "metadata": {},
     "output_type": "execute_result"
    },
    {
     "data": {
      "image/png": "[encoded data removed]",
      "text/plain": [
       "<matplotlib.figure.Figure at 0x11e75d3d0>"
      ]
     },
     "metadata": {},
     "output_type": "display_data"
    }
   ],
   "source": [
    "net.Kernel[1].convergence_check()"
   ]
  },
  {
   "cell_type": "code",
   "execution_count": 14,
   "metadata": {
    "collapsed": false
   },
   "outputs": [
    {
     "data": {
      "text/plain": [
       "[<matplotlib.lines.Line2D at 0x11fb15210>]"
      ]
     },
     "execution_count": 14,
     "metadata": {},
     "output_type": "execute_result"
    },
    {
     "data": {
      "image/png": "[encoded data removed]",
      "text/plain": [
       "<matplotlib.figure.Figure at 0x11e75d550>"
      ]
     },
     "metadata": {},
     "output_type": "display_data"
    }
   ],
   "source": [
    "plt.plot([ u.numpy() for u in net.Kernel[0].training_loss])\n",
    "#plt.plot([ u.numpy() for u in net.Kernel[1].training_loss],c='yellow')"
   ]
  },
  {
   "cell_type": "code",
   "execution_count": 15,
   "metadata": {
    "collapsed": false
   },
   "outputs": [
    {
     "name": "stdout",
     "output_type": "stream",
     "text": [
      "Explained variance for Kernel 0 100.0\n",
      "Explained variance for Kernel 1 93.6592817307\n"
     ]
    },
    {
     "data": {
      "image/png": "[encoded data removed]",
      "text/plain": [
       "<matplotlib.figure.Figure at 0x11f74fd50>"
      ]
     },
     "metadata": {},
     "output_type": "display_data"
    }
   ],
   "source": [
    "plt.plot(net.Kernel[0].pca.explained_variance_ratio_)\n",
    "plt.plot(net.Kernel[1].pca.explained_variance_ratio_,c='red')\n",
    "print('Explained variance for Kernel 0', 100*np.sum(net.Kernel[0].pca.explained_variance_ratio_))\n",
    "print('Explained variance for Kernel 1', 100*np.sum(net.Kernel[1].pca.explained_variance_ratio_))"
   ]
  },
  {
   "cell_type": "code",
   "execution_count": 16,
   "metadata": {
    "collapsed": false
   },
   "outputs": [
    {
     "name": "stdout",
     "output_type": "stream",
     "text": [
      "torch.Size([196, 300, 100])\n",
      "\n",
      " 0\n",
      " 9\n",
      " 6\n",
      " 1\n",
      " 2\n",
      " 3\n",
      " 9\n",
      " 2\n",
      " 4\n",
      " 3\n",
      "[torch.LongTensor of size 10]\n",
      "\n"
     ]
    },
    {
     "data": {
      "image/png": "[encoded data removed]",
      "text/plain": [
       "<matplotlib.figure.Figure at 0x11ce80f10>"
      ]
     },
     "metadata": {},
     "output_type": "display_data"
    }
   ],
   "source": [
    "print(net.Kernel[0].output.size())\n",
    "sb.heatmap(net.Kernel[0].output[100,:100,:].numpy())\n",
    "print(X_labels[:10])"
   ]
  },
  {
   "cell_type": "code",
   "execution_count": 17,
   "metadata": {
    "collapsed": false
   },
   "outputs": [
    {
     "name": "stdout",
     "output_type": "stream",
     "text": [
      "0 torch.Size([784, 300, 25])\n",
      "input map in layer  0  has size  torch.Size([784, 300, 25])\n",
      "X is given\n",
      "Activation map init. Not scaled yet. Input map has size torch.Size([784, 300, 25])\n",
      "torch.Size([784, 300, 25])\n",
      "Activation map :Given data was scaled and has size torch.Size([784, 300, 25])\n",
      "(32, 32)\n",
      "0\n",
      "('tot', 0.9711131453514099)\n",
      "1\n",
      "('tot', 0.9675984978675842)\n",
      "2\n",
      "('tot', 0.9664122462272644)\n",
      "('size output', torch.Size([196, 300, 100]))\n",
      "1 torch.Size([196, 300, 400])\n",
      "input map in layer  1  has size  torch.Size([196, 300, 400])\n",
      "X is given\n",
      "Activation map init. Not scaled yet. Input map has size torch.Size([196, 300, 400])\n",
      "torch.Size([196, 300, 400])\n",
      "Activation map :Given data was scaled and has size torch.Size([196, 300, 30])\n",
      "(16, 16)\n",
      "0\n",
      "('tot', 0.9999999403953552)\n",
      "1\n",
      "('tot', 0.9999999403953552)\n",
      "2\n",
      "('tot', 0.9999999403953552)\n",
      "('size output', torch.Size([49, 300, 200]))\n",
      "torch.Size([49, 300, 200])\n",
      "torch.Size([300, 49, 200])\n",
      "torch.Size([300, 9800])\n",
      "torch.Size([300, 49, 200])\n"
     ]
    }
   ],
   "source": [
    "# Import datasets, classifiers and performance metrics\n",
    "from sklearn import datasets, svm, pipeline\n",
    "from sklearn.kernel_approximation import (RBFSampler,\n",
    "                                          Nystroem)\n",
    "from sklearn.decomposition import PCA\n",
    "\n",
    "\n",
    "\n",
    "#X=net.Kernel[0].output\n",
    "X=net.propagate_through_network(data,patches_given=False)\n",
    "n_p,n_d,p_dim=X.size()\n",
    "print(X.size())\n",
    "X=X.permute(1,0,2)\n",
    "print(X.size())\n",
    "\n",
    "pca_mnis=PCA(n_components=50,whiten=True)\n",
    "pca_mnis.fit(X.contiguous().view(n_d, n_p*p_dim).numpy())\n",
    "print(X.contiguous().view(n_d, n_p*p_dim).size())\n",
    "\n",
    "print(X.contiguous().size())\n",
    "X2=pca_mnis.transform(X.contiguous().view(n_d, n_p*p_dim).numpy())\n",
    "\n",
    "\n",
    "\n"
   ]
  },
  {
   "cell_type": "code",
   "execution_count": 18,
   "metadata": {
    "collapsed": false
   },
   "outputs": [
    {
     "data": {
      "text/plain": [
       "0"
      ]
     },
     "execution_count": 18,
     "metadata": {},
     "output_type": "execute_result"
    }
   ],
   "source": [
    "np.sum(np.isnan(X.contiguous().view(n_d, n_p*p_dim).numpy()))"
   ]
  },
  {
   "cell_type": "code",
   "execution_count": 19,
   "metadata": {
    "collapsed": false
   },
   "outputs": [
    {
     "data": {
      "text/plain": [
       "(array([], dtype=int64), array([], dtype=int64))"
      ]
     },
     "execution_count": 19,
     "metadata": {},
     "output_type": "execute_result"
    }
   ],
   "source": [
    "np.where(np.isnan(X.contiguous().view(n_d, n_p*p_dim).numpy()))"
   ]
  },
  {
   "cell_type": "code",
   "execution_count": 20,
   "metadata": {
    "collapsed": false
   },
   "outputs": [
    {
     "data": {
      "text/plain": [
       "\n",
       "1.00000e-20 *\n",
       "  0.0000\n",
       "  0.0000\n",
       "  0.0000\n",
       "  0.0000\n",
       "  0.0000\n",
       "  0.0000\n",
       "  0.0000\n",
       "  0.0000\n",
       "  0.0000\n",
       "  0.0000\n",
       "  0.0000\n",
       "  0.0000\n",
       "  0.0000\n",
       "  0.0000\n",
       "  0.0000\n",
       "  0.0000\n",
       "  0.0000\n",
       "  0.0000\n",
       "  0.0000\n",
       "  0.0000\n",
       "  0.0000\n",
       "  0.0000\n",
       "  0.0000\n",
       "  0.0000\n",
       "  0.0000\n",
       "  0.0000\n",
       "  0.0000\n",
       "  0.0000\n",
       "  0.0000\n",
       "  0.0000\n",
       "  0.0000\n",
       "  0.0000\n",
       "  0.0000\n",
       "  0.0000\n",
       "  0.0000\n",
       "  0.0000\n",
       "  0.0000\n",
       "  0.0000\n",
       "  0.0000\n",
       "  0.0000\n",
       "  0.0000\n",
       "  0.0000\n",
       "  0.0000\n",
       "  0.0000\n",
       "  0.0000\n",
       "  0.0000\n",
       "  0.0000\n",
       "  0.0000\n",
       "  0.0000\n",
       "  0.0000\n",
       "  0.0000\n",
       "  0.0000\n",
       "  0.0000\n",
       "  0.0000\n",
       "  0.0000\n",
       "  0.0000\n",
       "  0.0000\n",
       "  0.0000\n",
       "  0.0000\n",
       "  0.0000\n",
       "  0.0000\n",
       "  0.0000\n",
       "  0.0000\n",
       "  0.0000\n",
       "  0.0000\n",
       "  0.0000\n",
       "  0.0000\n",
       "  0.0000\n",
       "  0.0000\n",
       "  0.0000\n",
       "  0.0000\n",
       "  0.0000\n",
       "  0.0000\n",
       "  0.0000\n",
       "  0.0000\n",
       "  0.0000\n",
       "  0.0000\n",
       "  0.0000\n",
       "  0.0000\n",
       "  0.0000\n",
       "  0.0000\n",
       "  0.0000\n",
       "  0.0000\n",
       "  0.0000\n",
       "  0.0000\n",
       "  0.0000\n",
       "  0.0000\n",
       "  0.0000\n",
       "  0.0000\n",
       "  0.0000\n",
       "  0.0000\n",
       "  0.0000\n",
       "  0.0000\n",
       "  0.0000\n",
       "  0.0000\n",
       "  0.0000\n",
       "  0.0000\n",
       "  0.0000\n",
       "  0.0000\n",
       "  0.0000\n",
       "  0.0000\n",
       "  0.0000\n",
       "  0.0000\n",
       "  0.0000\n",
       "  0.0000\n",
       "  0.0000\n",
       "  0.0000\n",
       "  0.0000\n",
       "  0.0000\n",
       "  0.0000\n",
       "  0.0000\n",
       "  0.0000\n",
       "  0.0000\n",
       "  0.0000\n",
       "  0.0000\n",
       "  0.0000\n",
       "  0.0000\n",
       "  0.0000\n",
       "  0.0000\n",
       "  0.0000\n",
       "  0.0000\n",
       "  0.0000\n",
       "  0.0000\n",
       "  0.0000\n",
       "  0.0000\n",
       "  0.0000\n",
       "  0.0000\n",
       "  0.0000\n",
       "  0.0000\n",
       "  0.0000\n",
       "  0.0000\n",
       "  0.0000\n",
       "  0.0000\n",
       "  0.0000\n",
       "  0.0000\n",
       "  0.0000\n",
       "  0.0000\n",
       "  0.0000\n",
       "  0.0000\n",
       "  0.0000\n",
       "  0.0000\n",
       "  0.0000\n",
       "  0.0000\n",
       "  0.0000\n",
       "  0.0000\n",
       "  0.0000\n",
       "  0.0000\n",
       "  0.0000\n",
       "  0.0000\n",
       "  0.0000\n",
       "  0.4656\n",
       "  3.7490\n",
       "  0.0677\n",
       "  0.3164\n",
       "  0.3585\n",
       "  0.5033\n",
       "  0.0372\n",
       "  0.2613\n",
       "  0.5782\n",
       "  1.4423\n",
       "  0.3733\n",
       "  1.2891\n",
       "  0.0626\n",
       "  1.1245\n",
       "  0.0171\n",
       "  0.9121\n",
       "  0.1765\n",
       "  0.1470\n",
       "  1.0748\n",
       "  0.2270\n",
       "  0.0405\n",
       "  0.0224\n",
       "  0.6742\n",
       "  0.7070\n",
       "  0.0232\n",
       "  0.1618\n",
       "  0.0001\n",
       "  0.1604\n",
       "  0.9437\n",
       "  0.1000\n",
       "  0.6252\n",
       "  0.0077\n",
       "  0.3644\n",
       "  0.0044\n",
       "  0.8567\n",
       "  0.3736\n",
       "  0.6584\n",
       "  0.1678\n",
       "  0.2444\n",
       "  0.3676\n",
       "  0.0831\n",
       "  0.3055\n",
       "  0.3885\n",
       "  1.7452\n",
       "  2.4712\n",
       "  0.3820\n",
       "  0.0729\n",
       "  0.1967\n",
       "  0.0661\n",
       "  0.3411\n",
       "  0.1105\n",
       "  0.0249\n",
       "  0.2961\n",
       "  0.1384\n",
       "  0.1148\n",
       "  0.0840\n",
       "  0.2282\n",
       "  0.0827\n",
       "  0.1017\n",
       "  1.0256\n",
       "  0.7392\n",
       "  0.0681\n",
       "  0.2077\n",
       "  0.0599\n",
       "  0.4192\n",
       "  0.4877\n",
       "  1.6183\n",
       "  0.1531\n",
       "  0.0759\n",
       "  0.3397\n",
       "  1.1221\n",
       "  2.8655\n",
       "  0.4757\n",
       "  0.3496\n",
       "  0.2800\n",
       "  0.2439\n",
       "  0.3415\n",
       "  1.2700\n",
       "  0.0032\n",
       "  0.2331\n",
       "  0.1321\n",
       "  0.9049\n",
       "  1.2812\n",
       "  0.0764\n",
       "  0.3555\n",
       "  0.7249\n",
       "  0.9374\n",
       "  0.4746\n",
       "  0.6067\n",
       "  0.7110\n",
       "  0.1513\n",
       "  0.1366\n",
       "  1.3092\n",
       "  0.0034\n",
       "  0.2015\n",
       "  0.0527\n",
       "  0.0884\n",
       "  0.3794\n",
       "  0.5059\n",
       "  0.1276\n",
       "[torch.FloatTensor of size 250]"
      ]
     },
     "execution_count": 20,
     "metadata": {},
     "output_type": "execute_result"
    }
   ],
   "source": [
    "X.contiguous().view(n_d, n_p*p_dim)[0,50:300]"
   ]
  },
  {
   "cell_type": "code",
   "execution_count": 42,
   "metadata": {
    "collapsed": true
   },
   "outputs": [],
   "source": [
    "output_map=net.Kernel[0].output"
   ]
  },
  {
   "cell_type": "code",
   "execution_count": 43,
   "metadata": {
    "collapsed": false
   },
   "outputs": [
    {
     "data": {
      "text/plain": [
       "8.066069602966309"
      ]
     },
     "execution_count": 43,
     "metadata": {},
     "output_type": "execute_result"
    }
   ],
   "source": [
    "torch.max(output_map)\n"
   ]
  },
  {
   "cell_type": "code",
   "execution_count": 44,
   "metadata": {
    "collapsed": false
   },
   "outputs": [
    {
     "data": {
      "text/plain": [
       "torch.Size([196, 300, 100])"
      ]
     },
     "execution_count": 44,
     "metadata": {},
     "output_type": "execute_result"
    }
   ],
   "source": [
    "output_map.size()"
   ]
  },
  {
   "cell_type": "code",
   "execution_count": 45,
   "metadata": {
    "collapsed": false
   },
   "outputs": [],
   "source": [
    "input_map=extract_patches_from_vector(output_map, net.n_patches[1])"
   ]
  },
  {
   "cell_type": "code",
   "execution_count": 48,
   "metadata": {
    "collapsed": false
   },
   "outputs": [
    {
     "data": {
      "text/plain": [
       "torch.Size([196, 300, 400])"
      ]
     },
     "execution_count": 48,
     "metadata": {},
     "output_type": "execute_result"
    }
   ],
   "source": [
    "input_map.size()"
   ]
  },
  {
   "cell_type": "code",
   "execution_count": 49,
   "metadata": {
    "collapsed": true
   },
   "outputs": [],
   "source": [
    "norms=input_map.norm(p=2,dim=2)"
   ]
  },
  {
   "cell_type": "code",
   "execution_count": 50,
   "metadata": {
    "collapsed": false
   },
   "outputs": [
    {
     "data": {
      "text/plain": [
       "3.0231754980072723e+38"
      ]
     },
     "execution_count": 50,
     "metadata": {},
     "output_type": "execute_result"
    }
   ],
   "source": [
    "torch.max(input_map)"
   ]
  },
  {
   "cell_type": "code",
   "execution_count": null,
   "metadata": {
    "collapsed": true
   },
   "outputs": [],
   "source": [
    "input_map=normalize_output(input_map)"
   ]
  },
  {
   "cell_type": "code",
   "execution_count": null,
   "metadata": {
    "collapsed": false
   },
   "outputs": [],
   "source": [
    "output_map2=net.Kernel[k].get_activation_map(X=input_map,norms=norms,verbose=True)"
   ]
  },
  {
   "cell_type": "code",
   "execution_count": 56,
   "metadata": {
    "collapsed": false
   },
   "outputs": [
    {
     "name": "stdout",
     "output_type": "stream",
     "text": [
      "1.0\n",
      "3.64372\n",
      "14.8188\n"
     ]
    }
   ],
   "source": [
    "\n",
    "self=net.Kernel[0]\n",
    "input_map = extract_patches_from_image(X_test2, net.n_patches[0])\n",
    "n_p,n_d,dim,_=input_map.size()\n",
    "input_map=input_map.view(n_p,n_d,dim**2)\n",
    "#print 'X is given'\n",
    "if True:\n",
    "                self.data_has_been_scaled = False\n",
    "                #print 'Activation map init. Not scaled yet. Input map has size', input_map.size()\n",
    "                self.norms=norms\n",
    "                n_p,n_d,p_dim=input_map.size()\n",
    "                if self.data_has_been_scaled==False:\n",
    "                    print(np.max(input_map.numpy()))\n",
    "                    if self.standardize is not None:\n",
    "                            input_map2=self.standardize.transform(input_map.contiguous().view(-1,input_map.size()[2]).numpy())\n",
    "                            input_map2=torch.Tensor(input_map2).view(n_p,n_d,-1)\n",
    "                            n_p,n_d,p_dim=input_map.size()\n",
    "                    print(np.max(input_map2.numpy()))\n",
    "                    if self.pca is not None:\n",
    "                            input_map2=self.pca.transform(input_map2.contiguous().view(-1,input_map2.size()[2]).numpy())\n",
    "                            input_map2=torch.Tensor(input_map2).view(n_p,n_d,-1)\n",
    "                            n_p,n_d,p_dim=input_map.size()\n",
    "                    self.data_has_been_scaled=True\n",
    "                    print(np.max(input_map2.numpy()))\n",
    "                    #print 'Activation map :Given data was scaled and has size', input_map2.size()"
   ]
  },
  {
   "cell_type": "code",
   "execution_count": 57,
   "metadata": {
    "collapsed": false
   },
   "outputs": [
    {
     "name": "stdout",
     "output_type": "stream",
     "text": [
      "5.0\n",
      "input map in layer  0  has size  torch.Size([784, 300, 25])\n",
      "1.0\n"
     ]
    }
   ],
   "source": [
    "norms=input_map.norm(p=2,dim=2)\n",
    "k=0\n",
    "print(np.max(norms.numpy()))\n",
    "input_map=normalize_output(input_map)\n",
    "print('input map in layer ', k, ' has size ',input_map.size())\n",
    "print(np.max(input_map.numpy()))"
   ]
  },
  {
   "cell_type": "code",
   "execution_count": 59,
   "metadata": {
    "collapsed": false
   },
   "outputs": [
    {
     "name": "stdout",
     "output_type": "stream",
     "text": [
      "X is given\n",
      "Activation map init. Not scaled yet. Input map has size torch.Size([784, 300, 25])\n",
      "torch.Size([784, 300, 25])\n",
      "Activation map :Given data was scaled and has size torch.Size([784, 300, 25])\n",
      "(32, 32)\n",
      "0\n",
      "('tot', 0.9702261090278625)\n",
      "max w 0.511087238789\n",
      "nb 1 of null is  0\n",
      "size w: torch.Size([78400, 100])\n",
      "size norm: torch.Size([784, 300])\n",
      "('Reg', 4.949965953826904)\n",
      "('zeta', torch.Size([78400, 100]))\n",
      "('nb 2 of null is ', 0)\n",
      "('test', torch.Size([784, 100, 100]))\n",
      "('nb 3 of null is ', 0)\n",
      "1\n",
      "('tot', 0.9693073034286499)\n",
      "max w 0.519291877747\n",
      "nb 1 of null is  0\n",
      "size w: torch.Size([78400, 100])\n",
      "size norm: torch.Size([784, 300])\n",
      "('Reg', 4.949044704437256)\n",
      "('zeta', torch.Size([78400, 100]))\n",
      "('nb 2 of null is ', 0)\n",
      "('test', torch.Size([784, 100, 100]))\n",
      "('nb 3 of null is ', 0)\n",
      "2\n",
      "('tot', 0.9707880616188049)\n",
      "max w 0.522767484188\n",
      "nb 1 of null is  0\n",
      "size w: torch.Size([78400, 100])\n",
      "size norm: torch.Size([784, 300])\n",
      "('Reg', 5.0)\n",
      "('zeta', torch.Size([78400, 100]))\n",
      "('nb 2 of null is ', 0)\n",
      "('test', torch.Size([784, 100, 100]))\n",
      "('nb 3 of null is ', 0)\n",
      "('nb final of null is ', 0)\n",
      "('size output', torch.Size([196, 300, 100]))\n"
     ]
    }
   ],
   "source": [
    "output_map=self.get_activation_map(X=input_map,norms=norms,verbose=True)"
   ]
  },
  {
   "cell_type": "code",
   "execution_count": null,
   "metadata": {
    "collapsed": false
   },
   "outputs": [],
   "source": [
    "np.max(input_map.view(-1,input_map.size()[2]).numpy()/np.std(input_map.view(-1,input_map.size()[2]).numpy()))"
   ]
  },
  {
   "cell_type": "code",
   "execution_count": null,
   "metadata": {
    "collapsed": false
   },
   "outputs": [],
   "source": [
    "plt.plot(pca_mnis.explained_variance_ratio_)\n",
    "print(np.sum(pca_mnis.explained_variance_ratio_))"
   ]
  },
  {
   "cell_type": "code",
   "execution_count": 30,
   "metadata": {
    "collapsed": false
   },
   "outputs": [
    {
     "name": "stdout",
     "output_type": "stream",
     "text": [
      "0.99\n"
     ]
    }
   ],
   "source": [
    "kernel_svm = svm.SVC(gamma=0.01)\n",
    "\n",
    "kernel_svm.fit(X2, X_labels.numpy())\n",
    "kernel_svm_score = kernel_svm.score(X2, X_labels.numpy())\n",
    "print(kernel_svm_score)"
   ]
  },
  {
   "cell_type": "code",
   "execution_count": 25,
   "metadata": {
    "collapsed": false
   },
   "outputs": [
    {
     "name": "stdout",
     "output_type": "stream",
     "text": [
      "torch.Size([300, 28, 28])\n"
     ]
    }
   ],
   "source": [
    "X_test=train_loader.dataset.train_data[torch.LongTensor(inds[test_batch_size:(2*test_batch_size)])]\n",
    "X_test_labels=train_loader.dataset.train_labels[torch.LongTensor(inds[test_batch_size:(2*test_batch_size)])]\n",
    "\n",
    "X_test=1.0/255*X_test.type(torch.FloatTensor)\n",
    "print(X_test.size())\n",
    "#norm_test=torch.max(torch.sum(X_test.view(n_d,-1)**2,1),torch.Tensor([0.00001]))\n",
    "#print(norm_test.size())\n",
    "n_d,p,_=X_test.size()\n"
   ]
  },
  {
   "cell_type": "code",
   "execution_count": 26,
   "metadata": {
    "collapsed": false
   },
   "outputs": [
    {
     "data": {
      "text/plain": [
       "torch.Size([300, 28, 28])"
      ]
     },
     "execution_count": 26,
     "metadata": {},
     "output_type": "execute_result"
    }
   ],
   "source": [
    "X_test.size()"
   ]
  },
  {
   "cell_type": "code",
   "execution_count": 27,
   "metadata": {
    "collapsed": false
   },
   "outputs": [
    {
     "name": "stdout",
     "output_type": "stream",
     "text": [
      "torch.Size([300, 28, 28])\n",
      "torch.Size([300, 28, 28])\n",
      "0 torch.Size([784, 300, 25])\n",
      "input map in layer  0  has size  torch.Size([784, 300, 25])\n",
      "X is given\n",
      "Activation map init. Not scaled yet. Input map has size torch.Size([784, 300, 25])\n",
      "torch.Size([784, 300, 25])\n",
      "Activation map :Given data was scaled and has size torch.Size([784, 300, 25])\n",
      "(32, 32)\n",
      "0\n",
      "('tot', 0.9694872498512268)\n",
      "1\n",
      "('tot', 0.9696216583251953)\n",
      "2\n",
      "('tot', 0.9661163687705994)\n",
      "('size output', torch.Size([196, 300, 100]))\n",
      "1 torch.Size([196, 300, 400])\n",
      "input map in layer  1  has size  torch.Size([196, 300, 400])\n",
      "X is given\n",
      "Activation map init. Not scaled yet. Input map has size torch.Size([196, 300, 400])\n",
      "torch.Size([196, 300, 400])\n",
      "Activation map :Given data was scaled and has size torch.Size([196, 300, 30])\n",
      "(16, 16)\n",
      "0\n",
      "('tot', 0.995904803276062)\n",
      "1\n",
      "('tot', 0.9959041476249695)\n",
      "2\n",
      "('tot', 0.9959039092063904)\n",
      "('size output', torch.Size([49, 300, 200]))\n"
     ]
    }
   ],
   "source": [
    "#X_test=torch.div(X_test.view(n_d,-1),norm_test.view(n_d,1,1).expand(n_d,X_test.size()[1]*X_test.size()[2]))\n",
    "X_test=X_test.view(n_d,p,p)\n",
    "print(X_test.size())\n",
    "#X_test=extract_patches_from_image(X_test,size_patch)\n",
    "#print(X_test.size())\n",
    "#n_p2,n_d,_,_=X_test.size()\n",
    "#X_test=X_test.view(n_p2,n_d,-1)\n",
    "print(X_test.size())\n",
    "output_test=net.propagate_through_network(X=X_test,patches_given=False)"
   ]
  },
  {
   "cell_type": "code",
   "execution_count": 28,
   "metadata": {
    "collapsed": false
   },
   "outputs": [
    {
     "data": {
      "text/plain": [
       "True"
      ]
     },
     "execution_count": 28,
     "metadata": {},
     "output_type": "execute_result"
    }
   ],
   "source": [
    "net.Kernel[1].data_has_been_scaled"
   ]
  },
  {
   "cell_type": "code",
   "execution_count": 31,
   "metadata": {
    "collapsed": false
   },
   "outputs": [
    {
     "name": "stdout",
     "output_type": "stream",
     "text": [
      "XX size torch.Size([49, 300, 200])\n",
      "torch.Size([300, 49, 200])\n",
      "0.9\n"
     ]
    }
   ],
   "source": [
    "#n_p,n_d,p_dim=X_test.size()\n",
    "XX=output_test\n",
    "print( 'XX size',XX.size())\n",
    "XX=XX.permute(1,0,2)\n",
    "print(XX.size())\n",
    "X_test1=pca_mnis.transform(X.contiguous().view(n_d, n_p*p_dim).numpy())\n",
    "X_test=pca_mnis.transform(XX.contiguous().view(n_d, n_p*p_dim).numpy())\n",
    "\n",
    "kernel_svm_score = kernel_svm.score(X_test, X_test_labels.numpy())\n",
    "print(kernel_svm_score)"
   ]
  },
  {
   "cell_type": "code",
   "execution_count": 32,
   "metadata": {
    "collapsed": false
   },
   "outputs": [
    {
     "name": "stdout",
     "output_type": "stream",
     "text": [
      "0.9\n"
     ]
    }
   ],
   "source": [
    "kernel_svm_score = kernel_svm.score(X_test, X_test_labels.numpy())\n",
    "print(kernel_svm_score)"
   ]
  },
  {
   "cell_type": "code",
   "execution_count": 33,
   "metadata": {
    "collapsed": false
   },
   "outputs": [
    {
     "name": "stdout",
     "output_type": "stream",
     "text": [
      "0 torch.Size([784, 300, 25])\n",
      "input map in layer  0  has size  torch.Size([784, 300, 25])\n",
      "X is given\n",
      "Activation map init. Not scaled yet. Input map has size torch.Size([784, 300, 25])\n",
      "torch.Size([784, 300, 25])\n",
      "Activation map :Given data was scaled and has size torch.Size([784, 300, 25])\n",
      "(32, 32)\n",
      "0\n",
      "('tot', 0.9702261090278625)\n",
      "1\n",
      "('tot', 0.9693073034286499)\n",
      "2\n",
      "('tot', 0.9707880616188049)\n",
      "('size output', torch.Size([196, 300, 100]))\n",
      "1 torch.Size([196, 300, 400])\n",
      "input map in layer  1  has size  torch.Size([196, 300, 400])\n",
      "X is given\n",
      "Activation map init. Not scaled yet. Input map has size torch.Size([196, 300, 400])\n",
      "torch.Size([196, 300, 400])\n",
      "Activation map :Given data was scaled and has size torch.Size([196, 300, 30])\n",
      "(16, 16)\n",
      "0\n",
      "('tot', 0.9959027767181396)\n",
      "1\n",
      "('tot', 0.9958909153938293)\n",
      "2\n",
      "('tot', 0.9959044456481934)\n",
      "('size output', torch.Size([49, 300, 200]))\n",
      "XX size torch.Size([49, 300, 200])\n",
      "torch.Size([300, 49, 200])\n"
     ]
    },
    {
     "ename": "ValueError",
     "evalue": "Input contains NaN, infinity or a value too large for dtype('float32').",
     "output_type": "error",
     "traceback": [
      "\u001b[0;31m---------------------------------------------------------------------------\u001b[0m",
      "\u001b[0;31mValueError\u001b[0m                                Traceback (most recent call last)",
      "\u001b[0;32m<ipython-input-33-bc8f83d47585>\u001b[0m in \u001b[0;36m<module>\u001b[0;34m()\u001b[0m\n\u001b[1;32m      8\u001b[0m \u001b[0mXX2\u001b[0m\u001b[0;34m=\u001b[0m\u001b[0mXX2\u001b[0m\u001b[0;34m.\u001b[0m\u001b[0mpermute\u001b[0m\u001b[0;34m(\u001b[0m\u001b[0;36m1\u001b[0m\u001b[0;34m,\u001b[0m\u001b[0;36m0\u001b[0m\u001b[0;34m,\u001b[0m\u001b[0;36m2\u001b[0m\u001b[0;34m)\u001b[0m\u001b[0;34m\u001b[0m\u001b[0m\n\u001b[1;32m      9\u001b[0m \u001b[0;32mprint\u001b[0m\u001b[0;34m(\u001b[0m\u001b[0mXX2\u001b[0m\u001b[0;34m.\u001b[0m\u001b[0msize\u001b[0m\u001b[0;34m(\u001b[0m\u001b[0;34m)\u001b[0m\u001b[0;34m)\u001b[0m\u001b[0;34m\u001b[0m\u001b[0m\n\u001b[0;32m---> 10\u001b[0;31m \u001b[0mX_test2\u001b[0m\u001b[0;34m=\u001b[0m\u001b[0mpca_mnis\u001b[0m\u001b[0;34m.\u001b[0m\u001b[0mtransform\u001b[0m\u001b[0;34m(\u001b[0m\u001b[0mXX2\u001b[0m\u001b[0;34m.\u001b[0m\u001b[0mcontiguous\u001b[0m\u001b[0;34m(\u001b[0m\u001b[0;34m)\u001b[0m\u001b[0;34m.\u001b[0m\u001b[0mview\u001b[0m\u001b[0;34m(\u001b[0m\u001b[0mn_d\u001b[0m\u001b[0;34m,\u001b[0m \u001b[0mn_p\u001b[0m\u001b[0;34m*\u001b[0m\u001b[0mp_dim\u001b[0m\u001b[0;34m)\u001b[0m\u001b[0;34m.\u001b[0m\u001b[0mnumpy\u001b[0m\u001b[0;34m(\u001b[0m\u001b[0;34m)\u001b[0m\u001b[0;34m)\u001b[0m\u001b[0;34m\u001b[0m\u001b[0m\n\u001b[0m\u001b[1;32m     11\u001b[0m \u001b[0;34m\u001b[0m\u001b[0m\n\u001b[1;32m     12\u001b[0m \u001b[0mkernel_svm_score\u001b[0m \u001b[0;34m=\u001b[0m \u001b[0mkernel_svm\u001b[0m\u001b[0;34m.\u001b[0m\u001b[0mscore\u001b[0m\u001b[0;34m(\u001b[0m\u001b[0mX_test2\u001b[0m\u001b[0;34m,\u001b[0m \u001b[0mX_test_labels2\u001b[0m\u001b[0;34m.\u001b[0m\u001b[0mnumpy\u001b[0m\u001b[0;34m(\u001b[0m\u001b[0;34m)\u001b[0m\u001b[0;34m)\u001b[0m\u001b[0;34m\u001b[0m\u001b[0m\n",
      "\u001b[0;32m/Users/cdonnat/anaconda/lib/python2.7/site-packages/sklearn/decomposition/base.pyc\u001b[0m in \u001b[0;36mtransform\u001b[0;34m(self, X)\u001b[0m\n\u001b[1;32m    126\u001b[0m         \u001b[0mcheck_is_fitted\u001b[0m\u001b[0;34m(\u001b[0m\u001b[0mself\u001b[0m\u001b[0;34m,\u001b[0m \u001b[0;34m[\u001b[0m\u001b[0;34m'mean_'\u001b[0m\u001b[0;34m,\u001b[0m \u001b[0;34m'components_'\u001b[0m\u001b[0;34m]\u001b[0m\u001b[0;34m,\u001b[0m \u001b[0mall_or_any\u001b[0m\u001b[0;34m=\u001b[0m\u001b[0mall\u001b[0m\u001b[0;34m)\u001b[0m\u001b[0;34m\u001b[0m\u001b[0m\n\u001b[1;32m    127\u001b[0m \u001b[0;34m\u001b[0m\u001b[0m\n\u001b[0;32m--> 128\u001b[0;31m         \u001b[0mX\u001b[0m \u001b[0;34m=\u001b[0m \u001b[0mcheck_array\u001b[0m\u001b[0;34m(\u001b[0m\u001b[0mX\u001b[0m\u001b[0;34m)\u001b[0m\u001b[0;34m\u001b[0m\u001b[0m\n\u001b[0m\u001b[1;32m    129\u001b[0m         \u001b[0;32mif\u001b[0m \u001b[0mself\u001b[0m\u001b[0;34m.\u001b[0m\u001b[0mmean_\u001b[0m \u001b[0;32mis\u001b[0m \u001b[0;32mnot\u001b[0m \u001b[0mNone\u001b[0m\u001b[0;34m:\u001b[0m\u001b[0;34m\u001b[0m\u001b[0m\n\u001b[1;32m    130\u001b[0m             \u001b[0mX\u001b[0m \u001b[0;34m=\u001b[0m \u001b[0mX\u001b[0m \u001b[0;34m-\u001b[0m \u001b[0mself\u001b[0m\u001b[0;34m.\u001b[0m\u001b[0mmean_\u001b[0m\u001b[0;34m\u001b[0m\u001b[0m\n",
      "\u001b[0;32m/Users/cdonnat/anaconda/lib/python2.7/site-packages/sklearn/utils/validation.pyc\u001b[0m in \u001b[0;36mcheck_array\u001b[0;34m(array, accept_sparse, dtype, order, copy, force_all_finite, ensure_2d, allow_nd, ensure_min_samples, ensure_min_features, warn_on_dtype, estimator)\u001b[0m\n\u001b[1;32m    451\u001b[0m                              % (array.ndim, estimator_name))\n\u001b[1;32m    452\u001b[0m         \u001b[0;32mif\u001b[0m \u001b[0mforce_all_finite\u001b[0m\u001b[0;34m:\u001b[0m\u001b[0;34m\u001b[0m\u001b[0m\n\u001b[0;32m--> 453\u001b[0;31m             \u001b[0m_assert_all_finite\u001b[0m\u001b[0;34m(\u001b[0m\u001b[0marray\u001b[0m\u001b[0;34m)\u001b[0m\u001b[0;34m\u001b[0m\u001b[0m\n\u001b[0m\u001b[1;32m    454\u001b[0m \u001b[0;34m\u001b[0m\u001b[0m\n\u001b[1;32m    455\u001b[0m     \u001b[0mshape_repr\u001b[0m \u001b[0;34m=\u001b[0m \u001b[0m_shape_repr\u001b[0m\u001b[0;34m(\u001b[0m\u001b[0marray\u001b[0m\u001b[0;34m.\u001b[0m\u001b[0mshape\u001b[0m\u001b[0;34m)\u001b[0m\u001b[0;34m\u001b[0m\u001b[0m\n",
      "\u001b[0;32m/Users/cdonnat/anaconda/lib/python2.7/site-packages/sklearn/utils/validation.pyc\u001b[0m in \u001b[0;36m_assert_all_finite\u001b[0;34m(X)\u001b[0m\n\u001b[1;32m     42\u001b[0m             and not np.isfinite(X).all()):\n\u001b[1;32m     43\u001b[0m         raise ValueError(\"Input contains NaN, infinity\"\n\u001b[0;32m---> 44\u001b[0;31m                          \" or a value too large for %r.\" % X.dtype)\n\u001b[0m\u001b[1;32m     45\u001b[0m \u001b[0;34m\u001b[0m\u001b[0m\n\u001b[1;32m     46\u001b[0m \u001b[0;34m\u001b[0m\u001b[0m\n",
      "\u001b[0;31mValueError\u001b[0m: Input contains NaN, infinity or a value too large for dtype('float32')."
     ]
    }
   ],
   "source": [
    "X_test2=train_loader.dataset.train_data[torch.LongTensor(inds[2*test_batch_size:(3*test_batch_size)])]\n",
    "X_test_labels2=train_loader.dataset.train_labels[torch.LongTensor(inds[2*test_batch_size:(3*test_batch_size)])]\n",
    "\n",
    "X_test2=1.0/255*X_test2.type(torch.FloatTensor)\n",
    "output_test2=net.propagate_through_network(X=X_test2,patches_given=False)\n",
    "XX2=output_test2\n",
    "print( 'XX size',XX2.size())\n",
    "XX2=XX2.permute(1,0,2)\n",
    "print(XX2.size())\n",
    "X_test2=pca_mnis.transform(XX2.contiguous().view(n_d, n_p*p_dim).numpy())\n",
    "\n",
    "kernel_svm_score = kernel_svm.score(X_test2, X_test_labels2.numpy())\n",
    "print(kernel_svm_score)"
   ]
  },
  {
   "cell_type": "code",
   "execution_count": null,
   "metadata": {
    "collapsed": false
   },
   "outputs": [],
   "source": [
    "spacing=net.Kernel[0].spacing#np.min([input_map.size()[0]//p_shape,input_map.size()[1]//p_shape])  \n",
    "gamma=net.Kernel[0].subsampling_factor\n",
    "beta=gamma*spacing\n",
    "mpatches=extract_patch_mask(300,[28,28],3, beta=beta,zero_padding=True)"
   ]
  },
  {
   "cell_type": "code",
   "execution_count": null,
   "metadata": {
    "collapsed": false
   },
   "outputs": [],
   "source": [
    "mpatches.size()"
   ]
  },
  {
   "cell_type": "code",
   "execution_count": null,
   "metadata": {
    "collapsed": false
   },
   "outputs": [],
   "source": [
    "1.0/(28**2)*rel_distance_patch(28)"
   ]
  },
  {
   "cell_type": "code",
   "execution_count": null,
   "metadata": {
    "collapsed": false
   },
   "outputs": [],
   "source": [
    "sb.heatmap(mpatches[145,:,:].numpy())"
   ]
  },
  {
   "cell_type": "code",
   "execution_count": null,
   "metadata": {
    "collapsed": false
   },
   "outputs": [],
   "source": [
    "mpatches[145,:,:].numpy()"
   ]
  },
  {
   "cell_type": "code",
   "execution_count": null,
   "metadata": {
    "collapsed": true
   },
   "outputs": [],
   "source": []
  }
 ],
 "metadata": {
  "anaconda-cloud": {},
  "kernelspec": {
   "display_name": "Python [default]",
   "language": "python",
   "name": "python2"
  },
  "language_info": {
   "codemirror_mode": {
    "name": "ipython",
    "version": 2
   },
   "file_extension": ".py",
   "mimetype": "text/x-python",
   "name": "python",
   "nbconvert_exporter": "python",
   "pygments_lexer": "ipython2",
   "version": "2.7.11"
  }
 },
 "nbformat": 4,
 "nbformat_minor": 1
}
