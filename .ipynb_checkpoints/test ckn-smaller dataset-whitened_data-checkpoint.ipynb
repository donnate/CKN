{
 "cells": [
  {
   "cell_type": "code",
   "execution_count": 1,
   "metadata": {
    "collapsed": false,
    "scrolled": true
   },
   "outputs": [],
   "source": [
    "%matplotlib inline\n",
    "from __future__ import print_function\n",
    "import argparse\n",
    "import torch\n",
    "import torch.nn as nn\n",
    "import torch.nn.functional as F\n",
    "import torch.optim as optim\n",
    "from torchvision import datasets, transforms\n",
    "from torch.autograd import Variable\n",
    "from CKN import *\n",
    "from Nystrom import *\n",
    "from image_processing_utils import *\n",
    "import scipy.optimize"
   ]
  },
  {
   "cell_type": "code",
   "execution_count": 2,
   "metadata": {
    "collapsed": true,
    "scrolled": true
   },
   "outputs": [],
   "source": [
    "batch_size=64\n",
    "test_batch_size=1000\n",
    "\n",
    "train_loader = torch.utils.data.DataLoader(\n",
    "    datasets.MNIST('../data', train=True, download=True,\n",
    "                   transform=transforms.Compose([\n",
    "                       transforms.ToTensor(),\n",
    "                       transforms.Normalize((0.1307,), (0.3081,))\n",
    "                   ])),\n",
    "    batch_size=batch_size, shuffle=True)\n",
    "test_loader = torch.utils.data.DataLoader(\n",
    "    datasets.MNIST('../data', train=False, transform=transforms.Compose([\n",
    "                       transforms.ToTensor(),\n",
    "                       transforms.Normalize((0.1307,), (0.3081,))\n",
    "                   ])),\n",
    "    batch_size=test_batch_size, shuffle=True)"
   ]
  },
  {
   "cell_type": "code",
   "execution_count": 3,
   "metadata": {
    "collapsed": false,
    "scrolled": true
   },
   "outputs": [],
   "source": [
    "inds=range(60000)\n",
    "import random\n",
    "random.seed(2017)\n",
    "random.shuffle(inds)\n",
    "\n",
    "test=train_loader.dataset.train_data[inds[:3000],:,:]"
   ]
  },
  {
   "cell_type": "code",
   "execution_count": 4,
   "metadata": {
    "collapsed": false,
    "scrolled": true
   },
   "outputs": [],
   "source": [
    "X_labels=train_loader.dataset.train_labels[torch.LongTensor(inds[:3000])]"
   ]
  },
  {
   "cell_type": "code",
   "execution_count": 5,
   "metadata": {
    "collapsed": false
   },
   "outputs": [
    {
     "data": {
      "text/plain": [
       "\n",
       " 0\n",
       " 9\n",
       " 6\n",
       "⋮ \n",
       " 1\n",
       " 1\n",
       " 5\n",
       "[torch.LongTensor of size 3000]"
      ]
     },
     "execution_count": 5,
     "metadata": {},
     "output_type": "execute_result"
    }
   ],
   "source": [
    "X_labels"
   ]
  },
  {
   "cell_type": "code",
   "execution_count": 6,
   "metadata": {
    "collapsed": true,
    "scrolled": true
   },
   "outputs": [],
   "source": [
    "import seaborn as sb\n",
    "import math\n",
    "import numpy as np\n"
   ]
  },
  {
   "cell_type": "code",
   "execution_count": 7,
   "metadata": {
    "collapsed": false,
    "scrolled": true
   },
   "outputs": [],
   "source": [
    "data=test\n",
    "data=data.type(torch.FloatTensor)\n",
    "data2=data-torch.mean(data.view(-1,data.size()[1]*data.size()[2]),0).view(28,28)\n",
    "S=torch.std(data2.view(-1,data.size()[1]*data.size()[2]),0)\n",
    "S[S==0]=1\n",
    "data2=1.0/S*data2.view(-1,data.size()[1]*data.size()[2])\n",
    "data2=data2.view(-1,28,28)\n"
   ]
  },
  {
   "cell_type": "code",
   "execution_count": 8,
   "metadata": {
    "collapsed": false,
    "scrolled": true
   },
   "outputs": [
    {
     "name": "stdout",
     "output_type": "stream",
     "text": [
      "torch.Size([3000, 28, 28])\n",
      "('patches extracted with size ', torch.Size([784, 3000, 25]))\n",
      "[[0, 601, 691], [0, 333, 98], [0, 441, 266], [0, 506, 343], [0, 214, 551], [0, 131, 748], [0, 636, 579], [0, 379, 150], [0, 143, 201], [0, 474, 687]]\n",
      "('sel', torch.Size([30000, 2, 25]))\n",
      "('The variance is: ', 0.10603480935096742)\n",
      "('inf values:', 0)\n",
      "('na values:', 0)\n",
      "('size input: ', torch.Size([30000, 2, 15]))\n",
      "(0, \n",
      "1.00000e-02 *\n",
      "  6.2411\n",
      "[torch.FloatTensor of size 1]\n",
      ", 10.590847969055176)\n",
      "(1, \n",
      "1.00000e-03 *\n",
      "  9.3336\n",
      "[torch.FloatTensor of size 1]\n",
      ", 11.627535104751587)\n",
      "(2, \n",
      "1.00000e-03 *\n",
      "  7.2879\n",
      "[torch.FloatTensor of size 1]\n",
      ", 13.248580932617188)\n",
      "(3, \n",
      "1.00000e-03 *\n",
      "  6.4557\n",
      "[torch.FloatTensor of size 1]\n",
      ", 11.808562994003296)\n",
      "(4, \n",
      "1.00000e-03 *\n",
      "  5.8718\n",
      "[torch.FloatTensor of size 1]\n",
      ", 12.212380170822144)\n",
      "(5, \n",
      "1.00000e-03 *\n",
      "  5.4673\n",
      "[torch.FloatTensor of size 1]\n",
      ", 12.449509859085083)\n",
      "(6, \n",
      "1.00000e-03 *\n",
      "  5.1678\n",
      "[torch.FloatTensor of size 1]\n",
      ", 11.711063146591187)\n",
      "(7, \n",
      "1.00000e-03 *\n",
      "  4.9046\n",
      "[torch.FloatTensor of size 1]\n",
      ", 10.73437213897705)\n",
      "(8, \n",
      "1.00000e-03 *\n",
      "  4.6923\n",
      "[torch.FloatTensor of size 1]\n",
      ", 11.288825035095215)\n",
      "(9, \n",
      "1.00000e-03 *\n",
      "  4.5242\n",
      "[torch.FloatTensor of size 1]\n",
      ", 11.060542106628418)\n",
      "(10, \n",
      "1.00000e-03 *\n",
      "  4.3862\n",
      "[torch.FloatTensor of size 1]\n",
      ", 12.115837097167969)\n",
      "(11, \n",
      "1.00000e-03 *\n",
      "  4.2705\n",
      "[torch.FloatTensor of size 1]\n",
      ", 11.296515941619873)\n",
      "(12, \n",
      "1.00000e-03 *\n",
      "  4.1710\n",
      "[torch.FloatTensor of size 1]\n",
      ", 11.33505392074585)\n",
      "(13, \n",
      "1.00000e-03 *\n",
      "  4.0817\n",
      "[torch.FloatTensor of size 1]\n",
      ", 10.823490858078003)\n",
      "(14, \n",
      "1.00000e-03 *\n",
      "  3.9966\n",
      "[torch.FloatTensor of size 1]\n",
      ", 10.758277893066406)\n",
      "(15, \n",
      "1.00000e-03 *\n",
      "  3.9071\n",
      "[torch.FloatTensor of size 1]\n",
      ", 13.140444040298462)\n",
      "(16, \n",
      "1.00000e-03 *\n",
      "  3.8021\n",
      "[torch.FloatTensor of size 1]\n",
      ", 10.535483837127686)\n",
      "(17, \n",
      "1.00000e-03 *\n",
      "  3.6705\n",
      "[torch.FloatTensor of size 1]\n",
      ", 10.415853023529053)\n",
      "(18, \n",
      "1.00000e-03 *\n",
      "  3.5064\n",
      "[torch.FloatTensor of size 1]\n",
      ", 13.829743146896362)\n",
      "(19, \n",
      "1.00000e-03 *\n",
      "  3.3454\n",
      "[torch.FloatTensor of size 1]\n",
      ", 14.500876188278198)\n",
      "(20, \n",
      "1.00000e-03 *\n",
      "  3.2443\n",
      "[torch.FloatTensor of size 1]\n",
      ", 12.616032838821411)\n",
      "(21, \n",
      "1.00000e-03 *\n",
      "  3.1854\n",
      "[torch.FloatTensor of size 1]\n",
      ", 10.143301010131836)\n",
      "(22, \n",
      "1.00000e-03 *\n",
      "  3.1459\n",
      "[torch.FloatTensor of size 1]\n",
      ", 10.572359800338745)\n",
      "(23, \n",
      "1.00000e-03 *\n",
      "  3.1164\n",
      "[torch.FloatTensor of size 1]\n",
      ", 13.017475128173828)\n",
      "(24, \n",
      "1.00000e-03 *\n",
      "  3.0930\n",
      "[torch.FloatTensor of size 1]\n",
      ", 11.97923493385315)\n",
      "(25, \n",
      "1.00000e-03 *\n",
      "  3.0738\n",
      "[torch.FloatTensor of size 1]\n",
      ", 10.428581953048706)\n",
      "(26, \n",
      "1.00000e-03 *\n",
      "  3.0577\n",
      "[torch.FloatTensor of size 1]\n",
      ", 12.179014921188354)\n",
      "(27, \n",
      "1.00000e-03 *\n",
      "  3.0440\n",
      "[torch.FloatTensor of size 1]\n",
      ", 12.922687768936157)\n",
      "(28, \n",
      "1.00000e-03 *\n",
      "  3.0318\n",
      "[torch.FloatTensor of size 1]\n",
      ", 11.885900974273682)\n",
      "(29, \n",
      "1.00000e-03 *\n",
      "  3.0203\n",
      "[torch.FloatTensor of size 1]\n",
      ", 11.45070195198059)\n",
      "(30, \n",
      "1.00000e-03 *\n",
      "  3.0087\n",
      "[torch.FloatTensor of size 1]\n",
      ", 10.436563968658447)\n",
      "(31, \n",
      "1.00000e-03 *\n",
      "  2.9970\n",
      "[torch.FloatTensor of size 1]\n",
      ", 10.543155908584595)\n",
      "(32, \n",
      "1.00000e-03 *\n",
      "  2.9865\n",
      "[torch.FloatTensor of size 1]\n",
      ", 10.695359945297241)\n",
      "(33, \n",
      "1.00000e-03 *\n",
      "  2.9777\n",
      "[torch.FloatTensor of size 1]\n",
      ", 11.95771598815918)\n",
      "(34, \n",
      "1.00000e-03 *\n",
      "  2.9705\n",
      "[torch.FloatTensor of size 1]\n",
      ", 11.819514036178589)\n",
      "(35, \n",
      "1.00000e-03 *\n",
      "  2.9645\n",
      "[torch.FloatTensor of size 1]\n",
      ", 10.576603889465332)\n",
      "(36, \n",
      "1.00000e-03 *\n",
      "  2.9595\n",
      "[torch.FloatTensor of size 1]\n",
      ", 10.071477890014648)\n",
      "(37, \n",
      "1.00000e-03 *\n",
      "  2.9551\n",
      "[torch.FloatTensor of size 1]\n",
      ", 10.081772804260254)\n",
      "(38, \n",
      "1.00000e-03 *\n",
      "  2.9512\n",
      "[torch.FloatTensor of size 1]\n",
      ", 9.87696886062622)\n",
      "(39, \n",
      "1.00000e-03 *\n",
      "  2.9476\n",
      "[torch.FloatTensor of size 1]\n",
      ", 9.962369918823242)\n",
      "(40, \n",
      "1.00000e-03 *\n",
      "  2.9443\n",
      "[torch.FloatTensor of size 1]\n",
      ", 9.884419918060303)\n",
      "(41, \n",
      "1.00000e-03 *\n",
      "  2.9412\n",
      "[torch.FloatTensor of size 1]\n",
      ", 9.859471082687378)\n",
      "(42, \n",
      "1.00000e-03 *\n",
      "  2.9384\n",
      "[torch.FloatTensor of size 1]\n",
      ", 9.860195875167847)\n",
      "(43, \n",
      "1.00000e-03 *\n",
      "  2.9357\n",
      "[torch.FloatTensor of size 1]\n",
      ", 9.861482858657837)\n",
      "(44, \n",
      "1.00000e-03 *\n",
      "  2.9331\n",
      "[torch.FloatTensor of size 1]\n",
      ", 9.818732976913452)\n",
      "(45, \n",
      "1.00000e-03 *\n",
      "  2.9306\n",
      "[torch.FloatTensor of size 1]\n",
      ", 9.896155834197998)\n",
      "(46, \n",
      "1.00000e-03 *\n",
      "  2.9283\n",
      "[torch.FloatTensor of size 1]\n",
      ", 9.74492597579956)\n",
      "(47, \n",
      "1.00000e-03 *\n",
      "  2.9262\n",
      "[torch.FloatTensor of size 1]\n",
      ", 9.786463975906372)\n",
      "(48, \n",
      "1.00000e-03 *\n",
      "  2.9242\n",
      "[torch.FloatTensor of size 1]\n",
      ", 10.288734912872314)\n",
      "(49, \n",
      "1.00000e-03 *\n",
      "  2.9221\n",
      "[torch.FloatTensor of size 1]\n",
      ", 9.79633116722107)\n",
      "(50, \n",
      "1.00000e-03 *\n",
      "  2.9202\n",
      "[torch.FloatTensor of size 1]\n",
      ", 9.830039978027344)\n",
      "(51, \n",
      "1.00000e-03 *\n",
      "  2.9184\n",
      "[torch.FloatTensor of size 1]\n",
      ", 9.80474305152893)\n",
      "(52, \n",
      "1.00000e-03 *\n",
      "  2.9167\n",
      "[torch.FloatTensor of size 1]\n",
      ", 9.960222959518433)\n",
      "(53, \n",
      "1.00000e-03 *\n",
      "  2.9150\n",
      "[torch.FloatTensor of size 1]\n",
      ", 9.851123094558716)\n",
      "(54, \n",
      "1.00000e-03 *\n",
      "  2.9134\n",
      "[torch.FloatTensor of size 1]\n",
      ", 9.754170894622803)\n",
      "(55, \n",
      "1.00000e-03 *\n",
      "  2.9119\n",
      "[torch.FloatTensor of size 1]\n",
      ", 9.741931915283203)\n",
      "(56, \n",
      "1.00000e-03 *\n",
      "  2.9104\n",
      "[torch.FloatTensor of size 1]\n",
      ", 10.082751035690308)\n",
      "(57, \n",
      "1.00000e-03 *\n",
      "  2.9090\n",
      "[torch.FloatTensor of size 1]\n",
      ", 9.752546072006226)\n",
      "(58, \n",
      "1.00000e-03 *\n",
      "  2.9076\n",
      "[torch.FloatTensor of size 1]\n",
      ", 9.819515943527222)\n",
      "(59, \n",
      "1.00000e-03 *\n",
      "  2.9063\n",
      "[torch.FloatTensor of size 1]\n",
      ", 9.80616807937622)\n",
      "(60, \n",
      "1.00000e-03 *\n",
      "  2.9050\n",
      "[torch.FloatTensor of size 1]\n",
      ", 9.741131067276001)\n",
      "(61, \n",
      "1.00000e-03 *\n",
      "  2.9038\n",
      "[torch.FloatTensor of size 1]\n",
      ", 9.819233894348145)\n",
      "(62, \n",
      "1.00000e-03 *\n",
      "  2.9026\n",
      "[torch.FloatTensor of size 1]\n",
      ", 10.650465965270996)\n",
      "(63, \n",
      "1.00000e-03 *\n",
      "  2.9015\n",
      "[torch.FloatTensor of size 1]\n",
      ", 9.790796041488647)\n",
      "(64, \n",
      "1.00000e-03 *\n",
      "  2.9004\n",
      "[torch.FloatTensor of size 1]\n",
      ", 1295.641352891922)\n",
      "(65, \n",
      "1.00000e-03 *\n",
      "  2.8994\n",
      "[torch.FloatTensor of size 1]\n",
      ", 5965.605664014816)\n",
      "(66, \n",
      "1.00000e-03 *\n",
      "  2.8984\n",
      "[torch.FloatTensor of size 1]\n",
      ", 11.068403959274292)\n",
      "(67, \n",
      "1.00000e-03 *\n",
      "  2.8974\n",
      "[torch.FloatTensor of size 1]\n",
      ", 14.752537965774536)\n",
      "(68, \n",
      "1.00000e-03 *\n",
      "  2.8965\n",
      "[torch.FloatTensor of size 1]\n",
      ", 14.526489019393921)\n",
      "(69, \n",
      "1.00000e-03 *\n",
      "  2.8956\n",
      "[torch.FloatTensor of size 1]\n",
      ", 2241.5174129009247)\n",
      "(70, \n",
      "1.00000e-03 *\n",
      "  2.8947\n",
      "[torch.FloatTensor of size 1]\n",
      ", 3537.957489967346)\n",
      "(71, \n",
      "1.00000e-03 *\n",
      "  2.8939\n",
      "[torch.FloatTensor of size 1]\n",
      ", 12.158176898956299)\n",
      "(72, \n",
      "1.00000e-03 *\n",
      "  2.8931\n",
      "[torch.FloatTensor of size 1]\n",
      ", 15.27358603477478)\n",
      "(73, \n",
      "1.00000e-03 *\n",
      "  2.8923\n",
      "[torch.FloatTensor of size 1]\n",
      ", 2276.4634749889374)\n",
      "(74, \n",
      "1.00000e-03 *\n",
      "  2.8916\n",
      "[torch.FloatTensor of size 1]\n",
      ", 15.26698088645935)\n",
      "(75, \n",
      "1.00000e-03 *\n",
      "  2.8909\n",
      "[torch.FloatTensor of size 1]\n",
      ", 2279.1219539642334)\n",
      "(76, \n",
      "1.00000e-03 *\n",
      "  2.8902\n",
      "[torch.FloatTensor of size 1]\n",
      ", 14.709321975708008)\n",
      "(77, \n",
      "1.00000e-03 *\n",
      "  2.8895\n",
      "[torch.FloatTensor of size 1]\n",
      ", 2277.8110570907593)\n",
      "(78, \n",
      "1.00000e-03 *\n",
      "  2.8889\n",
      "[torch.FloatTensor of size 1]\n",
      ", 14.23818588256836)\n",
      "(79, \n",
      "1.00000e-03 *\n",
      "  2.8883\n",
      "[torch.FloatTensor of size 1]\n",
      ", 1778.3420469760895)\n",
      "(80, \n",
      "1.00000e-03 *\n",
      "  2.8877\n",
      "[torch.FloatTensor of size 1]\n",
      ", 22.8749361038208)\n",
      "(81, \n",
      "1.00000e-03 *\n",
      "  2.8871\n",
      "[torch.FloatTensor of size 1]\n",
      ", 23.11059308052063)\n",
      "(82, \n",
      "1.00000e-03 *\n",
      "  2.8865\n",
      "[torch.FloatTensor of size 1]\n",
      ", 2324.303615808487)\n",
      "(83, \n",
      "1.00000e-03 *\n",
      "  2.8860\n",
      "[torch.FloatTensor of size 1]\n",
      ", 12.495836973190308)\n",
      "(84, \n",
      "1.00000e-03 *\n",
      "  2.8854\n",
      "[torch.FloatTensor of size 1]\n",
      ", 2282.0258219242096)\n",
      "(85, \n",
      "1.00000e-03 *\n",
      "  2.8849\n",
      "[torch.FloatTensor of size 1]\n",
      ", 11.620711088180542)\n",
      "(86, \n",
      "1.00000e-03 *\n",
      "  2.8844\n",
      "[torch.FloatTensor of size 1]\n",
      ", 15.059233903884888)\n",
      "(87, \n",
      "1.00000e-03 *\n",
      "  2.8838\n",
      "[torch.FloatTensor of size 1]\n",
      ", 2277.2232489585876)\n",
      "(88, \n",
      "1.00000e-03 *\n",
      "  2.8833\n",
      "[torch.FloatTensor of size 1]\n",
      ", 14.791949987411499)\n",
      "(89, \n",
      "1.00000e-03 *\n",
      "  2.8829\n",
      "[torch.FloatTensor of size 1]\n",
      ", 1096.8558299541473)\n",
      "(90, \n",
      "1.00000e-03 *\n",
      "  2.8824\n",
      "[torch.FloatTensor of size 1]\n",
      ", 15.176033020019531)\n",
      "(91, \n",
      "1.00000e-03 *\n",
      "  2.8819\n",
      "[torch.FloatTensor of size 1]\n",
      ", 14.615148067474365)\n",
      "(92, \n",
      "1.00000e-03 *\n",
      "  2.8814\n",
      "[torch.FloatTensor of size 1]\n",
      ", 15.23171877861023)\n",
      "(93, \n",
      "1.00000e-03 *\n",
      "  2.8810\n",
      "[torch.FloatTensor of size 1]\n",
      ", 2399.9932928085327)\n",
      "(94, \n",
      "1.00000e-03 *\n",
      "  2.8805\n",
      "[torch.FloatTensor of size 1]\n",
      ", 13.35493803024292)\n",
      "(95, \n",
      "1.00000e-03 *\n",
      "  2.8801\n",
      "[torch.FloatTensor of size 1]\n",
      ", 12.393271923065186)\n",
      "(96, \n",
      "1.00000e-03 *\n",
      "  2.8797\n",
      "[torch.FloatTensor of size 1]\n",
      ", 10.338281154632568)\n",
      "(97, \n",
      "1.00000e-03 *\n",
      "  2.8792\n",
      "[torch.FloatTensor of size 1]\n",
      ", 10.138626098632812)\n",
      "(98, \n",
      "1.00000e-03 *\n",
      "  2.8788\n",
      "[torch.FloatTensor of size 1]\n",
      ", 10.701321125030518)\n",
      "(99, \n",
      "1.00000e-03 *\n",
      "  2.8784\n",
      "[torch.FloatTensor of size 1]\n",
      ", 12.85102891921997)\n",
      "torch.Size([784, 3000, 25])\n",
      "('dim norm', torch.Size([784, 3000, 1]))\n",
      "(32, 32)\n",
      "0\n",
      "('nb 1 of null is ', 0)\n",
      "torch.Size([47040, 150])\n",
      "torch.Size([784, 3000, 1])\n",
      "('nb 2 of null is ', 0)\n",
      "('nb 3 of null is ', 7045733)\n",
      "1\n",
      "('nb 1 of null is ', 0)\n",
      "torch.Size([47040, 150])\n",
      "torch.Size([784, 3000, 1])\n",
      "('nb 2 of null is ', 0)\n",
      "('nb 3 of null is ', 7022982)\n",
      "2\n",
      "('nb 1 of null is ', 0)\n",
      "torch.Size([47040, 150])\n",
      "torch.Size([784, 3000, 1])\n",
      "('nb 2 of null is ', 0)\n",
      "('nb 3 of null is ', 7038613)\n",
      "3\n",
      "('nb 1 of null is ', 0)\n",
      "torch.Size([47040, 150])\n",
      "torch.Size([784, 3000, 1])\n",
      "('nb 2 of null is ', 0)\n",
      "('nb 3 of null is ', 7044140)\n",
      "4\n",
      "('nb 1 of null is ', 0)\n",
      "torch.Size([47040, 150])\n",
      "torch.Size([784, 3000, 1])\n",
      "('nb 2 of null is ', 0)\n",
      "('nb 3 of null is ', 7041055)\n",
      "5\n",
      "('nb 1 of null is ', 0)\n",
      "torch.Size([47040, 150])\n",
      "torch.Size([784, 3000, 1])\n",
      "('nb 2 of null is ', 0)\n",
      "('nb 3 of null is ', 7046516)\n",
      "6\n",
      "('nb 1 of null is ', 0)\n",
      "torch.Size([47040, 150])\n",
      "torch.Size([784, 3000, 1])\n",
      "('nb 2 of null is ', 0)\n",
      "('nb 3 of null is ', 7043312)\n",
      "7\n",
      "('nb 1 of null is ', 0)\n",
      "torch.Size([47040, 150])\n",
      "torch.Size([784, 3000, 1])\n",
      "('nb 2 of null is ', 0)\n",
      "('nb 3 of null is ', 7042588)\n",
      "8\n",
      "('nb 1 of null is ', 0)\n",
      "torch.Size([47040, 150])\n",
      "torch.Size([784, 3000, 1])\n",
      "('nb 2 of null is ', 0)\n",
      "('nb 3 of null is ', 7038667)\n",
      "9\n",
      "('nb 1 of null is ', 0)\n",
      "torch.Size([47040, 150])\n",
      "torch.Size([784, 3000, 1])\n",
      "('nb 2 of null is ', 0)\n",
      "('nb 3 of null is ', 7044165)\n",
      "10\n",
      "('nb 1 of null is ', 0)\n",
      "torch.Size([47040, 150])\n",
      "torch.Size([784, 3000, 1])\n",
      "('nb 2 of null is ', 0)\n",
      "('nb 3 of null is ', 7042598)\n",
      "11\n",
      "('nb 1 of null is ', 0)\n",
      "torch.Size([47040, 150])\n",
      "torch.Size([784, 3000, 1])\n",
      "('nb 2 of null is ', 0)\n",
      "('nb 3 of null is ', 7045671)\n",
      "12\n",
      "('nb 1 of null is ', 0)\n",
      "torch.Size([47040, 150])\n",
      "torch.Size([784, 3000, 1])\n",
      "('nb 2 of null is ', 0)\n",
      "('nb 3 of null is ', 7040893)\n",
      "13\n",
      "('nb 1 of null is ', 0)\n",
      "torch.Size([47040, 150])\n",
      "torch.Size([784, 3000, 1])\n",
      "('nb 2 of null is ', 0)\n",
      "('nb 3 of null is ', 7039359)\n",
      "14\n",
      "('nb 1 of null is ', 0)\n",
      "torch.Size([47040, 150])\n",
      "torch.Size([784, 3000, 1])\n",
      "('nb 2 of null is ', 0)\n",
      "('nb 3 of null is ', 7027599)\n",
      "15\n",
      "('nb 1 of null is ', 0)\n",
      "torch.Size([47040, 150])\n",
      "torch.Size([784, 3000, 1])\n",
      "('nb 2 of null is ', 0)\n",
      "('nb 3 of null is ', 7035516)\n",
      "16\n",
      "('nb 1 of null is ', 0)\n",
      "torch.Size([47040, 150])\n",
      "torch.Size([784, 3000, 1])\n",
      "('nb 2 of null is ', 0)\n",
      "('nb 3 of null is ', 7038667)\n",
      "17\n",
      "('nb 1 of null is ', 0)\n",
      "torch.Size([47040, 150])\n",
      "torch.Size([784, 3000, 1])\n",
      "('nb 2 of null is ', 0)\n",
      "('nb 3 of null is ', 7040172)\n",
      "18\n",
      "('nb 1 of null is ', 0)\n",
      "torch.Size([47040, 150])\n",
      "torch.Size([784, 3000, 1])\n",
      "('nb 2 of null is ', 0)\n",
      "('nb 3 of null is ', 7037918)\n",
      "19\n",
      "('nb 1 of null is ', 0)\n",
      "torch.Size([47040, 150])\n",
      "torch.Size([784, 3000, 1])\n",
      "('nb 2 of null is ', 0)\n",
      "('nb 3 of null is ', 7048020)\n",
      "20\n",
      "('nb 1 of null is ', 0)\n",
      "torch.Size([47040, 150])\n",
      "torch.Size([784, 3000, 1])\n",
      "('nb 2 of null is ', 0)\n",
      "('nb 3 of null is ', 7048096)\n",
      "21\n",
      "('nb 1 of null is ', 0)\n",
      "torch.Size([47040, 150])\n",
      "torch.Size([784, 3000, 1])\n",
      "('nb 2 of null is ', 0)\n",
      "('nb 3 of null is ', 7039418)\n",
      "22\n",
      "('nb 1 of null is ', 0)\n",
      "torch.Size([47040, 150])\n",
      "torch.Size([784, 3000, 1])\n",
      "('nb 2 of null is ', 0)\n",
      "('nb 3 of null is ', 7034663)\n",
      "23\n",
      "('nb 1 of null is ', 0)\n",
      "torch.Size([47040, 150])\n",
      "torch.Size([784, 3000, 1])\n",
      "('nb 2 of null is ', 0)\n",
      "('nb 3 of null is ', 7043347)\n",
      "24\n",
      "('nb 1 of null is ', 0)\n",
      "torch.Size([47040, 150])\n",
      "torch.Size([784, 3000, 1])\n",
      "('nb 2 of null is ', 0)\n",
      "('nb 3 of null is ', 7047336)\n",
      "25\n",
      "('nb 1 of null is ', 0)\n",
      "torch.Size([47040, 150])\n",
      "torch.Size([784, 3000, 1])\n",
      "('nb 2 of null is ', 0)\n",
      "('nb 3 of null is ', 7046517)\n",
      "26\n",
      "('nb 1 of null is ', 0)\n",
      "torch.Size([47040, 150])\n",
      "torch.Size([784, 3000, 1])\n",
      "('nb 2 of null is ', 0)\n",
      "('nb 3 of null is ', 7045648)\n",
      "27\n",
      "('nb 1 of null is ', 0)\n",
      "torch.Size([47040, 150])\n",
      "torch.Size([784, 3000, 1])\n",
      "('nb 2 of null is ', 0)\n",
      "('nb 3 of null is ', 7046462)\n",
      "28\n",
      "('nb 1 of null is ', 0)\n",
      "torch.Size([47040, 150])\n",
      "torch.Size([784, 3000, 1])\n",
      "('nb 2 of null is ', 0)\n",
      "('nb 3 of null is ', 7036903)\n",
      "29\n",
      "('nb 1 of null is ', 0)\n",
      "torch.Size([47040, 150])\n",
      "torch.Size([784, 3000, 1])\n",
      "('nb 2 of null is ', 0)\n",
      "('nb 3 of null is ', 7037109)\n",
      "30\n",
      "('nb 1 of null is ', 0)\n",
      "torch.Size([47040, 150])\n",
      "torch.Size([784, 3000, 1])\n",
      "('nb 2 of null is ', 0)\n",
      "('nb 3 of null is ', 7046396)\n",
      "31\n",
      "('nb 1 of null is ', 0)\n",
      "torch.Size([47040, 150])\n",
      "torch.Size([784, 3000, 1])\n",
      "('nb 2 of null is ', 0)\n",
      "('nb 3 of null is ', 7045698)\n",
      "32\n",
      "('nb 1 of null is ', 0)\n",
      "torch.Size([47040, 150])\n",
      "torch.Size([784, 3000, 1])\n",
      "('nb 2 of null is ', 0)\n",
      "('nb 3 of null is ', 7035491)\n",
      "33\n",
      "('nb 1 of null is ', 0)\n",
      "torch.Size([47040, 150])\n",
      "torch.Size([784, 3000, 1])\n",
      "('nb 2 of null is ', 0)\n",
      "('nb 3 of null is ', 7044909)\n",
      "34\n",
      "('nb 1 of null is ', 0)\n",
      "torch.Size([47040, 150])\n",
      "torch.Size([784, 3000, 1])\n",
      "('nb 2 of null is ', 0)\n",
      "('nb 3 of null is ', 7034687)\n",
      "35\n",
      "('nb 1 of null is ', 0)\n",
      "torch.Size([47040, 150])\n",
      "torch.Size([784, 3000, 1])\n",
      "('nb 2 of null is ', 0)\n",
      "('nb 3 of null is ', 7037919)\n",
      "36\n",
      "('nb 1 of null is ', 0)\n",
      "torch.Size([47040, 150])\n",
      "torch.Size([784, 3000, 1])\n",
      "('nb 2 of null is ', 0)\n",
      "('nb 3 of null is ', 7039428)\n",
      "37\n",
      "('nb 1 of null is ', 0)\n",
      "torch.Size([47040, 150])\n",
      "torch.Size([784, 3000, 1])\n",
      "('nb 2 of null is ', 0)\n",
      "('nb 3 of null is ', 7040130)\n",
      "38\n",
      "('nb 1 of null is ', 0)\n",
      "torch.Size([47040, 150])\n",
      "torch.Size([784, 3000, 1])\n",
      "('nb 2 of null is ', 0)\n",
      "('nb 3 of null is ', 7044869)\n",
      "39\n",
      "('nb 1 of null is ', 0)\n",
      "torch.Size([47040, 150])\n",
      "torch.Size([784, 3000, 1])\n",
      "('nb 2 of null is ', 0)\n",
      "('nb 3 of null is ', 7044205)\n",
      "40\n",
      "('nb 1 of null is ', 0)\n",
      "torch.Size([47040, 150])\n",
      "torch.Size([784, 3000, 1])\n",
      "('nb 2 of null is ', 0)\n",
      "('nb 3 of null is ', 7040270)\n",
      "41\n",
      "('nb 1 of null is ', 0)\n",
      "torch.Size([47040, 150])\n",
      "torch.Size([784, 3000, 1])\n",
      "('nb 2 of null is ', 0)\n",
      "('nb 3 of null is ', 7037666)\n",
      "42\n",
      "('nb 1 of null is ', 0)\n",
      "torch.Size([47040, 150])\n",
      "torch.Size([784, 3000, 1])\n",
      "('nb 2 of null is ', 0)\n",
      "('nb 3 of null is ', 7044197)\n",
      "43\n",
      "('nb 1 of null is ', 0)\n",
      "torch.Size([47040, 150])\n",
      "torch.Size([784, 3000, 1])\n",
      "('nb 2 of null is ', 0)\n",
      "('nb 3 of null is ', 7038687)\n",
      "44\n",
      "('nb 1 of null is ', 0)\n",
      "torch.Size([47040, 150])\n",
      "torch.Size([784, 3000, 1])\n",
      "('nb 2 of null is ', 0)\n",
      "('nb 3 of null is ', 7037968)\n",
      "45\n",
      "('nb 1 of null is ', 0)\n",
      "torch.Size([47040, 150])\n",
      "torch.Size([784, 3000, 1])\n",
      "('nb 2 of null is ', 0)\n",
      "('nb 3 of null is ', 7041808)\n",
      "46\n",
      "('nb 1 of null is ', 0)\n",
      "torch.Size([47040, 150])\n",
      "torch.Size([784, 3000, 1])\n",
      "('nb 2 of null is ', 0)\n",
      "('nb 3 of null is ', 7038682)\n",
      "47\n",
      "('nb 1 of null is ', 0)\n",
      "torch.Size([47040, 150])\n",
      "torch.Size([784, 3000, 1])\n",
      "('nb 2 of null is ', 0)\n",
      "('nb 3 of null is ', 7040181)\n",
      "48\n",
      "('nb 1 of null is ', 0)\n",
      "torch.Size([47040, 150])\n",
      "torch.Size([784, 3000, 1])\n",
      "('nb 2 of null is ', 0)\n",
      "('nb 3 of null is ', 7039406)\n",
      "49\n",
      "('nb 1 of null is ', 0)\n",
      "torch.Size([47040, 150])\n",
      "torch.Size([784, 3000, 1])\n",
      "('nb 2 of null is ', 0)\n",
      "('nb 3 of null is ', 7041726)\n",
      "('nb final of null is ', 88010998)\n",
      "('size out', torch.Size([196, 3000, 150]))\n",
      "torch.Size([196, 3000, 150])\n",
      "('patches extracted with size ', torch.Size([196, 3000, 600]))\n",
      "[[0, 24, 77], [0, 177, 78], [0, 172, 66], [0, 178, 93], [0, 46, 97], [0, 84, 80], [0, 156, 146], [0, 65, 187], [0, 66, 56], [0, 167, 65]]\n",
      "('sel', torch.Size([30000, 2, 600]))\n"
     ]
    },
    {
     "ename": "ValueError",
     "evalue": "Input contains NaN, infinity or a value too large for dtype('float32').",
     "output_type": "error",
     "traceback": [
      "\u001b[0;31m---------------------------------------------------------------------------\u001b[0m",
      "\u001b[0;31mValueError\u001b[0m                                Traceback (most recent call last)",
      "\u001b[0;32m<ipython-input-8-a1669a1f25f0>\u001b[0m in \u001b[0;36m<module>\u001b[0;34m()\u001b[0m\n\u001b[1;32m      1\u001b[0m \u001b[0mnet\u001b[0m\u001b[0;34m=\u001b[0m\u001b[0mCKN\u001b[0m\u001b[0;34m(\u001b[0m\u001b[0;34m)\u001b[0m\u001b[0;34m\u001b[0m\u001b[0m\n\u001b[1;32m      2\u001b[0m \u001b[0mnet\u001b[0m\u001b[0;34m=\u001b[0m\u001b[0mCKN\u001b[0m\u001b[0;34m(\u001b[0m\u001b[0mn_components\u001b[0m\u001b[0;34m=\u001b[0m\u001b[0;34m[\u001b[0m\u001b[0;36m150\u001b[0m\u001b[0;34m,\u001b[0m\u001b[0;36m100\u001b[0m\u001b[0;34m,\u001b[0m\u001b[0;36m100\u001b[0m\u001b[0;34m]\u001b[0m\u001b[0;34m,\u001b[0m\u001b[0mn_layers\u001b[0m\u001b[0;34m=\u001b[0m\u001b[0;36m3\u001b[0m\u001b[0;34m,\u001b[0m\u001b[0miter_max\u001b[0m\u001b[0;34m=\u001b[0m\u001b[0;36m100\u001b[0m\u001b[0;34m,\u001b[0m\u001b[0mn_patches\u001b[0m\u001b[0;34m=\u001b[0m\u001b[0;34m[\u001b[0m\u001b[0;36m5\u001b[0m\u001b[0;34m,\u001b[0m\u001b[0;36m2\u001b[0m\u001b[0;34m,\u001b[0m\u001b[0;36m2\u001b[0m\u001b[0;34m]\u001b[0m\u001b[0;34m,\u001b[0m\u001b[0msubsampling_factors\u001b[0m\u001b[0;34m=\u001b[0m\u001b[0;34m[\u001b[0m\u001b[0;36m2\u001b[0m\u001b[0;34m,\u001b[0m\u001b[0;36m2\u001b[0m\u001b[0;34m,\u001b[0m\u001b[0;36m2\u001b[0m\u001b[0;34m]\u001b[0m\u001b[0;34m,\u001b[0m\u001b[0mbatch_size\u001b[0m\u001b[0;34m=\u001b[0m\u001b[0;34m[\u001b[0m\u001b[0;36m60\u001b[0m\u001b[0;34m,\u001b[0m\u001b[0;36m60\u001b[0m\u001b[0;34m,\u001b[0m\u001b[0;36m60\u001b[0m\u001b[0;34m]\u001b[0m\u001b[0;34m)\u001b[0m\u001b[0;31m#Cell.fit_LBFGS(X)\u001b[0m\u001b[0;34m\u001b[0m\u001b[0m\n\u001b[0;32m----> 3\u001b[0;31m \u001b[0mnet\u001b[0m\u001b[0;34m.\u001b[0m\u001b[0mtrain_network\u001b[0m\u001b[0;34m(\u001b[0m\u001b[0mdata2\u001b[0m\u001b[0;34m)\u001b[0m\u001b[0;34m\u001b[0m\u001b[0m\n\u001b[0m",
      "\u001b[0;32m/Users/cdonnat/Dropbox/Pattern-analysis/pattern_detection/CKN.pyc\u001b[0m in \u001b[0;36mtrain_network\u001b[0;34m(self, X)\u001b[0m\n\u001b[1;32m     60\u001b[0m                 \u001b[0mself\u001b[0m\u001b[0;34m.\u001b[0m\u001b[0mKernel\u001b[0m\u001b[0;34m[\u001b[0m\u001b[0mk\u001b[0m\u001b[0;34m]\u001b[0m\u001b[0;34m.\u001b[0m\u001b[0minit_W\u001b[0m\u001b[0;34m(\u001b[0m\u001b[0minput_map\u001b[0m\u001b[0;34m,\u001b[0m\u001b[0mpatches_given\u001b[0m\u001b[0;34m=\u001b[0m\u001b[0mFalse\u001b[0m\u001b[0;34m)\u001b[0m\u001b[0;34m\u001b[0m\u001b[0m\n\u001b[1;32m     61\u001b[0m             \u001b[0;32melse\u001b[0m\u001b[0;34m:\u001b[0m\u001b[0;34m\u001b[0m\u001b[0m\n\u001b[0;32m---> 62\u001b[0;31m                 \u001b[0mself\u001b[0m\u001b[0;34m.\u001b[0m\u001b[0mKernel\u001b[0m\u001b[0;34m[\u001b[0m\u001b[0mk\u001b[0m\u001b[0;34m]\u001b[0m\u001b[0;34m.\u001b[0m\u001b[0minit_W\u001b[0m\u001b[0;34m(\u001b[0m\u001b[0minput_map\u001b[0m\u001b[0;34m,\u001b[0m\u001b[0mpatches_given\u001b[0m\u001b[0;34m=\u001b[0m\u001b[0mTrue\u001b[0m\u001b[0;34m)\u001b[0m\u001b[0;34m\u001b[0m\u001b[0m\n\u001b[0m\u001b[1;32m     63\u001b[0m             \u001b[0mself\u001b[0m\u001b[0;34m.\u001b[0m\u001b[0mKernel\u001b[0m\u001b[0;34m[\u001b[0m\u001b[0mk\u001b[0m\u001b[0;34m]\u001b[0m\u001b[0;34m.\u001b[0m\u001b[0mfit\u001b[0m\u001b[0;34m(\u001b[0m\u001b[0minput_map\u001b[0m\u001b[0;34m,\u001b[0m\u001b[0minit\u001b[0m\u001b[0;34m=\u001b[0m\u001b[0mFalse\u001b[0m\u001b[0;34m)\u001b[0m\u001b[0;34m\u001b[0m\u001b[0m\n\u001b[1;32m     64\u001b[0m             \u001b[0minput_map\u001b[0m\u001b[0;34m=\u001b[0m\u001b[0mself\u001b[0m\u001b[0;34m.\u001b[0m\u001b[0mget_activation_map\u001b[0m\u001b[0;34m(\u001b[0m\u001b[0mk\u001b[0m\u001b[0;34m)\u001b[0m\u001b[0;34m\u001b[0m\u001b[0m\n",
      "\u001b[0;32m/Users/cdonnat/Dropbox/Pattern-analysis/pattern_detection/Nystrom.pyc\u001b[0m in \u001b[0;36minit_W\u001b[0;34m(self, X, patches_given)\u001b[0m\n\u001b[1;32m     97\u001b[0m         \u001b[0mself\u001b[0m\u001b[0;34m.\u001b[0m\u001b[0mtraining_data\u001b[0m\u001b[0;34m=\u001b[0m\u001b[0mself\u001b[0m\u001b[0;34m.\u001b[0m\u001b[0mselect_training_patches\u001b[0m\u001b[0;34m(\u001b[0m\u001b[0mX\u001b[0m\u001b[0;34m,\u001b[0m\u001b[0mnp\u001b[0m\u001b[0;34m.\u001b[0m\u001b[0mmin\u001b[0m\u001b[0;34m(\u001b[0m\u001b[0;34m[\u001b[0m\u001b[0;36m10\u001b[0m\u001b[0;34m,\u001b[0m\u001b[0mX\u001b[0m\u001b[0;34m.\u001b[0m\u001b[0msize\u001b[0m\u001b[0;34m(\u001b[0m\u001b[0;34m)\u001b[0m\u001b[0;34m[\u001b[0m\u001b[0;36m0\u001b[0m\u001b[0;34m]\u001b[0m\u001b[0;34m]\u001b[0m\u001b[0;34m)\u001b[0m\u001b[0;34m,\u001b[0m\u001b[0mpatches_given\u001b[0m\u001b[0;34m=\u001b[0m\u001b[0mpatches_given\u001b[0m\u001b[0;34m)\u001b[0m\u001b[0;34m\u001b[0m\u001b[0m\n\u001b[1;32m     98\u001b[0m         \u001b[0mpca\u001b[0m\u001b[0;34m=\u001b[0m\u001b[0mPCA\u001b[0m\u001b[0;34m(\u001b[0m\u001b[0mn_components\u001b[0m\u001b[0;34m=\u001b[0m\u001b[0mnp\u001b[0m\u001b[0;34m.\u001b[0m\u001b[0mmin\u001b[0m\u001b[0;34m(\u001b[0m\u001b[0;34m[\u001b[0m\u001b[0mself\u001b[0m\u001b[0;34m.\u001b[0m\u001b[0mtraining_data\u001b[0m\u001b[0;34m.\u001b[0m\u001b[0msize\u001b[0m\u001b[0;34m(\u001b[0m\u001b[0;34m)\u001b[0m\u001b[0;34m[\u001b[0m\u001b[0;36m2\u001b[0m\u001b[0;34m]\u001b[0m\u001b[0;34m,\u001b[0m\u001b[0;36m15\u001b[0m\u001b[0;34m]\u001b[0m\u001b[0;34m)\u001b[0m\u001b[0;34m,\u001b[0m\u001b[0mwhiten\u001b[0m\u001b[0;34m=\u001b[0m\u001b[0mTrue\u001b[0m\u001b[0;34m)\u001b[0m\u001b[0;34m\u001b[0m\u001b[0m\n\u001b[0;32m---> 99\u001b[0;31m         \u001b[0mX_tilde2\u001b[0m\u001b[0;34m=\u001b[0m\u001b[0mpca\u001b[0m\u001b[0;34m.\u001b[0m\u001b[0mfit_transform\u001b[0m\u001b[0;34m(\u001b[0m\u001b[0mself\u001b[0m\u001b[0;34m.\u001b[0m\u001b[0mtraining_data\u001b[0m\u001b[0;34m.\u001b[0m\u001b[0mview\u001b[0m\u001b[0;34m(\u001b[0m\u001b[0;34m-\u001b[0m\u001b[0;36m1\u001b[0m\u001b[0;34m,\u001b[0m\u001b[0mself\u001b[0m\u001b[0;34m.\u001b[0m\u001b[0mtraining_data\u001b[0m\u001b[0;34m.\u001b[0m\u001b[0msize\u001b[0m\u001b[0;34m(\u001b[0m\u001b[0;34m)\u001b[0m\u001b[0;34m[\u001b[0m\u001b[0;36m2\u001b[0m\u001b[0;34m]\u001b[0m\u001b[0;34m)\u001b[0m\u001b[0;34m.\u001b[0m\u001b[0mnumpy\u001b[0m\u001b[0;34m(\u001b[0m\u001b[0;34m)\u001b[0m\u001b[0;34m)\u001b[0m\u001b[0;34m\u001b[0m\u001b[0m\n\u001b[0m\u001b[1;32m    100\u001b[0m         \u001b[0mself\u001b[0m\u001b[0;34m.\u001b[0m\u001b[0mtraining_data\u001b[0m\u001b[0;34m=\u001b[0m\u001b[0mtorch\u001b[0m\u001b[0;34m.\u001b[0m\u001b[0mTensor\u001b[0m\u001b[0;34m(\u001b[0m\u001b[0mX_tilde2\u001b[0m\u001b[0;34m)\u001b[0m\u001b[0;34m.\u001b[0m\u001b[0mcontiguous\u001b[0m\u001b[0;34m(\u001b[0m\u001b[0;34m)\u001b[0m\u001b[0;34m.\u001b[0m\u001b[0mview\u001b[0m\u001b[0;34m(\u001b[0m\u001b[0mself\u001b[0m\u001b[0;34m.\u001b[0m\u001b[0mtraining_data\u001b[0m\u001b[0;34m.\u001b[0m\u001b[0msize\u001b[0m\u001b[0;34m(\u001b[0m\u001b[0;34m)\u001b[0m\u001b[0;34m[\u001b[0m\u001b[0;36m0\u001b[0m\u001b[0;34m]\u001b[0m\u001b[0;34m,\u001b[0m\u001b[0;36m2\u001b[0m\u001b[0;34m,\u001b[0m\u001b[0;34m-\u001b[0m\u001b[0;36m1\u001b[0m\u001b[0;34m)\u001b[0m\u001b[0;34m\u001b[0m\u001b[0m\n\u001b[1;32m    101\u001b[0m         \u001b[0mself\u001b[0m\u001b[0;34m.\u001b[0m\u001b[0mpca\u001b[0m\u001b[0;34m=\u001b[0m\u001b[0mpca\u001b[0m\u001b[0;34m\u001b[0m\u001b[0m\n",
      "\u001b[0;32m/Users/cdonnat/anaconda/lib/python2.7/site-packages/sklearn/decomposition/pca.pyc\u001b[0m in \u001b[0;36mfit_transform\u001b[0;34m(self, X, y)\u001b[0m\n\u001b[1;32m    346\u001b[0m \u001b[0;34m\u001b[0m\u001b[0m\n\u001b[1;32m    347\u001b[0m         \"\"\"\n\u001b[0;32m--> 348\u001b[0;31m         \u001b[0mU\u001b[0m\u001b[0;34m,\u001b[0m \u001b[0mS\u001b[0m\u001b[0;34m,\u001b[0m \u001b[0mV\u001b[0m \u001b[0;34m=\u001b[0m \u001b[0mself\u001b[0m\u001b[0;34m.\u001b[0m\u001b[0m_fit\u001b[0m\u001b[0;34m(\u001b[0m\u001b[0mX\u001b[0m\u001b[0;34m)\u001b[0m\u001b[0;34m\u001b[0m\u001b[0m\n\u001b[0m\u001b[1;32m    349\u001b[0m         \u001b[0mU\u001b[0m \u001b[0;34m=\u001b[0m \u001b[0mU\u001b[0m\u001b[0;34m[\u001b[0m\u001b[0;34m:\u001b[0m\u001b[0;34m,\u001b[0m \u001b[0;34m:\u001b[0m\u001b[0mself\u001b[0m\u001b[0;34m.\u001b[0m\u001b[0mn_components_\u001b[0m\u001b[0;34m]\u001b[0m\u001b[0;34m\u001b[0m\u001b[0m\n\u001b[1;32m    350\u001b[0m \u001b[0;34m\u001b[0m\u001b[0m\n",
      "\u001b[0;32m/Users/cdonnat/anaconda/lib/python2.7/site-packages/sklearn/decomposition/pca.pyc\u001b[0m in \u001b[0;36m_fit\u001b[0;34m(self, X)\u001b[0m\n\u001b[1;32m    368\u001b[0m \u001b[0;34m\u001b[0m\u001b[0m\n\u001b[1;32m    369\u001b[0m         X = check_array(X, dtype=[np.float64, np.float32], ensure_2d=True,\n\u001b[0;32m--> 370\u001b[0;31m                         copy=self.copy)\n\u001b[0m\u001b[1;32m    371\u001b[0m \u001b[0;34m\u001b[0m\u001b[0m\n\u001b[1;32m    372\u001b[0m         \u001b[0;31m# Handle n_components==None\u001b[0m\u001b[0;34m\u001b[0m\u001b[0;34m\u001b[0m\u001b[0m\n",
      "\u001b[0;32m/Users/cdonnat/anaconda/lib/python2.7/site-packages/sklearn/utils/validation.pyc\u001b[0m in \u001b[0;36mcheck_array\u001b[0;34m(array, accept_sparse, dtype, order, copy, force_all_finite, ensure_2d, allow_nd, ensure_min_samples, ensure_min_features, warn_on_dtype, estimator)\u001b[0m\n\u001b[1;32m    451\u001b[0m                              % (array.ndim, estimator_name))\n\u001b[1;32m    452\u001b[0m         \u001b[0;32mif\u001b[0m \u001b[0mforce_all_finite\u001b[0m\u001b[0;34m:\u001b[0m\u001b[0;34m\u001b[0m\u001b[0m\n\u001b[0;32m--> 453\u001b[0;31m             \u001b[0m_assert_all_finite\u001b[0m\u001b[0;34m(\u001b[0m\u001b[0marray\u001b[0m\u001b[0;34m)\u001b[0m\u001b[0;34m\u001b[0m\u001b[0m\n\u001b[0m\u001b[1;32m    454\u001b[0m \u001b[0;34m\u001b[0m\u001b[0m\n\u001b[1;32m    455\u001b[0m     \u001b[0mshape_repr\u001b[0m \u001b[0;34m=\u001b[0m \u001b[0m_shape_repr\u001b[0m\u001b[0;34m(\u001b[0m\u001b[0marray\u001b[0m\u001b[0;34m.\u001b[0m\u001b[0mshape\u001b[0m\u001b[0;34m)\u001b[0m\u001b[0;34m\u001b[0m\u001b[0m\n",
      "\u001b[0;32m/Users/cdonnat/anaconda/lib/python2.7/site-packages/sklearn/utils/validation.pyc\u001b[0m in \u001b[0;36m_assert_all_finite\u001b[0;34m(X)\u001b[0m\n\u001b[1;32m     42\u001b[0m             and not np.isfinite(X).all()):\n\u001b[1;32m     43\u001b[0m         raise ValueError(\"Input contains NaN, infinity\"\n\u001b[0;32m---> 44\u001b[0;31m                          \" or a value too large for %r.\" % X.dtype)\n\u001b[0m\u001b[1;32m     45\u001b[0m \u001b[0;34m\u001b[0m\u001b[0m\n\u001b[1;32m     46\u001b[0m \u001b[0;34m\u001b[0m\u001b[0m\n",
      "\u001b[0;31mValueError\u001b[0m: Input contains NaN, infinity or a value too large for dtype('float32')."
     ]
    }
   ],
   "source": [
    "net=CKN()\n",
    "net=CKN(n_components=[150,100,100],n_layers=3,iter_max=100,n_patches=[5,2,2],subsampling_factors=[2,2,2],batch_size=[60,60,60])#Cell.fit_LBFGS(X)\n",
    "net.train_network(data2)"
   ]
  },
  {
   "cell_type": "code",
   "execution_count": 91,
   "metadata": {
    "collapsed": false
   },
   "outputs": [],
   "source": [
    "test=Nystrom()\n",
    "input_map=net.Kernel[0].output\n",
    "#test.init_W(input_map,patches_given=False)"
   ]
  },
  {
   "cell_type": "code",
   "execution_count": null,
   "metadata": {
    "collapsed": false
   },
   "outputs": [],
   "source": [
    "net.Kernel[2].eta"
   ]
  },
  {
   "cell_type": "code",
   "execution_count": 13,
   "metadata": {
    "collapsed": false
   },
   "outputs": [
    {
     "ename": "ValueError",
     "evalue": "zero-size array to reduction operation minimum which has no identity",
     "output_type": "error",
     "traceback": [
      "\u001b[0;31m---------------------------------------------------------------------------\u001b[0m",
      "\u001b[0;31mValueError\u001b[0m                                Traceback (most recent call last)",
      "\u001b[0;32m<ipython-input-13-5fa6c1487e14>\u001b[0m in \u001b[0;36m<module>\u001b[0;34m()\u001b[0m\n\u001b[1;32m      1\u001b[0m \u001b[0msb\u001b[0m\u001b[0;34m.\u001b[0m\u001b[0mheatmap\u001b[0m\u001b[0;34m(\u001b[0m\u001b[0mnet\u001b[0m\u001b[0;34m.\u001b[0m\u001b[0mKernel\u001b[0m\u001b[0;34m[\u001b[0m\u001b[0;36m0\u001b[0m\u001b[0;34m]\u001b[0m\u001b[0;34m.\u001b[0m\u001b[0mW\u001b[0m\u001b[0;34m.\u001b[0m\u001b[0mdata\u001b[0m\u001b[0;34m.\u001b[0m\u001b[0mnumpy\u001b[0m\u001b[0;34m(\u001b[0m\u001b[0;34m)\u001b[0m\u001b[0;34m)\u001b[0m\u001b[0;34m\u001b[0m\u001b[0m\n\u001b[1;32m      2\u001b[0m \u001b[0mplt\u001b[0m\u001b[0;34m.\u001b[0m\u001b[0mfigure\u001b[0m\u001b[0;34m(\u001b[0m\u001b[0;34m)\u001b[0m\u001b[0;34m\u001b[0m\u001b[0m\n\u001b[0;32m----> 3\u001b[0;31m \u001b[0msb\u001b[0m\u001b[0;34m.\u001b[0m\u001b[0mheatmap\u001b[0m\u001b[0;34m(\u001b[0m\u001b[0mnet\u001b[0m\u001b[0;34m.\u001b[0m\u001b[0mKernel\u001b[0m\u001b[0;34m[\u001b[0m\u001b[0;36m1\u001b[0m\u001b[0;34m]\u001b[0m\u001b[0;34m.\u001b[0m\u001b[0mW\u001b[0m\u001b[0;34m.\u001b[0m\u001b[0mnumpy\u001b[0m\u001b[0;34m(\u001b[0m\u001b[0;34m)\u001b[0m\u001b[0;34m)\u001b[0m\u001b[0;34m\u001b[0m\u001b[0m\n\u001b[0m\u001b[1;32m      4\u001b[0m \u001b[0;31m#plt.figure()\u001b[0m\u001b[0;34m\u001b[0m\u001b[0;34m\u001b[0m\u001b[0m\n\u001b[1;32m      5\u001b[0m \u001b[0;31m#sb.heatmap(net.Kernel[2].W.data.numpy())\u001b[0m\u001b[0;34m\u001b[0m\u001b[0;34m\u001b[0m\u001b[0m\n",
      "\u001b[0;32m/Users/cdonnat/anaconda/lib/python2.7/site-packages/seaborn/matrix.pyc\u001b[0m in \u001b[0;36mheatmap\u001b[0;34m(data, vmin, vmax, cmap, center, robust, annot, fmt, annot_kws, linewidths, linecolor, cbar, cbar_kws, cbar_ax, square, ax, xticklabels, yticklabels, mask, **kwargs)\u001b[0m\n\u001b[1;32m    483\u001b[0m     plotter = _HeatMapper(data, vmin, vmax, cmap, center, robust, annot, fmt,\n\u001b[1;32m    484\u001b[0m                           \u001b[0mannot_kws\u001b[0m\u001b[0;34m,\u001b[0m \u001b[0mcbar\u001b[0m\u001b[0;34m,\u001b[0m \u001b[0mcbar_kws\u001b[0m\u001b[0;34m,\u001b[0m \u001b[0mxticklabels\u001b[0m\u001b[0;34m,\u001b[0m\u001b[0;34m\u001b[0m\u001b[0m\n\u001b[0;32m--> 485\u001b[0;31m                           yticklabels, mask)\n\u001b[0m\u001b[1;32m    486\u001b[0m \u001b[0;34m\u001b[0m\u001b[0m\n\u001b[1;32m    487\u001b[0m     \u001b[0;31m# Add the pcolormesh kwargs here\u001b[0m\u001b[0;34m\u001b[0m\u001b[0;34m\u001b[0m\u001b[0m\n",
      "\u001b[0;32m/Users/cdonnat/anaconda/lib/python2.7/site-packages/seaborn/matrix.pyc\u001b[0m in \u001b[0;36m__init__\u001b[0;34m(self, data, vmin, vmax, cmap, center, robust, annot, fmt, annot_kws, cbar, cbar_kws, xticklabels, yticklabels, mask)\u001b[0m\n\u001b[1;32m    165\u001b[0m         \u001b[0;31m# Determine good default values for the colormapping\u001b[0m\u001b[0;34m\u001b[0m\u001b[0;34m\u001b[0m\u001b[0m\n\u001b[1;32m    166\u001b[0m         self._determine_cmap_params(plot_data, vmin, vmax,\n\u001b[0;32m--> 167\u001b[0;31m                                     cmap, center, robust)\n\u001b[0m\u001b[1;32m    168\u001b[0m \u001b[0;34m\u001b[0m\u001b[0m\n\u001b[1;32m    169\u001b[0m         \u001b[0;31m# Sort out the annotations\u001b[0m\u001b[0;34m\u001b[0m\u001b[0;34m\u001b[0m\u001b[0m\n",
      "\u001b[0;32m/Users/cdonnat/anaconda/lib/python2.7/site-packages/seaborn/matrix.pyc\u001b[0m in \u001b[0;36m_determine_cmap_params\u001b[0;34m(self, plot_data, vmin, vmax, cmap, center, robust)\u001b[0m\n\u001b[1;32m    204\u001b[0m         \u001b[0mcalc_data\u001b[0m \u001b[0;34m=\u001b[0m \u001b[0mplot_data\u001b[0m\u001b[0;34m.\u001b[0m\u001b[0mdata\u001b[0m\u001b[0;34m[\u001b[0m\u001b[0;34m~\u001b[0m\u001b[0mnp\u001b[0m\u001b[0;34m.\u001b[0m\u001b[0misnan\u001b[0m\u001b[0;34m(\u001b[0m\u001b[0mplot_data\u001b[0m\u001b[0;34m.\u001b[0m\u001b[0mdata\u001b[0m\u001b[0;34m)\u001b[0m\u001b[0;34m]\u001b[0m\u001b[0;34m\u001b[0m\u001b[0m\n\u001b[1;32m    205\u001b[0m         \u001b[0;32mif\u001b[0m \u001b[0mvmin\u001b[0m \u001b[0;32mis\u001b[0m \u001b[0mNone\u001b[0m\u001b[0;34m:\u001b[0m\u001b[0;34m\u001b[0m\u001b[0m\n\u001b[0;32m--> 206\u001b[0;31m             \u001b[0mvmin\u001b[0m \u001b[0;34m=\u001b[0m \u001b[0mnp\u001b[0m\u001b[0;34m.\u001b[0m\u001b[0mpercentile\u001b[0m\u001b[0;34m(\u001b[0m\u001b[0mcalc_data\u001b[0m\u001b[0;34m,\u001b[0m \u001b[0;36m2\u001b[0m\u001b[0;34m)\u001b[0m \u001b[0;32mif\u001b[0m \u001b[0mrobust\u001b[0m \u001b[0;32melse\u001b[0m \u001b[0mcalc_data\u001b[0m\u001b[0;34m.\u001b[0m\u001b[0mmin\u001b[0m\u001b[0;34m(\u001b[0m\u001b[0;34m)\u001b[0m\u001b[0;34m\u001b[0m\u001b[0m\n\u001b[0m\u001b[1;32m    207\u001b[0m         \u001b[0;32mif\u001b[0m \u001b[0mvmax\u001b[0m \u001b[0;32mis\u001b[0m \u001b[0mNone\u001b[0m\u001b[0;34m:\u001b[0m\u001b[0;34m\u001b[0m\u001b[0m\n\u001b[1;32m    208\u001b[0m             \u001b[0mvmax\u001b[0m \u001b[0;34m=\u001b[0m \u001b[0mnp\u001b[0m\u001b[0;34m.\u001b[0m\u001b[0mpercentile\u001b[0m\u001b[0;34m(\u001b[0m\u001b[0mcalc_data\u001b[0m\u001b[0;34m,\u001b[0m \u001b[0;36m98\u001b[0m\u001b[0;34m)\u001b[0m \u001b[0;32mif\u001b[0m \u001b[0mrobust\u001b[0m \u001b[0;32melse\u001b[0m \u001b[0mcalc_data\u001b[0m\u001b[0;34m.\u001b[0m\u001b[0mmax\u001b[0m\u001b[0;34m(\u001b[0m\u001b[0;34m)\u001b[0m\u001b[0;34m\u001b[0m\u001b[0m\n",
      "\u001b[0;32m/Users/cdonnat/anaconda/lib/python2.7/site-packages/numpy/core/_methods.pyc\u001b[0m in \u001b[0;36m_amin\u001b[0;34m(a, axis, out, keepdims)\u001b[0m\n\u001b[1;32m     27\u001b[0m \u001b[0;34m\u001b[0m\u001b[0m\n\u001b[1;32m     28\u001b[0m \u001b[0;32mdef\u001b[0m \u001b[0m_amin\u001b[0m\u001b[0;34m(\u001b[0m\u001b[0ma\u001b[0m\u001b[0;34m,\u001b[0m \u001b[0maxis\u001b[0m\u001b[0;34m=\u001b[0m\u001b[0mNone\u001b[0m\u001b[0;34m,\u001b[0m \u001b[0mout\u001b[0m\u001b[0;34m=\u001b[0m\u001b[0mNone\u001b[0m\u001b[0;34m,\u001b[0m \u001b[0mkeepdims\u001b[0m\u001b[0;34m=\u001b[0m\u001b[0mFalse\u001b[0m\u001b[0;34m)\u001b[0m\u001b[0;34m:\u001b[0m\u001b[0;34m\u001b[0m\u001b[0m\n\u001b[0;32m---> 29\u001b[0;31m     \u001b[0;32mreturn\u001b[0m \u001b[0mumr_minimum\u001b[0m\u001b[0;34m(\u001b[0m\u001b[0ma\u001b[0m\u001b[0;34m,\u001b[0m \u001b[0maxis\u001b[0m\u001b[0;34m,\u001b[0m \u001b[0mNone\u001b[0m\u001b[0;34m,\u001b[0m \u001b[0mout\u001b[0m\u001b[0;34m,\u001b[0m \u001b[0mkeepdims\u001b[0m\u001b[0;34m)\u001b[0m\u001b[0;34m\u001b[0m\u001b[0m\n\u001b[0m\u001b[1;32m     30\u001b[0m \u001b[0;34m\u001b[0m\u001b[0m\n\u001b[1;32m     31\u001b[0m \u001b[0;32mdef\u001b[0m \u001b[0m_sum\u001b[0m\u001b[0;34m(\u001b[0m\u001b[0ma\u001b[0m\u001b[0;34m,\u001b[0m \u001b[0maxis\u001b[0m\u001b[0;34m=\u001b[0m\u001b[0mNone\u001b[0m\u001b[0;34m,\u001b[0m \u001b[0mdtype\u001b[0m\u001b[0;34m=\u001b[0m\u001b[0mNone\u001b[0m\u001b[0;34m,\u001b[0m \u001b[0mout\u001b[0m\u001b[0;34m=\u001b[0m\u001b[0mNone\u001b[0m\u001b[0;34m,\u001b[0m \u001b[0mkeepdims\u001b[0m\u001b[0;34m=\u001b[0m\u001b[0mFalse\u001b[0m\u001b[0;34m)\u001b[0m\u001b[0;34m:\u001b[0m\u001b[0;34m\u001b[0m\u001b[0m\n",
      "\u001b[0;31mValueError\u001b[0m: zero-size array to reduction operation minimum which has no identity"
     ]
    },
    {
     "data": {
      "image/png": "[encoded data removed]",
      "text/plain": [
       "<matplotlib.figure.Figure at 0x12e878310>"
      ]
     },
     "metadata": {},
     "output_type": "display_data"
    },
    {
     "data": {
      "text/plain": [
       "<matplotlib.figure.Figure at 0x103da2250>"
      ]
     },
     "metadata": {},
     "output_type": "display_data"
    }
   ],
   "source": [
    "sb.heatmap(net.Kernel[0].W.data.numpy())\n",
    "plt.figure()\n",
    "sb.heatmap(net.Kernel[1].W.numpy())\n",
    "#plt.figure()\n",
    "#sb.heatmap(net.Kernel[2].W.data.numpy())"
   ]
  },
  {
   "cell_type": "code",
   "execution_count": 16,
   "metadata": {
    "collapsed": false
   },
   "outputs": [
    {
     "data": {
      "text/plain": [
       "array([], dtype=float32)"
      ]
     },
     "execution_count": 16,
     "metadata": {},
     "output_type": "execute_result"
    }
   ],
   "source": [
    "net.Kernel[1].W.numpy()"
   ]
  },
  {
   "cell_type": "code",
   "execution_count": null,
   "metadata": {
    "collapsed": false
   },
   "outputs": [
    {
     "name": "stdout",
     "output_type": "stream",
     "text": [
      "torch.Size([784, 3000, 25])\n"
     ]
    }
   ],
   "source": [
    "print(net.Kernel[0].all_patches.size())\n",
    "plt.figure()\n",
    "sb.heatmap(net.Kernel[0].all_patches[70,:100,:].numpy())\n",
    "plt.figure()\n",
    "sb.heatmap(net.Kernel[0].all_patches[100:600,100,:].numpy())\n",
    "print(torch.max(net.Kernel[0].all_patches[70,:100,:]))\n",
    "print(torch.min(net.Kernel[0].all_patches[70,:100,:]))\n",
    "self=net\n",
    "self0=net.Kernel[0]"
   ]
  },
  {
   "cell_type": "code",
   "execution_count": 33,
   "metadata": {
    "collapsed": false
   },
   "outputs": [
    {
     "name": "stdout",
     "output_type": "stream",
     "text": [
      "5.2735280213e-26\n"
     ]
    }
   ],
   "source": [
    "x=net.Kernel[0].all_patches[70,100,:]\n",
    "y=net.Kernel[0].all_patches[70,120,:]\n",
    "output_xy=np.exp(torch.sum((x-y)**2)/(-2*self0.sigma))\n",
    "print(output_xy)"
   ]
  },
  {
   "cell_type": "code",
   "execution_count": 87,
   "metadata": {
    "collapsed": false
   },
   "outputs": [
    {
     "data": {
      "text/plain": [
       "0.358013334983801"
      ]
     },
     "execution_count": 87,
     "metadata": {},
     "output_type": "execute_result"
    }
   ],
   "source": [
    "np.exp(-torch.sum((x-y)**2/(2*np.std(distances2.numpy()))))"
   ]
  },
  {
   "cell_type": "code",
   "execution_count": 89,
   "metadata": {
    "collapsed": false
   },
   "outputs": [
    {
     "name": "stdout",
     "output_type": "stream",
     "text": [
      "torch.Size([30000])\n",
      "23.3152103424\n",
      "0.106034809351\n"
     ]
    }
   ],
   "source": [
    "distances2=torch.clamp(torch.sum((self0.training_data[:,0,:]-self0.training_data[:,1,:])**2,dim=1),0,100)\n",
    "print(distances2.size())\n",
    "print(np.max([np.std(distances2.numpy()),0.0001]))\n",
    "print(np.max([np.percentile(distances2.numpy(),10),0.0001]))"
   ]
  },
  {
   "cell_type": "code",
   "execution_count": 90,
   "metadata": {
    "collapsed": false
   },
   "outputs": [
    {
     "data": {
      "text/plain": [
       "(array([  8.24500000e+03,   1.77300000e+03,   8.67000000e+02,\n",
       "          5.46000000e+02,   4.69000000e+02,   3.51000000e+02,\n",
       "          3.75000000e+02,   4.67000000e+02,   5.44000000e+02,\n",
       "          6.03000000e+02,   6.46000000e+02,   7.02000000e+02,\n",
       "          7.66000000e+02,   7.35000000e+02,   6.46000000e+02,\n",
       "          7.09000000e+02,   6.68000000e+02,   6.45000000e+02,\n",
       "          5.95000000e+02,   5.29000000e+02,   5.78000000e+02,\n",
       "          5.73000000e+02,   4.52000000e+02,   4.04000000e+02,\n",
       "          3.78000000e+02,   3.88000000e+02,   3.16000000e+02,\n",
       "          2.92000000e+02,   2.78000000e+02,   2.66000000e+02,\n",
       "          2.12000000e+02,   2.27000000e+02,   2.06000000e+02,\n",
       "          1.86000000e+02,   1.66000000e+02,   1.37000000e+02,\n",
       "          1.51000000e+02,   1.53000000e+02,   1.20000000e+02,\n",
       "          1.35000000e+02,   1.10000000e+02,   1.15000000e+02,\n",
       "          1.03000000e+02,   8.90000000e+01,   8.50000000e+01,\n",
       "          9.40000000e+01,   9.60000000e+01,   1.03000000e+02,\n",
       "          8.80000000e+01,   9.20000000e+01,   6.40000000e+01,\n",
       "          7.30000000e+01,   6.50000000e+01,   6.00000000e+01,\n",
       "          6.20000000e+01,   5.60000000e+01,   5.70000000e+01,\n",
       "          4.50000000e+01,   4.50000000e+01,   4.80000000e+01,\n",
       "          4.40000000e+01,   4.60000000e+01,   3.20000000e+01,\n",
       "          3.80000000e+01,   2.50000000e+01,   4.00000000e+01,\n",
       "          3.20000000e+01,   2.40000000e+01,   3.60000000e+01,\n",
       "          2.30000000e+01,   2.80000000e+01,   2.20000000e+01,\n",
       "          2.40000000e+01,   2.90000000e+01,   2.60000000e+01,\n",
       "          1.50000000e+01,   2.70000000e+01,   1.80000000e+01,\n",
       "          2.00000000e+01,   1.50000000e+01,   2.00000000e+01,\n",
       "          1.20000000e+01,   1.10000000e+01,   2.10000000e+01,\n",
       "          1.80000000e+01,   1.40000000e+01,   1.40000000e+01,\n",
       "          2.00000000e+01,   1.10000000e+01,   2.00000000e+01,\n",
       "          1.40000000e+01,   1.80000000e+01,   2.00000000e+01,\n",
       "          6.00000000e+00,   1.20000000e+01,   1.40000000e+01,\n",
       "          1.70000000e+01,   1.30000000e+01,   1.20000000e+01,\n",
       "          1.00000000e+02]),\n",
       " array([   0.,    1.,    2.,    3.,    4.,    5.,    6.,    7.,    8.,\n",
       "           9.,   10.,   11.,   12.,   13.,   14.,   15.,   16.,   17.,\n",
       "          18.,   19.,   20.,   21.,   22.,   23.,   24.,   25.,   26.,\n",
       "          27.,   28.,   29.,   30.,   31.,   32.,   33.,   34.,   35.,\n",
       "          36.,   37.,   38.,   39.,   40.,   41.,   42.,   43.,   44.,\n",
       "          45.,   46.,   47.,   48.,   49.,   50.,   51.,   52.,   53.,\n",
       "          54.,   55.,   56.,   57.,   58.,   59.,   60.,   61.,   62.,\n",
       "          63.,   64.,   65.,   66.,   67.,   68.,   69.,   70.,   71.,\n",
       "          72.,   73.,   74.,   75.,   76.,   77.,   78.,   79.,   80.,\n",
       "          81.,   82.,   83.,   84.,   85.,   86.,   87.,   88.,   89.,\n",
       "          90.,   91.,   92.,   93.,   94.,   95.,   96.,   97.,   98.,\n",
       "          99.,  100.]),\n",
       " <a list of 100 Patch objects>)"
      ]
     },
     "execution_count": 90,
     "metadata": {},
     "output_type": "execute_result"
    },
    {
     "data": {
      "image/png": "[encoded data removed]",
      "text/plain": [
       "<matplotlib.figure.Figure at 0x134ae3d10>"
      ]
     },
     "metadata": {},
     "output_type": "display_data"
    }
   ],
   "source": [
    "plt.hist(np.sort(distances2.view(-1,1).squeeze().numpy())[:29000],bins=100)"
   ]
  },
  {
   "cell_type": "code",
   "execution_count": 66,
   "metadata": {
    "collapsed": false
   },
   "outputs": [
    {
     "name": "stdout",
     "output_type": "stream",
     "text": [
      "(30000,)\n",
      "[ 16.54504395   6.92134619  23.29223633   9.6133709   55.42006302\n",
      "   9.14868259  18.74815369   6.34567642   0.16350101   6.90975046]\n"
     ]
    }
   ],
   "source": [
    "testyy=distances2.view(-1,1).squeeze().numpy()\n",
    "print(testyy.shape)\n",
    "print(testyy[:10])"
   ]
  },
  {
   "cell_type": "code",
   "execution_count": 67,
   "metadata": {
    "collapsed": false
   },
   "outputs": [
    {
     "name": "stdout",
     "output_type": "stream",
     "text": [
      "[ 0.  0.  0.  0.  0.  0.  0.  0.  0.  0.]\n"
     ]
    }
   ],
   "source": [
    "testyy.sort()\n",
    "print(testyy[:10])"
   ]
  },
  {
   "cell_type": "code",
   "execution_count": 24,
   "metadata": {
    "collapsed": false
   },
   "outputs": [
    {
     "data": {
      "text/plain": [
       "<matplotlib.axes._subplots.AxesSubplot at 0x12ef1efd0>"
      ]
     },
     "execution_count": 24,
     "metadata": {},
     "output_type": "execute_result"
    },
    {
     "data": {
      "image/png": "[encoded data removed]",
      "text/plain": [
       "<matplotlib.figure.Figure at 0x12ed451d0>"
      ]
     },
     "metadata": {},
     "output_type": "display_data"
    }
   ],
   "source": [
    "sb.heatmap(net.Kernel[0].W.data.numpy())"
   ]
  },
  {
   "cell_type": "code",
   "execution_count": 18,
   "metadata": {
    "collapsed": false
   },
   "outputs": [
    {
     "data": {
      "text/plain": [
       "[<matplotlib.lines.Line2D at 0x11cf5eb90>]"
      ]
     },
     "execution_count": 18,
     "metadata": {},
     "output_type": "execute_result"
    },
    {
     "data": {
      "image/png": "[encoded data removed]",
      "text/plain": [
       "<matplotlib.figure.Figure at 0x11f050dd0>"
      ]
     },
     "metadata": {},
     "output_type": "display_data"
    }
   ],
   "source": [
    "#plt.plot([ u.numpy() for u in net.Kernel[2].training_loss],c='red')\n",
    "plt.plot([ u.numpy() for u in net.Kernel[0].training_loss])\n",
    "#plt.plot([ u.numpy() for u in net.Kernel[1].training_loss],c='yellow')"
   ]
  },
  {
   "cell_type": "code",
   "execution_count": 20,
   "metadata": {
    "collapsed": false
   },
   "outputs": [
    {
     "data": {
      "text/plain": [
       "Variable containing:\n",
       " 2.8076\n",
       " 0.0067\n",
       " 0.0067\n",
       " 0.0067\n",
       " 0.0067\n",
       " 0.0067\n",
       " 0.0067\n",
       " 0.0067\n",
       " 0.0067\n",
       " 0.0067\n",
       " 0.0067\n",
       " 0.0067\n",
       " 0.0067\n",
       " 0.0067\n",
       " 0.0067\n",
       " 2.6701\n",
       " 0.0067\n",
       " 0.0067\n",
       " 0.0067\n",
       " 0.0067\n",
       " 0.0067\n",
       " 0.0067\n",
       " 0.0067\n",
       " 0.0067\n",
       " 0.0067\n",
       " 0.0067\n",
       " 0.0067\n",
       " 0.0067\n",
       " 0.0067\n",
       " 0.0067\n",
       " 0.0067\n",
       " 0.0067\n",
       " 0.0067\n",
       " 0.0067\n",
       " 0.0067\n",
       " 0.0067\n",
       " 0.0067\n",
       " 0.0067\n",
       " 0.0067\n",
       " 0.0067\n",
       " 0.0067\n",
       " 0.0067\n",
       " 0.0067\n",
       " 0.0069\n",
       " 0.0067\n",
       " 0.0067\n",
       " 0.0067\n",
       " 0.0067\n",
       " 0.0067\n",
       " 0.0067\n",
       " 0.0067\n",
       " 2.4476\n",
       " 0.0067\n",
       " 0.0067\n",
       " 0.0067\n",
       " 0.0067\n",
       " 0.0067\n",
       " 0.0067\n",
       " 0.0067\n",
       " 0.0067\n",
       " 0.0067\n",
       " 0.0067\n",
       " 0.0067\n",
       " 0.0067\n",
       " 1.0000\n",
       " 0.0067\n",
       " 0.0067\n",
       " 0.0067\n",
       " 0.0067\n",
       " 0.0067\n",
       " 0.0067\n",
       " 0.0067\n",
       " 0.0067\n",
       " 0.0067\n",
       " 0.0067\n",
       " 0.0067\n",
       " 0.0067\n",
       " 2.8569\n",
       " 0.0067\n",
       " 0.0067\n",
       " 0.0067\n",
       " 0.0067\n",
       " 0.0067\n",
       " 0.0067\n",
       " 0.0067\n",
       " 0.0067\n",
       " 0.0067\n",
       " 0.0067\n",
       " 0.0072\n",
       " 0.0067\n",
       " 0.0067\n",
       " 0.0067\n",
       " 0.0067\n",
       " 0.0067\n",
       " 0.0067\n",
       " 0.0067\n",
       " 0.0067\n",
       " 0.0067\n",
       " 0.0067\n",
       " 0.0067\n",
       " 0.0067\n",
       " 0.0067\n",
       " 0.0067\n",
       " 0.0067\n",
       " 0.0067\n",
       " 0.0067\n",
       " 0.0067\n",
       " 0.0067\n",
       " 0.0067\n",
       " 0.0067\n",
       " 0.0067\n",
       " 0.0067\n",
       " 0.0067\n",
       " 0.0067\n",
       " 0.0067\n",
       " 0.0067\n",
       " 0.0067\n",
       " 0.0067\n",
       " 0.0067\n",
       " 0.0067\n",
       " 0.0067\n",
       " 0.0067\n",
       " 0.0067\n",
       " 0.0067\n",
       " 0.0067\n",
       " 0.0067\n",
       " 0.0067\n",
       " 0.0067\n",
       " 0.0067\n",
       " 0.0067\n",
       " 0.0067\n",
       " 0.0067\n",
       " 0.0067\n",
       " 0.0067\n",
       " 0.0067\n",
       " 0.0067\n",
       " 0.0067\n",
       " 0.0067\n",
       " 0.0067\n",
       " 0.0067\n",
       " 0.9665\n",
       " 0.0067\n",
       " 0.0067\n",
       " 0.0067\n",
       " 0.0067\n",
       " 0.0067\n",
       " 0.0067\n",
       " 0.0067\n",
       " 0.0067\n",
       " 0.0067\n",
       "[torch.FloatTensor of size 150]"
      ]
     },
     "execution_count": 20,
     "metadata": {},
     "output_type": "execute_result"
    }
   ],
   "source": [
    "net.Kernel[0].eta"
   ]
  },
  {
   "cell_type": "code",
   "execution_count": null,
   "metadata": {
    "collapsed": false
   },
   "outputs": [],
   "source": [
    "print(net.Kernel[0].output.size())\n",
    "sb.heatmap(net.Kernel[0].output[100,:100,:].numpy())\n",
    "print(X_labels[:10])"
   ]
  },
  {
   "cell_type": "code",
   "execution_count": null,
   "metadata": {
    "collapsed": false
   },
   "outputs": [],
   "source": [
    "plt.plot([ u.numpy() for u in net.Kernel[1].training_loss])"
   ]
  },
  {
   "cell_type": "code",
   "execution_count": null,
   "metadata": {
    "collapsed": false
   },
   "outputs": [],
   "source": [
    "sb.heatmap(test.W.data.numpy())"
   ]
  },
  {
   "cell_type": "code",
   "execution_count": null,
   "metadata": {
    "collapsed": false
   },
   "outputs": [],
   "source": [
    "X_tot=net.Kernel[1].eta\n",
    "X_tot\n",
    "#X_tot_2=test.pca.transform(X_tot.view(-1,X_tot.size()[2]).numpy())"
   ]
  },
  {
   "cell_type": "code",
   "execution_count": null,
   "metadata": {
    "collapsed": true
   },
   "outputs": [],
   "source": []
  },
  {
   "cell_type": "code",
   "execution_count": null,
   "metadata": {
    "collapsed": false
   },
   "outputs": [],
   "source": [
    "X_tilde=torch.cat((net.Kernel[1].training_data[:,0,:],net.Kernel[1].training_data[:,1,:]), dim=0)\n",
    "pca=PCA(n_components=np.min([X_tilde.size()[1],15]))\n",
    "X_tilde2=pca.fit_transform(X_tilde.numpy())\n",
    "X_tilde2.shape"
   ]
  },
  {
   "cell_type": "code",
   "execution_count": null,
   "metadata": {
    "collapsed": false
   },
   "outputs": [],
   "source": [
    "input_map=X\n",
    "    for k in range(self.n_layers):\n",
    "            print(input_map.size())\n",
    "            input_map=self.get_activation_map(k)\n",
    "        return input_map"
   ]
  },
  {
   "cell_type": "code",
   "execution_count": null,
   "metadata": {
    "collapsed": false
   },
   "outputs": [],
   "source": [
    "X.permute(1,0,2).size()"
   ]
  },
  {
   "cell_type": "code",
   "execution_count": null,
   "metadata": {
    "collapsed": false
   },
   "outputs": [],
   "source": [
    "kernel_svm = svm.SVC(gamma=.2)\n",
    "kernel_svm.fit(X.permute(1,0,2).contiguous().view(3000,-1).numpy(), X_labels.numpy())"
   ]
  },
  {
   "cell_type": "code",
   "execution_count": null,
   "metadata": {
    "collapsed": false
   },
   "outputs": [],
   "source": [
    "#### Une fois que l'archtexture a ete entrainee on peut se servir de la couche finale pour faire de la prediction\n",
    "kernel_svm_score = kernel_svm.score(X.permute(1,0,2).contiguous().view(3000,-1).numpy(), X_labels.numpy())"
   ]
  },
  {
   "cell_type": "code",
   "execution_count": null,
   "metadata": {
    "collapsed": false
   },
   "outputs": [],
   "source": [
    "kernel_svm_score"
   ]
  },
  {
   "cell_type": "code",
   "execution_count": null,
   "metadata": {
    "collapsed": true
   },
   "outputs": [],
   "source": [
    "X_test=train_loader.dataset.train_data[torch.LongTensor(inds[3000:6000])]\n",
    "X_test_labels=train_loader.dataset.train_labels[torch.LongTensor(inds[3000:6000])]"
   ]
  },
  {
   "cell_type": "code",
   "execution_count": null,
   "metadata": {
    "collapsed": false
   },
   "outputs": [],
   "source": [
    "X_test.size()"
   ]
  },
  {
   "cell_type": "code",
   "execution_count": null,
   "metadata": {
    "collapsed": false
   },
   "outputs": [],
   "source": [
    "X_test_out=net.propagate_through_network(X_test)"
   ]
  },
  {
   "cell_type": "code",
   "execution_count": null,
   "metadata": {
    "collapsed": false
   },
   "outputs": [],
   "source": [
    "tests=kernel_svm.predict(X_test_out.permute(1,0,2).contiguous().view(3000,-1).numpy())"
   ]
  },
  {
   "cell_type": "code",
   "execution_count": null,
   "metadata": {
    "collapsed": false
   },
   "outputs": [],
   "source": [
    "X_test.shape"
   ]
  },
  {
   "cell_type": "code",
   "execution_count": null,
   "metadata": {
    "collapsed": false
   },
   "outputs": [],
   "source": [
    "kernel_svm_score = kernel_svm.score(X_test_out.permute(1,0,2).contiguous().view(3000,-1).numpy(), X_test_labels.numpy())"
   ]
  },
  {
   "cell_type": "code",
   "execution_count": null,
   "metadata": {
    "collapsed": false
   },
   "outputs": [],
   "source": [
    "kernel_svm_score"
   ]
  },
  {
   "cell_type": "code",
   "execution_count": null,
   "metadata": {
    "collapsed": true
   },
   "outputs": [],
   "source": []
  }
 ],
 "metadata": {
  "anaconda-cloud": {},
  "kernelspec": {
   "display_name": "Python [default]",
   "language": "python",
   "name": "python2"
  },
  "language_info": {
   "codemirror_mode": {
    "name": "ipython",
    "version": 2
   },
   "file_extension": ".py",
   "mimetype": "text/x-python",
   "name": "python",
   "nbconvert_exporter": "python",
   "pygments_lexer": "ipython2",
   "version": "2.7.11"
  }
 },
 "nbformat": 4,
 "nbformat_minor": 1
}
