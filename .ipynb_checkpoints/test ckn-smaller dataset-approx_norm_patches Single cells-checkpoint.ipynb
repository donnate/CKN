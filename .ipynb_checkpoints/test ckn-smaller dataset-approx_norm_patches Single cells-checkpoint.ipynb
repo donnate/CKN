{
 "cells": [
  {
   "cell_type": "code",
   "execution_count": 1,
   "metadata": {
    "collapsed": false,
    "scrolled": true
   },
   "outputs": [],
   "source": [
    "%matplotlib inline\n",
    "from __future__ import print_function\n",
    "import argparse\n",
    "import torch\n",
    "import torch.nn as nn\n",
    "import torch.nn.functional as F\n",
    "import torch.optim as optim\n",
    "from torchvision import datasets, transforms\n",
    "from torch.autograd import Variable\n",
    "from CKN import *\n",
    "from Nystrom import *\n",
    "from image_processing_utils import *\n",
    "import scipy.optimize"
   ]
  },
  {
   "cell_type": "code",
   "execution_count": 2,
   "metadata": {
    "collapsed": true,
    "scrolled": true
   },
   "outputs": [],
   "source": [
    "batch_size=64\n",
    "test_batch_size=1000\n",
    "\n",
    "train_loader = torch.utils.data.DataLoader(\n",
    "    datasets.MNIST('../data', train=True, download=True,\n",
    "                   transform=transforms.Compose([\n",
    "                       transforms.ToTensor(),\n",
    "                       transforms.Normalize((0.1307,), (0.3081,))\n",
    "                   ])),\n",
    "    batch_size=batch_size, shuffle=True)\n",
    "test_loader = torch.utils.data.DataLoader(\n",
    "    datasets.MNIST('../data', train=False, transform=transforms.Compose([\n",
    "                       transforms.ToTensor(),\n",
    "                       transforms.Normalize((0.1307,), (0.3081,))\n",
    "                   ])),\n",
    "    batch_size=test_batch_size, shuffle=True)"
   ]
  },
  {
   "cell_type": "code",
   "execution_count": 3,
   "metadata": {
    "collapsed": false,
    "scrolled": true
   },
   "outputs": [],
   "source": [
    "inds=range(60000)\n",
    "import random\n",
    "random.seed(2017)\n",
    "random.shuffle(inds)\n",
    "\n",
    "test=train_loader.dataset.train_data[inds[:3000],:,:]"
   ]
  },
  {
   "cell_type": "code",
   "execution_count": 4,
   "metadata": {
    "collapsed": false,
    "scrolled": true
   },
   "outputs": [],
   "source": [
    "X_labels=train_loader.dataset.train_labels[torch.LongTensor(inds[:3000])]"
   ]
  },
  {
   "cell_type": "code",
   "execution_count": 5,
   "metadata": {
    "collapsed": false
   },
   "outputs": [
    {
     "data": {
      "text/plain": [
       "\n",
       " 0\n",
       " 9\n",
       " 6\n",
       "⋮ \n",
       " 1\n",
       " 1\n",
       " 5\n",
       "[torch.LongTensor of size 3000]"
      ]
     },
     "execution_count": 5,
     "metadata": {},
     "output_type": "execute_result"
    }
   ],
   "source": [
    "X_labels"
   ]
  },
  {
   "cell_type": "code",
   "execution_count": 6,
   "metadata": {
    "collapsed": true,
    "scrolled": true
   },
   "outputs": [],
   "source": [
    "import seaborn as sb\n",
    "import math\n",
    "import numpy as np\n"
   ]
  },
  {
   "cell_type": "code",
   "execution_count": 7,
   "metadata": {
    "collapsed": false,
    "scrolled": true
   },
   "outputs": [],
   "source": [
    "data=test\n",
    "data=1.0/255*data.type(torch.FloatTensor)\n",
    "#data2=data-torch.mean(data.view(-1,data.size()[1]*data.size()[2]),0).view(28,28)\n",
    "#S=torch.std(data2.view(-1,data.size()[1]*data.size()[2]),0)\n",
    "#S[S==0]=1\n",
    "#data2=1.0/S*data2.view(-1,data.size()[1]*data.size()[2])\n",
    "#data2=data2.view(-1,28,28)\n"
   ]
  },
  {
   "cell_type": "code",
   "execution_count": 8,
   "metadata": {
    "collapsed": false,
    "scrolled": true
   },
   "outputs": [
    {
     "name": "stdout",
     "output_type": "stream",
     "text": [
      "patches extracted with size  torch.Size([784, 3000, 9])\n",
      "torch.Size([784, 3000, 9])\n",
      "[[0, 709, 150], [0, 448, 166], [0, 588, 207], [0, 569, 757], [0, 167, 280], [0, 207, 312], [0, 292, 716], [0, 105, 405], [0, 722, 370], [0, 684, 171]]\n",
      "('sel', torch.Size([150000, 2, 9]))\n",
      "('The data has size', torch.Size([784, 3000, 9]))\n",
      "('all okay', True)\n",
      "('The variance is: ', 6.343137264251709)\n"
     ]
    }
   ],
   "source": [
    "net=Nystrom(iter_max=30,n_patches_per_graph=50,size_patch=3)\n",
    "#net=CKN(n_components=[150,100,100],n_layers=3,iter_max=100,n_patches=[5,2,2],subsampling_factors=[2,2,2],batch_size=[60,60,60])#Cell.fit_LBFGS(X)\n",
    "net.init_W(data,patches_given=False)"
   ]
  },
  {
   "cell_type": "code",
   "execution_count": null,
   "metadata": {
    "collapsed": false
   },
   "outputs": [],
   "source": [
    "print(net.eta.data)\n",
    "self=net\n",
    "sb.heatmap(net.W.data.numpy())\n",
    "plt.figure()"
   ]
  },
  {
   "cell_type": "code",
   "execution_count": null,
   "metadata": {
    "collapsed": false
   },
   "outputs": [],
   "source": [
    "net.fit(data,init=False)"
   ]
  },
  {
   "cell_type": "code",
   "execution_count": null,
   "metadata": {
    "collapsed": false
   },
   "outputs": [],
   "source": [
    "net.convergence_check()"
   ]
  },
  {
   "cell_type": "code",
   "execution_count": null,
   "metadata": {
    "collapsed": false
   },
   "outputs": [],
   "source": [
    "print(net.eta.data)\n",
    "sb.heatmap(net.W.data.numpy())\n",
    "plt.figure()"
   ]
  },
  {
   "cell_type": "code",
   "execution_count": null,
   "metadata": {
    "collapsed": false
   },
   "outputs": [],
   "source": [
    "new_input_map=net.get_activation_map()"
   ]
  },
  {
   "cell_type": "code",
   "execution_count": null,
   "metadata": {
    "collapsed": false
   },
   "outputs": [],
   "source": [
    "sb.heatmap(new_input_map[10,:1000,:].numpy())\n",
    "plt.figure()\n",
    "sb.heatmap(new_input_map[40,:1000,:].numpy())\n",
    "plt.figure()\n",
    "sb.heatmap(new_input_map[50,:1000,:].numpy())\n",
    "plt.figure()\n",
    "sb.heatmap(new_input_map[120,:1000,:].numpy())"
   ]
  },
  {
   "cell_type": "code",
   "execution_count": null,
   "metadata": {
    "collapsed": false
   },
   "outputs": [],
   "source": [
    "# Import datasets, classifiers and performance metrics\n",
    "from sklearn import datasets, svm, pipeline\n",
    "from sklearn.kernel_approximation import (RBFSampler,\n",
    "                                          Nystroem)\n",
    "from sklearn.decomposition import PCA\n",
    "X=new_input_map\n",
    "\n",
    "print( 'X size',X.size())\n",
    "\n",
    "\n",
    "\n",
    "n_p,n_d,p_dim=X.size()\n",
    "print(X.size())\n",
    "X=(X.permute(1,0,2).contiguous()).view(n_d,n_p*p_dim)\n",
    "print(X.size())\n",
    "pca_mnist=PCA(n_components=15,whiten=True)\n",
    "X2=pca_mnist.fit_transform(X.numpy())\n",
    "display(X2.shape)\n",
    "display(pca_mnist.explained_variance_ratio_)\n",
    "kernel_svm = svm.SVC(gamma=0.1)\n",
    "X3=pca_mnist.fit_transform(X2)\n",
    "kernel_svm.fit(X2, X_labels.numpy())\n",
    "kernel_svm_score = kernel_svm.score(X2, X_labels.numpy())\n",
    "print(kernel_svm_score)"
   ]
  },
  {
   "cell_type": "code",
   "execution_count": null,
   "metadata": {
    "collapsed": false
   },
   "outputs": [],
   "source": []
  },
  {
   "cell_type": "code",
   "execution_count": null,
   "metadata": {
    "collapsed": false
   },
   "outputs": [],
   "source": []
  },
  {
   "cell_type": "code",
   "execution_count": null,
   "metadata": {
    "collapsed": false
   },
   "outputs": [],
   "source": [
    "#### Une fois que l'archtexture a ete entrainee on peut se servir de la couche finale pour faire de la prediction\n",
    "kernel_svm_score = kernel_svm.score(X2, X_labels.numpy())"
   ]
  },
  {
   "cell_type": "code",
   "execution_count": null,
   "metadata": {
    "collapsed": false
   },
   "outputs": [],
   "source": [
    "kernel_svm_score"
   ]
  },
  {
   "cell_type": "code",
   "execution_count": null,
   "metadata": {
    "collapsed": true
   },
   "outputs": [],
   "source": []
  },
  {
   "cell_type": "code",
   "execution_count": null,
   "metadata": {
    "collapsed": false
   },
   "outputs": [],
   "source": [
    "#self.norms=input_map.norm(p=2,dim=2).squeeze()\n",
    "#input_map=normalize_output(self.input_map)\n",
    "                    #self.data_has_been_normalized=True"
   ]
  },
  {
   "cell_type": "code",
   "execution_count": null,
   "metadata": {
    "collapsed": false
   },
   "outputs": [],
   "source": [
    "X_test=train_loader.dataset.train_data[torch.LongTensor(inds[3000:6000])]\n",
    "X_test=1.0/255*X_test.type(torch.FloatTensor)\n",
    "X_test_labels=train_loader.dataset.train_labels[torch.LongTensor(inds[3000:6000])]\n",
    "print(X_test.size())\n",
    "#STOP\n",
    "X_test=extract_patches_from_image(X_test,3)\n",
    "print(X_test.size())\n",
    "X_test=X_test.view(X_test.size()[0],X_test.size()[1],-1)\n",
    "print(X_test.size())\n",
    "norms=X_test.norm(p=2,dim=2)\n",
    "print('norms',norms.size())\n",
    "n_p,n_d,p_dim=X_test.size()\n",
    "X_test=normalize_output(X_test)\n",
    "print(X_test.size())\n",
    "X_test2=net.standardize.transform(X_test.view(-1,p_dim).numpy())\n",
    "X_test2=net.pca.fit_transform(X_test2)\n",
    "#self.all_patches=torch.Tensor(X_tilde2).contiguous().view(n_p,n_d,-1)"
   ]
  },
  {
   "cell_type": "code",
   "execution_count": null,
   "metadata": {
    "collapsed": false
   },
   "outputs": [],
   "source": [
    "X_test.view(-1,p_dim).numpy().shape"
   ]
  },
  {
   "cell_type": "code",
   "execution_count": null,
   "metadata": {
    "collapsed": false
   },
   "outputs": [],
   "source": [
    "net.all_patches.shape"
   ]
  },
  {
   "cell_type": "code",
   "execution_count": null,
   "metadata": {
    "collapsed": false
   },
   "outputs": [],
   "source": [
    "X_test_out=net.get_activation_map(X_test,norms=norms)"
   ]
  },
  {
   "cell_type": "code",
   "execution_count": null,
   "metadata": {
    "collapsed": false
   },
   "outputs": [],
   "source": [
    "print(net.output.size())\n",
    "print(X_test_out.size())"
   ]
  },
  {
   "cell_type": "code",
   "execution_count": null,
   "metadata": {
    "collapsed": false
   },
   "outputs": [],
   "source": [
    "n_p,n_d,p_dim=X_test_out.size()\n",
    "X_test_out2=(X_test_out.permute(1,0,2).contiguous()).view(n_d,n_p*p_dim)\n",
    "X_test_out2=pca_mnist.transform(X_test_out2.numpy())\n",
    "#tests=kernel_svm.predict(X_test_out2)"
   ]
  },
  {
   "cell_type": "code",
   "execution_count": null,
   "metadata": {
    "collapsed": false
   },
   "outputs": [],
   "source": [
    "tests=kernel_svm.predict(X_test_out2)"
   ]
  },
  {
   "cell_type": "code",
   "execution_count": null,
   "metadata": {
    "collapsed": false
   },
   "outputs": [],
   "source": [
    "kernel_svm_score = kernel_svm.score(X_test_out2, X_test_labels.numpy())"
   ]
  },
  {
   "cell_type": "code",
   "execution_count": null,
   "metadata": {
    "collapsed": false
   },
   "outputs": [],
   "source": [
    "kernel_svm_score"
   ]
  },
  {
   "cell_type": "code",
   "execution_count": null,
   "metadata": {
    "collapsed": false
   },
   "outputs": [],
   "source": [
    "X_test.norm(p=2,dim=2)"
   ]
  },
  {
   "cell_type": "code",
   "execution_count": null,
   "metadata": {
    "collapsed": false
   },
   "outputs": [],
   "source": [
    "X_test_out.shape\n"
   ]
  },
  {
   "cell_type": "code",
   "execution_count": null,
   "metadata": {
    "collapsed": false
   },
   "outputs": [],
   "source": [
    "p_dim"
   ]
  },
  {
   "cell_type": "code",
   "execution_count": null,
   "metadata": {
    "collapsed": true
   },
   "outputs": [],
   "source": []
  }
 ],
 "metadata": {
  "anaconda-cloud": {},
  "kernelspec": {
   "display_name": "Python [default]",
   "language": "python",
   "name": "python2"
  },
  "language_info": {
   "codemirror_mode": {
    "name": "ipython",
    "version": 2
   },
   "file_extension": ".py",
   "mimetype": "text/x-python",
   "name": "python",
   "nbconvert_exporter": "python",
   "pygments_lexer": "ipython2",
   "version": "2.7.11"
  }
 },
 "nbformat": 4,
 "nbformat_minor": 1
}
