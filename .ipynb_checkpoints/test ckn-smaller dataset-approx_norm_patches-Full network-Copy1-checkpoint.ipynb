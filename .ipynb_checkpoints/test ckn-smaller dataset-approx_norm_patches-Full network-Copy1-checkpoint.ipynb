{
 "cells": [
  {
   "cell_type": "code",
   "execution_count": 1,
   "metadata": {
    "collapsed": false,
    "scrolled": true
   },
   "outputs": [],
   "source": [
    "%matplotlib inline\n",
    "from __future__ import print_function\n",
    "import argparse\n",
    "import torch\n",
    "import torch.nn as nn\n",
    "import torch.nn.functional as F\n",
    "import torch.optim as optim\n",
    "from torchvision import datasets, transforms\n",
    "from torch.autograd import Variable\n",
    "from CKN import *\n",
    "from Nystrom import *\n",
    "from image_processing_utils import *\n",
    "import scipy.optimize"
   ]
  },
  {
   "cell_type": "code",
   "execution_count": 2,
   "metadata": {
    "collapsed": true,
    "scrolled": true
   },
   "outputs": [],
   "source": [
    "batch_size=64\n",
    "test_batch_size=1000\n",
    "\n",
    "train_loader = torch.utils.data.DataLoader(\n",
    "    datasets.MNIST('../data', train=True, download=True,\n",
    "                   transform=transforms.Compose([\n",
    "                       transforms.ToTensor(),\n",
    "                       transforms.Normalize((0.1307,), (0.3081,))\n",
    "                   ])),\n",
    "    batch_size=batch_size, shuffle=True)\n",
    "test_loader = torch.utils.data.DataLoader(\n",
    "    datasets.MNIST('../data', train=False, transform=transforms.Compose([\n",
    "                       transforms.ToTensor(),\n",
    "                       transforms.Normalize((0.1307,), (0.3081,))\n",
    "                   ])),\n",
    "    batch_size=test_batch_size, shuffle=True)"
   ]
  },
  {
   "cell_type": "code",
   "execution_count": 3,
   "metadata": {
    "collapsed": false,
    "scrolled": true
   },
   "outputs": [],
   "source": [
    "inds=range(60000)\n",
    "import random\n",
    "random.seed(2017)\n",
    "random.shuffle(inds)\n",
    "\n",
    "test=train_loader.dataset.train_data[inds[:3000],:,:]"
   ]
  },
  {
   "cell_type": "code",
   "execution_count": 4,
   "metadata": {
    "collapsed": false,
    "scrolled": true
   },
   "outputs": [],
   "source": [
    "X_labels=train_loader.dataset.train_labels[torch.LongTensor(inds[:3000])]"
   ]
  },
  {
   "cell_type": "code",
   "execution_count": 5,
   "metadata": {
    "collapsed": false
   },
   "outputs": [
    {
     "data": {
      "text/plain": [
       "\n",
       " 0\n",
       " 9\n",
       " 6\n",
       "⋮ \n",
       " 1\n",
       " 1\n",
       " 5\n",
       "[torch.LongTensor of size 3000]"
      ]
     },
     "execution_count": 5,
     "metadata": {},
     "output_type": "execute_result"
    }
   ],
   "source": [
    "X_labels"
   ]
  },
  {
   "cell_type": "code",
   "execution_count": 6,
   "metadata": {
    "collapsed": true,
    "scrolled": true
   },
   "outputs": [],
   "source": [
    "import seaborn as sb\n",
    "import math\n",
    "import numpy as np\n"
   ]
  },
  {
   "cell_type": "code",
   "execution_count": 7,
   "metadata": {
    "collapsed": false,
    "scrolled": true
   },
   "outputs": [],
   "source": [
    "data=test\n",
    "data=1.0/255*data.type(torch.FloatTensor)\n",
    "#data2=data-torch.mean(data.view(-1,data.size()[1]*data.size()[2]),0).view(28,28)\n",
    "#S=torch.std(data2.view(-1,data.size()[1]*data.size()[2]),0)\n",
    "#S[S==0]=1\n",
    "#data2=1.0/255*data2.view(-1,data.size()[1]*data.size()[2])\n",
    "#data2=data2.view(-1,28,28)\n"
   ]
  },
  {
   "cell_type": "code",
   "execution_count": 8,
   "metadata": {
    "collapsed": false
   },
   "outputs": [],
   "source": [
    "### contrast normalize\n",
    "n_d,p_dim,_=data.size()\n",
    "norm=torch.max(torch.sum(data.view(n_d,-1)**2,1),torch.Tensor([0.00001]))\n",
    "data=torch.div(data.view(n_d,-1),norm.view(n_d,1).expand(n_d,p_dim**2))"
   ]
  },
  {
   "cell_type": "code",
   "execution_count": 9,
   "metadata": {
    "collapsed": false
   },
   "outputs": [],
   "source": [
    "data=data.view(n_d,p_dim,p_dim)"
   ]
  },
  {
   "cell_type": "code",
   "execution_count": null,
   "metadata": {
    "collapsed": false,
    "scrolled": true
   },
   "outputs": [
    {
     "name": "stdout",
     "output_type": "stream",
     "text": [
      "torch.Size([3000, 28, 28])\n",
      "patches extracted with size  torch.Size([784, 3000, 25])\n",
      "torch.Size([784, 3000, 15])\n",
      "[[0, 467, 666], [0, 262, 692], [0, 691, 608], [0, 215, 170], [0, 603, 562], [0, 329, 505], [0, 677, 595], [0, 733, 750], [0, 749, 315], [0, 453, 2]]\n",
      "('sel', torch.Size([90000, 2, 15]))\n",
      "('The data has size', torch.Size([784, 3000, 15]))\n",
      "('all okay', True)\n",
      "('The variance is: ', 11.92398338317871)\n",
      "('size input: ', torch.Size([90000, 2, 15]))\n",
      "(0, \n",
      "1.00000e-03 *\n",
      "  9.0059\n",
      "[torch.FloatTensor of size 1]\n",
      ", 32.320903062820435)\n",
      "(1, \n",
      "1.00000e-03 *\n",
      "  4.1368\n",
      "[torch.FloatTensor of size 1]\n",
      ", 27.47303605079651)\n",
      "(2, \n",
      "1.00000e-03 *\n",
      "  2.8191\n",
      "[torch.FloatTensor of size 1]\n",
      ", 26.976891040802002)\n",
      "(3, \n",
      "1.00000e-03 *\n",
      "  2.1216\n",
      "[torch.FloatTensor of size 1]\n",
      ", 26.149131059646606)\n",
      "(4, \n",
      "1.00000e-03 *\n",
      "  1.7193\n",
      "[torch.FloatTensor of size 1]\n",
      ", 28.29195785522461)\n",
      "(5, \n",
      "1.00000e-03 *\n",
      "  1.4529\n",
      "[torch.FloatTensor of size 1]\n",
      ", 32.510091066360474)\n",
      "(6, \n",
      "1.00000e-03 *\n",
      "  1.2512\n",
      "[torch.FloatTensor of size 1]\n",
      ", 33.94997477531433)\n",
      "(7, \n",
      "1.00000e-03 *\n",
      "  1.0891\n",
      "[torch.FloatTensor of size 1]\n",
      ", 32.379143953323364)\n",
      "(8, \n",
      "1.00000e-04 *\n",
      "  9.5773\n",
      "[torch.FloatTensor of size 1]\n",
      ", 32.79517912864685)\n",
      "(9, \n",
      "1.00000e-04 *\n",
      "  8.5140\n",
      "[torch.FloatTensor of size 1]\n",
      ", 36.190061807632446)\n",
      "(10, \n",
      "1.00000e-04 *\n",
      "  7.6567\n",
      "[torch.FloatTensor of size 1]\n",
      ", 39.83174180984497)\n",
      "(11, \n",
      "1.00000e-04 *\n",
      "  6.9625\n",
      "[torch.FloatTensor of size 1]\n",
      ", 37.34465193748474)\n",
      "(12, \n",
      "1.00000e-04 *\n",
      "  6.3948\n",
      "[torch.FloatTensor of size 1]\n",
      ", 38.69052791595459)\n"
     ]
    }
   ],
   "source": [
    "net=CKN()\n",
    "net=CKN(n_components=[150],n_layers=1,iter_max=50,n_patches=[5],subsampling_factors=[2],batch_size=[60])#Cell.fit_LBFGS(X)\n",
    "net.train_network(data)"
   ]
  },
  {
   "cell_type": "code",
   "execution_count": 11,
   "metadata": {
    "collapsed": false
   },
   "outputs": [
    {
     "name": "stdout",
     "output_type": "stream",
     "text": [
      "\n",
      " 1.4027\n",
      " 1.4165\n",
      " 0.6552\n",
      " 0.9010\n",
      " 0.7321\n",
      " 1.1783\n",
      " 1.0524\n",
      " 1.2947\n",
      " 1.1448\n",
      " 0.8936\n",
      " 0.9103\n",
      " 0.7151\n",
      " 1.0934\n",
      " 1.1220\n",
      " 1.0550\n",
      " 1.2073\n",
      " 1.1538\n",
      " 0.9912\n",
      " 0.8199\n",
      " 1.3072\n",
      " 1.1938\n",
      " 1.0468\n",
      " 1.0477\n",
      " 1.1643\n",
      " 0.9564\n",
      " 1.1275\n",
      " 1.2718\n",
      " 1.0518\n",
      " 0.9657\n",
      " 0.8313\n",
      " 0.7783\n",
      " 1.0870\n",
      " 1.7580\n",
      " 0.9954\n",
      " 1.1764\n",
      " 0.8514\n",
      " 1.1110\n",
      " 1.2421\n",
      " 1.0457\n",
      " 1.0839\n",
      " 0.9003\n",
      " 0.8571\n",
      " 1.0697\n",
      " 1.7737\n",
      " 1.1229\n",
      " 1.1995\n",
      " 0.9889\n",
      " 1.7211\n",
      " 1.0302\n",
      " 0.8702\n",
      "[torch.FloatTensor of size 50]\n",
      "\n"
     ]
    },
    {
     "data": {
      "text/plain": [
       "<matplotlib.figure.Figure at 0x103f49590>"
      ]
     },
     "execution_count": 11,
     "metadata": {},
     "output_type": "execute_result"
    },
    {
     "data": {
      "image/png": "[encoded data removed]",
      "text/plain": [
       "<matplotlib.figure.Figure at 0x11909c7d0>"
      ]
     },
     "metadata": {},
     "output_type": "display_data"
    },
    {
     "data": {
      "text/plain": [
       "<matplotlib.figure.Figure at 0x103f49590>"
      ]
     },
     "metadata": {},
     "output_type": "display_data"
    }
   ],
   "source": [
    "print(net.Kernel[0].eta.data)\n",
    "self=net\n",
    "sb.heatmap(net.Kernel[0].W.data.numpy())\n",
    "plt.figure()"
   ]
  },
  {
   "cell_type": "code",
   "execution_count": 12,
   "metadata": {
    "collapsed": false
   },
   "outputs": [
    {
     "name": "stdout",
     "output_type": "stream",
     "text": [
      "torch.Size([90000, 2, 15])\n"
     ]
    },
    {
     "data": {
      "text/plain": [
       "LinearRegression(copy_X=True, fit_intercept=True, n_jobs=1, normalize=False)"
      ]
     },
     "execution_count": 12,
     "metadata": {},
     "output_type": "execute_result"
    },
    {
     "data": {
      "image/png": "[encoded data removed]",
      "text/plain": [
       "<matplotlib.figure.Figure at 0x10551ac10>"
      ]
     },
     "metadata": {},
     "output_type": "display_data"
    }
   ],
   "source": [
    "net.Kernel[0].convergence_check()"
   ]
  },
  {
   "cell_type": "code",
   "execution_count": 13,
   "metadata": {
    "collapsed": false
   },
   "outputs": [
    {
     "name": "stdout",
     "output_type": "stream",
     "text": [
      "torch.Size([60000, 2, 15])\n"
     ]
    },
    {
     "data": {
      "text/plain": [
       "LinearRegression(copy_X=True, fit_intercept=True, n_jobs=1, normalize=False)"
      ]
     },
     "execution_count": 13,
     "metadata": {},
     "output_type": "execute_result"
    },
    {
     "data": {
      "image/png": "[encoded data removed]",
      "text/plain": [
       "<matplotlib.figure.Figure at 0x122a237d0>"
      ]
     },
     "metadata": {},
     "output_type": "display_data"
    }
   ],
   "source": [
    "net.Kernel[1].convergence_check()"
   ]
  },
  {
   "cell_type": "code",
   "execution_count": 14,
   "metadata": {
    "collapsed": false
   },
   "outputs": [
    {
     "data": {
      "text/plain": [
       "[<matplotlib.lines.Line2D at 0x123b398d0>]"
      ]
     },
     "execution_count": 14,
     "metadata": {},
     "output_type": "execute_result"
    },
    {
     "data": {
      "image/png": "[encoded data removed]",
      "text/plain": [
       "<matplotlib.figure.Figure at 0x1236aaf10>"
      ]
     },
     "metadata": {},
     "output_type": "display_data"
    }
   ],
   "source": [
    "plt.plot([ u.numpy() for u in net.Kernel[0].training_loss])\n",
    "plt.plot([ u.numpy() for u in net.Kernel[1].training_loss],c='yellow')"
   ]
  },
  {
   "cell_type": "code",
   "execution_count": 15,
   "metadata": {
    "collapsed": false
   },
   "outputs": [
    {
     "data": {
      "text/plain": [
       "Variable containing:\n",
       " 0.2950\n",
       " 1.1513\n",
       " 0.1052\n",
       " 0.1113\n",
       " 0.0762\n",
       " 0.2440\n",
       " 0.0287\n",
       " 0.3686\n",
       " 0.6909\n",
       " 0.2288\n",
       " 0.1373\n",
       " 0.1700\n",
       " 0.4156\n",
       " 0.1379\n",
       " 0.1883\n",
       " 0.0971\n",
       " 0.1960\n",
       " 0.0877\n",
       " 0.0975\n",
       " 0.4984\n",
       " 0.2284\n",
       " 0.1148\n",
       " 0.3794\n",
       " 0.0363\n",
       " 0.4339\n",
       " 0.2513\n",
       " 0.0891\n",
       " 0.1416\n",
       " 0.2199\n",
       " 0.1678\n",
       " 0.2270\n",
       " 0.0743\n",
       " 0.1432\n",
       " 0.2368\n",
       " 0.1622\n",
       " 0.4873\n",
       " 0.1201\n",
       " 0.0516\n",
       " 0.2538\n",
       " 0.1254\n",
       " 0.1117\n",
       " 0.1026\n",
       " 0.3986\n",
       " 0.0387\n",
       " 0.5539\n",
       " 0.3657\n",
       " 0.0809\n",
       " 0.1504\n",
       " 0.0848\n",
       " 0.1569\n",
       " 0.0360\n",
       " 0.3202\n",
       " 0.3767\n",
       " 0.0700\n",
       " 0.1139\n",
       " 0.1219\n",
       " 0.1369\n",
       " 0.4342\n",
       " 0.1203\n",
       " 0.2603\n",
       " 0.7259\n",
       " 0.0895\n",
       " 0.3274\n",
       " 0.1158\n",
       " 0.1861\n",
       " 0.1369\n",
       " 0.1254\n",
       " 0.1238\n",
       " 0.2437\n",
       " 0.1978\n",
       " 0.1147\n",
       " 0.2081\n",
       " 0.0923\n",
       " 0.0805\n",
       " 0.1309\n",
       " 0.2903\n",
       " 0.1966\n",
       " 0.0944\n",
       " 0.1669\n",
       " 0.2039\n",
       " 0.1820\n",
       " 0.1626\n",
       " 0.2025\n",
       " 0.2076\n",
       " 0.2348\n",
       " 0.1448\n",
       " 0.1542\n",
       " 0.1076\n",
       " 0.6694\n",
       " 0.1510\n",
       " 0.0969\n",
       " 0.2975\n",
       " 0.2449\n",
       " 0.1027\n",
       " 0.0936\n",
       " 0.3692\n",
       " 0.0140\n",
       " 0.1106\n",
       " 0.1339\n",
       " 0.6338\n",
       " 0.1528\n",
       " 0.1458\n",
       " 0.2216\n",
       " 0.5096\n",
       " 0.2288\n",
       " 0.2289\n",
       " 0.1800\n",
       " 0.4058\n",
       " 0.1335\n",
       " 0.0620\n",
       " 0.1014\n",
       " 0.3140\n",
       " 0.2040\n",
       " 0.4014\n",
       " 0.1997\n",
       " 0.2067\n",
       " 0.0803\n",
       " 0.1957\n",
       " 0.1908\n",
       " 0.1013\n",
       " 0.3338\n",
       " 0.0516\n",
       " 0.1064\n",
       " 0.2287\n",
       " 0.2740\n",
       " 0.1506\n",
       " 0.1646\n",
       " 0.0461\n",
       " 0.1373\n",
       " 0.2234\n",
       " 0.1555\n",
       " 0.4154\n",
       " 0.0987\n",
       " 0.0625\n",
       " 0.1510\n",
       " 0.0735\n",
       " 0.1396\n",
       " 0.0921\n",
       " 0.1422\n",
       " 0.2558\n",
       " 0.1955\n",
       " 0.1544\n",
       " 0.2788\n",
       " 0.1349\n",
       " 0.5488\n",
       " 0.2309\n",
       " 0.2277\n",
       " 0.3306\n",
       " 0.3958\n",
       " 0.0239\n",
       " 0.1208\n",
       " 0.1959\n",
       " 0.2582\n",
       " 0.1154\n",
       " 0.1617\n",
       " 0.0877\n",
       " 0.1223\n",
       " 0.1444\n",
       " 0.1151\n",
       " 0.1234\n",
       " 0.2666\n",
       " 0.0176\n",
       " 0.0679\n",
       " 0.1731\n",
       " 0.1875\n",
       " 0.1203\n",
       " 0.1286\n",
       " 0.2425\n",
       " 0.4186\n",
       " 0.1263\n",
       " 0.1384\n",
       " 0.0180\n",
       " 0.1470\n",
       " 0.2112\n",
       " 0.1189\n",
       " 0.0122\n",
       " 0.1138\n",
       " 0.4078\n",
       " 0.0224\n",
       " 0.0970\n",
       " 0.0327\n",
       " 0.1441\n",
       " 0.1230\n",
       " 0.1323\n",
       " 0.7329\n",
       " 0.3989\n",
       " 0.2158\n",
       " 0.1867\n",
       " 0.0265\n",
       " 0.1127\n",
       " 0.0214\n",
       " 0.0985\n",
       " 0.1514\n",
       " 0.0917\n",
       " 0.0025\n",
       " 0.1067\n",
       " 0.2763\n",
       " 0.2271\n",
       " 0.2415\n",
       " 0.2365\n",
       "[torch.FloatTensor of size 200]"
      ]
     },
     "execution_count": 15,
     "metadata": {},
     "output_type": "execute_result"
    }
   ],
   "source": [
    "net.Kernel[1].eta"
   ]
  },
  {
   "cell_type": "code",
   "execution_count": 16,
   "metadata": {
    "collapsed": false
   },
   "outputs": [
    {
     "name": "stdout",
     "output_type": "stream",
     "text": [
      "torch.Size([196, 3000, 50])\n",
      "\n",
      " 0\n",
      " 9\n",
      " 6\n",
      " 1\n",
      " 2\n",
      " 3\n",
      " 9\n",
      " 2\n",
      " 4\n",
      " 3\n",
      "[torch.LongTensor of size 10]\n",
      "\n"
     ]
    },
    {
     "data": {
      "image/png": "[encoded data removed]",
      "text/plain": [
       "<matplotlib.figure.Figure at 0x11e51d4d0>"
      ]
     },
     "metadata": {},
     "output_type": "display_data"
    }
   ],
   "source": [
    "print(net.Kernel[0].output.size())\n",
    "sb.heatmap(net.Kernel[0].output[100,:100,:].numpy())\n",
    "print(X_labels[:10])"
   ]
  },
  {
   "cell_type": "code",
   "execution_count": 17,
   "metadata": {
    "collapsed": false
   },
   "outputs": [
    {
     "data": {
      "text/plain": [
       "[<matplotlib.lines.Line2D at 0x123780550>]"
      ]
     },
     "execution_count": 17,
     "metadata": {},
     "output_type": "execute_result"
    },
    {
     "data": {
      "image/png": "[encoded data removed]",
      "text/plain": [
       "<matplotlib.figure.Figure at 0x123b41050>"
      ]
     },
     "metadata": {},
     "output_type": "display_data"
    }
   ],
   "source": [
    "plt.plot([ u.numpy() for u in net.Kernel[1].training_loss])"
   ]
  },
  {
   "cell_type": "code",
   "execution_count": 18,
   "metadata": {
    "collapsed": false
   },
   "outputs": [
    {
     "ename": "AttributeError",
     "evalue": "'torch.ByteTensor' object has no attribute 'W'",
     "output_type": "error",
     "traceback": [
      "\u001b[0;31m---------------------------------------------------------------------------\u001b[0m",
      "\u001b[0;31mAttributeError\u001b[0m                            Traceback (most recent call last)",
      "\u001b[0;32m<ipython-input-18-2e60c9caf8f9>\u001b[0m in \u001b[0;36m<module>\u001b[0;34m()\u001b[0m\n\u001b[0;32m----> 1\u001b[0;31m \u001b[0msb\u001b[0m\u001b[0;34m.\u001b[0m\u001b[0mheatmap\u001b[0m\u001b[0;34m(\u001b[0m\u001b[0mtest\u001b[0m\u001b[0;34m.\u001b[0m\u001b[0mW\u001b[0m\u001b[0;34m.\u001b[0m\u001b[0mdata\u001b[0m\u001b[0;34m.\u001b[0m\u001b[0mnumpy\u001b[0m\u001b[0;34m(\u001b[0m\u001b[0;34m)\u001b[0m\u001b[0;34m)\u001b[0m\u001b[0;34m\u001b[0m\u001b[0m\n\u001b[0m",
      "\u001b[0;31mAttributeError\u001b[0m: 'torch.ByteTensor' object has no attribute 'W'"
     ]
    }
   ],
   "source": [
    "sb.heatmap(test.W.data.numpy())"
   ]
  },
  {
   "cell_type": "code",
   "execution_count": null,
   "metadata": {
    "collapsed": false
   },
   "outputs": [],
   "source": [
    "X_tot=net.Kernel[1].eta\n",
    "X_tot\n",
    "#X_tot_2=test.pca.transform(X_tot.view(-1,X_tot.size()[2]).numpy())"
   ]
  },
  {
   "cell_type": "code",
   "execution_count": null,
   "metadata": {
    "collapsed": true
   },
   "outputs": [],
   "source": [
    "# Import datasets, classifiers and performance metrics\n",
    "from sklearn import datasets, svm, pipeline\n",
    "from sklearn.kernel_approximation import (RBFSampler,\n",
    "                                          Nystroem)\n",
    "from sklearn.decomposition import PCA\n",
    "X=net.Kernel[1].output\n"
   ]
  },
  {
   "cell_type": "code",
   "execution_count": null,
   "metadata": {
    "collapsed": false
   },
   "outputs": [],
   "source": [
    "n_p,n_d,p_dim=X.size()\n",
    "print(X.size())\n",
    "X=X.permute(1,0,2)\n",
    "print(X.size())\n",
    "pca_mnist=PCA(n_components=15,whiten=True)\n",
    "X2=pca_mnist.fit_transform(X.contiguous().view(n_d, n_p*p_dim).numpy())\n",
    "X2.shape"
   ]
  },
  {
   "cell_type": "code",
   "execution_count": null,
   "metadata": {
    "collapsed": false
   },
   "outputs": [],
   "source": [
    "XX=X.permute(1,0,2).contiguous().view(n_d,-1).numpy()\n",
    "kernel_svm_score=[]\n",
    "it=0\n",
    "for s in np.arange(0.01,0.9,0.02):\n",
    "    kernel_svm = svm.SVC(gamma=s)\n",
    "    kernel_svm.fit(XX, X_labels.numpy())\n",
    "    kernel_svm_score.append( kernel_svm.score(XX, X_labels.numpy()))\n",
    "    print(s,kernel_svm_score[it])\n",
    "    it+=1\n",
    "#kernel_svm.fit(X.permute(1,0,2).contiguous().view(n_d,-1).numpy(), X_labels.numpy())"
   ]
  },
  {
   "cell_type": "code",
   "execution_count": null,
   "metadata": {
    "collapsed": false
   },
   "outputs": [],
   "source": [
    "#### Une fois que l'archtexture a ete entrainee on peut se servir de la couche finale pour faire de la prediction\n",
    "kernel_svm_score = kernel_svm.score(X.permute(1,0,2).contiguous().view(n_d,-1).numpy(), X_labels.numpy())"
   ]
  },
  {
   "cell_type": "code",
   "execution_count": null,
   "metadata": {
    "collapsed": false
   },
   "outputs": [],
   "source": [
    "np.arange(0.01,0.9,0.02)"
   ]
  },
  {
   "cell_type": "code",
   "execution_count": 19,
   "metadata": {
    "collapsed": true
   },
   "outputs": [],
   "source": [
    "X_test=train_loader.dataset.train_data[torch.LongTensor(inds[3000:6000])]\n",
    "X_test_labels=train_loader.dataset.train_labels[torch.LongTensor(inds[3000:6000])]"
   ]
  },
  {
   "cell_type": "code",
   "execution_count": 20,
   "metadata": {
    "collapsed": false
   },
   "outputs": [],
   "source": [
    "X_test=1.0/255*X_test.type(torch.FloatTensor)\n",
    "X_test=extract_patches_from_image(X_test,5)\n",
    "n_p,n_d,p_dim=X_test.view(X_test.size()[0],X_test.size()[1],-1).size()\n",
    "norm=torch.max(torch.sum(X_test.view(n_p,n_d,-1)**2,2),torch.Tensor([0.00001]))\n",
    "X_test=torch.div(X_test.view(n_p,n_d,-1),norm.view(n_p,n_d,1).expand(n_p,n_d,p_dim))\n",
    "#X_test=data.view(n_p,n_d,p_dim)"
   ]
  },
  {
   "cell_type": "code",
   "execution_count": 24,
   "metadata": {
    "collapsed": false
   },
   "outputs": [
    {
     "data": {
      "text/plain": [
       "torch.Size([784, 3000, 25])"
      ]
     },
     "execution_count": 24,
     "metadata": {},
     "output_type": "execute_result"
    }
   ],
   "source": [
    "X_test.size()"
   ]
  },
  {
   "cell_type": "code",
   "execution_count": 23,
   "metadata": {
    "collapsed": false
   },
   "outputs": [
    {
     "ename": "ValueError",
     "evalue": "result of slicing is an empty tensor",
     "output_type": "error",
     "traceback": [
      "\u001b[0;31m---------------------------------------------------------------------------\u001b[0m",
      "\u001b[0;31mValueError\u001b[0m                                Traceback (most recent call last)",
      "\u001b[0;32m<ipython-input-23-320a26d2a5a3>\u001b[0m in \u001b[0;36m<module>\u001b[0;34m()\u001b[0m\n\u001b[0;32m----> 1\u001b[0;31m \u001b[0moutput_test\u001b[0m\u001b[0;34m=\u001b[0m\u001b[0mnet\u001b[0m\u001b[0;34m.\u001b[0m\u001b[0mpropagate_through_network\u001b[0m\u001b[0;34m(\u001b[0m\u001b[0mX\u001b[0m\u001b[0;34m=\u001b[0m\u001b[0mX_test\u001b[0m\u001b[0;34m)\u001b[0m\u001b[0;34m\u001b[0m\u001b[0m\n\u001b[0m",
      "\u001b[0;32m/Users/cdonnat/Dropbox/Pattern-analysis/pattern_detection/CKN.pyc\u001b[0m in \u001b[0;36mpropagate_through_network\u001b[0;34m(self, X, patches_given)\u001b[0m\n\u001b[1;32m     82\u001b[0m         '''\n\u001b[1;32m     83\u001b[0m         \u001b[0;32mif\u001b[0m \u001b[0;32mnot\u001b[0m \u001b[0mpatches_given\u001b[0m\u001b[0;34m:\u001b[0m\u001b[0;34m\u001b[0m\u001b[0m\n\u001b[0;32m---> 84\u001b[0;31m             \u001b[0minput_map\u001b[0m\u001b[0;34m=\u001b[0m\u001b[0mextract_patches_from_image\u001b[0m\u001b[0;34m(\u001b[0m\u001b[0mX\u001b[0m\u001b[0;34m,\u001b[0m\u001b[0mself\u001b[0m\u001b[0;34m.\u001b[0m\u001b[0mn_patches\u001b[0m\u001b[0;34m[\u001b[0m\u001b[0;36m0\u001b[0m\u001b[0;34m]\u001b[0m\u001b[0;34m)\u001b[0m\u001b[0;34m\u001b[0m\u001b[0m\n\u001b[0m\u001b[1;32m     85\u001b[0m         \u001b[0;32mfor\u001b[0m \u001b[0mk\u001b[0m \u001b[0;32min\u001b[0m \u001b[0mrange\u001b[0m\u001b[0;34m(\u001b[0m\u001b[0mself\u001b[0m\u001b[0;34m.\u001b[0m\u001b[0mn_layers\u001b[0m\u001b[0;34m)\u001b[0m\u001b[0;34m:\u001b[0m\u001b[0;34m\u001b[0m\u001b[0m\n\u001b[1;32m     86\u001b[0m             \u001b[0;32mprint\u001b[0m \u001b[0mk\u001b[0m\u001b[0;34m,\u001b[0m \u001b[0minput_map\u001b[0m\u001b[0;34m.\u001b[0m\u001b[0msize\u001b[0m\u001b[0;34m(\u001b[0m\u001b[0;34m)\u001b[0m\u001b[0;34m\u001b[0m\u001b[0m\n",
      "\u001b[0;32m/Users/cdonnat/Dropbox/Pattern-analysis/pattern_detection/image_processing_utils.py\u001b[0m in \u001b[0;36mextract_patches_from_image\u001b[0;34m(data, size_patch, zero_padding)\u001b[0m\n\u001b[1;32m     94\u001b[0m     \u001b[0;34m==\u001b[0m\u001b[0;34m==\u001b[0m\u001b[0;34m==\u001b[0m\u001b[0;34m==\u001b[0m\u001b[0;34m==\u001b[0m\u001b[0;34m==\u001b[0m\u001b[0;34m==\u001b[0m\u001b[0;34m==\u001b[0m\u001b[0;34m==\u001b[0m\u001b[0;34m==\u001b[0m\u001b[0;34m==\u001b[0m\u001b[0;34m==\u001b[0m\u001b[0;34m==\u001b[0m\u001b[0;34m==\u001b[0m\u001b[0;34m==\u001b[0m\u001b[0;34m==\u001b[0m\u001b[0;34m==\u001b[0m\u001b[0;34m==\u001b[0m\u001b[0;34m==\u001b[0m\u001b[0;34m==\u001b[0m\u001b[0;34m==\u001b[0m\u001b[0;34m==\u001b[0m\u001b[0;34m==\u001b[0m\u001b[0;34m==\u001b[0m\u001b[0;34m==\u001b[0m\u001b[0;34m==\u001b[0m\u001b[0;34m==\u001b[0m\u001b[0;34m==\u001b[0m\u001b[0;34m==\u001b[0m\u001b[0;34m==\u001b[0m\u001b[0;34m==\u001b[0m\u001b[0;34m==\u001b[0m\u001b[0;34m==\u001b[0m\u001b[0;34m==\u001b[0m\u001b[0;34m==\u001b[0m\u001b[0;34m==\u001b[0m\u001b[0;34m==\u001b[0m\u001b[0;34m=\u001b[0m\u001b[0;34m\u001b[0m\u001b[0m\n\u001b[1;32m     95\u001b[0m     \u001b[0mpatches\u001b[0m        \u001b[0;34m:\u001b[0m    \u001b[0mtensor\u001b[0m \u001b[0mof\u001b[0m  \u001b[0mpatches\u001b[0m \u001b[0mof\u001b[0m \u001b[0msize\u001b[0m \u001b[0;34m[\u001b[0m\u001b[0mn_p\u001b[0m \u001b[0;34m,\u001b[0m \u001b[0mn_d\u001b[0m\u001b[0;34m,\u001b[0m \u001b[0msize_patch\u001b[0m\u001b[0;34m**\u001b[0m\u001b[0;36m2\u001b[0m \u001b[0;34m]\u001b[0m\u001b[0;34m\u001b[0m\u001b[0m\n\u001b[0;32m---> 96\u001b[0;31m     '''\n\u001b[0m\u001b[1;32m     97\u001b[0m     \u001b[0msize_image\u001b[0m\u001b[0;34m=\u001b[0m\u001b[0mdata\u001b[0m\u001b[0;34m.\u001b[0m\u001b[0msize\u001b[0m\u001b[0;34m(\u001b[0m\u001b[0;34m)\u001b[0m\u001b[0;34m[\u001b[0m\u001b[0;36m1\u001b[0m\u001b[0;34m:\u001b[0m\u001b[0;34m]\u001b[0m\u001b[0;34m\u001b[0m\u001b[0m\n\u001b[1;32m     98\u001b[0m     \u001b[0ma\u001b[0m\u001b[0;34m=\u001b[0m\u001b[0msize_patch\u001b[0m\u001b[0;34m+\u001b[0m\u001b[0msize_image\u001b[0m\u001b[0;34m[\u001b[0m\u001b[0;36m0\u001b[0m\u001b[0;34m]\u001b[0m\u001b[0;34m\u001b[0m\u001b[0m\n",
      "\u001b[0;31mValueError\u001b[0m: result of slicing is an empty tensor"
     ]
    }
   ],
   "source": [
    "output_test=net.propagate_through_network(X=X_test)"
   ]
  },
  {
   "cell_type": "code",
   "execution_count": null,
   "metadata": {
    "collapsed": false
   },
   "outputs": [],
   "source": [
    "input_map=X_test\n",
    "        #norms=X.norms()\n",
    "for k in range(net.n_layers):\n",
    "            print(k)\n",
    "            print(input_map.size())\n",
    "            norms=input_map.norm(p=2,dim=2)\n",
    "            input_map=normalize_output(input_map)\n",
    "            input_map=net.Kernel[k].get_activation_map( X=input_map,norms=norms,verbose=False)\n",
    "            print( 'new inputmap size', input_map.size())"
   ]
  },
  {
   "cell_type": "code",
   "execution_count": null,
   "metadata": {
    "collapsed": false
   },
   "outputs": [],
   "source": [
    "net.Kernel[k].pca.transform(input_map.contiguous().view(-1,input_map.size()[2]).numpy())"
   ]
  },
  {
   "cell_type": "code",
   "execution_count": null,
   "metadata": {
    "collapsed": false
   },
   "outputs": [],
   "source": [
    "input_map.size()"
   ]
  },
  {
   "cell_type": "code",
   "execution_count": null,
   "metadata": {
    "collapsed": true
   },
   "outputs": [],
   "source": [
    "def propagate_through_network(net,X):\n",
    "        '''\n",
    "        propagate the input data throught the network, using the outputs of the k-1th layer as\n",
    "        input to the kth layer\n",
    "        \n",
    "        INPUT\n",
    "        ----------------------------------------------------------\n",
    "        X:  training dataset\n",
    "        OUTPUT\n",
    "        ----------------------------------------------------------\n",
    "        self: trained architecture\n",
    "        input_map:  the last activation map of the last layer. \n",
    "        '''\n",
    "        input_map=X\n",
    "        #norms=X.norms()\n",
    "        for k in range(self.n_layers):\n",
    "            print(k)\n",
    "            print(input_map.size())\n",
    "            norms=input_map.norm(p=2,dim=2)\n",
    "            input_map=normalize_output(input_map)\n",
    "            input_map=net.Kernel[k].get_activation_map( X=input_map,norms=norms,verbose=False)\n",
    "            print( 'new inputmap size', input_map.size())\n",
    "        return input_map"
   ]
  },
  {
   "cell_type": "code",
   "execution_count": null,
   "metadata": {
    "collapsed": false
   },
   "outputs": [],
   "source": [
    "net.Kernel[0].standardize"
   ]
  },
  {
   "cell_type": "code",
   "execution_count": null,
   "metadata": {
    "collapsed": false
   },
   "outputs": [],
   "source": [
    "input_map=X_test"
   ]
  },
  {
   "cell_type": "code",
   "execution_count": null,
   "metadata": {
    "collapsed": true
   },
   "outputs": [],
   "source": [
    "norms=input_map.norm(p=2,dim=2)"
   ]
  },
  {
   "cell_type": "code",
   "execution_count": null,
   "metadata": {
    "collapsed": true
   },
   "outputs": [],
   "source": [
    "input_map=normalize_output(input_map)"
   ]
  },
  {
   "cell_type": "code",
   "execution_count": null,
   "metadata": {
    "collapsed": false
   },
   "outputs": [],
   "source": [
    "k=0\n",
    "input_map=net.Kernel[k].get_activation_map( X=input_map,norms=norms,verbose=False)"
   ]
  },
  {
   "cell_type": "code",
   "execution_count": null,
   "metadata": {
    "collapsed": false
   },
   "outputs": [],
   "source": [
    "input_map=net.Kernel[0].standardize.transform(input_map.view(-1,input_map.size()[2]).numpy())"
   ]
  },
  {
   "cell_type": "code",
   "execution_count": null,
   "metadata": {
    "collapsed": true
   },
   "outputs": [],
   "source": [
    "test=input_map.view(-1,input_map.size()[2]).numpy()"
   ]
  },
  {
   "cell_type": "code",
   "execution_count": null,
   "metadata": {
    "collapsed": false
   },
   "outputs": [],
   "source": [
    "net.Kernel[0].all_patches.size()"
   ]
  },
  {
   "cell_type": "code",
   "execution_count": null,
   "metadata": {
    "collapsed": false
   },
   "outputs": [],
   "source": [
    "net.Kernel[0].pca.transform(test)"
   ]
  },
  {
   "cell_type": "code",
   "execution_count": null,
   "metadata": {
    "collapsed": true
   },
   "outputs": [],
   "source": []
  }
 ],
 "metadata": {
  "anaconda-cloud": {},
  "kernelspec": {
   "display_name": "Python [default]",
   "language": "python",
   "name": "python2"
  },
  "language_info": {
   "codemirror_mode": {
    "name": "ipython",
    "version": 2
   },
   "file_extension": ".py",
   "mimetype": "text/x-python",
   "name": "python",
   "nbconvert_exporter": "python",
   "pygments_lexer": "ipython2",
   "version": "2.7.11"
  }
 },
 "nbformat": 4,
 "nbformat_minor": 1
}
