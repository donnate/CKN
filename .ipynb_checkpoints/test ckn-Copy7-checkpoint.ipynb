{
 "cells": [
  {
   "cell_type": "code",
   "execution_count": 1,
   "metadata": {
    "collapsed": false
   },
   "outputs": [],
   "source": [
    "%matplotlib inline\n",
    "from __future__ import print_function\n",
    "import argparse\n",
    "import torch\n",
    "import torch.nn as nn\n",
    "import torch.nn.functional as F\n",
    "import torch.optim as optim\n",
    "from torchvision import datasets, transforms\n",
    "from torch.autograd import Variable\n",
    "from CKN import *\n",
    "from Nystrom import *\n",
    "from image_processing_utils import *\n",
    "import scipy.optimize"
   ]
  },
  {
   "cell_type": "code",
   "execution_count": 2,
   "metadata": {
    "collapsed": true
   },
   "outputs": [],
   "source": [
    "batch_size=64\n",
    "test_batch_size=1000\n",
    "\n",
    "train_loader = torch.utils.data.DataLoader(\n",
    "    datasets.MNIST('../data', train=True, download=True,\n",
    "                   transform=transforms.Compose([\n",
    "                       transforms.ToTensor(),\n",
    "                       transforms.Normalize((0.1307,), (0.3081,))\n",
    "                   ])),\n",
    "    batch_size=batch_size, shuffle=True)\n",
    "test_loader = torch.utils.data.DataLoader(\n",
    "    datasets.MNIST('../data', train=False, transform=transforms.Compose([\n",
    "                       transforms.ToTensor(),\n",
    "                       transforms.Normalize((0.1307,), (0.3081,))\n",
    "                   ])),\n",
    "    batch_size=test_batch_size, shuffle=True)"
   ]
  },
  {
   "cell_type": "code",
   "execution_count": 3,
   "metadata": {
    "collapsed": false
   },
   "outputs": [
    {
     "data": {
      "text/plain": [
       "torch.utils.data.dataloader.DataLoader"
      ]
     },
     "execution_count": 3,
     "metadata": {},
     "output_type": "execute_result"
    }
   ],
   "source": [
    "type(train_loader)"
   ]
  },
  {
   "cell_type": "code",
   "execution_count": 4,
   "metadata": {
    "collapsed": true
   },
   "outputs": [],
   "source": [
    "test=train_loader.dataset.train_data"
   ]
  },
  {
   "cell_type": "code",
   "execution_count": 5,
   "metadata": {
    "collapsed": false
   },
   "outputs": [
    {
     "data": {
      "text/plain": [
       "torch.ByteTensor"
      ]
     },
     "execution_count": 5,
     "metadata": {},
     "output_type": "execute_result"
    }
   ],
   "source": [
    "type(test)"
   ]
  },
  {
   "cell_type": "code",
   "execution_count": 6,
   "metadata": {
    "collapsed": false
   },
   "outputs": [
    {
     "data": {
      "text/plain": [
       "torch.Size([60000, 28, 28])"
      ]
     },
     "execution_count": 6,
     "metadata": {},
     "output_type": "execute_result"
    }
   ],
   "source": [
    "test.shape"
   ]
  },
  {
   "cell_type": "code",
   "execution_count": 7,
   "metadata": {
    "collapsed": true
   },
   "outputs": [],
   "source": [
    "import seaborn as sb\n",
    "import math\n",
    "import numpy as np\n"
   ]
  },
  {
   "cell_type": "code",
   "execution_count": 8,
   "metadata": {
    "collapsed": false
   },
   "outputs": [
    {
     "data": {
      "text/plain": [
       "<matplotlib.axes._subplots.AxesSubplot at 0x11c098610>"
      ]
     },
     "execution_count": 8,
     "metadata": {},
     "output_type": "execute_result"
    },
    {
     "data": {
      "image/png": "[encoded data removed]",
      "text/plain": [
       "<matplotlib.figure.Figure at 0x103e3d790>"
      ]
     },
     "metadata": {},
     "output_type": "display_data"
    },
    {
     "data": {
      "image/png": "[encoded data removed]",
      "text/plain": [
       "<matplotlib.figure.Figure at 0x117f9c2d0>"
      ]
     },
     "metadata": {},
     "output_type": "display_data"
    }
   ],
   "source": [
    "sb.heatmap(test[0,:,:].numpy())\n",
    "plt.figure()\n",
    "size_patch=5\n",
    "sb.heatmap(rel_distance_patch(size_patch).numpy())"
   ]
  },
  {
   "cell_type": "code",
   "execution_count": 9,
   "metadata": {
    "collapsed": false
   },
   "outputs": [],
   "source": [
    "inpt=test[0,:,:]\n",
    "sx,sy=inpt.size()"
   ]
  },
  {
   "cell_type": "code",
   "execution_count": 10,
   "metadata": {
    "collapsed": false
   },
   "outputs": [],
   "source": [
    "size_patch=5\n",
    "data=test"
   ]
  },
  {
   "cell_type": "code",
   "execution_count": 11,
   "metadata": {
    "collapsed": false
   },
   "outputs": [],
   "source": [
    "size_patch=5\n",
    "patches=extract_patches(data,size_patch, zero_padding=True)"
   ]
  },
  {
   "cell_type": "code",
   "execution_count": 12,
   "metadata": {
    "collapsed": false
   },
   "outputs": [
    {
     "data": {
      "text/plain": [
       "torch.Size([784, 60000, 5, 5])"
      ]
     },
     "execution_count": 12,
     "metadata": {},
     "output_type": "execute_result"
    }
   ],
   "source": [
    "patches.size()"
   ]
  },
  {
   "cell_type": "code",
   "execution_count": 13,
   "metadata": {
    "collapsed": false
   },
   "outputs": [],
   "source": [
    "id_patch=[]        \n",
    "distances=[]\n",
    "X=data\n",
    "n_patches_per_graph=10\n"
   ]
  },
  {
   "cell_type": "code",
   "execution_count": 14,
   "metadata": {
    "collapsed": true
   },
   "outputs": [],
   "source": [
    "X=test[:1000,:,:]"
   ]
  },
  {
   "cell_type": "code",
   "execution_count": 43,
   "metadata": {
    "collapsed": false
   },
   "outputs": [],
   "source": [
    "class Nystrom():\n",
    "    \n",
    "    def __init__(self,  n_components=50, iter_max=1000,random_state=None,size_patch=5,lr=0.001):\n",
    "        self.eta = Variable(torch.Tensor(1.0/n_components *(np.ones((n_components,)))),requires_grad=True)\n",
    "        self.W = torch.Tensor(Variable(None))\n",
    "        self.sigma=None\n",
    "        self.n_components = n_components\n",
    "        self.random_state = random_state\n",
    "        self.iter_max=iter_max\n",
    "        self.print_lag=15\n",
    "        self.lr=lr\n",
    "        self.training_data=None\n",
    "        self.size_patch=size_patch\n",
    "        self.patches=None\n",
    "        self.distances=None\n",
    "    \t\t\n",
    "    def select_training_patches(self,X,n_patches_per_graph,patches=None):\n",
    "        #### X should be  a tensor (3D)\n",
    "        #### select training patches within the same graph\n",
    "       # X_train=torch.Tensor((X.size()[0],n_patches_per_graph,size_patch**2,size_patch**2))\n",
    "        id_patch=[]        \n",
    "        distances=[]\n",
    "        n_patches_per_graph=10\n",
    "        for i in range(X.size()[0]):\n",
    "            ## select at random 2 nodes in the adjacency matrix:\n",
    "            a=X.size()[1]\n",
    "            for j in range(n_patches_per_graph):\n",
    "                nx,ny=np.random.choice(range(X.size()[1]*X.size()[2]),2)\n",
    "                distances+=[(nx%a-ny%a)**2+(nx//a-ny//a)**2]\n",
    "                id_patch+=[[i,nx,ny]]\n",
    "        if patches==None:\n",
    "            patches=extract_patches(data,size_patch, zero_padding=True)\n",
    "        selected_patches=torch.Tensor(len(id_patch),2,size_patch**2)\n",
    "        for j in range(len(id_patch)):\n",
    "\n",
    "            while torch.sum(patches[id_patch[j][1],id_patch[j][0],:])==0 and torch.sum(patches[id_patch[j][2],id_patch[j][0],:])==0:\n",
    "                nx,ny=np.random.choice(range(X.size()[1]*X.size()[2]),2)\n",
    "                id_patch[j]=[id_patch[j][0],nx,ny]\n",
    "            selected_patches[j,0,:]=patches[id_patch[j][1],id_patch[j][0],:]\n",
    "            selected_patches[j,1,:]=patches[id_patch[j][2],id_patch[j][0],:]\n",
    "            \n",
    "        return extract_selected_patches(X,id_patch, self.size_patch),distances,patches\n",
    "            \n",
    "        \n",
    "    def init_W(self,X):\n",
    "        self.training_data,self.distances,self.patches=self.select_training_patches(X,50)\n",
    "        distances2=torch.sum((self.training_data[:,0,:]-self.training_data[:,1,:])**2,dim=1)\n",
    "        if self.sigma==None:\n",
    "        \t### set to be quantile\n",
    "            ### compute the distance between patches\n",
    "            self.sigma=np.percentile(distances2.numpy(),10)\n",
    "        X_tilde=torch.cat((self.training_data[:,0,:],self.training_data[:,1,:]), dim=0)\n",
    "        print(self.sigma)\n",
    "        km=KMeans(n_clusters=self.n_components)\n",
    "        inds=range(int(X_tilde.size()[0]))\n",
    "        np.random.shuffle(inds)\n",
    "        X_tilde=X_tilde[list(inds[:np.min([4000,len(inds)])]),:]\n",
    "        km.fit(X_tilde.numpy())\n",
    "        self.W=Variable(torch.Tensor(km.cluster_centers_), requires_grad=True)\n",
    "    \t\t\t\n",
    "    def fit(self, X, y=None, init=True):\n",
    "        rnd = check_random_state(self.random_state)\n",
    "        D=self.n_components\n",
    "        if init==True: self.init_W(X)\n",
    "        X_input=Variable(self.training_data, requires_grad=False)\n",
    "        N=X_input.size()[0]\n",
    "        n=X_input.size()[1]\n",
    "        expected_output=Variable(torch.Tensor(torch.exp(-torch.sum((X_input[:,0,:]-X_input[:,1,:])**2/self.sigma,1))),requires_grad=False)\n",
    "        loss_func = nn.MSELoss()\n",
    "        optimizer = optim.SGD([self.W,self.eta], lr=self.lr) # instantiate optimizer with model params + learning rate (SGD for the moment)\n",
    "        for t in range(self.iter_max):\n",
    "            output=(X_input[:,0,:].repeat(1, D)-self.W.view(1,D*n).repeat(N, 1))**2+(X_input[:,1,:].repeat(1, D)-self.W.view(1,D*n).repeat(N, 1))**2\n",
    "            output2=output.view(N,D,n)\n",
    "            output2=torch.exp(-1.0/sigma*torch.sum(output2,2))\n",
    "            output2=torch.matmul(output2,self.eta)\n",
    "            loss=loss_func(output2,expected_output)\n",
    "            if t%self.print_lag==0: print(t, loss.data[0])\n",
    "            optimizer.zero_grad() \n",
    "            loss.backward()\n",
    "            optimizer.step()\n",
    "            self.eta=Variable((self.eta).clamp(0,1000),requires_grad=True)\n",
    "        print('final loss is:',loss.data[0])\n",
    "        return self\n",
    "    \n",
    "\n",
    "    def fit_LBFGS(self,X,init=True):\n",
    "        rnd = check_random_state(self.random_state)\n",
    "        D=self.n_components\n",
    "        if init==True: self.init_W(X)\n",
    "        print(\"Initialization: done\")\n",
    "        D=self.n_components\n",
    "        X_input=self.training_data\n",
    "        N=X_input.size()[0]\n",
    "        n=X_input.size()[1]\n",
    "        expected_output=Variable(torch.exp(-torch.sum((X_input[:,0,:]-X_input[:,1,:])**2/(2*self.sigma),1)),requires_grad=False)\n",
    "        X_input=Variable(X_input, requires_grad=False)\n",
    "        loss_func = nn.MSELoss()\n",
    "        optimizer = optim.LBFGS([self.W,self.eta]) # instantiate optimizer with model params + learning rate (SGD for the moment)\n",
    "        batch_size=100\n",
    "        sigma=self.sigma\n",
    "        output_tot=torch.Tensor()\n",
    "        for t in range(self.iter_max):\n",
    "            overall_loss=0\n",
    "            for b in range(batch_size):\n",
    "                def closure():\n",
    "                    XX=X_input[b*batch_size:(b+1)*batch_size,0,:].contiguous().view((1,batch_size,p_size**2)).expand(D,batch_size,p_size**2)\n",
    "                    YY=X_input[b*batch_size:(b+1)*batch_size,1,:].contiguous().view((1,batch_size,p_size**2)).expand(D,batch_size,p_size**2)\n",
    "                    output=(XX-self.W.view(D,1,p_size**2).expand(D,batch_size,p_size**2))**2+(YY-self.W.view(D,1,p_size**2).expand(D,batch_size,p_size**2))**2\n",
    "                    \n",
    "                    output=torch.sum(output.view(-1,p_size**2),1)\n",
    "                    output2=torch.exp(Variable(torch.Tensor(np.array([-1.0/sigma]))).expand_as(output)*output)\n",
    "                    #output2=torch.exp((-1.0/sigma).expand_as(output)*torch.sum(output.view(-1,p_size**2),1))\n",
    "                    weights=(2.0/(math.pi*sigma**2))**(D/2)*F.softmax(-self.eta)\n",
    "                    output2=torch.matmul(output2.view(-1,D),weights)\n",
    "                    loss=loss_func(output2,expected_output[b*batch_size:(b+1)*batch_size])\n",
    "                    #overall_loss+=loss[0]\n",
    "                    #if t%self.print_lag==0: print(t, loss.data[0])\n",
    "                    optimizer.zero_grad() \n",
    "                    loss.backward()\n",
    "                    #optimizer.step()\n",
    "                    \n",
    "                optimizer.step(closure)\n",
    "                self.eta=(self.eta).clamp(0,1000)\n",
    "            print(t,overall_loss)\n",
    "        \n",
    "    def _get_kernel_params(self):\n",
    "        params = self.kernel_params\n",
    "        if params is None:\n",
    "            params = {}\n",
    "        return params\n"
   ]
  },
  {
   "cell_type": "code",
   "execution_count": 52,
   "metadata": {
    "collapsed": false
   },
   "outputs": [
    {
     "name": "stdout",
     "output_type": "stream",
     "text": [
      "24866.6\n"
     ]
    }
   ],
   "source": [
    "Cell=Nystrom()\n",
    "Cell.init_W(X)\n",
    "#Cell.fit_LBFGS(X)\n"
   ]
  },
  {
   "cell_type": "code",
   "execution_count": null,
   "metadata": {
    "collapsed": false
   },
   "outputs": [
    {
     "name": "stdout",
     "output_type": "stream",
     "text": [
      "0 Variable containing:\n",
      " 1.6612\n",
      "[torch.FloatTensor of size 1]\n",
      "\n",
      "1 Variable containing:\n",
      " 1.6585\n",
      "[torch.FloatTensor of size 1]\n",
      "\n",
      "2 Variable containing:\n",
      " 1.6565\n",
      "[torch.FloatTensor of size 1]\n",
      "\n",
      "3 Variable containing:\n",
      " 1.6551\n",
      "[torch.FloatTensor of size 1]\n",
      "\n",
      "4 Variable containing:\n",
      " 1.6541\n",
      "[torch.FloatTensor of size 1]\n",
      "\n",
      "5 Variable containing:\n",
      " 1.6533\n",
      "[torch.FloatTensor of size 1]\n",
      "\n",
      "6 Variable containing:\n",
      " 1.6526\n",
      "[torch.FloatTensor of size 1]\n",
      "\n",
      "7 Variable containing:\n",
      " 1.6521\n",
      "[torch.FloatTensor of size 1]\n",
      "\n",
      "8 Variable containing:\n",
      " 1.6516\n",
      "[torch.FloatTensor of size 1]\n",
      "\n",
      "9 Variable containing:\n",
      " 1.6511\n",
      "[torch.FloatTensor of size 1]\n",
      "\n",
      "10 Variable containing:\n",
      " 1.6508\n",
      "[torch.FloatTensor of size 1]\n",
      "\n",
      "11 Variable containing:\n",
      " 1.6505\n",
      "[torch.FloatTensor of size 1]\n",
      "\n",
      "12 Variable containing:\n",
      " 1.6502\n",
      "[torch.FloatTensor of size 1]\n",
      "\n",
      "13 Variable containing:\n",
      " 1.6499\n",
      "[torch.FloatTensor of size 1]\n",
      "\n",
      "14 Variable containing:\n",
      " 1.6496\n",
      "[torch.FloatTensor of size 1]\n",
      "\n",
      "15 Variable containing:\n",
      " 1.6494\n",
      "[torch.FloatTensor of size 1]\n",
      "\n",
      "16 Variable containing:\n",
      " 1.6492\n",
      "[torch.FloatTensor of size 1]\n",
      "\n",
      "17 Variable containing:\n",
      " 1.6490\n",
      "[torch.FloatTensor of size 1]\n",
      "\n",
      "18 Variable containing:\n",
      " 1.6489\n",
      "[torch.FloatTensor of size 1]\n",
      "\n",
      "19 Variable containing:\n",
      " 1.6487\n",
      "[torch.FloatTensor of size 1]\n",
      "\n",
      "20 Variable containing:\n",
      " 1.6486\n",
      "[torch.FloatTensor of size 1]\n",
      "\n",
      "21 Variable containing:\n",
      " 1.6484\n",
      "[torch.FloatTensor of size 1]\n",
      "\n",
      "22 Variable containing:\n",
      " 1.6483\n",
      "[torch.FloatTensor of size 1]\n",
      "\n",
      "23 Variable containing:\n",
      " 1.6482\n",
      "[torch.FloatTensor of size 1]\n",
      "\n",
      "24 Variable containing:\n",
      " 1.6481\n",
      "[torch.FloatTensor of size 1]\n",
      "\n",
      "25 Variable containing:\n",
      " 1.6480\n",
      "[torch.FloatTensor of size 1]\n",
      "\n"
     ]
    }
   ],
   "source": [
    "\n",
    "D=Cell.n_components\n",
    "X_input=Cell.training_data\n",
    "N=X_input.size()[0]\n",
    "n=X_input.size()[1]\n",
    "m=size_patch**2\n",
    "expected_output=Variable(torch.exp(torch.Tensor([-1.0/(2*Cell.sigma)])*torch.sum((X_input[:,0,:]-X_input[:,1,:])**2,1)),requires_grad=False)\n",
    "expected_output=1.0/torch.sqrt(torch.mean(expected_output**2))*expected_output\n",
    "X_input=Variable(X_input, requires_grad=False)\n",
    "loss_func = nn.MSELoss()\n",
    "#eta=Variable(torch.Tensor([1]*D),requires_grad=True)\n",
    "#W=Variable(W_storage.data,requires_grad=True)\n",
    "optimizer = optim.Adam([Cell.W,Cell.eta]) # instantiate optimizer with model params + learning rate (SGD for the moment)\n",
    "batch_size=100\n",
    "p_size=size_patch\n",
    "output_tot=torch.Tensor()\n",
    "\n",
    "for t in range(Cell.iter_max):\n",
    "        overall_loss=0\n",
    "    #def closure():\n",
    "        for b in range(batch_size):\n",
    "            #Cell.eta=F.relu(Cell.eta)\n",
    "            XX=X_input[b*batch_size:(b+1)*batch_size,0,:].contiguous().view((1,batch_size,p_size**2)).expand(D,batch_size,p_size**2)\n",
    "            YY=X_input[b*batch_size:(b+1)*batch_size,1,:].contiguous().view((1,batch_size,p_size**2)).expand(D,batch_size,p_size**2)\n",
    "            output=(XX-Cell.W.view(D,1,p_size**2).expand(D,batch_size,p_size**2))**2+(YY-Cell.W.view(D,1,p_size**2).expand(D,batch_size,p_size**2))**2\n",
    "            #output=(XX-Cell.W.view(D,1,p_size**2).expand(D,X_input.size()[0],p_size**2))**2+(X_input[:,1,:].repeat(1, D)-Cell.W.view(1,D*n).repeat(N, 1))**2\n",
    "            #output2=output.view(N,D,n)\n",
    "            output=torch.sum(output.view(-1,p_size**2),1)\n",
    "            #print(output[:10])\n",
    "            output2=torch.exp(Variable(torch.Tensor(np.array([-1.0/Cell.sigma]))).expand_as(output)*output)\n",
    "            \n",
    "            #output2=torch.exp((-1.0/sigma).expand_as(output)*torch.sum(output.view(-1,p_size**2),1))\n",
    "            #weights=C.expand_as(eta)*F.softmax(-eta)\n",
    "            output2=torch.matmul(output2.view(-1,D),F.relu(Cell.eta))\n",
    "            #print(output2[:10])\n",
    "            loss=loss_func(output2,expected_output[b*batch_size:(b+1)*batch_size])+1.0/batch_size*torch.sum((Cell.eta-F.relu(Cell.eta))**2)\n",
    "            #+0.1/D*torch.sum(Cell.eta)\n",
    "            #+2.0/D*torch.dot(Variable(torch.Tensor([1]*D)),Cell.eta)\n",
    "            overall_loss+=loss[0]\n",
    "            #STOP\n",
    "            #if t%Cell.print_lag==0: print(t, loss.data[0])\n",
    "            optimizer.zero_grad() \n",
    "            loss.backward(retain_graph=True)\n",
    "            optimizer.step()\n",
    "            #Cell.eta=F.relu(Cell.eta)\n",
    "            \n",
    "            \n",
    "        #optimizer.step()\n",
    "        #Cell.eta=(Cell.eta).clamp(0,1000)\n",
    "        print(t,overall_loss/(60))\n",
    "        #print(eta[:5])\n",
    "        "
   ]
  },
  {
   "cell_type": "code",
   "execution_count": null,
   "metadata": {
    "collapsed": false
   },
   "outputs": [],
   "source": [
    "plt.figure()\n",
    "plt.hist(expected_output[b*batch_size:(b+1)*batch_size].data.numpy(), color='red')\n",
    "plt.hist(output2.data.numpy())"
   ]
  },
  {
   "cell_type": "code",
   "execution_count": 50,
   "metadata": {
    "collapsed": false
   },
   "outputs": [
    {
     "data": {
      "text/plain": [
       "Variable containing:\n",
       "1.00000e-02 *\n",
       "  9.7508\n",
       "[torch.FloatTensor of size 1]"
      ]
     },
     "execution_count": 50,
     "metadata": {},
     "output_type": "execute_result"
    }
   ],
   "source": [
    "0.1"
   ]
  },
  {
   "cell_type": "code",
   "execution_count": 276,
   "metadata": {
    "collapsed": false
   },
   "outputs": [],
   "source": [
    "def func(params, *args):\n",
    "    D=args[4]\n",
    "    #print(params)\n",
    "    W = params[:-D]\n",
    "    eta=params[-D:]\n",
    "    \n",
    "    W=W.reshape([D,-1])\n",
    "    eta=eta.reshape([D,1])\n",
    "    #print(W.shape)\n",
    "    XX = args[0]\n",
    "    YY = args[1]  #.reshape([100,25,1]),D)\n",
    "    sigma=args[2]\n",
    "    N=XX.shape[0]\n",
    "    expected_ouput = args[3]\n",
    "    test=np.array([((XX[i,:]-W)**2)+((YY[i,:]-W)**2)  for i in range(N)])\n",
    "    #print((np.exp(-1.0/sigma*np.sum(test,2))).shape)\n",
    "    #print(eta.shape)\n",
    "    res=(expected_ouput_t -((eta.T).dot(np.exp(-1.0/sigma*np.sum(test,2)))))\n",
    "    return np.sum(res**2)"
   ]
  },
  {
   "cell_type": "code",
   "execution_count": 243,
   "metadata": {
    "collapsed": false
   },
   "outputs": [
    {
     "ename": "RuntimeError",
     "evalue": "Variable data has to be a tensor, but got Variable",
     "output_type": "error",
     "traceback": [
      "\u001b[0;31m---------------------------------------------------------------------------\u001b[0m",
      "\u001b[0;31mRuntimeError\u001b[0m                              Traceback (most recent call last)",
      "\u001b[0;32m<ipython-input-243-5cec3be9a562>\u001b[0m in \u001b[0;36m<module>\u001b[0;34m()\u001b[0m\n\u001b[0;32m----> 1\u001b[0;31m \u001b[0mexpected_output\u001b[0m\u001b[0;34m=\u001b[0m\u001b[0mVariable\u001b[0m\u001b[0;34m(\u001b[0m\u001b[0mtorch\u001b[0m\u001b[0;34m.\u001b[0m\u001b[0mexp\u001b[0m\u001b[0;34m(\u001b[0m\u001b[0mVariable\u001b[0m\u001b[0;34m(\u001b[0m\u001b[0mtorch\u001b[0m\u001b[0;34m.\u001b[0m\u001b[0mTensor\u001b[0m\u001b[0;34m(\u001b[0m\u001b[0;34m[\u001b[0m\u001b[0;34m-\u001b[0m\u001b[0;36m1.0\u001b[0m\u001b[0;34m/\u001b[0m\u001b[0;34m(\u001b[0m\u001b[0;36m2\u001b[0m\u001b[0;34m*\u001b[0m\u001b[0msigma\u001b[0m\u001b[0;34m)\u001b[0m\u001b[0;34m]\u001b[0m\u001b[0;34m)\u001b[0m\u001b[0;34m)\u001b[0m\u001b[0;34m*\u001b[0m\u001b[0mtorch\u001b[0m\u001b[0;34m.\u001b[0m\u001b[0msum\u001b[0m\u001b[0;34m(\u001b[0m\u001b[0;34m(\u001b[0m\u001b[0mX_input\u001b[0m\u001b[0;34m[\u001b[0m\u001b[0;34m:\u001b[0m\u001b[0;34m,\u001b[0m\u001b[0;36m0\u001b[0m\u001b[0;34m,\u001b[0m\u001b[0;34m:\u001b[0m\u001b[0;34m]\u001b[0m\u001b[0;34m-\u001b[0m\u001b[0mX_input\u001b[0m\u001b[0;34m[\u001b[0m\u001b[0;34m:\u001b[0m\u001b[0;34m,\u001b[0m\u001b[0;36m1\u001b[0m\u001b[0;34m,\u001b[0m\u001b[0;34m:\u001b[0m\u001b[0;34m]\u001b[0m\u001b[0;34m)\u001b[0m\u001b[0;34m**\u001b[0m\u001b[0;36m2\u001b[0m\u001b[0;34m,\u001b[0m\u001b[0;36m1\u001b[0m\u001b[0;34m)\u001b[0m\u001b[0;34m)\u001b[0m\u001b[0;34m,\u001b[0m\u001b[0mrequires_grad\u001b[0m\u001b[0;34m=\u001b[0m\u001b[0mFalse\u001b[0m\u001b[0;34m)\u001b[0m\u001b[0;34m\u001b[0m\u001b[0m\n\u001b[0m",
      "\u001b[0;31mRuntimeError\u001b[0m: Variable data has to be a tensor, but got Variable"
     ]
    }
   ],
   "source": [
    "expected_output=Variable(torch.exp(Variable(torch.Tensor([-1.0/(2*sigma)]))*torch.sum((X_input[:,0,:]-X_input[:,1,:])**2,1)),requires_grad=False)"
   ]
  },
  {
   "cell_type": "code",
   "execution_count": 22,
   "metadata": {
    "collapsed": false
   },
   "outputs": [
    {
     "data": {
      "text/plain": [
       "Variable containing:\n",
       " 0.1074\n",
       "[torch.FloatTensor of size 1]"
      ]
     },
     "execution_count": 22,
     "metadata": {},
     "output_type": "execute_result"
    }
   ],
   "source": [
    "loss_func(output2,expected_output[b*batch_size:(b+1)*batch_size])"
   ]
  },
  {
   "cell_type": "code",
   "execution_count": 238,
   "metadata": {
    "collapsed": false
   },
   "outputs": [
    {
     "ename": "RuntimeError",
     "evalue": "cannot call .data on a torch.Tensor: did you intend to use autograd.Variable?",
     "output_type": "error",
     "traceback": [
      "\u001b[0;31m---------------------------------------------------------------------------\u001b[0m",
      "\u001b[0;31mRuntimeError\u001b[0m                              Traceback (most recent call last)",
      "\u001b[0;32m<ipython-input-238-8d08e88b18c7>\u001b[0m in \u001b[0;36m<module>\u001b[0;34m()\u001b[0m\n\u001b[0;32m----> 1\u001b[0;31m \u001b[0mtesty2\u001b[0m\u001b[0;34m=\u001b[0m\u001b[0mnp\u001b[0m\u001b[0;34m.\u001b[0m\u001b[0marray\u001b[0m\u001b[0;34m(\u001b[0m\u001b[0;34m[\u001b[0m\u001b[0;34m(\u001b[0m\u001b[0;34m(\u001b[0m\u001b[0mtesty\u001b[0m\u001b[0;34m[\u001b[0m\u001b[0mi\u001b[0m\u001b[0;34m,\u001b[0m\u001b[0;34m:\u001b[0m\u001b[0;34m]\u001b[0m\u001b[0;34m-\u001b[0m\u001b[0mW\u001b[0m\u001b[0;34m.\u001b[0m\u001b[0mdata\u001b[0m\u001b[0;34m.\u001b[0m\u001b[0mnumpy\u001b[0m\u001b[0;34m(\u001b[0m\u001b[0;34m)\u001b[0m\u001b[0;34m)\u001b[0m\u001b[0;34m**\u001b[0m\u001b[0;36m2\u001b[0m\u001b[0;34m)\u001b[0m\u001b[0;34m+\u001b[0m\u001b[0;34m(\u001b[0m\u001b[0;34m(\u001b[0m\u001b[0mtesty\u001b[0m\u001b[0;34m[\u001b[0m\u001b[0mi\u001b[0m\u001b[0;34m,\u001b[0m\u001b[0;34m:\u001b[0m\u001b[0;34m]\u001b[0m\u001b[0;34m-\u001b[0m\u001b[0mW\u001b[0m\u001b[0;34m.\u001b[0m\u001b[0mdata\u001b[0m\u001b[0;34m.\u001b[0m\u001b[0mnumpy\u001b[0m\u001b[0;34m(\u001b[0m\u001b[0;34m)\u001b[0m\u001b[0;34m)\u001b[0m\u001b[0;34m**\u001b[0m\u001b[0;36m2\u001b[0m\u001b[0;34m)\u001b[0m \u001b[0;32mfor\u001b[0m \u001b[0mi\u001b[0m \u001b[0;32min\u001b[0m \u001b[0mrange\u001b[0m\u001b[0;34m(\u001b[0m\u001b[0;36m100\u001b[0m\u001b[0;34m)\u001b[0m\u001b[0;34m]\u001b[0m\u001b[0;34m)\u001b[0m\u001b[0;34m\u001b[0m\u001b[0m\n\u001b[0m",
      "\u001b[0;32m/Users/cdonnat/anaconda/lib/python2.7/site-packages/torch/tensor.pyc\u001b[0m in \u001b[0;36mdata\u001b[0;34m(self)\u001b[0m\n\u001b[1;32m    372\u001b[0m     \u001b[0;34m@\u001b[0m\u001b[0mproperty\u001b[0m\u001b[0;34m\u001b[0m\u001b[0m\n\u001b[1;32m    373\u001b[0m     \u001b[0;32mdef\u001b[0m \u001b[0mdata\u001b[0m\u001b[0;34m(\u001b[0m\u001b[0mself\u001b[0m\u001b[0;34m)\u001b[0m\u001b[0;34m:\u001b[0m\u001b[0;34m\u001b[0m\u001b[0m\n\u001b[0;32m--> 374\u001b[0;31m         \u001b[0;32mraise\u001b[0m \u001b[0mRuntimeError\u001b[0m\u001b[0;34m(\u001b[0m\u001b[0;34m'cannot call .data on a torch.Tensor: did you intend to use autograd.Variable?'\u001b[0m\u001b[0;34m)\u001b[0m\u001b[0;34m\u001b[0m\u001b[0m\n\u001b[0m\u001b[1;32m    375\u001b[0m \u001b[0;34m\u001b[0m\u001b[0m\n\u001b[1;32m    376\u001b[0m \u001b[0;34m\u001b[0m\u001b[0m\n",
      "\u001b[0;31mRuntimeError\u001b[0m: cannot call .data on a torch.Tensor: did you intend to use autograd.Variable?"
     ]
    }
   ],
   "source": [
    "testy2=np.array([((testy[i,:]-W.data.numpy())**2)+((testy[i,:]-W.data.numpy())**2) for i in range(100)])"
   ]
  },
  {
   "cell_type": "code",
   "execution_count": 19,
   "metadata": {
    "collapsed": false
   },
   "outputs": [
    {
     "data": {
      "text/plain": [
       "Variable containing:\n",
       " 0.2381\n",
       "-0.0000\n",
       " 0.0141\n",
       " 0.0976\n",
       " 0.0166\n",
       "-0.0000\n",
       "-0.0000\n",
       " 0.0418\n",
       "-0.0000\n",
       "-0.0000\n",
       " 0.0651\n",
       "-0.0000\n",
       " 0.0223\n",
       "-0.0000\n",
       "-0.0000\n",
       "-0.0000\n",
       "-0.0000\n",
       "-0.0000\n",
       " 0.0277\n",
       " 0.0203\n",
       "-0.0000\n",
       "-0.0000\n",
       " 0.0000\n",
       " 0.0075\n",
       " 0.0509\n",
       "-0.0000\n",
       " 0.0054\n",
       "-0.0000\n",
       "-0.0000\n",
       "-0.0000\n",
       " 0.0510\n",
       " 0.0813\n",
       " 0.0202\n",
       " 0.0306\n",
       "-0.0000\n",
       " 0.0157\n",
       " 0.0334\n",
       "-0.0000\n",
       " 0.0154\n",
       " 0.0514\n",
       "-0.0000\n",
       " 0.0721\n",
       " 0.0203\n",
       "-0.0000\n",
       "-0.0000\n",
       " 0.0072\n",
       " 0.0000\n",
       " 0.0712\n",
       "-0.0000\n",
       "-0.0000\n",
       "-0.0000\n",
       "-0.0000\n",
       " 0.0480\n",
       "-0.0000\n",
       " 0.0705\n",
       " 0.0095\n",
       "-0.0000\n",
       "-0.0000\n",
       " 0.0000\n",
       "-0.0000\n",
       " 0.0198\n",
       "-0.0000\n",
       " 0.0888\n",
       " 0.0555\n",
       "-0.0000\n",
       " 0.1483\n",
       " 0.0407\n",
       " 0.0907\n",
       "-0.0000\n",
       " 0.0218\n",
       " 0.0044\n",
       "-0.0000\n",
       " 0.0486\n",
       "-0.0000\n",
       " 0.0085\n",
       " 0.0398\n",
       " 0.0066\n",
       "-0.0000\n",
       " 0.0868\n",
       "-0.0000\n",
       "-0.0000\n",
       "-0.0000\n",
       " 0.0127\n",
       "-0.0000\n",
       "-0.0000\n",
       " 0.0583\n",
       " 0.0346\n",
       " 0.0041\n",
       "-0.0000\n",
       "-0.0000\n",
       " 0.0643\n",
       "-0.0000\n",
       "-0.0000\n",
       " 0.0567\n",
       " 0.0662\n",
       "-0.0000\n",
       "-0.0000\n",
       " 0.0000\n",
       " 0.0104\n",
       " 0.0022\n",
       "[torch.FloatTensor of size 100]"
      ]
     },
     "execution_count": 19,
     "metadata": {},
     "output_type": "execute_result"
    }
   ],
   "source": [
    "Cell.eta"
   ]
  },
  {
   "cell_type": "code",
   "execution_count": 274,
   "metadata": {
    "collapsed": false
   },
   "outputs": [],
   "source": [
    "args=(X_input[b*batch_size:(b+1)*batch_size,0,:].data.numpy(),\\\n",
    "      X_input[b*batch_size:(b+1)*batch_size,1,:].data.numpy(),\\\n",
    "      Cell.sigma,\\\n",
    "      expected_ouput_t,\\\n",
    "      100)"
   ]
  },
  {
   "cell_type": "code",
   "execution_count": 273,
   "metadata": {
    "collapsed": false
   },
   "outputs": [
    {
     "data": {
      "text/plain": [
       "array([ 2.04238892,  0.32662582,  0.30661392, ...,  0.01      ,\n",
       "        0.01      ,  0.01      ])"
      ]
     },
     "execution_count": 273,
     "metadata": {},
     "output_type": "execute_result"
    }
   ],
   "source": [
    "initial_values"
   ]
  },
  {
   "cell_type": "code",
   "execution_count": 277,
   "metadata": {
    "collapsed": false
   },
   "outputs": [],
   "source": [
    "initial_values = np.array(list(Cell.W.data.numpy().reshape([-1,]))+list(Cell.eta.data))\n",
    "mybounds = [(None,None)]*2500+[(0,None)]*100\n",
    "x,f,d = scipy.optimize.fmin_l_bfgs_b(func, x0=initial_values, args=args, bounds=mybounds,approx_grad=True)\n",
    "\n",
    "\n"
   ]
  },
  {
   "cell_type": "code",
   "execution_count": 281,
   "metadata": {
    "collapsed": false
   },
   "outputs": [
    {
     "data": {
      "text/plain": [
       "0.068295918279463033"
      ]
     },
     "execution_count": 281,
     "metadata": {},
     "output_type": "execute_result"
    }
   ],
   "source": [
    "f/100"
   ]
  },
  {
   "cell_type": "code",
   "execution_count": 216,
   "metadata": {
    "collapsed": false
   },
   "outputs": [
    {
     "ename": "ValueError",
     "evalue": "operands could not be broadcast together with shapes (2,) (100,25) ",
     "output_type": "error",
     "traceback": [
      "\u001b[0;31m---------------------------------------------------------------------------\u001b[0m",
      "\u001b[0;31mValueError\u001b[0m                                Traceback (most recent call last)",
      "\u001b[0;32m<ipython-input-216-e5ffb948e114>\u001b[0m in \u001b[0;36m<module>\u001b[0;34m()\u001b[0m\n\u001b[0;32m----> 1\u001b[0;31m \u001b[0mmybounds\u001b[0m \u001b[0;34m=\u001b[0m \u001b[0;34m[\u001b[0m\u001b[0;34m(\u001b[0m\u001b[0mNone\u001b[0m\u001b[0;34m,\u001b[0m\u001b[0mNone\u001b[0m\u001b[0;34m)\u001b[0m\u001b[0;34m*\u001b[0m\u001b[0mnp\u001b[0m\u001b[0;34m.\u001b[0m\u001b[0mones\u001b[0m\u001b[0;34m(\u001b[0m\u001b[0mCell\u001b[0m\u001b[0;34m.\u001b[0m\u001b[0mW\u001b[0m\u001b[0;34m.\u001b[0m\u001b[0mdata\u001b[0m\u001b[0;34m.\u001b[0m\u001b[0mshape\u001b[0m\u001b[0;34m)\u001b[0m\u001b[0;34m,\u001b[0m \u001b[0;34m[\u001b[0m\u001b[0;34m(\u001b[0m\u001b[0;36m0\u001b[0m\u001b[0;34m,\u001b[0m\u001b[0mNone\u001b[0m\u001b[0;34m)\u001b[0m\u001b[0;34m]\u001b[0m\u001b[0;34m*\u001b[0m\u001b[0;36m100\u001b[0m\u001b[0;34m]\u001b[0m\u001b[0;34m\u001b[0m\u001b[0m\n\u001b[0m",
      "\u001b[0;31mValueError\u001b[0m: operands could not be broadcast together with shapes (2,) (100,25) "
     ]
    }
   ],
   "source": [
    "mybounds = [(None,None)*np.ones(Cell.W.data.shape), [(0,None)]*100]"
   ]
  },
  {
   "cell_type": "code",
   "execution_count": 156,
   "metadata": {
    "collapsed": false
   },
   "outputs": [
    {
     "data": {
      "text/plain": [
       "\n",
       " 1.2866e-01\n",
       " 1.0041e-02\n",
       " 3.2957e-08\n",
       "     ⋮     \n",
       " 9.6713e-01\n",
       " 5.6344e-01\n",
       " 3.9064e-08\n",
       "[torch.FloatTensor of size 10000]"
      ]
     },
     "execution_count": 156,
     "metadata": {},
     "output_type": "execute_result"
    }
   ],
   "source": [
    "torch.exp(torch.Tensor([-1.0/(2*sigma)])*torch.sum((X_input[:,0,:]-X_input[:,1,:])**2,1))"
   ]
  },
  {
   "cell_type": "code",
   "execution_count": null,
   "metadata": {
    "collapsed": true
   },
   "outputs": [],
   "source": [
    "XX=X_input[b*batch_size:(b+1)*batch_size,0,:].contiguous().view((1,batch_size,p_size**2)).expand(D,batch_size,p_size**2)\n",
    "YY=X_input[b*batch_size:(b+1)*batch_size,1,:].contiguous().view((1,batch_size,p_size**2)).expand(D,batch_size,p_size**2)"
   ]
  },
  {
   "cell_type": "code",
   "execution_count": 194,
   "metadata": {
    "collapsed": false
   },
   "outputs": [],
   "source": [
    "N=XX.shape[0]\n",
    "test=np.array([((W.numpy()-XX[i,:])**2)+((YY[i,:]-W.numpy())**2)  for i in range(N)])"
   ]
  },
  {
   "cell_type": "code",
   "execution_count": 201,
   "metadata": {
    "collapsed": false
   },
   "outputs": [
    {
     "ename": "ValueError",
     "evalue": "operands could not be broadcast together with shapes (100,) (100,25) ",
     "output_type": "error",
     "traceback": [
      "\u001b[0;31m---------------------------------------------------------------------------\u001b[0m",
      "\u001b[0;31mValueError\u001b[0m                                Traceback (most recent call last)",
      "\u001b[0;32m<ipython-input-201-04cc25089b84>\u001b[0m in \u001b[0;36m<module>\u001b[0;34m()\u001b[0m\n\u001b[0;32m----> 1\u001b[0;31m \u001b[0mres\u001b[0m\u001b[0;34m=\u001b[0m\u001b[0;34m(\u001b[0m\u001b[0mexpected_ouput_t\u001b[0m \u001b[0;34m-\u001b[0m\u001b[0meta\u001b[0m\u001b[0;34m.\u001b[0m\u001b[0mnumpy\u001b[0m\u001b[0;34m(\u001b[0m\u001b[0;34m)\u001b[0m\u001b[0;34m.\u001b[0m\u001b[0mdot\u001b[0m\u001b[0;34m(\u001b[0m\u001b[0mnp\u001b[0m\u001b[0;34m.\u001b[0m\u001b[0mexp\u001b[0m\u001b[0;34m(\u001b[0m\u001b[0;34m-\u001b[0m\u001b[0;36m1.0\u001b[0m\u001b[0;34m/\u001b[0m\u001b[0msigma\u001b[0m\u001b[0;34m*\u001b[0m\u001b[0mtest\u001b[0m\u001b[0;34m)\u001b[0m\u001b[0;34m)\u001b[0m\u001b[0;34m)\u001b[0m\u001b[0;34m**\u001b[0m\u001b[0;36m2\u001b[0m\u001b[0;34m\u001b[0m\u001b[0m\n\u001b[0m",
      "\u001b[0;31mValueError\u001b[0m: operands could not be broadcast together with shapes (100,) (100,25) "
     ]
    }
   ],
   "source": [
    "res=(expected_ouput_t -((eta.numpy().T).dot(np.exp(-1.0/sigma*np.sum(test,2)))))"
   ]
  },
  {
   "cell_type": "code",
   "execution_count": 284,
   "metadata": {
    "collapsed": false
   },
   "outputs": [],
   "source": [
    "Wfinal=x[:-D].reshape([D,25])\n",
    "etafinal=x[-D:]"
   ]
  },
  {
   "cell_type": "code",
   "execution_count": 289,
   "metadata": {
    "collapsed": false
   },
   "outputs": [],
   "source": [
    "test=np.array([((Wfinal-XX[i,:])**2)+((YY[i,:]-Wfinal)**2)  for i in range(N)])\n",
    "testy2=((etafinal.T).dot(np.exp(-1.0/sigma*np.sum(test,2))))"
   ]
  },
  {
   "cell_type": "code",
   "execution_count": 296,
   "metadata": {
    "collapsed": false
   },
   "outputs": [],
   "source": [
    "### convergence feels super long"
   ]
  },
  {
   "cell_type": "code",
   "execution_count": 88,
   "metadata": {
    "collapsed": false
   },
   "outputs": [],
   "source": [
    "sigma=Cell.sigma\n",
    "XX=X_input[b*batch_size:(b+1)*batch_size,0,:].contiguous().view((1,batch_size,p_size**2)).expand(D,batch_size,p_size**2)\n",
    "YY=X_input[b*batch_size:(b+1)*batch_size,1,:].contiguous().view((1,batch_size,p_size**2)).expand(D,batch_size,p_size**2)\n",
    "output=(XX-W.view(D,1,p_size**2).expand(D,batch_size,p_size**2))**2+(YY-W.view(D,1,p_size**2).expand(D,batch_size,p_size**2))**2\n",
    "            #output=(XX-Cell.W.view(D,1,p_size**2).expand(D,X_input.size()[0],p_size**2))**2+(X_input[:,1,:].repeat(1, D)-Cell.W.view(1,D*n).repeat(N, 1))**2\n",
    "            #output2=output.view(N,D,n)\n",
    "output=torch.sum(output.view(-1,p_size**2),1)"
   ]
  },
  {
   "cell_type": "code",
   "execution_count": 90,
   "metadata": {
    "collapsed": false
   },
   "outputs": [],
   "source": [
    "output2=torch.exp(Variable(torch.Tensor(np.array([-1.0/sigma]))).expand_as(output)*output)\n",
    "            "
   ]
  },
  {
   "cell_type": "code",
   "execution_count": 184,
   "metadata": {
    "collapsed": false
   },
   "outputs": [],
   "source": [
    "XX,YY,sigma=args"
   ]
  },
  {
   "cell_type": "code",
   "execution_count": 185,
   "metadata": {
    "collapsed": false
   },
   "outputs": [
    {
     "data": {
      "text/plain": [
       "array([[   0.,    0.,    0., ...,    0.,    0.,    0.],\n",
       "       [   0.,    0.,    0., ...,    0.,    0.,    0.],\n",
       "       [   0.,    0.,    0., ...,    0.,    0.,    0.],\n",
       "       ..., \n",
       "       [ 143.,    0.,    0., ...,  252.,  253.,  252.],\n",
       "       [   0.,    0.,    0., ...,    0.,    0.,    0.],\n",
       "       [   0.,    0.,    0., ...,    0.,    0.,    0.]], dtype=float32)"
      ]
     },
     "execution_count": 185,
     "metadata": {},
     "output_type": "execute_result"
    }
   ],
   "source": [
    "XX"
   ]
  },
  {
   "cell_type": "code",
   "execution_count": 220,
   "metadata": {
    "collapsed": true
   },
   "outputs": [],
   "source": [
    "optimizer = optim.SGD([Cell.W,Cell.eta], lr=0.001) # instantiate optimizer with model params + learning rate (SGD for the moment)"
   ]
  },
  {
   "cell_type": "code",
   "execution_count": 242,
   "metadata": {
    "collapsed": false
   },
   "outputs": [
    {
     "name": "stdout",
     "output_type": "stream",
     "text": [
      "0 0.351002693176\n"
     ]
    }
   ],
   "source": [
    "b=0\n",
    "#for b in range(batch_size):\n",
    "if True:\n",
    "    XX=X_input[b*batch_size:(b+1)*batch_size,0,:].contiguous().view((1,batch_size,p_size**2)).expand(D,batch_size,p_size**2)\n",
    "    YY=X_input[b*batch_size:(b+1)*batch_size,1,:].contiguous().view((1,batch_size,p_size**2)).expand(D,batch_size,p_size**2)\n",
    "    output=(XX-Cell.W.view(D,1,p_size**2).expand(D,batch_size,p_size**2))**2+(YY-Cell.W.view(D,1,p_size**2).expand(D,batch_size,p_size**2))**2\n",
    "    #output=(XX-Cell.W.view(D,1,p_size**2).expand(D,X_input.size()[0],p_size**2))**2+(X_input[:,1,:].repeat(1, D)-Cell.W.view(1,D*n).repeat(N, 1))**2\n",
    "    #output2=output.view(N,D,n)\n",
    "    output=torch.sum(output.view(-1,p_size**2),1)\n",
    "    output2=torch.exp(Variable(torch.Tensor(np.array([-1.0/sigma]))).expand_as(output)*output)\n",
    "    #output2=torch.exp((-1.0/sigma).expand_as(output)*torch.sum(output.view(-1,p_size**2),1))\n",
    "    output2=torch.matmul(output2.view(-1,D),Cell.eta)\n",
    "    loss=loss_func(output2,expected_output[b*batch_size:(b+1)*batch_size])\n",
    "    if t%Cell.print_lag==0: print(t, loss.data[0])\n",
    "    optimizer.zero_grad() \n",
    "    loss.backward()\n",
    "    #optimizer.step()\n",
    "    "
   ]
  },
  {
   "cell_type": "code",
   "execution_count": 241,
   "metadata": {
    "collapsed": false
   },
   "outputs": [
    {
     "data": {
      "text/plain": [
       "Variable containing:\n",
       "-12635.1045\n",
       "-50090.0312\n",
       "-44346.5547\n",
       "-39612.2695\n",
       "-27825.7812\n",
       "-32192.5918\n",
       "-38866.4844\n",
       "-37411.7344\n",
       "-35703.8984\n",
       "-16458.9219\n",
       "-41367.4766\n",
       "-26044.8555\n",
       "-22595.2207\n",
       "-22862.3535\n",
       "-35012.9180\n",
       "-76053.4297\n",
       "-53471.5234\n",
       "-47059.4727\n",
       "-16618.3633\n",
       "-35342.5625\n",
       "-23153.2148\n",
       "-53424.2891\n",
       "-57006.1172\n",
       "-29867.5879\n",
       "-22765.9590\n",
       "-33376.5430\n",
       "-23692.9297\n",
       "-35117.8672\n",
       "-31196.3789\n",
       "-48068.2188\n",
       "-64642.2344\n",
       "-29950.3418\n",
       "-46447.3086\n",
       "-30474.5430\n",
       "-18114.9570\n",
       "-36398.8242\n",
       "-42714.1797\n",
       "-16337.1104\n",
       "-30705.0430\n",
       "-42055.5586\n",
       "-44140.5352\n",
       "-17189.9160\n",
       "-57467.8984\n",
       "-17486.7773\n",
       "-38252.7070\n",
       "-17331.3926\n",
       "-42414.9375\n",
       "-35207.1133\n",
       "-34459.3438\n",
       "-39640.7031\n",
       "-45195.2852\n",
       "-17414.5586\n",
       "-21393.0059\n",
       "-53992.0625\n",
       "-23719.8047\n",
       "-49569.9688\n",
       "-46881.2031\n",
       "-26782.0078\n",
       "-45832.4492\n",
       "-44100.4883\n",
       "-51174.8125\n",
       "-31048.8594\n",
       "-50664.1875\n",
       "-31295.4258\n",
       "-28567.5234\n",
       "-42744.3711\n",
       "-64276.3750\n",
       "-59786.0078\n",
       "-26140.0039\n",
       "-32354.8008\n",
       "-41725.5000\n",
       "-54907.3047\n",
       "-31312.4297\n",
       "-13542.4492\n",
       "-43348.3984\n",
       "-14151.0078\n",
       "-30320.5977\n",
       "-18862.2207\n",
       "-35328.1172\n",
       "-13483.6934\n",
       "-13641.0820\n",
       "-68638.5938\n",
       "-49641.3672\n",
       "-34233.3203\n",
       "-24038.9961\n",
       "-34769.5664\n",
       "-29230.4570\n",
       "-32101.0723\n",
       "-47202.8750\n",
       "-45896.5625\n",
       "-30751.6641\n",
       "-24276.8809\n",
       "-15757.0723\n",
       "-31991.7344\n",
       "-49281.3281\n",
       "-46263.2305\n",
       "-53380.2891\n",
       "-16980.0840\n",
       "-37946.6680\n",
       "-34582.6719\n",
       "[torch.FloatTensor of size 100]"
      ]
     },
     "execution_count": 241,
     "metadata": {},
     "output_type": "execute_result"
    }
   ],
   "source": [
    "output"
   ]
  },
  {
   "cell_type": "code",
   "execution_count": 141,
   "metadata": {
    "collapsed": false
   },
   "outputs": [],
   "source": [
    "output=torch.sum(output.view(-1,p_size**2),1)\n",
    "output2=Variable(torch.Tensor(np.array([-1.0/sigma]))).expand_as(output)*output"
   ]
  },
  {
   "cell_type": "code",
   "execution_count": 224,
   "metadata": {
    "collapsed": false
   },
   "outputs": [
    {
     "data": {
      "text/plain": [
       "Variable containing:\n",
       "1.00000e+06 *\n",
       " -3.0943\n",
       " -3.0463\n",
       " -3.0943\n",
       " -3.0943\n",
       " -3.0611\n",
       " -3.0446\n",
       " -2.7925\n",
       " -3.0029\n",
       " -3.0943\n",
       " -2.7368\n",
       " -3.0691\n",
       " -2.7046\n",
       " -2.9883\n",
       " -3.0183\n",
       " -3.0943\n",
       " -2.9696\n",
       " -2.6035\n",
       " -2.9257\n",
       " -3.0074\n",
       " -2.8651\n",
       " -2.7925\n",
       " -3.0943\n",
       " -3.0943\n",
       " -3.0046\n",
       " -3.0943\n",
       " -2.7365\n",
       " -3.0903\n",
       " -2.9015\n",
       " -2.7776\n",
       " -3.0943\n",
       " -3.0943\n",
       " -3.0943\n",
       " -3.0943\n",
       " -3.0943\n",
       " -3.0751\n",
       " -2.8067\n",
       " -3.0286\n",
       " -3.0943\n",
       " -3.0943\n",
       " -3.0943\n",
       " -3.0943\n",
       " -2.8944\n",
       " -3.0943\n",
       " -2.5852\n",
       " -3.0943\n",
       " -3.0943\n",
       " -3.0740\n",
       " -3.0317\n",
       " -3.0489\n",
       " -2.8551\n",
       " -2.8880\n",
       " -3.0943\n",
       " -3.0943\n",
       " -3.0554\n",
       " -2.8224\n",
       " -3.0005\n",
       " -3.0943\n",
       " -2.8446\n",
       " -2.8325\n",
       " -3.0529\n",
       " -2.9813\n",
       " -2.9105\n",
       " -3.2127\n",
       " -3.0943\n",
       " -3.0943\n",
       " -3.0943\n",
       " -3.0943\n",
       " -3.0815\n",
       " -3.0384\n",
       " -3.0135\n",
       " -2.7727\n",
       " -3.0943\n",
       " -3.0839\n",
       " -2.9591\n",
       " -3.0182\n",
       " -2.9870\n",
       " -3.0218\n",
       " -3.0943\n",
       " -2.7607\n",
       " -3.0163\n",
       " -3.0943\n",
       " -2.9693\n",
       " -3.0943\n",
       " -2.9093\n",
       " -3.0397\n",
       " -3.0943\n",
       " -3.0943\n",
       " -3.0943\n",
       " -3.0622\n",
       " -3.0943\n",
       " -2.8985\n",
       " -2.6454\n",
       " -3.0943\n",
       " -3.0943\n",
       " -2.9534\n",
       " -3.0943\n",
       " -2.9566\n",
       " -2.7685\n",
       " -3.0688\n",
       " -2.8501\n",
       "[torch.FloatTensor of size 100]"
      ]
     },
     "execution_count": 224,
     "metadata": {},
     "output_type": "execute_result"
    }
   ],
   "source": [
    "Cell.eta"
   ]
  },
  {
   "cell_type": "code",
   "execution_count": 157,
   "metadata": {
    "collapsed": false
   },
   "outputs": [
    {
     "data": {
      "text/plain": [
       "Variable containing:\n",
       "   0.8645    0.1428    0.1343  ...     0.0905    0.2128    0.5653\n",
       "   0.0000    8.0000  116.5714  ...   149.2143   23.0714   13.4286\n",
       "   6.4167    0.0000    2.1250  ...    17.9167  155.5000  233.8333\n",
       "             ...                ⋱                ...             \n",
       "  18.0909    0.0000   -0.0000  ...    88.4091   23.7727   29.8182\n",
       " 213.1429  239.7143  184.5000  ...     1.5000   15.0714   10.4286\n",
       "  66.0000   47.0000    0.0000  ...   208.0000   13.0000    0.0000\n",
       "[torch.FloatTensor of size 100x25]"
      ]
     },
     "execution_count": 157,
     "metadata": {},
     "output_type": "execute_result"
    }
   ],
   "source": [
    "Cell.W"
   ]
  },
  {
   "cell_type": "code",
   "execution_count": 143,
   "metadata": {
    "collapsed": false
   },
   "outputs": [],
   "source": [
    "size_image=data.size()[1:]\n",
    "selected_patches=torch.Tensor(len(id_patch),2,size_patch**2)\n",
    "for j in range(len(id_patch)):\n",
    "        selected_patches[j,0,:]=patches[id_patch[j][1],id_patch[j][0],:]\n",
    "        selected_patches[j,1,:]=patches[id_patch[j][2],id_patch[j][0],:]"
   ]
  },
  {
   "cell_type": "code",
   "execution_count": null,
   "metadata": {
    "collapsed": true
   },
   "outputs": [],
   "source": [
    "def extract_selected_patches(data,id_patch,size_patch, zero_padding=True):\n",
    "    \n",
    "    size_image=data.size()[1:]\n",
    "    center_x=id_patch[1]//size_image[0]\n",
    "    center_y=id_patch[1]%size_image[0]\n",
    "    selected_patches=torch.Tensor((len(id_patches),2,size_patch**2))\n",
    "    patches=extract_patches(data,size_patch, zero_padding=True)\n",
    "    for j in range(len(id_patch)):\n",
    "        selected_patches[j,0,:]=patches[center_x[j],id_patch[j][0],:]\n",
    "        selected_patches[j,1,:]=patches[center_y[j],id_patch[j][0],:]\n",
    "    return patches[id_patch[0],center_x,center_y]"
   ]
  },
  {
   "cell_type": "code",
   "execution_count": null,
   "metadata": {
    "collapsed": false
   },
   "outputs": [],
   "source": [
    "\n",
    "size_image=data.size()[1:]\n",
    "a=size_patch+size_image[0]\n",
    "b=size_patch+size_image[1]\n",
    "padded_image=torch.Tensor(np.zeros((data.size()[0],a,b)))\n",
    "padded_image[:,size_patch//2:(size_patch//2)+size_image[0],size_patch//2:(size_patch//2)+size_image[1]]=data"
   ]
  },
  {
   "cell_type": "code",
   "execution_count": null,
   "metadata": {
    "collapsed": false
   },
   "outputs": [],
   "source": [
    "nx,ny=padded_image.size()[1:]\n",
    "patches=torch.Tensor(np.array([padded_image[:,ii:ii+size_patch,jj:jj+size_patch].numpy() for ii in np.arange(0,nx-size_patch,1) for jj in np.arange(0,ny-size_patch,1) ]))"
   ]
  },
  {
   "cell_type": "code",
   "execution_count": null,
   "metadata": {
    "collapsed": false
   },
   "outputs": [],
   "source": [
    "patches=patches.view([patches.size()[0],patches.size()[1],size_patch**2])"
   ]
  },
  {
   "cell_type": "code",
   "execution_count": null,
   "metadata": {
    "collapsed": true
   },
   "outputs": [],
   "source": [
    "data=test\n",
    "size_patch=5\n",
    "import numpy as np\n",
    "patches=extract_patches(data,size_patch, zero_padding=True)\n",
    "patches=patches.view([patches.size()[0],patches.size()[1],size_patch**2])"
   ]
  },
  {
   "cell_type": "code",
   "execution_count": null,
   "metadata": {
    "collapsed": false
   },
   "outputs": [],
   "source": [
    "patches.size()"
   ]
  },
  {
   "cell_type": "code",
   "execution_count": null,
   "metadata": {
    "collapsed": true
   },
   "outputs": [],
   "source": [
    "p_shape=size_patch\n",
    "#spacing=np.min([p_shape, data.size()[2]//p_shape]) \n",
    "spacing=p_shape//2\n",
    "gamma=2\n",
    "D=100"
   ]
  },
  {
   "cell_type": "code",
   "execution_count": null,
   "metadata": {
    "collapsed": false
   },
   "outputs": [],
   "source": [
    "patches[100,30,:].norm(p=2)"
   ]
  },
  {
   "cell_type": "code",
   "execution_count": null,
   "metadata": {
    "collapsed": false
   },
   "outputs": [],
   "source": [
    "W=torch.Tensor(np.random.sample(D*size_patch**2).reshape([D,size_patch**2]))\n",
    "\n",
    "eta=torch.Tensor(np.random.dirichlet([1.0/D]*D))"
   ]
  },
  {
   "cell_type": "code",
   "execution_count": null,
   "metadata": {
    "collapsed": false
   },
   "outputs": [],
   "source": [
    "n_p,n_d=patches.size()[:2]\n",
    "norm = torch.Tensor(np.array([patches[i,j,:].norm(p=2) for i in range(n_p) for j in range(n_d)]))\n",
    "\n",
    "norm2 = patches.view((n_p*n_d,size_patch**2)).norm(p=2,dim=1).view((n_p,n_d,1))\n",
    "\n",
    "norm3=torch.max(norm2, torch.Tensor(np.ones(norm2.size())))\n",
    "\n",
    "norm_patches=patches.div(norm3.expand_as(patches))\n",
    "\n",
    "W2=W.expand(n_d*n_p,D,25)\n",
    "norm_patches2=norm_patches.view((n_d*n_p,1,size_patch**2)).expand(n_d*n_p,D,size_patch**2)\n",
    "batch_size=10000\n",
    "testy=torch.Tensor((n_d*n_p*D))\n",
    "output2=torch.Tensor((n_d*n_p*D))\n",
    "sigma=1\n",
    "\n",
    "\n",
    "\n",
    "for b in range(n_d*n_p//batch_size):\n",
    "    print(b)\n",
    "    testy[b*batch_size*D:(b+1)*batch_size*D]=torch.sum(((norm_patches2[b*batch_size:(b+1)*batch_size,:,:]\\\n",
    "            -W.expand_as(norm_patches2[b*batch_size:(b+1)*batch_size,:,:]))**2).contiguous().view((-1,25)),dim=1)\n",
    "    \n",
    "    output2[b*batch_size*D:(b+1)*batch_size*D]=torch.exp(-1.0/sigma*testy[b*batch_size*D:(b+1)*batch_size*D])"
   ]
  },
  {
   "cell_type": "code",
   "execution_count": null,
   "metadata": {
    "collapsed": false
   },
   "outputs": [],
   "source": [
    "output2[-10:]"
   ]
  },
  {
   "cell_type": "code",
   "execution_count": null,
   "metadata": {
    "collapsed": false
   },
   "outputs": [],
   "source": [
    "output2=testy.view(n_p,n_d,D)\n",
    "sigma=1\n",
    "output2=torch.exp(-1.0/sigma*output2)"
   ]
  },
  {
   "cell_type": "code",
   "execution_count": null,
   "metadata": {
    "collapsed": false
   },
   "outputs": [],
   "source": [
    "eta"
   ]
  },
  {
   "cell_type": "code",
   "execution_count": null,
   "metadata": {
    "collapsed": true
   },
   "outputs": [],
   "source": [
    "output2=torch.matmul(output2,eta)"
   ]
  },
  {
   "cell_type": "code",
   "execution_count": null,
   "metadata": {
    "collapsed": false
   },
   "outputs": [],
   "source": [
    "patches.size()"
   ]
  },
  {
   "cell_type": "code",
   "execution_count": null,
   "metadata": {
    "collapsed": false
   },
   "outputs": [],
   "source": [
    "zeta=norm.view((n_d,n_p))*(output2)"
   ]
  },
  {
   "cell_type": "code",
   "execution_count": null,
   "metadata": {
    "collapsed": true
   },
   "outputs": [],
   "source": [
    "#output2=torch.matmul(output2,eta)\n",
    "#zeta=norm.mmul(output2)\n",
    "#patches=[c.reshape([1,-1]) for c in extract_patches_2d(zeta.numpy(),[p_shape,p_shape])]\n",
    "beta=gamma*spacing  ### what is that spacing? Where is it defined?"
   ]
  },
  {
   "cell_type": "code",
   "execution_count": null,
   "metadata": {
    "collapsed": false
   },
   "outputs": [],
   "source": [
    "patches"
   ]
  },
  {
   "cell_type": "code",
   "execution_count": null,
   "metadata": {
    "collapsed": false
   },
   "outputs": [],
   "source": [
    "output_map=2.0/np.sqrt(math.pi)*torch.sum(torch.exp(-1.0/beta*torch.Tensor(model_patch))*zeta,0)"
   ]
  },
  {
   "cell_type": "code",
   "execution_count": null,
   "metadata": {
    "collapsed": false
   },
   "outputs": [],
   "source": [
    "test"
   ]
  },
  {
   "cell_type": "code",
   "execution_count": null,
   "metadata": {
    "collapsed": true
   },
   "outputs": [],
   "source": [
    "output2=output.view(N,p_shape**2,D)\n",
    "output2=torch.exp(-1.0/self.Kernels[id_map].sigma*torch.sum(output2,1))\n",
    "output2=torch.matmul(output2,self.Kernels[id_map].eta)\n",
    "zeta=norm.mmul(output2)\n",
    "patches=[c.reshape([1,-1]) for c in extract_patches_2d(zeta.numpy(),[p_shape,p_shape])]\n",
    "beta=gamma*spacing  ### what is that spacing? Where is it defined?\n",
    "output_map=self.model_patch[k]*patches\n",
    "return output_map"
   ]
  },
  {
   "cell_type": "code",
   "execution_count": null,
   "metadata": {
    "collapsed": true
   },
   "outputs": [],
   "source": [
    "    ### start by extracting patches from image\n",
    "    patches=[c.reshape([1,-1]) for c in extract_patches_2d(xi.numpy(),[p_shape,p_shape])]\n",
    "    patches=torch.Tensor(patches)\n",
    "    patches=patches.squeeze()\n",
    "    ### subsamples patches?\n",
    "    \n",
    "    ### l2 normalized version of the patches\n",
    "    norm = patches.norm(p=2, dim=0, keepdim=True)\n",
    "    norm_patches=patches.div(norm.expand_as(patches))\n",
    "    N=norm_patches.size()[0]"
   ]
  },
  {
   "cell_type": "code",
   "execution_count": null,
   "metadata": {
    "collapsed": true
   },
   "outputs": [],
   "source": [
    "def get_activation_map(im,xi,id_map):\n",
    "    ### have to generalize this guy to take as input lots of images in the right tensor shape\n",
    "    p_shape=self.patch_shape[id_map]\n",
    "    spacing=np.min([im.size()[0]//p_shape, im.size()[1]//p_shape]) \n",
    "    gamma=2\n",
    "    D=self.Kernels[id_map].n_components\n",
    "    ### start by extracting patches from image\n",
    "    patches=[c.reshape([1,-1]) for c in extract_patches_2d(xi.numpy(),[p_shape,p_shape])]\n",
    "    patches=torch.Tensor(patches)\n",
    "    patches=patches.squeeze()\n",
    "    ### subsamples patches?\n",
    "    \n",
    "    ### l2 normalized version of the patches\n",
    "    norm = patches.norm(p=2, dim=0, keepdim=True)\n",
    "    norm_patches=patches.div(norm.expand_as(patches))\n",
    "    N=norm_patches.size()[0]\n",
    "    output=(norm_patches.repeat(1, D).view(N,p_shape**2,D)-self.Kernels[id_map].W.view(p_shape**2,D).repeat(0, N))**2\n",
    "    output2=output.view(N,p_shape**2,D)\n",
    "    output2=torch.exp(-1.0/self.Kernels[id_map].sigma*torch.sum(output2,1))\n",
    "    output2=torch.matmul(output2,self.Kernels[id_map].eta)\n",
    "    zeta=norm.mmul(output2)\n",
    "    patches=[c.reshape([1,-1]) for c in extract_patches_2d(zeta.numpy(),[p_shape,p_shape])]\n",
    "    beta=gamma*spacing  ### what is that spacing? Where is it defined?\n",
    "    output_map=self.model_patch[k]*patches\n",
    "    return output_map"
   ]
  },
  {
   "cell_type": "code",
   "execution_count": null,
   "metadata": {
    "collapsed": true
   },
   "outputs": [],
   "source": []
  }
 ],
 "metadata": {
  "anaconda-cloud": {},
  "kernelspec": {
   "display_name": "Python [default]",
   "language": "python",
   "name": "python2"
  },
  "language_info": {
   "codemirror_mode": {
    "name": "ipython",
    "version": 2
   },
   "file_extension": ".py",
   "mimetype": "text/x-python",
   "name": "python",
   "nbconvert_exporter": "python",
   "pygments_lexer": "ipython2",
   "version": "2.7.11"
  }
 },
 "nbformat": 4,
 "nbformat_minor": 1
}
