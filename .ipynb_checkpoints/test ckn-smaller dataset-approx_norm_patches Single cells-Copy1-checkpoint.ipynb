{
 "cells": [
  {
   "cell_type": "code",
   "execution_count": 1,
   "metadata": {
    "scrolled": true
   },
   "outputs": [],
   "source": [
    "%matplotlib inline\n",
    "from __future__ import print_function\n",
    "import argparse\n",
    "import torch\n",
    "import torch.nn as nn\n",
    "import torch.nn.functional as F\n",
    "import torch.optim as optim\n",
    "from torchvision import datasets, transforms\n",
    "from torch.autograd import Variable\n",
    "from CKN import *\n",
    "from Nystrom import *\n",
    "from image_processing_utils import *\n",
    "import scipy.optimize"
   ]
  },
  {
   "cell_type": "code",
   "execution_count": 2,
   "metadata": {
    "collapsed": true,
    "scrolled": true
   },
   "outputs": [],
   "source": [
    "batch_size=64\n",
    "test_batch_size=1000\n",
    "\n",
    "train_loader = torch.utils.data.DataLoader(\n",
    "    datasets.MNIST('../data', train=True, download=True,\n",
    "                   transform=transforms.Compose([\n",
    "                       transforms.ToTensor(),\n",
    "                       transforms.Normalize((0.1307,), (0.3081,))\n",
    "                   ])),\n",
    "    batch_size=batch_size, shuffle=True)\n",
    "test_loader = torch.utils.data.DataLoader(\n",
    "    datasets.MNIST('../data', train=False, transform=transforms.Compose([\n",
    "                       transforms.ToTensor(),\n",
    "                       transforms.Normalize((0.1307,), (0.3081,))\n",
    "                   ])),\n",
    "    batch_size=test_batch_size, shuffle=True)"
   ]
  },
  {
   "cell_type": "code",
   "execution_count": 3,
   "metadata": {
    "scrolled": true
   },
   "outputs": [],
   "source": [
    "inds=range(60000)\n",
    "import random\n",
    "random.seed(2017)\n",
    "random.shuffle(inds)\n",
    "\n",
    "test=train_loader.dataset.train_data[inds[:3000],:,:]"
   ]
  },
  {
   "cell_type": "code",
   "execution_count": 4,
   "metadata": {
    "scrolled": true
   },
   "outputs": [],
   "source": [
    "X_labels=train_loader.dataset.train_labels[torch.LongTensor(inds[:3000])]"
   ]
  },
  {
   "cell_type": "code",
   "execution_count": 5,
   "metadata": {},
   "outputs": [
    {
     "data": {
      "text/plain": [
       "\n",
       " 0\n",
       " 9\n",
       " 6\n",
       "⋮ \n",
       " 1\n",
       " 1\n",
       " 5\n",
       "[torch.LongTensor of size 3000]"
      ]
     },
     "execution_count": 5,
     "metadata": {},
     "output_type": "execute_result"
    }
   ],
   "source": [
    "X_labels"
   ]
  },
  {
   "cell_type": "code",
   "execution_count": 6,
   "metadata": {
    "collapsed": true,
    "scrolled": true
   },
   "outputs": [],
   "source": [
    "import seaborn as sb\n",
    "import math\n",
    "import numpy as np\n"
   ]
  },
  {
   "cell_type": "code",
   "execution_count": 7,
   "metadata": {
    "scrolled": true
   },
   "outputs": [],
   "source": [
    "data=test\n",
    "data=2.0/255*data.type(torch.FloatTensor)-torch.Tensor([1]).expand_as(data)\n",
    "#data2=data-torch.mean(data.view(-1,data.size()[1]*data.size()[2]),0).view(28,28)\n",
    "#S=torch.std(data2.view(-1,data.size()[1]*data.size()[2]),0)\n",
    "#S[S==0]=1\n",
    "#data2=1.0/S*data2.view(-1,data.size()[1]*data.size()[2])\n",
    "#data2=data2.view(-1,28,28)\n"
   ]
  },
  {
   "cell_type": "code",
   "execution_count": 8,
   "metadata": {},
   "outputs": [
    {
     "data": {
      "text/plain": [
       "<matplotlib.axes._subplots.AxesSubplot at 0x11a7dce50>"
      ]
     },
     "execution_count": 8,
     "metadata": {},
     "output_type": "execute_result"
    },
    {
     "data": {
      "image/png": "[encoded data removed]",
      "text/plain": [
       "<matplotlib.figure.Figure at 0x10d971f50>"
      ]
     },
     "metadata": {},
     "output_type": "display_data"
    }
   ],
   "source": [
    "sb.heatmap(test[0,:,:].numpy())"
   ]
  },
  {
   "cell_type": "code",
   "execution_count": 9,
   "metadata": {},
   "outputs": [
    {
     "data": {
      "text/plain": [
       "<matplotlib.axes._subplots.AxesSubplot at 0x1203cc650>"
      ]
     },
     "execution_count": 9,
     "metadata": {},
     "output_type": "execute_result"
    },
    {
     "data": {
      "image/png": "[encoded data removed]",
      "text/plain": [
       "<matplotlib.figure.Figure at 0x1203aaa10>"
      ]
     },
     "metadata": {},
     "output_type": "display_data"
    }
   ],
   "source": [
    "sb.heatmap(data[0,:,:].numpy())"
   ]
  },
  {
   "cell_type": "code",
   "execution_count": 10,
   "metadata": {
    "scrolled": true
   },
   "outputs": [
    {
     "name": "stdout",
     "output_type": "stream",
     "text": [
      "patches extracted with size  torch.Size([784, 3000, 9])\n",
      "torch.Size([784, 3000, 9])\n",
      "[[0, 319, 415], [0, 619, 765], [0, 770, 710], [0, 236, 376], [0, 781, 159], [0, 441, 149], [0, 583, 719], [0, 152, 504], [0, 409, 247], [0, 332, 410]]\n",
      "('sel', torch.Size([150000, 2, 9]))\n",
      "('The data has size', torch.Size([784, 3000, 9]))\n",
      "('all okay', True)\n",
      "('The variance is: ', 0.0001)\n"
     ]
    }
   ],
   "source": [
    "net=Nystrom(iter_max=30,n_components=200,n_patches_per_graph=50,size_patch=3,batch_size=500,lr=0.0001)\n",
    "#net=CKN(n_components=[150,100,100],n_layers=3,iter_max=100,n_patches=[5,2,2],subsampling_factors=[2,2,2],batch_size=[60,60,60])#Cell.fit_LBFGS(X)\n",
    "net.init_W(data,patches_given=False)"
   ]
  },
  {
   "cell_type": "code",
   "execution_count": 11,
   "metadata": {},
   "outputs": [
    {
     "name": "stdout",
     "output_type": "stream",
     "text": [
      "\n",
      "1.00000e-03 *\n",
      "  5.0000\n",
      "  5.0000\n",
      "  5.0000\n",
      "  5.0000\n",
      "  5.0000\n",
      "  5.0000\n",
      "  5.0000\n",
      "  5.0000\n",
      "  5.0000\n",
      "  5.0000\n",
      "  5.0000\n",
      "  5.0000\n",
      "  5.0000\n",
      "  5.0000\n",
      "  5.0000\n",
      "  5.0000\n",
      "  5.0000\n",
      "  5.0000\n",
      "  5.0000\n",
      "  5.0000\n",
      "  5.0000\n",
      "  5.0000\n",
      "  5.0000\n",
      "  5.0000\n",
      "  5.0000\n",
      "  5.0000\n",
      "  5.0000\n",
      "  5.0000\n",
      "  5.0000\n",
      "  5.0000\n",
      "  5.0000\n",
      "  5.0000\n",
      "  5.0000\n",
      "  5.0000\n",
      "  5.0000\n",
      "  5.0000\n",
      "  5.0000\n",
      "  5.0000\n",
      "  5.0000\n",
      "  5.0000\n",
      "  5.0000\n",
      "  5.0000\n",
      "  5.0000\n",
      "  5.0000\n",
      "  5.0000\n",
      "  5.0000\n",
      "  5.0000\n",
      "  5.0000\n",
      "  5.0000\n",
      "  5.0000\n",
      "  5.0000\n",
      "  5.0000\n",
      "  5.0000\n",
      "  5.0000\n",
      "  5.0000\n",
      "  5.0000\n",
      "  5.0000\n",
      "  5.0000\n",
      "  5.0000\n",
      "  5.0000\n",
      "  5.0000\n",
      "  5.0000\n",
      "  5.0000\n",
      "  5.0000\n",
      "  5.0000\n",
      "  5.0000\n",
      "  5.0000\n",
      "  5.0000\n",
      "  5.0000\n",
      "  5.0000\n",
      "  5.0000\n",
      "  5.0000\n",
      "  5.0000\n",
      "  5.0000\n",
      "  5.0000\n",
      "  5.0000\n",
      "  5.0000\n",
      "  5.0000\n",
      "  5.0000\n",
      "  5.0000\n",
      "  5.0000\n",
      "  5.0000\n",
      "  5.0000\n",
      "  5.0000\n",
      "  5.0000\n",
      "  5.0000\n",
      "  5.0000\n",
      "  5.0000\n",
      "  5.0000\n",
      "  5.0000\n",
      "  5.0000\n",
      "  5.0000\n",
      "  5.0000\n",
      "  5.0000\n",
      "  5.0000\n",
      "  5.0000\n",
      "  5.0000\n",
      "  5.0000\n",
      "  5.0000\n",
      "  5.0000\n",
      "  5.0000\n",
      "  5.0000\n",
      "  5.0000\n",
      "  5.0000\n",
      "  5.0000\n",
      "  5.0000\n",
      "  5.0000\n",
      "  5.0000\n",
      "  5.0000\n",
      "  5.0000\n",
      "  5.0000\n",
      "  5.0000\n",
      "  5.0000\n",
      "  5.0000\n",
      "  5.0000\n",
      "  5.0000\n",
      "  5.0000\n",
      "  5.0000\n",
      "  5.0000\n",
      "  5.0000\n",
      "  5.0000\n",
      "  5.0000\n",
      "  5.0000\n",
      "  5.0000\n",
      "  5.0000\n",
      "  5.0000\n",
      "  5.0000\n",
      "  5.0000\n",
      "  5.0000\n",
      "  5.0000\n",
      "  5.0000\n",
      "  5.0000\n",
      "  5.0000\n",
      "  5.0000\n",
      "  5.0000\n",
      "  5.0000\n",
      "  5.0000\n",
      "  5.0000\n",
      "  5.0000\n",
      "  5.0000\n",
      "  5.0000\n",
      "  5.0000\n",
      "  5.0000\n",
      "  5.0000\n",
      "  5.0000\n",
      "  5.0000\n",
      "  5.0000\n",
      "  5.0000\n",
      "  5.0000\n",
      "  5.0000\n",
      "  5.0000\n",
      "  5.0000\n",
      "  5.0000\n",
      "  5.0000\n",
      "  5.0000\n",
      "  5.0000\n",
      "  5.0000\n",
      "  5.0000\n",
      "  5.0000\n",
      "  5.0000\n",
      "  5.0000\n",
      "  5.0000\n",
      "  5.0000\n",
      "  5.0000\n",
      "  5.0000\n",
      "  5.0000\n",
      "  5.0000\n",
      "  5.0000\n",
      "  5.0000\n",
      "  5.0000\n",
      "  5.0000\n",
      "  5.0000\n",
      "  5.0000\n",
      "  5.0000\n",
      "  5.0000\n",
      "  5.0000\n",
      "  5.0000\n",
      "  5.0000\n",
      "  5.0000\n",
      "  5.0000\n",
      "  5.0000\n",
      "  5.0000\n",
      "  5.0000\n",
      "  5.0000\n",
      "  5.0000\n",
      "  5.0000\n",
      "  5.0000\n",
      "  5.0000\n",
      "  5.0000\n",
      "  5.0000\n",
      "  5.0000\n",
      "  5.0000\n",
      "  5.0000\n",
      "  5.0000\n",
      "  5.0000\n",
      "  5.0000\n",
      "  5.0000\n",
      "  5.0000\n",
      "  5.0000\n",
      "  5.0000\n",
      "[torch.FloatTensor of size 200]\n",
      "\n"
     ]
    },
    {
     "data": {
      "text/plain": [
       "<matplotlib.figure.Figure at 0x1207dbd50>"
      ]
     },
     "execution_count": 11,
     "metadata": {},
     "output_type": "execute_result"
    },
    {
     "data": {
      "image/png": "[encoded data removed]",
      "text/plain": [
       "<matplotlib.figure.Figure at 0x1207e9b90>"
      ]
     },
     "metadata": {},
     "output_type": "display_data"
    },
    {
     "data": {
      "text/plain": [
       "<matplotlib.figure.Figure at 0x1207dbd50>"
      ]
     },
     "metadata": {},
     "output_type": "display_data"
    }
   ],
   "source": [
    "print(net.eta.data)\n",
    "self=net\n",
    "sb.heatmap(net.W.data.numpy())\n",
    "plt.figure()"
   ]
  },
  {
   "cell_type": "code",
   "execution_count": 12,
   "metadata": {},
   "outputs": [
    {
     "name": "stdout",
     "output_type": "stream",
     "text": [
      "('size input: ', torch.Size([150000, 2, 9]))\n",
      "(0, \n",
      " 0.3017\n",
      "[torch.FloatTensor of size 1]\n",
      ", 24.38763403892517)\n",
      "(1, \n",
      " 0.2877\n",
      "[torch.FloatTensor of size 1]\n",
      ", 24.316251039505005)\n",
      "(2, \n",
      " 0.2740\n",
      "[torch.FloatTensor of size 1]\n",
      ", 24.375998973846436)\n",
      "(3, \n",
      " 0.2607\n",
      "[torch.FloatTensor of size 1]\n",
      ", 24.287594079971313)\n",
      "(4, \n",
      " 0.2477\n",
      "[torch.FloatTensor of size 1]\n",
      ", 24.368303060531616)\n",
      "(5, \n",
      " 0.2351\n",
      "[torch.FloatTensor of size 1]\n",
      ", 24.38189387321472)\n",
      "(6, \n",
      " 0.2228\n",
      "[torch.FloatTensor of size 1]\n",
      ", 24.278407096862793)\n",
      "(7, \n",
      " 0.2108\n",
      "[torch.FloatTensor of size 1]\n",
      ", 24.53156304359436)\n",
      "(8, \n",
      " 0.1992\n",
      "[torch.FloatTensor of size 1]\n",
      ", 24.518669843673706)\n",
      "(9, \n",
      " 0.1879\n",
      "[torch.FloatTensor of size 1]\n",
      ", 24.401430130004883)\n",
      "(10, \n",
      " 0.1769\n",
      "[torch.FloatTensor of size 1]\n",
      ", 24.391891956329346)\n",
      "(11, \n",
      " 0.1663\n",
      "[torch.FloatTensor of size 1]\n",
      ", 24.45336103439331)\n",
      "(12, \n",
      " 0.1560\n",
      "[torch.FloatTensor of size 1]\n",
      ", 24.382830142974854)\n",
      "(13, \n",
      " 0.1460\n",
      "[torch.FloatTensor of size 1]\n",
      ", 24.405205965042114)\n",
      "(14, \n",
      " 0.1364\n",
      "[torch.FloatTensor of size 1]\n",
      ", 24.376084089279175)\n",
      "(15, \n",
      " 0.1271\n",
      "[torch.FloatTensor of size 1]\n",
      ", 24.36155104637146)\n",
      "(16, \n",
      " 0.1182\n",
      "[torch.FloatTensor of size 1]\n",
      ", 24.413899183273315)\n",
      "(17, \n",
      " 0.1096\n",
      "[torch.FloatTensor of size 1]\n",
      ", 24.41975498199463)\n",
      "(18, \n",
      " 0.1013\n",
      "[torch.FloatTensor of size 1]\n",
      ", 24.405635833740234)\n",
      "(19, \n",
      "1.00000e-02 *\n",
      "  9.3373\n",
      "[torch.FloatTensor of size 1]\n",
      ", 24.385524034500122)\n",
      "(20, \n",
      "1.00000e-02 *\n",
      "  8.5772\n",
      "[torch.FloatTensor of size 1]\n",
      ", 24.349581956863403)\n",
      "(21, \n",
      "1.00000e-02 *\n",
      "  7.8507\n",
      "[torch.FloatTensor of size 1]\n",
      ", 24.490479946136475)\n",
      "(22, \n",
      "1.00000e-02 *\n",
      "  7.1579\n",
      "[torch.FloatTensor of size 1]\n",
      ", 24.356508016586304)\n",
      "(23, \n",
      "1.00000e-02 *\n",
      "  6.4986\n",
      "[torch.FloatTensor of size 1]\n",
      ", 24.41947889328003)\n",
      "(24, \n",
      "1.00000e-02 *\n",
      "  5.8729\n",
      "[torch.FloatTensor of size 1]\n",
      ", 24.388935089111328)\n",
      "(25, \n",
      "1.00000e-02 *\n",
      "  5.2808\n",
      "[torch.FloatTensor of size 1]\n",
      ", 24.393589973449707)\n",
      "(26, \n",
      "1.00000e-02 *\n",
      "  4.7222\n",
      "[torch.FloatTensor of size 1]\n",
      ", 24.3702290058136)\n",
      "(27, \n",
      "1.00000e-02 *\n",
      "  4.1972\n",
      "[torch.FloatTensor of size 1]\n",
      ", 24.326709032058716)\n",
      "(28, \n",
      "1.00000e-02 *\n",
      "  3.7057\n",
      "[torch.FloatTensor of size 1]\n",
      ", 24.498395919799805)\n",
      "(29, \n",
      "1.00000e-02 *\n",
      "  3.2477\n",
      "[torch.FloatTensor of size 1]\n",
      ", 24.368046045303345)\n"
     ]
    }
   ],
   "source": [
    "net.fit(data,init=False)"
   ]
  },
  {
   "cell_type": "code",
   "execution_count": 13,
   "metadata": {},
   "outputs": [
    {
     "name": "stdout",
     "output_type": "stream",
     "text": [
      "torch.Size([150000, 2, 9])\n"
     ]
    },
    {
     "data": {
      "text/plain": [
       "LinearRegression(copy_X=True, fit_intercept=True, n_jobs=1, normalize=False)"
      ]
     },
     "execution_count": 13,
     "metadata": {},
     "output_type": "execute_result"
    },
    {
     "data": {
      "image/png": "[encoded data removed]",
      "text/plain": [
       "<matplotlib.figure.Figure at 0x10d971f10>"
      ]
     },
     "metadata": {},
     "output_type": "display_data"
    }
   ],
   "source": [
    "net.convergence_check()"
   ]
  },
  {
   "cell_type": "code",
   "execution_count": 26,
   "metadata": {},
   "outputs": [
    {
     "name": "stdout",
     "output_type": "stream",
     "text": [
      "\n",
      " 0.7055\n",
      " 0.0050\n",
      " 0.0050\n",
      " 0.1105\n",
      " 0.0050\n",
      " 0.1797\n",
      " 0.1627\n",
      " 0.0050\n",
      " 0.0050\n",
      " 0.0050\n",
      " 0.0050\n",
      " 0.0050\n",
      " 0.0050\n",
      " 0.0050\n",
      " 0.0050\n",
      " 0.0050\n",
      " 0.0050\n",
      " 0.0050\n",
      " 0.0050\n",
      " 0.0050\n",
      " 0.0050\n",
      " 0.0050\n",
      " 0.0050\n",
      " 0.0050\n",
      " 0.0050\n",
      " 0.0050\n",
      " 0.0050\n",
      " 0.0050\n",
      " 0.0050\n",
      " 0.0050\n",
      " 0.0050\n",
      " 0.0050\n",
      " 0.0050\n",
      " 0.0050\n",
      " 0.0050\n",
      " 0.0050\n",
      " 0.0050\n",
      " 0.0050\n",
      " 0.0050\n",
      " 0.0050\n",
      " 0.0050\n",
      " 0.0050\n",
      " 0.0050\n",
      " 0.0050\n",
      " 0.0050\n",
      " 0.0050\n",
      " 0.0050\n",
      " 0.0050\n",
      " 0.0050\n",
      " 0.0050\n",
      " 0.0050\n",
      " 0.0050\n",
      " 0.0050\n",
      " 0.0050\n",
      " 0.0050\n",
      " 0.0050\n",
      " 0.0050\n",
      " 0.0050\n",
      " 0.0050\n",
      " 0.0050\n",
      " 0.1758\n",
      " 0.0050\n",
      " 0.0050\n",
      " 0.0050\n",
      " 0.0050\n",
      " 0.0050\n",
      " 0.0050\n",
      " 0.0050\n",
      " 0.0050\n",
      " 0.0050\n",
      " 0.0050\n",
      " 0.0050\n",
      " 0.0050\n",
      " 0.0050\n",
      " 0.0050\n",
      " 0.0050\n",
      " 0.0050\n",
      " 0.0050\n",
      " 0.0050\n",
      " 0.0050\n",
      " 0.0050\n",
      " 0.0050\n",
      " 0.0050\n",
      " 0.0050\n",
      " 0.0050\n",
      " 0.0050\n",
      " 0.0050\n",
      " 0.0050\n",
      " 0.0050\n",
      " 0.0050\n",
      " 0.0050\n",
      " 0.0050\n",
      " 0.0050\n",
      " 0.0050\n",
      " 0.0050\n",
      " 0.0050\n",
      " 0.0050\n",
      " 0.0050\n",
      " 0.0050\n",
      " 0.0050\n",
      " 0.0050\n",
      " 0.0050\n",
      " 0.0050\n",
      " 0.0050\n",
      " 0.0050\n",
      " 0.0050\n",
      " 0.0050\n",
      " 0.0050\n",
      " 0.0050\n",
      " 0.0050\n",
      " 0.0050\n",
      " 0.0050\n",
      " 0.0050\n",
      " 0.0050\n",
      " 0.0050\n",
      " 0.0050\n",
      " 0.0050\n",
      " 0.0050\n",
      " 0.0050\n",
      " 0.0050\n",
      " 0.0050\n",
      " 0.0050\n",
      " 0.0050\n",
      " 0.0050\n",
      " 0.0050\n",
      " 0.0050\n",
      " 0.0050\n",
      " 0.0050\n",
      " 0.0050\n",
      " 0.0050\n",
      " 0.0050\n",
      " 0.0050\n",
      " 0.0050\n",
      " 0.0050\n",
      " 0.0050\n",
      " 0.0050\n",
      " 0.0050\n",
      " 0.0050\n",
      " 0.0050\n",
      " 0.0050\n",
      " 0.0050\n",
      " 0.0050\n",
      " 0.0050\n",
      " 0.0050\n",
      " 0.0050\n",
      " 0.0050\n",
      " 0.0050\n",
      " 0.0050\n",
      " 0.0050\n",
      " 0.0050\n",
      " 0.0050\n",
      " 0.0050\n",
      " 0.0050\n",
      " 0.0050\n",
      " 0.0050\n",
      " 0.0050\n",
      " 0.0050\n",
      " 0.0050\n",
      " 0.0050\n",
      " 0.0050\n",
      " 0.0050\n",
      " 0.0050\n",
      " 0.0050\n",
      " 0.0050\n",
      " 0.0050\n",
      " 0.0050\n",
      " 0.0050\n",
      " 0.0050\n",
      " 0.0050\n",
      " 0.0050\n",
      " 0.0050\n",
      " 0.0050\n",
      " 0.0050\n",
      " 0.0050\n",
      " 0.0050\n",
      " 0.0050\n",
      " 0.0050\n",
      " 0.0050\n",
      " 0.0050\n",
      " 0.0050\n",
      " 0.0050\n",
      " 0.0050\n",
      " 0.0050\n",
      " 0.0050\n",
      " 0.0050\n",
      " 0.0050\n",
      " 0.0050\n",
      " 0.0050\n",
      " 0.0050\n",
      " 0.0050\n",
      " 0.0050\n",
      " 0.0050\n",
      " 0.0050\n",
      " 0.0050\n",
      " 0.0050\n",
      " 0.0050\n",
      " 0.0050\n",
      " 0.0050\n",
      " 0.0050\n",
      " 0.0050\n",
      "[torch.FloatTensor of size 200]\n",
      "\n"
     ]
    },
    {
     "data": {
      "text/plain": [
       "<matplotlib.figure.Figure at 0x133111810>"
      ]
     },
     "execution_count": 26,
     "metadata": {},
     "output_type": "execute_result"
    },
    {
     "data": {
      "image/png": "[encoded data removed]",
      "text/plain": [
       "<matplotlib.figure.Figure at 0x133129a50>"
      ]
     },
     "metadata": {},
     "output_type": "display_data"
    },
    {
     "data": {
      "text/plain": [
       "<matplotlib.figure.Figure at 0x133111810>"
      ]
     },
     "metadata": {},
     "output_type": "display_data"
    }
   ],
   "source": [
    "print(net.eta.data)\n",
    "sb.heatmap(net.W.data.numpy())\n",
    "plt.figure()"
   ]
  },
  {
   "cell_type": "code",
   "execution_count": 15,
   "metadata": {},
   "outputs": [
    {
     "name": "stdout",
     "output_type": "stream",
     "text": [
      "(30, 30)\n",
      "0\n",
      "('tot', 1.0)\n",
      "1\n",
      "('tot', 1.0)\n",
      "2\n",
      "('tot', 1.0)\n",
      "3\n",
      "('tot', 1.0)\n",
      "4\n",
      "('tot', 1.0)\n",
      "5\n",
      "('tot', 1.0)\n",
      "('size outpit', torch.Size([196, 3000, 200]))\n"
     ]
    }
   ],
   "source": [
    "new_input_map=net.get_activation_map()"
   ]
  },
  {
   "cell_type": "code",
   "execution_count": 16,
   "metadata": {},
   "outputs": [
    {
     "data": {
      "text/plain": [
       "<matplotlib.axes._subplots.AxesSubplot at 0x12a042bd0>"
      ]
     },
     "execution_count": 16,
     "metadata": {},
     "output_type": "execute_result"
    },
    {
     "data": {
      "image/png": "[encoded data removed]",
      "text/plain": [
       "<matplotlib.figure.Figure at 0x129b15290>"
      ]
     },
     "metadata": {},
     "output_type": "display_data"
    },
    {
     "data": {
      "image/png": "[encoded data removed]",
      "text/plain": [
       "<matplotlib.figure.Figure at 0x1269b9dd0>"
      ]
     },
     "metadata": {},
     "output_type": "display_data"
    },
    {
     "data": {
      "image/png": "[encoded data removed]",
      "text/plain": [
       "<matplotlib.figure.Figure at 0x1269c8910>"
      ]
     },
     "metadata": {},
     "output_type": "display_data"
    },
    {
     "data": {
      "image/png": "[encoded data removed]",
      "text/plain": [
       "<matplotlib.figure.Figure at 0x1297fbf90>"
      ]
     },
     "metadata": {},
     "output_type": "display_data"
    }
   ],
   "source": [
    "sb.heatmap(new_input_map[10,:1000,:].numpy())\n",
    "plt.figure()\n",
    "sb.heatmap(new_input_map[40,:1000,:].numpy())\n",
    "plt.figure()\n",
    "sb.heatmap(new_input_map[50,:1000,:].numpy())\n",
    "plt.figure()\n",
    "sb.heatmap(new_input_map[120,:1000,:].numpy())"
   ]
  },
  {
   "cell_type": "code",
   "execution_count": 27,
   "metadata": {},
   "outputs": [],
   "source": [
    "# Import datasets, classifiers and performance metrics\n",
    "from sklearn import datasets, svm, pipeline\n",
    "from sklearn.kernel_approximation import (RBFSampler,\n",
    "                                          Nystroem)\n",
    "from sklearn.decomposition import PCA\n",
    "X=net.output"
   ]
  },
  {
   "cell_type": "code",
   "execution_count": 28,
   "metadata": {},
   "outputs": [
    {
     "data": {
      "text/plain": [
       "torch.Size([196, 3000, 200])"
      ]
     },
     "execution_count": 28,
     "metadata": {},
     "output_type": "execute_result"
    }
   ],
   "source": [
    "X.size()\n"
   ]
  },
  {
   "cell_type": "code",
   "execution_count": 29,
   "metadata": {},
   "outputs": [
    {
     "name": "stdout",
     "output_type": "stream",
     "text": [
      "torch.Size([196, 3000, 200])\n",
      "torch.Size([3000, 39200])\n"
     ]
    },
    {
     "data": {
      "text/plain": [
       "(3000, 15)"
      ]
     },
     "execution_count": 29,
     "metadata": {},
     "output_type": "execute_result"
    }
   ],
   "source": [
    "X=net.output\n",
    "n_p,n_d,p_dim=X.size()\n",
    "print(X.size())\n",
    "X=(X.permute(1,0,2).contiguous()).view(n_d,n_p*p_dim)\n",
    "print(X.size())\n",
    "pca_mnist=PCA(n_components=15,whiten=True)\n",
    "X2=pca_mnist.fit_transform(X.numpy())\n",
    "X2.shape"
   ]
  },
  {
   "cell_type": "code",
   "execution_count": 30,
   "metadata": {},
   "outputs": [
    {
     "data": {
      "text/plain": [
       "array([ 0.20436466,  0.13247696,  0.10512177,  0.07616768,  0.0538794 ,\n",
       "        0.04303636,  0.04115041,  0.02944293,  0.02713333,  0.02421352,\n",
       "        0.01948219,  0.01786167,  0.01649466,  0.01557589,  0.01392833])"
      ]
     },
     "execution_count": 30,
     "metadata": {},
     "output_type": "execute_result"
    }
   ],
   "source": [
    "pca_mnist.explained_variance_ratio_"
   ]
  },
  {
   "cell_type": "code",
   "execution_count": 31,
   "metadata": {},
   "outputs": [
    {
     "data": {
      "text/plain": [
       "SVC(C=1.0, cache_size=200, class_weight=None, coef0=0.0,\n",
       "  decision_function_shape=None, degree=3, gamma=0.1, kernel='rbf',\n",
       "  max_iter=-1, probability=False, random_state=None, shrinking=True,\n",
       "  tol=0.001, verbose=False)"
      ]
     },
     "execution_count": 31,
     "metadata": {},
     "output_type": "execute_result"
    }
   ],
   "source": [
    "kernel_svm = svm.SVC(gamma=0.1)\n",
    "X3=pca_mnist.fit_transform(X2)\n",
    "kernel_svm.fit(X2, X_labels.numpy())"
   ]
  },
  {
   "cell_type": "code",
   "execution_count": 32,
   "metadata": {},
   "outputs": [],
   "source": [
    "#### Une fois que l'archtexture a ete entrainee on peut se servir de la couche finale pour faire de la prediction\n",
    "kernel_svm_score = kernel_svm.score(X2, X_labels.numpy())"
   ]
  },
  {
   "cell_type": "code",
   "execution_count": 33,
   "metadata": {},
   "outputs": [
    {
     "data": {
      "text/plain": [
       "0.95566666666666666"
      ]
     },
     "execution_count": 33,
     "metadata": {},
     "output_type": "execute_result"
    }
   ],
   "source": [
    "kernel_svm_score"
   ]
  },
  {
   "cell_type": "code",
   "execution_count": null,
   "metadata": {
    "collapsed": true
   },
   "outputs": [],
   "source": []
  },
  {
   "cell_type": "code",
   "execution_count": 34,
   "metadata": {},
   "outputs": [],
   "source": [
    "#self.norms=input_map.norm(p=2,dim=2).squeeze()\n",
    "#input_map=normalize_output(self.input_map)\n",
    "                    #self.data_has_been_normalized=True"
   ]
  },
  {
   "cell_type": "code",
   "execution_count": 36,
   "metadata": {},
   "outputs": [
    {
     "name": "stdout",
     "output_type": "stream",
     "text": [
      "torch.Size([3000, 28, 28])\n",
      "torch.Size([784, 3000, 3, 3])\n",
      "torch.Size([784, 3000, 9])\n",
      "norms torch.Size([784, 3000])\n",
      "torch.Size([784, 3000, 9])\n"
     ]
    }
   ],
   "source": [
    "X_test=train_loader.dataset.train_data[torch.LongTensor(inds[3000:6000])]\n",
    "X_test=1.0/255*X_test.type(torch.FloatTensor)\n",
    "X_test_labels=train_loader.dataset.train_labels[torch.LongTensor(inds[3000:6000])]\n",
    "print(X_test.size())\n",
    "#STOP\n",
    "X_test=extract_patches_from_image(X_test,3)\n",
    "print(X_test.size())\n",
    "X_test=X_test.view(X_test.size()[0],X_test.size()[1],-1)\n",
    "print(X_test.size())\n",
    "norms=X_test.norm(p=2,dim=2)\n",
    "print('norms',norms.size())\n",
    "n_p,n_d,p_dim=X_test.size()\n",
    "X_test=normalize_output(X_test)\n",
    "print(X_test.size())\n",
    "X_test2=net.standardize.transform(X_test.view(-1,p_dim).numpy())\n",
    "X_test2=net.pca.fit_transform(X_test2)\n",
    "#self.all_patches=torch.Tensor(X_tilde2).contiguous().view(n_p,n_d,-1)"
   ]
  },
  {
   "cell_type": "code",
   "execution_count": 37,
   "metadata": {},
   "outputs": [
    {
     "data": {
      "text/plain": [
       "(2352000, 9)"
      ]
     },
     "execution_count": 37,
     "metadata": {},
     "output_type": "execute_result"
    }
   ],
   "source": [
    "X_test.view(-1,p_dim).numpy().shape"
   ]
  },
  {
   "cell_type": "code",
   "execution_count": 38,
   "metadata": {},
   "outputs": [],
   "source": [
    "U=net.pca.transform(X_test.view(-1,p_dim).numpy())"
   ]
  },
  {
   "cell_type": "code",
   "execution_count": null,
   "metadata": {},
   "outputs": [
    {
     "name": "stdout",
     "output_type": "stream",
     "text": [
      "torch.Size([784, 3000, 9])\n",
      "(30, 30)\n",
      "0\n",
      "('tot', 2.2042424843829373e-42)\n",
      "1\n"
     ]
    }
   ],
   "source": [
    "X_test_out=net.get_activation_map(X_test,norms=norms)"
   ]
  },
  {
   "cell_type": "code",
   "execution_count": 42,
   "metadata": {},
   "outputs": [
    {
     "ename": "ValueError",
     "evalue": "operands could not be broadcast together with shapes (3000,39200) (15,) ",
     "output_type": "error",
     "traceback": [
      "\u001b[0;31m---------------------------------------------------------------------------\u001b[0m",
      "\u001b[0;31mValueError\u001b[0m                                Traceback (most recent call last)",
      "\u001b[0;32m<ipython-input-42-ace44b34aa92>\u001b[0m in \u001b[0;36m<module>\u001b[0;34m()\u001b[0m\n\u001b[1;32m      1\u001b[0m \u001b[0mX_test_out\u001b[0m\u001b[0;34m=\u001b[0m\u001b[0mnet\u001b[0m\u001b[0;34m.\u001b[0m\u001b[0moutput\u001b[0m\u001b[0;34m\u001b[0m\u001b[0m\n\u001b[0;32m----> 2\u001b[0;31m \u001b[0mX_test_out2\u001b[0m\u001b[0;34m=\u001b[0m\u001b[0mpca_mnist\u001b[0m\u001b[0;34m.\u001b[0m\u001b[0mtransform\u001b[0m\u001b[0;34m(\u001b[0m\u001b[0mX_test_out\u001b[0m\u001b[0;34m.\u001b[0m\u001b[0mpermute\u001b[0m\u001b[0;34m(\u001b[0m\u001b[0;36m1\u001b[0m\u001b[0;34m,\u001b[0m\u001b[0;36m0\u001b[0m\u001b[0;34m,\u001b[0m\u001b[0;36m2\u001b[0m\u001b[0;34m)\u001b[0m\u001b[0;34m.\u001b[0m\u001b[0mcontiguous\u001b[0m\u001b[0;34m(\u001b[0m\u001b[0;34m)\u001b[0m\u001b[0;34m.\u001b[0m\u001b[0mview\u001b[0m\u001b[0;34m(\u001b[0m\u001b[0mX_test_out\u001b[0m\u001b[0;34m.\u001b[0m\u001b[0msize\u001b[0m\u001b[0;34m(\u001b[0m\u001b[0;34m)\u001b[0m\u001b[0;34m[\u001b[0m\u001b[0;36m1\u001b[0m\u001b[0;34m]\u001b[0m\u001b[0;34m,\u001b[0m\u001b[0;34m-\u001b[0m\u001b[0;36m1\u001b[0m\u001b[0;34m)\u001b[0m\u001b[0;34m.\u001b[0m\u001b[0mnumpy\u001b[0m\u001b[0;34m(\u001b[0m\u001b[0;34m)\u001b[0m\u001b[0;34m)\u001b[0m\u001b[0;34m\u001b[0m\u001b[0m\n\u001b[0m\u001b[1;32m      3\u001b[0m \u001b[0;31m#tests=kernel_svm.predict(X_test_out2)\u001b[0m\u001b[0;34m\u001b[0m\u001b[0;34m\u001b[0m\u001b[0m\n",
      "\u001b[0;32m/Users/cdonnat/anaconda/lib/python2.7/site-packages/sklearn/decomposition/base.pyc\u001b[0m in \u001b[0;36mtransform\u001b[0;34m(self, X, y)\u001b[0m\n\u001b[1;32m    130\u001b[0m         \u001b[0mX\u001b[0m \u001b[0;34m=\u001b[0m \u001b[0mcheck_array\u001b[0m\u001b[0;34m(\u001b[0m\u001b[0mX\u001b[0m\u001b[0;34m)\u001b[0m\u001b[0;34m\u001b[0m\u001b[0m\n\u001b[1;32m    131\u001b[0m         \u001b[0;32mif\u001b[0m \u001b[0mself\u001b[0m\u001b[0;34m.\u001b[0m\u001b[0mmean_\u001b[0m \u001b[0;32mis\u001b[0m \u001b[0;32mnot\u001b[0m \u001b[0mNone\u001b[0m\u001b[0;34m:\u001b[0m\u001b[0;34m\u001b[0m\u001b[0m\n\u001b[0;32m--> 132\u001b[0;31m             \u001b[0mX\u001b[0m \u001b[0;34m=\u001b[0m \u001b[0mX\u001b[0m \u001b[0;34m-\u001b[0m \u001b[0mself\u001b[0m\u001b[0;34m.\u001b[0m\u001b[0mmean_\u001b[0m\u001b[0;34m\u001b[0m\u001b[0m\n\u001b[0m\u001b[1;32m    133\u001b[0m         \u001b[0mX_transformed\u001b[0m \u001b[0;34m=\u001b[0m \u001b[0mfast_dot\u001b[0m\u001b[0;34m(\u001b[0m\u001b[0mX\u001b[0m\u001b[0;34m,\u001b[0m \u001b[0mself\u001b[0m\u001b[0;34m.\u001b[0m\u001b[0mcomponents_\u001b[0m\u001b[0;34m.\u001b[0m\u001b[0mT\u001b[0m\u001b[0;34m)\u001b[0m\u001b[0;34m\u001b[0m\u001b[0m\n\u001b[1;32m    134\u001b[0m         \u001b[0;32mif\u001b[0m \u001b[0mself\u001b[0m\u001b[0;34m.\u001b[0m\u001b[0mwhiten\u001b[0m\u001b[0;34m:\u001b[0m\u001b[0;34m\u001b[0m\u001b[0m\n",
      "\u001b[0;31mValueError\u001b[0m: operands could not be broadcast together with shapes (3000,39200) (15,) "
     ]
    }
   ],
   "source": [
    "X_test_out=net.output\n",
    "X_test_out2=pca_mnist.transform(X_test_out.permute(1,0,2).contiguous().view(X_test_out.size()[1],-1).numpy())\n",
    "#tests=kernel_svm.predict(X_test_out2)"
   ]
  },
  {
   "cell_type": "code",
   "execution_count": null,
   "metadata": {},
   "outputs": [],
   "source": [
    "tests=kernel_svm.predict(X_test_out2)"
   ]
  },
  {
   "cell_type": "code",
   "execution_count": null,
   "metadata": {},
   "outputs": [],
   "source": [
    "kernel_svm_score = kernel_svm.score(X_test_out2, X_test_labels.numpy())"
   ]
  },
  {
   "cell_type": "code",
   "execution_count": null,
   "metadata": {},
   "outputs": [],
   "source": [
    "kernel_svm_score"
   ]
  },
  {
   "cell_type": "code",
   "execution_count": null,
   "metadata": {},
   "outputs": [],
   "source": [
    "X_test.norm(p=2,dim=2)"
   ]
  },
  {
   "cell_type": "code",
   "execution_count": null,
   "metadata": {
    "collapsed": true
   },
   "outputs": [],
   "source": []
  }
 ],
 "metadata": {
  "anaconda-cloud": {},
  "kernelspec": {
   "display_name": "Python 2",
   "language": "python",
   "name": "python2"
  },
  "language_info": {
   "codemirror_mode": {
    "name": "ipython",
    "version": 2
   },
   "file_extension": ".py",
   "mimetype": "text/x-python",
   "name": "python",
   "nbconvert_exporter": "python",
   "pygments_lexer": "ipython2",
   "version": "2.7.13"
  }
 },
 "nbformat": 4,
 "nbformat_minor": 1
}
