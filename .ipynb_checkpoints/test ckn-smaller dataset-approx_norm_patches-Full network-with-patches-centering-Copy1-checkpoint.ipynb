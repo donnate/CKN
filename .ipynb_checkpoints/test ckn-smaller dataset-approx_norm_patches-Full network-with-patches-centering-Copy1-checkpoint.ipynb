{
 "cells": [
  {
   "cell_type": "markdown",
   "metadata": {},
   "source": [
    "<h1><center><span style='color:blue'> MNIST: Full network with patch-centering   </center></h1></span> "
   ]
  },
  {
   "cell_type": "markdown",
   "metadata": {},
   "source": [
    "We here try to replicate the experiments as detailed in Mairal and al's 2014 paper on Convolutional Kernel Methods.\n",
    "\n",
    "The convolutional network is a __CKN__ object which comprises of $K$ different layers (or cells, since these cells are all trained independently of the others). Each cell is a __ Nystrom__ object, parameterized by a number of filters (the greater the number of filters, the better the linear kernel approximation).\n",
    "\n",
    "When training the network, each cell is trained as follows:\n",
    "__INPUT__: input_map: input data (contrast-normalized(?) image patches for instance for MNIST)\n",
    "+ (1) extract patches from input map (by concatenating neighboring pixel input)\n",
    "+ (2) apply dimensionality reduction to these large patches (RobustScaler+Pca), so that the whole things remains computable\n",
    "+ (3) initalize new filters with Kmeans\n",
    "+ (4) train W and eta (parameters of the cell) on a subset of the data. The function check_convergence() allows to check how well we are doing in terms of approximating the kernel.\n",
    "+ (5) call get_activation_map() to compute the activation of each patch\n",
    "__OUTPUT__: activation map of patches centered at each pixel with respect to the filter W\n",
    "\n",
    "From there, to compute the activation map of any new image, we simply have to:\n",
    "+ (1) extract the patches from the image\n",
    "+ (2) call propagate_through_network(X). This function at each layer applies the \n",
    "\n",
    "Here, we evaluate the impact of the preprocessing of the data by trying a \"patch-centering approach\": eahc patch extracted from the image is centered and scaled. We here try an approach where the data is scaled using a \"robust scaler\" ( that is, standardized with respect to the first 90\\% of the data.)\n"
   ]
  },
  {
   "cell_type": "code",
   "execution_count": 1,
   "metadata": {
    "collapsed": false,
    "scrolled": true
   },
   "outputs": [],
   "source": [
    "%matplotlib inline\n",
    "from __future__ import print_function\n",
    "import argparse\n",
    "import torch\n",
    "import torch.nn as nn\n",
    "import torch.nn.functional as F\n",
    "import torch.optim as optim\n",
    "from torchvision import datasets, transforms\n",
    "from torch.autograd import Variable\n",
    "from CKN import *\n",
    "from Nystrom import *\n",
    "from image_processing_utils import *\n",
    "import scipy.optimize"
   ]
  },
  {
   "cell_type": "code",
   "execution_count": 2,
   "metadata": {
    "collapsed": false,
    "scrolled": true
   },
   "outputs": [],
   "source": [
    "batch_size=64\n",
    "test_batch_size=300\n",
    "\n",
    "train_loader = torch.utils.data.DataLoader(\n",
    "    datasets.MNIST('../data', train=True, download=True,\n",
    "                   transform=transforms.Compose([\n",
    "                       transforms.ToTensor(),\n",
    "                       transforms.Normalize((0.1307,), (0.3081,))\n",
    "                   ])),\n",
    "    batch_size=batch_size, shuffle=True)\n",
    "test_loader = torch.utils.data.DataLoader(\n",
    "    datasets.MNIST('../data', train=False, transform=transforms.Compose([\n",
    "                       transforms.ToTensor(),\n",
    "                       transforms.Normalize((0.1307,), (0.3081,))\n",
    "                   ])),\n",
    "    batch_size=test_batch_size, shuffle=True)"
   ]
  },
  {
   "cell_type": "code",
   "execution_count": 3,
   "metadata": {
    "collapsed": false,
    "scrolled": true
   },
   "outputs": [],
   "source": [
    "inds=range(60000)\n",
    "import random\n",
    "random.seed(2017)\n",
    "random.shuffle(inds)\n",
    "\n",
    "test=train_loader.dataset.train_data[inds[:test_batch_size],:,:]"
   ]
  },
  {
   "cell_type": "code",
   "execution_count": 4,
   "metadata": {
    "collapsed": false,
    "scrolled": true
   },
   "outputs": [],
   "source": [
    "X_labels=train_loader.dataset.train_labels[torch.LongTensor(inds[:test_batch_size])]"
   ]
  },
  {
   "cell_type": "code",
   "execution_count": 5,
   "metadata": {
    "collapsed": false
   },
   "outputs": [
    {
     "data": {
      "text/plain": [
       "\n",
       " 0\n",
       " 9\n",
       " 6\n",
       " 1\n",
       " 2\n",
       " 3\n",
       " 9\n",
       " 2\n",
       " 4\n",
       " 3\n",
       " 8\n",
       " 1\n",
       " 5\n",
       " 6\n",
       " 1\n",
       " 6\n",
       " 7\n",
       " 5\n",
       " 0\n",
       " 7\n",
       " 8\n",
       " 9\n",
       " 6\n",
       " 3\n",
       " 4\n",
       " 9\n",
       " 4\n",
       " 3\n",
       " 1\n",
       " 0\n",
       " 3\n",
       " 2\n",
       " 4\n",
       " 1\n",
       " 4\n",
       " 1\n",
       " 2\n",
       " 1\n",
       " 7\n",
       " 7\n",
       " 4\n",
       " 1\n",
       " 8\n",
       " 4\n",
       " 7\n",
       " 4\n",
       " 9\n",
       " 0\n",
       " 5\n",
       " 3\n",
       " 6\n",
       " 3\n",
       " 3\n",
       " 9\n",
       " 4\n",
       " 4\n",
       " 4\n",
       " 1\n",
       " 8\n",
       " 2\n",
       " 3\n",
       " 3\n",
       " 1\n",
       " 7\n",
       " 3\n",
       " 3\n",
       " 9\n",
       " 9\n",
       " 2\n",
       " 9\n",
       " 3\n",
       " 6\n",
       " 9\n",
       " 4\n",
       " 1\n",
       " 0\n",
       " 1\n",
       " 3\n",
       " 0\n",
       " 0\n",
       " 5\n",
       " 4\n",
       " 5\n",
       " 2\n",
       " 9\n",
       " 0\n",
       " 7\n",
       " 0\n",
       " 0\n",
       " 0\n",
       " 2\n",
       " 4\n",
       " 8\n",
       " 2\n",
       " 8\n",
       " 1\n",
       " 4\n",
       " 4\n",
       " 1\n",
       " 1\n",
       " 7\n",
       " 5\n",
       " 8\n",
       " 2\n",
       " 4\n",
       " 6\n",
       " 9\n",
       " 1\n",
       " 8\n",
       " 1\n",
       " 5\n",
       " 3\n",
       " 1\n",
       " 4\n",
       " 1\n",
       " 3\n",
       " 8\n",
       " 4\n",
       " 7\n",
       " 2\n",
       " 4\n",
       " 5\n",
       " 8\n",
       " 1\n",
       " 3\n",
       " 2\n",
       " 2\n",
       " 0\n",
       " 6\n",
       " 0\n",
       " 8\n",
       " 0\n",
       " 3\n",
       " 8\n",
       " 1\n",
       " 3\n",
       " 5\n",
       " 2\n",
       " 6\n",
       " 4\n",
       " 4\n",
       " 7\n",
       " 0\n",
       " 8\n",
       " 6\n",
       " 5\n",
       " 7\n",
       " 9\n",
       " 3\n",
       " 1\n",
       " 0\n",
       " 7\n",
       " 0\n",
       " 0\n",
       " 6\n",
       " 0\n",
       " 9\n",
       " 2\n",
       " 8\n",
       " 8\n",
       " 4\n",
       " 9\n",
       " 4\n",
       " 7\n",
       " 9\n",
       " 5\n",
       " 8\n",
       " 9\n",
       " 1\n",
       " 0\n",
       " 5\n",
       " 6\n",
       " 2\n",
       " 3\n",
       " 0\n",
       " 0\n",
       " 5\n",
       " 4\n",
       " 1\n",
       " 7\n",
       " 5\n",
       " 5\n",
       " 0\n",
       " 6\n",
       " 6\n",
       " 0\n",
       " 5\n",
       " 9\n",
       " 6\n",
       " 2\n",
       " 8\n",
       " 4\n",
       " 6\n",
       " 4\n",
       " 9\n",
       " 3\n",
       " 7\n",
       " 8\n",
       " 6\n",
       " 0\n",
       " 8\n",
       " 0\n",
       " 8\n",
       " 6\n",
       " 7\n",
       " 9\n",
       " 7\n",
       " 6\n",
       " 0\n",
       " 8\n",
       " 1\n",
       " 8\n",
       " 1\n",
       " 1\n",
       " 0\n",
       " 1\n",
       " 1\n",
       " 6\n",
       " 0\n",
       " 2\n",
       " 1\n",
       " 7\n",
       " 4\n",
       " 6\n",
       " 4\n",
       " 0\n",
       " 9\n",
       " 7\n",
       " 1\n",
       " 8\n",
       " 8\n",
       " 3\n",
       " 3\n",
       " 1\n",
       " 4\n",
       " 4\n",
       " 3\n",
       " 7\n",
       " 0\n",
       " 4\n",
       " 7\n",
       " 0\n",
       " 2\n",
       " 0\n",
       " 4\n",
       " 8\n",
       " 1\n",
       " 8\n",
       " 7\n",
       " 0\n",
       " 2\n",
       " 7\n",
       " 1\n",
       " 8\n",
       " 0\n",
       " 7\n",
       " 5\n",
       " 2\n",
       " 6\n",
       " 0\n",
       " 5\n",
       " 9\n",
       " 1\n",
       " 5\n",
       " 3\n",
       " 7\n",
       " 2\n",
       " 6\n",
       " 3\n",
       " 4\n",
       " 8\n",
       " 9\n",
       " 1\n",
       " 6\n",
       " 4\n",
       " 9\n",
       " 4\n",
       " 9\n",
       " 6\n",
       " 9\n",
       " 8\n",
       " 4\n",
       " 9\n",
       " 1\n",
       " 1\n",
       " 8\n",
       " 1\n",
       " 4\n",
       " 3\n",
       " 3\n",
       " 4\n",
       " 2\n",
       " 6\n",
       " 9\n",
       " 0\n",
       " 1\n",
       " 7\n",
       " 1\n",
       " 9\n",
       " 7\n",
       "[torch.LongTensor of size 300]"
      ]
     },
     "execution_count": 5,
     "metadata": {},
     "output_type": "execute_result"
    }
   ],
   "source": [
    "X_labels"
   ]
  },
  {
   "cell_type": "code",
   "execution_count": 6,
   "metadata": {
    "collapsed": true,
    "scrolled": true
   },
   "outputs": [],
   "source": [
    "import seaborn as sb\n",
    "import math\n",
    "import numpy as np\n"
   ]
  },
  {
   "cell_type": "code",
   "execution_count": 7,
   "metadata": {
    "collapsed": false,
    "scrolled": true
   },
   "outputs": [],
   "source": [
    "data=test\n",
    "data=1.0/255*data.type(torch.FloatTensor)\n",
    "#data2=data-torch.mean(data.view(-1,data.size()[1]*data.size()[2]),0).view(28,28)\n",
    "#S=torch.std(data2.view(-1,data.size()[1]*data.size()[2]),0)\n",
    "#S[S==0]=1\n",
    "#data2=1.0/255*data2.view(-1,data.size()[1]*data.size()[2])\n",
    "#data2=data2.view(-1,28,28)\n"
   ]
  },
  {
   "cell_type": "code",
   "execution_count": 8,
   "metadata": {
    "collapsed": false
   },
   "outputs": [],
   "source": [
    "### contrast normalize\n",
    "n_d,p_dim,_=data.size()\n",
    "#norm=torch.max(torch.sum(data.view(n_d,-1)**2,1),torch.Tensor([0.00001]))\n",
    "#data=torch.div(data.view(n_d,-1),norm.view(n_d,1).expand(n_d,p_dim**2))"
   ]
  },
  {
   "cell_type": "code",
   "execution_count": 9,
   "metadata": {
    "collapsed": false
   },
   "outputs": [],
   "source": [
    "data=data.view(n_d,p_dim,p_dim)"
   ]
  },
  {
   "cell_type": "code",
   "execution_count": 10,
   "metadata": {
    "collapsed": false,
    "scrolled": true
   },
   "outputs": [
    {
     "name": "stdout",
     "output_type": "stream",
     "text": [
      "torch.Size([300, 28, 28])\n",
      "patches extracted with size  torch.Size([784, 300, 25])\n",
      "Training patches normalized extracted with size  torch.Size([784, 300, 25])\n",
      "Training patches have been standardized and have size torch.Size([784, 300, 25])\n",
      "[[0, 293, 400], [0, 694, 457], [0, 469, 710], [0, 726, 542], [0, 113, 580], [0, 734, 733], [0, 403, 225], [0, 395, 779], [0, 424, 378], [0, 446, 369]]\n",
      "('sel', torch.Size([9000, 2, 25]))\n",
      "('The data has size', torch.Size([784, 300, 25]))\n",
      "('all okay', True)\n",
      "('The variance is: ', 5.5536405086517338)\n",
      "('size input: ', torch.Size([9000, 2, 25]))\n",
      "Epoch: 0  Mean loss: \n",
      "1.00000e-02 *\n",
      "  7.5374\n",
      "[torch.FloatTensor of size 1]\n",
      "  time per epoch:  2.46089291573\n",
      "Epoch: 1  Mean loss: \n",
      "1.00000e-02 *\n",
      "  1.2934\n",
      "[torch.FloatTensor of size 1]\n",
      "  time per epoch:  2.26732897758\n",
      "Epoch: 2  Mean loss: \n",
      "1.00000e-03 *\n",
      "  9.2483\n",
      "[torch.FloatTensor of size 1]\n",
      "  time per epoch:  2.19350910187\n",
      "Epoch: 3  Mean loss: \n",
      "1.00000e-03 *\n",
      "  8.0584\n",
      "[torch.FloatTensor of size 1]\n",
      "  time per epoch:  2.1738550663\n",
      "Epoch: 4  Mean loss: \n",
      "1.00000e-03 *\n",
      "  7.4016\n",
      "[torch.FloatTensor of size 1]\n",
      "  time per epoch:  2.20126390457\n",
      "Epoch: 5  Mean loss: \n",
      "1.00000e-03 *\n",
      "  6.9594\n",
      "[torch.FloatTensor of size 1]\n",
      "  time per epoch:  2.20450496674\n",
      "Epoch: 6  Mean loss: \n",
      "1.00000e-03 *\n",
      "  6.6066\n",
      "[torch.FloatTensor of size 1]\n",
      "  time per epoch:  2.28614592552\n",
      "Epoch: 7  Mean loss: \n",
      "1.00000e-03 *\n",
      "  6.2987\n",
      "[torch.FloatTensor of size 1]\n",
      "  time per epoch:  2.17216086388\n",
      "Epoch: 8  Mean loss: \n",
      "1.00000e-03 *\n",
      "  6.0197\n",
      "[torch.FloatTensor of size 1]\n",
      "  time per epoch:  2.15106987953\n",
      "Epoch: 9  Mean loss: \n",
      "1.00000e-03 *\n",
      "  5.7626\n",
      "[torch.FloatTensor of size 1]\n",
      "  time per epoch:  2.17764186859\n",
      "Epoch: 10  Mean loss: \n",
      "1.00000e-03 *\n",
      "  5.5230\n",
      "[torch.FloatTensor of size 1]\n",
      "  time per epoch:  2.22532296181\n",
      "Epoch: 11  Mean loss: \n",
      "1.00000e-03 *\n",
      "  5.2981\n",
      "[torch.FloatTensor of size 1]\n",
      "  time per epoch:  2.16608905792\n",
      "Epoch: 12  Mean loss: \n",
      "1.00000e-03 *\n",
      "  5.0859\n",
      "[torch.FloatTensor of size 1]\n",
      "  time per epoch:  2.19113993645\n",
      "Epoch: 13  Mean loss: \n",
      "1.00000e-03 *\n",
      "  4.8851\n",
      "[torch.FloatTensor of size 1]\n",
      "  time per epoch:  2.16040706635\n",
      "Epoch: 14  Mean loss: \n",
      "1.00000e-03 *\n",
      "  4.6952\n",
      "[torch.FloatTensor of size 1]\n",
      "  time per epoch:  2.15038895607\n",
      "Epoch: 15  Mean loss: \n",
      "1.00000e-03 *\n",
      "  4.5154\n",
      "[torch.FloatTensor of size 1]\n",
      "  time per epoch:  2.22232794762\n",
      "Epoch: 16  Mean loss: \n",
      "1.00000e-03 *\n",
      "  4.3452\n",
      "[torch.FloatTensor of size 1]\n",
      "  time per epoch:  2.20615005493\n",
      "Epoch: 17  Mean loss: \n",
      "1.00000e-03 *\n",
      "  4.1842\n",
      "[torch.FloatTensor of size 1]\n",
      "  time per epoch:  2.15913295746\n",
      "Epoch: 18  Mean loss: \n",
      "1.00000e-03 *\n",
      "  4.0322\n",
      "[torch.FloatTensor of size 1]\n",
      "  time per epoch:  2.15604400635\n",
      "Epoch: 19  Mean loss: \n",
      "1.00000e-03 *\n",
      "  3.8890\n",
      "[torch.FloatTensor of size 1]\n",
      "  time per epoch:  2.18525695801\n",
      "Epoch: 20  Mean loss: \n",
      "1.00000e-03 *\n",
      "  3.7544\n",
      "[torch.FloatTensor of size 1]\n",
      "  time per epoch:  2.16778302193\n",
      "Epoch: 21  Mean loss: \n",
      "1.00000e-03 *\n",
      "  3.6280\n",
      "[torch.FloatTensor of size 1]\n",
      "  time per epoch:  2.20176792145\n",
      "Epoch: 22  Mean loss: \n",
      "1.00000e-03 *\n",
      "  3.5096\n",
      "[torch.FloatTensor of size 1]\n",
      "  time per epoch:  2.19055199623\n",
      "Epoch: 23  Mean loss: \n",
      "1.00000e-03 *\n",
      "  3.3987\n",
      "[torch.FloatTensor of size 1]\n",
      "  time per epoch:  2.17004609108\n",
      "Epoch: 24  Mean loss: \n",
      "1.00000e-03 *\n",
      "  3.2947\n",
      "[torch.FloatTensor of size 1]\n",
      "  time per epoch:  2.1740000248\n",
      "Epoch: 25  Mean loss: \n",
      "1.00000e-03 *\n",
      "  3.1971\n",
      "[torch.FloatTensor of size 1]\n",
      "  time per epoch:  2.15842103958\n",
      "Epoch: 26  Mean loss: \n",
      "1.00000e-03 *\n",
      "  3.1055\n",
      "[torch.FloatTensor of size 1]\n",
      "  time per epoch:  2.14792895317\n",
      "Epoch: 27  Mean loss: \n",
      "1.00000e-03 *\n",
      "  3.0195\n",
      "[torch.FloatTensor of size 1]\n",
      "  time per epoch:  2.5402109623\n",
      "Epoch: 28  Mean loss: \n",
      "1.00000e-03 *\n",
      "  2.9386\n",
      "[torch.FloatTensor of size 1]\n",
      "  time per epoch:  3.91119194031\n",
      "Epoch: 29  Mean loss: \n",
      "1.00000e-03 *\n",
      "  2.8625\n",
      "[torch.FloatTensor of size 1]\n",
      "  time per epoch:  3.53954601288\n",
      "(32, 32)\n",
      "0\n",
      "('tot', 0.9716861248016357)\n",
      "max w 0.472898870707\n",
      "nb 1 of null is  0\n",
      "size w: torch.Size([78400, 100])\n",
      "size norm: torch.Size([784, 300])\n",
      "('max Reg', 0.728614866733551)\n",
      "('zeta', torch.Size([78400, 100]))\n",
      "('nb 2 of null is ', 0)\n",
      "('test', torch.Size([784, 100, 100]))\n",
      "('nb 3 of null is ', 0)\n",
      "1\n",
      "('tot', 0.9770443439483643)\n",
      "max w 0.47340169549\n",
      "nb 1 of null is  0\n",
      "size w: torch.Size([78400, 100])\n",
      "size norm: torch.Size([784, 300])\n",
      "('max Reg', 0.728614866733551)\n",
      "('zeta', torch.Size([78400, 100]))\n",
      "('nb 2 of null is ', 0)\n",
      "('test', torch.Size([784, 100, 100]))\n",
      "('nb 3 of null is ', 0)\n",
      "2\n",
      "('tot', 0.9750784039497375)\n",
      "max w 0.473444491625\n",
      "nb 1 of null is  0\n",
      "size w: torch.Size([78400, 100])\n",
      "size norm: torch.Size([784, 300])\n",
      "('max Reg', 0.728614866733551)\n",
      "('zeta', torch.Size([78400, 100]))\n",
      "('nb 2 of null is ', 0)\n",
      "('test', torch.Size([784, 100, 100]))\n",
      "('nb 3 of null is ', 0)\n",
      "('nb final of null is ', 0)\n",
      "('size output', torch.Size([196, 300, 100]))\n",
      "torch.Size([196, 300, 100])\n",
      "size input at layer  1  :  torch.Size([196, 300, 100])\n",
      "patches extracted with size  torch.Size([196, 300, 400])\n",
      "Training patches normalized extracted with size  torch.Size([196, 300, 400])\n",
      "Training patches have been standardized and have size torch.Size([196, 300, 30])\n",
      "[[0, 87, 133], [0, 96, 69], [0, 166, 46], [0, 159, 96], [0, 179, 126], [0, 55, 78], [0, 36, 63], [0, 85, 133], [0, 26, 27], [0, 161, 140]]\n",
      "('sel', torch.Size([6000, 2, 30]))\n",
      "('The data has size', torch.Size([196, 300, 30]))\n",
      "('all okay', True)\n",
      "('The variance is: ', 38.819640731811525)\n",
      "('size input: ', torch.Size([6000, 2, 30]))\n",
      "Epoch: 0  Mean loss: \n",
      "1.00000e-02 *\n",
      "  9.0700\n",
      "[torch.FloatTensor of size 1]\n",
      "  time per epoch:  4.88235902786\n",
      "Epoch: 1  Mean loss: \n",
      "1.00000e-02 *\n",
      "  5.4493\n",
      "[torch.FloatTensor of size 1]\n",
      "  time per epoch:  4.9958589077\n",
      "Epoch: 2  Mean loss: \n",
      "1.00000e-02 *\n",
      "  3.8796\n",
      "[torch.FloatTensor of size 1]\n",
      "  time per epoch:  4.85420203209\n",
      "Epoch: 3  Mean loss: \n",
      "1.00000e-02 *\n",
      "  3.0767\n",
      "[torch.FloatTensor of size 1]\n",
      "  time per epoch:  5.05517792702\n",
      "Epoch: 4  Mean loss: \n",
      "1.00000e-02 *\n",
      "  2.6036\n",
      "[torch.FloatTensor of size 1]\n",
      "  time per epoch:  4.8716840744\n",
      "Epoch: 5  Mean loss: \n",
      "1.00000e-02 *\n",
      "  2.3068\n",
      "[torch.FloatTensor of size 1]\n",
      "  time per epoch:  4.56348109245\n",
      "Epoch: 6  Mean loss: \n",
      "1.00000e-02 *\n",
      "  2.1144\n",
      "[torch.FloatTensor of size 1]\n",
      "  time per epoch:  4.69139194489\n",
      "Epoch: 7  Mean loss: \n",
      "1.00000e-02 *\n",
      "  1.9839\n",
      "[torch.FloatTensor of size 1]\n",
      "  time per epoch:  4.66707611084\n",
      "Epoch: 8  Mean loss: \n",
      "1.00000e-02 *\n",
      "  1.8897\n",
      "[torch.FloatTensor of size 1]\n",
      "  time per epoch:  4.63258600235\n",
      "Epoch: 9  Mean loss: \n",
      "1.00000e-02 *\n",
      "  1.8171\n",
      "[torch.FloatTensor of size 1]\n",
      "  time per epoch:  4.60454106331\n",
      "Epoch: 10  Mean loss: \n",
      "1.00000e-02 *\n",
      "  1.7584\n",
      "[torch.FloatTensor of size 1]\n",
      "  time per epoch:  4.9850051403\n",
      "Epoch: 11  Mean loss: \n",
      "1.00000e-02 *\n",
      "  1.7091\n",
      "[torch.FloatTensor of size 1]\n",
      "  time per epoch:  5.27293801308\n",
      "Epoch: 12  Mean loss: \n",
      "1.00000e-02 *\n",
      "  1.6670\n",
      "[torch.FloatTensor of size 1]\n",
      "  time per epoch:  4.90922689438\n",
      "Epoch: 13  Mean loss: \n",
      "1.00000e-02 *\n",
      "  1.6304\n",
      "[torch.FloatTensor of size 1]\n",
      "  time per epoch:  4.71410298347\n",
      "Epoch: 14  Mean loss: \n",
      "1.00000e-02 *\n",
      "  1.5982\n",
      "[torch.FloatTensor of size 1]\n",
      "  time per epoch:  5.26855516434\n",
      "Epoch: 15  Mean loss: \n",
      "1.00000e-02 *\n",
      "  1.5695\n",
      "[torch.FloatTensor of size 1]\n",
      "  time per epoch:  5.48425388336\n",
      "Epoch: 16  Mean loss: \n",
      "1.00000e-02 *\n",
      "  1.5436\n",
      "[torch.FloatTensor of size 1]\n",
      "  time per epoch:  5.56206488609\n",
      "Epoch: 17  Mean loss: \n",
      "1.00000e-02 *\n",
      "  1.5199\n",
      "[torch.FloatTensor of size 1]\n",
      "  time per epoch:  4.95264101028\n",
      "Epoch: 18  Mean loss: \n",
      "1.00000e-02 *\n",
      "  1.4980\n",
      "[torch.FloatTensor of size 1]\n",
      "  time per epoch:  4.73761200905\n",
      "Epoch: 19  Mean loss: \n",
      "1.00000e-02 *\n",
      "  1.4774\n",
      "[torch.FloatTensor of size 1]\n",
      "  time per epoch:  4.7476849556\n",
      "Epoch: 20  Mean loss: \n",
      "1.00000e-02 *\n",
      "  1.4581\n",
      "[torch.FloatTensor of size 1]\n",
      "  time per epoch:  4.72296190262\n",
      "Epoch: 21  Mean loss: \n",
      "1.00000e-02 *\n",
      "  1.4397\n",
      "[torch.FloatTensor of size 1]\n",
      "  time per epoch:  4.67095994949\n",
      "Epoch: 22  Mean loss: \n",
      "1.00000e-02 *\n",
      "  1.4222\n",
      "[torch.FloatTensor of size 1]\n",
      "  time per epoch:  4.63787698746\n",
      "Epoch: 23  Mean loss: \n",
      "1.00000e-02 *\n",
      "  1.4053\n",
      "[torch.FloatTensor of size 1]\n",
      "  time per epoch:  4.8035531044\n",
      "Epoch: 24  Mean loss: \n",
      "1.00000e-02 *\n",
      "  1.3892\n",
      "[torch.FloatTensor of size 1]\n",
      "  time per epoch:  4.7466480732\n",
      "Epoch: 25  Mean loss: \n",
      "1.00000e-02 *\n",
      "  1.3736\n",
      "[torch.FloatTensor of size 1]\n",
      "  time per epoch:  4.7327940464\n",
      "Epoch: 26  Mean loss: \n",
      "1.00000e-02 *\n",
      "  1.3586\n",
      "[torch.FloatTensor of size 1]\n",
      "  time per epoch:  4.71450591087\n",
      "Epoch: 27  Mean loss: \n",
      "1.00000e-02 *\n",
      "  1.3440\n",
      "[torch.FloatTensor of size 1]\n",
      "  time per epoch:  6.40400218964\n",
      "Epoch: 28  Mean loss: \n",
      "1.00000e-02 *\n",
      "  1.3299\n",
      "[torch.FloatTensor of size 1]\n",
      "  time per epoch:  6.18035197258\n",
      "Epoch: 29  Mean loss: \n",
      "1.00000e-02 *\n",
      "  1.3163\n",
      "[torch.FloatTensor of size 1]\n",
      "  time per epoch:  5.41647791862\n",
      "(16, 16)\n",
      "0\n",
      "('tot', 0.999397337436676)\n",
      "max w 0.572827100754\n",
      "nb 1 of null is  0\n",
      "size w: torch.Size([19600, 200])\n",
      "size norm: torch.Size([196, 300])\n",
      "('max Reg', 0.45145130157470703)\n",
      "('zeta', torch.Size([19600, 200]))\n",
      "('nb 2 of null is ', 0)\n",
      "('test', torch.Size([196, 100, 200]))\n",
      "('nb 3 of null is ', 0)\n",
      "1\n",
      "('tot', 0.9997219443321228)\n",
      "max w 0.590637922287\n",
      "nb 1 of null is  0\n",
      "size w: torch.Size([19600, 200])\n",
      "size norm: torch.Size([196, 300])\n",
      "('max Reg', 0.45145130157470703)\n",
      "('zeta', torch.Size([19600, 200]))\n",
      "('nb 2 of null is ', 0)\n",
      "('test', torch.Size([196, 100, 200]))\n",
      "('nb 3 of null is ', 0)\n",
      "2\n",
      "('tot', 0.9999569058418274)\n",
      "max w 0.592176496983\n",
      "nb 1 of null is  0\n",
      "size w: torch.Size([19600, 200])\n",
      "size norm: torch.Size([196, 300])\n",
      "('max Reg', 0.45145130157470703)\n",
      "('zeta', torch.Size([19600, 200]))\n",
      "('nb 2 of null is ', 0)\n",
      "('test', torch.Size([196, 100, 200]))\n",
      "('nb 3 of null is ', 0)\n",
      "('nb final of null is ', 0)\n",
      "('size output', torch.Size([49, 300, 200]))\n"
     ]
    },
    {
     "data": {
      "text/plain": [
       "\n",
       "( 0 ,.,.) = \n",
       "  0.0002  0.0061  0.0002  ...   0.0348  0.0005  0.0002\n",
       "  0.0007  0.0210  0.0009  ...   0.0467  0.0017  0.0006\n",
       "  0.0002  0.0061  0.0002  ...   0.0348  0.0005  0.0002\n",
       "           ...             ⋱             ...          \n",
       "  0.0008  0.0240  0.0010  ...   0.0025  0.0020  0.0007\n",
       "  0.0013  0.0510  0.0020  ...   0.0059  0.0041  0.0012\n",
       "  0.0009  0.0262  0.0011  ...   0.0028  0.0021  0.0007\n",
       "\n",
       "( 1 ,.,.) = \n",
       "  0.0002  0.0073  0.0002  ...   0.0264  0.0006  0.0001\n",
       "  0.0005  0.0167  0.0005  ...   0.0439  0.0015  0.0003\n",
       "  0.0001  0.0020  0.0001  ...   0.0259  0.0002  0.0000\n",
       "           ...             ⋱             ...          \n",
       "  0.0011  0.0484  0.0016  ...   0.0054  0.0039  0.0009\n",
       "  0.0025  0.0941  0.0038  ...   0.0108  0.0088  0.0025\n",
       "  0.0018  0.0649  0.0034  ...   0.0075  0.0063  0.0019\n",
       "\n",
       "( 2 ,.,.) = \n",
       "  0.0002  0.0076  0.0002  ...   0.0249  0.0006  0.0001\n",
       "  0.0005  0.0164  0.0005  ...   0.0413  0.0014  0.0003\n",
       "  0.0001  0.0019  0.0001  ...   0.0243  0.0002  0.0000\n",
       "           ...             ⋱             ...          \n",
       "  0.0011  0.0498  0.0016  ...   0.0056  0.0040  0.0009\n",
       "  0.0025  0.0945  0.0038  ...   0.0109  0.0089  0.0025\n",
       "  0.0019  0.0672  0.0036  ...   0.0078  0.0066  0.0020\n",
       "... \n",
       "\n",
       "(46 ,.,.) = \n",
       "  0.0794  0.0074  0.0683  ...   0.0017  0.0085  0.0889\n",
       "  0.2520  0.0190  0.0727  ...   0.0033  0.0281  0.1439\n",
       "  0.1089  0.0164  0.0336  ...   0.0035  0.0446  0.0393\n",
       "           ...             ⋱             ...          \n",
       "  0.1092  0.0069  0.0337  ...   0.0012  0.0145  0.0568\n",
       "  0.0244  0.0215  0.0275  ...   0.0044  0.0489  0.0094\n",
       "  0.1307  0.0143  0.1342  ...   0.0034  0.0128  0.1463\n",
       "\n",
       "(47 ,.,.) = \n",
       "  0.1052  0.0084  0.0140  ...   0.0013  0.0350  0.0377\n",
       "  0.0508  0.0179  0.0032  ...   0.0022  0.0458  0.0131\n",
       "  0.1064  0.0142  0.0091  ...   0.0022  0.0740  0.0237\n",
       "           ...             ⋱             ...          \n",
       "  0.0120  0.0099  0.0013  ...   0.0012  0.0103  0.0058\n",
       "  0.1286  0.0104  0.0756  ...   0.0019  0.0146  0.1075\n",
       "  0.1535  0.0132  0.0195  ...   0.0021  0.0440  0.0600\n",
       "\n",
       "(48 ,.,.) = \n",
       "  0.0115  0.0088  0.0011  ...   0.0010  0.0313  0.0028\n",
       "  0.0002  0.0016  0.0001  ...   0.0002  0.0025  0.0001\n",
       "  0.0140  0.0106  0.0013  ...   0.0012  0.0420  0.0031\n",
       "           ...             ⋱             ...          \n",
       "  0.0000  0.0000  0.0000  ...   0.0000  0.0000  0.0000\n",
       "  0.0311  0.0146  0.0032  ...   0.0018  0.0105  0.0199\n",
       "  0.0161  0.0102  0.0014  ...   0.0012  0.0425  0.0036\n",
       "[torch.FloatTensor of size 49x300x200]"
      ]
     },
     "execution_count": 10,
     "metadata": {},
     "output_type": "execute_result"
    }
   ],
   "source": [
    "net=CKN()\n",
    "size_patch=5\n",
    "net=CKN(n_components=[100,200],n_layers=2,iter_max=30,n_patches=[size_patch,2],subsampling_factors=[2,2],spacing=[1,2],batch_size=[60,60])#Cell.fit_LBFGS(X)\n",
    "net.train_network(data)"
   ]
  },
  {
   "cell_type": "code",
   "execution_count": 11,
   "metadata": {
    "collapsed": false
   },
   "outputs": [
    {
     "name": "stdout",
     "output_type": "stream",
     "text": [
      "\n",
      " 0.2618\n",
      " 0.1045\n",
      " 0.1011\n",
      " 0.0999\n",
      " 0.1022\n",
      " 0.1492\n",
      " 0.1224\n",
      " 0.1570\n",
      " 0.1160\n",
      " 0.1418\n",
      " 0.1876\n",
      " 0.1711\n",
      " 0.1072\n",
      " 0.2634\n",
      " 0.1089\n",
      " 0.0883\n",
      " 0.0762\n",
      " 0.2323\n",
      " 0.1260\n",
      " 0.1291\n",
      " 0.1152\n",
      " 0.2649\n",
      " 0.1719\n",
      " 0.1361\n",
      " 0.1501\n",
      " 0.2138\n",
      " 0.1282\n",
      " 0.0894\n",
      " 0.2460\n",
      " 0.1268\n",
      " 0.1704\n",
      " 0.1332\n",
      " 0.1604\n",
      " 0.1781\n",
      " 0.0412\n",
      " 0.1269\n",
      " 0.1205\n",
      " 0.0918\n",
      " 0.1268\n",
      " 0.0921\n",
      " 0.1105\n",
      " 0.1691\n",
      " 0.1581\n",
      " 0.2417\n",
      " 0.1256\n",
      " 0.1951\n",
      " 0.1028\n",
      " 0.1589\n",
      " 0.0857\n",
      " 0.1264\n",
      " 0.1725\n",
      " 0.1221\n",
      " 0.1133\n",
      " 0.1604\n",
      " 0.1385\n",
      " 0.1253\n",
      " 0.1058\n",
      " 0.1905\n",
      " 0.1147\n",
      " 0.0606\n",
      " 0.1480\n",
      " 0.1503\n",
      " 0.0719\n",
      " 0.2049\n",
      " 0.1333\n",
      " 0.1096\n",
      " 0.1003\n",
      " 0.1820\n",
      " 0.2061\n",
      " 0.1288\n",
      " 0.1602\n",
      " 0.1333\n",
      " 0.2017\n",
      " 0.1166\n",
      " 0.1302\n",
      " 0.0512\n",
      " 0.1450\n",
      " 0.1608\n",
      " 0.1429\n",
      " 0.1762\n",
      " 0.1508\n",
      " 0.1676\n",
      " 0.1462\n",
      " 0.0990\n",
      " 0.0962\n",
      " 0.1154\n",
      " 0.1245\n",
      " 0.1306\n",
      " 0.1028\n",
      " 0.1382\n",
      " 0.1271\n",
      " 0.0533\n",
      " 0.0557\n",
      " 0.0785\n",
      " 0.1303\n",
      " 0.1089\n",
      " 0.1514\n",
      " 0.2597\n",
      " 0.1246\n",
      " 0.0976\n",
      "[torch.FloatTensor of size 100]\n",
      "\n"
     ]
    },
    {
     "data": {
      "text/plain": [
       "<matplotlib.figure.Figure at 0x103f70490>"
      ]
     },
     "execution_count": 11,
     "metadata": {},
     "output_type": "execute_result"
    },
    {
     "data": {
      "image/png": "[encoded data removed]",
      "text/plain": [
       "<matplotlib.figure.Figure at 0x103f70950>"
      ]
     },
     "metadata": {},
     "output_type": "display_data"
    },
    {
     "data": {
      "text/plain": [
       "<matplotlib.figure.Figure at 0x103f70490>"
      ]
     },
     "metadata": {},
     "output_type": "display_data"
    }
   ],
   "source": [
    "print(net.Kernel[0].eta.data)\n",
    "self=net\n",
    "sb.heatmap(net.Kernel[0].W.data.numpy())\n",
    "plt.figure()"
   ]
  },
  {
   "cell_type": "code",
   "execution_count": 12,
   "metadata": {
    "collapsed": false
   },
   "outputs": [
    {
     "data": {
      "text/plain": [
       "<matplotlib.figure.Figure at 0x11e964490>"
      ]
     },
     "execution_count": 12,
     "metadata": {},
     "output_type": "execute_result"
    },
    {
     "data": {
      "image/png": "[encoded data removed]",
      "text/plain": [
       "<matplotlib.figure.Figure at 0x11c255e10>"
      ]
     },
     "metadata": {},
     "output_type": "display_data"
    },
    {
     "data": {
      "text/plain": [
       "<matplotlib.figure.Figure at 0x11e964490>"
      ]
     },
     "metadata": {},
     "output_type": "display_data"
    }
   ],
   "source": [
    "sb.heatmap(net.Kernel[1].W.data.numpy())\n",
    "plt.figure()"
   ]
  },
  {
   "cell_type": "code",
   "execution_count": 13,
   "metadata": {
    "collapsed": false
   },
   "outputs": [
    {
     "name": "stdout",
     "output_type": "stream",
     "text": [
      "torch.Size([9000, 2, 25])\n"
     ]
    },
    {
     "data": {
      "text/plain": [
       "LinearRegression(copy_X=True, fit_intercept=True, n_jobs=1, normalize=False)"
      ]
     },
     "execution_count": 13,
     "metadata": {},
     "output_type": "execute_result"
    },
    {
     "data": {
      "image/png": "[encoded data removed]",
      "text/plain": [
       "<matplotlib.figure.Figure at 0x1054fcc10>"
      ]
     },
     "metadata": {},
     "output_type": "display_data"
    }
   ],
   "source": [
    "net.Kernel[0].convergence_check()"
   ]
  },
  {
   "cell_type": "code",
   "execution_count": 14,
   "metadata": {
    "collapsed": false
   },
   "outputs": [
    {
     "name": "stdout",
     "output_type": "stream",
     "text": [
      "torch.Size([6000, 2, 30])\n"
     ]
    },
    {
     "data": {
      "text/plain": [
       "LinearRegression(copy_X=True, fit_intercept=True, n_jobs=1, normalize=False)"
      ]
     },
     "execution_count": 14,
     "metadata": {},
     "output_type": "execute_result"
    },
    {
     "data": {
      "image/png": "[encoded data removed]",
      "text/plain": [
       "<matplotlib.figure.Figure at 0x11e1f7bd0>"
      ]
     },
     "metadata": {},
     "output_type": "display_data"
    }
   ],
   "source": [
    "net.Kernel[1].convergence_check()"
   ]
  },
  {
   "cell_type": "code",
   "execution_count": 15,
   "metadata": {
    "collapsed": false
   },
   "outputs": [
    {
     "data": {
      "text/plain": [
       "[<matplotlib.lines.Line2D at 0x1273e04d0>]"
      ]
     },
     "execution_count": 15,
     "metadata": {},
     "output_type": "execute_result"
    },
    {
     "data": {
      "image/png": "[encoded data removed]",
      "text/plain": [
       "<matplotlib.figure.Figure at 0x11e201a10>"
      ]
     },
     "metadata": {},
     "output_type": "display_data"
    }
   ],
   "source": [
    "plt.plot([ u.numpy() for u in net.Kernel[0].training_loss])\n",
    "#plt.plot([ u.numpy() for u in net.Kernel[1].training_loss],c='yellow')"
   ]
  },
  {
   "cell_type": "code",
   "execution_count": 16,
   "metadata": {
    "collapsed": false
   },
   "outputs": [
    {
     "name": "stdout",
     "output_type": "stream",
     "text": [
      "Explained variance for Kernel 0 100.0\n",
      "Explained variance for Kernel 1 93.2872653008\n"
     ]
    },
    {
     "data": {
      "image/png": "[encoded data removed]",
      "text/plain": [
       "<matplotlib.figure.Figure at 0x11c2d5090>"
      ]
     },
     "metadata": {},
     "output_type": "display_data"
    }
   ],
   "source": [
    "plt.plot(net.Kernel[0].pca.explained_variance_ratio_)\n",
    "plt.plot(net.Kernel[1].pca.explained_variance_ratio_,c='red')\n",
    "print('Explained variance for Kernel 0', 100*np.sum(net.Kernel[0].pca.explained_variance_ratio_))\n",
    "print('Explained variance for Kernel 1', 100*np.sum(net.Kernel[1].pca.explained_variance_ratio_))"
   ]
  },
  {
   "cell_type": "code",
   "execution_count": 17,
   "metadata": {
    "collapsed": false
   },
   "outputs": [
    {
     "name": "stdout",
     "output_type": "stream",
     "text": [
      "torch.Size([196, 300, 100])\n",
      "\n",
      " 0\n",
      " 9\n",
      " 6\n",
      " 1\n",
      " 2\n",
      " 3\n",
      " 9\n",
      " 2\n",
      " 4\n",
      " 3\n",
      "[torch.LongTensor of size 10]\n",
      "\n"
     ]
    },
    {
     "data": {
      "image/png": "[encoded data removed]",
      "text/plain": [
       "<matplotlib.figure.Figure at 0x127213a90>"
      ]
     },
     "metadata": {},
     "output_type": "display_data"
    }
   ],
   "source": [
    "print(net.Kernel[0].output.size())\n",
    "sb.heatmap(net.Kernel[0].output[100,:100,:].numpy())\n",
    "print(X_labels[:10])"
   ]
  },
  {
   "cell_type": "code",
   "execution_count": 18,
   "metadata": {
    "collapsed": false
   },
   "outputs": [
    {
     "data": {
      "text/plain": [
       "38.819640731811525"
      ]
     },
     "execution_count": 18,
     "metadata": {},
     "output_type": "execute_result"
    }
   ],
   "source": [
    "net.Kernel[1].sigma"
   ]
  },
  {
   "cell_type": "code",
   "execution_count": 19,
   "metadata": {
    "collapsed": false
   },
   "outputs": [
    {
     "name": "stdout",
     "output_type": "stream",
     "text": [
      "0 torch.Size([784, 300, 25])\n",
      "input map in layer  0  has size  torch.Size([784, 300, 25])\n",
      "X is given\n",
      "Activation map init. Is normalized yet: True . Input map has size torch.Size([784, 300, 25])\n",
      "torch.Size([784, 300, 25])\n",
      "Activation map :Given data was scaled and has size torch.Size([784, 300, 25])  and max  2.51073384285\n",
      "(32, 32)\n",
      "0\n",
      "('tot', 0.9716861844062805)\n",
      "max w 0.472898870707\n",
      "nb 1 of null is  0\n",
      "size w: torch.Size([78400, 100])\n",
      "size norm: torch.Size([784, 300])\n",
      "('max Reg', 0.9921606183052063)\n",
      "('zeta', torch.Size([78400, 100]))\n",
      "('nb 2 of null is ', 0)\n",
      "('test', torch.Size([784, 100, 100]))\n",
      "('nb 3 of null is ', 0)\n",
      "1\n",
      "('tot', 0.9770443439483643)\n",
      "max w 0.473401725292\n",
      "nb 1 of null is  0\n",
      "size w: torch.Size([78400, 100])\n",
      "size norm: torch.Size([784, 300])\n",
      "('max Reg', 1.0)\n",
      "('zeta', torch.Size([78400, 100]))\n",
      "('nb 2 of null is ', 0)\n",
      "('test', torch.Size([784, 100, 100]))\n",
      "('nb 3 of null is ', 0)\n",
      "2\n",
      "('tot', 0.9750784635543823)\n",
      "max w 0.473444521427\n",
      "nb 1 of null is  0\n",
      "size w: torch.Size([78400, 100])\n",
      "size norm: torch.Size([784, 300])\n",
      "('max Reg', 0.9946907758712769)\n",
      "('zeta', torch.Size([78400, 100]))\n",
      "('nb 2 of null is ', 0)\n",
      "('test', torch.Size([784, 100, 100]))\n",
      "('nb 3 of null is ', 0)\n",
      "('nb final of null is ', 0)\n",
      "('size output', torch.Size([196, 300, 100]))\n",
      "1 torch.Size([196, 300, 400])\n",
      "input map in layer  1  has size  torch.Size([196, 300, 400])\n",
      "X is given\n",
      "Activation map init. Is normalized yet: True . Input map has size torch.Size([196, 300, 400])\n",
      "torch.Size([196, 300, 400])\n",
      "Activation map :Given data was scaled and has size torch.Size([196, 300, 30])  and max  10.1177988052\n",
      "(16, 16)\n",
      "0\n",
      "('tot', 0.999721109867096)\n",
      "max w 0.498366683722\n",
      "nb 1 of null is  0\n",
      "size w: torch.Size([19600, 200])\n",
      "size norm: torch.Size([196, 300])\n",
      "('max Reg', 0.799531102180481)\n",
      "('zeta', torch.Size([19600, 200]))\n",
      "('nb 2 of null is ', 0)\n",
      "('test', torch.Size([196, 100, 200]))\n",
      "('nb 3 of null is ', 0)\n",
      "1\n",
      "('tot', 0.9989413619041443)\n",
      "max w 0.49836602807\n",
      "nb 1 of null is  0\n",
      "size w: torch.Size([19600, 200])\n",
      "size norm: torch.Size([196, 300])\n",
      "('max Reg', 0.7623071670532227)\n",
      "('zeta', torch.Size([19600, 200]))\n",
      "('nb 2 of null is ', 0)\n",
      "('test', torch.Size([196, 100, 200]))\n",
      "('nb 3 of null is ', 0)\n",
      "2\n",
      "('tot', 0.9953680038452148)\n",
      "max w 0.498366683722\n",
      "nb 1 of null is  0\n",
      "size w: torch.Size([19600, 200])\n",
      "size norm: torch.Size([196, 300])\n",
      "('max Reg', 0.7969675660133362)\n",
      "('zeta', torch.Size([19600, 200]))\n",
      "('nb 2 of null is ', 0)\n",
      "('test', torch.Size([196, 100, 200]))\n",
      "('nb 3 of null is ', 0)\n",
      "('nb final of null is ', 0)\n",
      "('size output', torch.Size([49, 300, 200]))\n"
     ]
    }
   ],
   "source": [
    "X=net.propagate_through_network(data,patches_given=False)"
   ]
  },
  {
   "cell_type": "code",
   "execution_count": 38,
   "metadata": {
    "collapsed": false
   },
   "outputs": [
    {
     "name": "stdout",
     "output_type": "stream",
     "text": [
      "1.65832722187\n",
      "3.1892113595e+38\n"
     ]
    }
   ],
   "source": [
    "output_map=net.Kernel[0].output\n",
    "print(torch.max(output_map))\n",
    "input_map=extract_patches_from_vector(output_map, net.n_patches[1])\n",
    "print(torch.max(input_map))"
   ]
  },
  {
   "cell_type": "code",
   "execution_count": 43,
   "metadata": {
    "collapsed": true
   },
   "outputs": [],
   "source": [
    "X=output_map"
   ]
  },
  {
   "cell_type": "code",
   "execution_count": 44,
   "metadata": {
    "collapsed": false
   },
   "outputs": [
    {
     "name": "stdout",
     "output_type": "stream",
     "text": [
      "1.65832722187\n"
     ]
    }
   ],
   "source": [
    "print(torch.max(X))"
   ]
  },
  {
   "cell_type": "code",
   "execution_count": 45,
   "metadata": {
    "collapsed": false
   },
   "outputs": [
    {
     "data": {
      "text/plain": [
       "2"
      ]
     },
     "execution_count": 45,
     "metadata": {},
     "output_type": "execute_result"
    }
   ],
   "source": [
    "size_patch"
   ]
  },
  {
   "cell_type": "code",
   "execution_count": 46,
   "metadata": {
    "collapsed": true
   },
   "outputs": [],
   "source": [
    "nb_locations=X.size()[0]\n",
    "x_dim=int(np.sqrt(X.size()[0]))\n",
    "nb_data_points=X.size()[1]\n",
    "D=X.size()[2]\n",
    "\n",
    "#####\n",
    "size_image=[x_dim,x_dim]\n",
    "a=2*np.max([size_patch//2,1])+size_image[0]\n",
    "b=2*np.max([size_patch//2,1])+size_image[1]\n",
    "padded_image=np.zeros((a,b))\n",
    "padded_image[np.max([size_patch//2,1]):np.max([size_patch//2,1])+size_image[0],np.max([size_patch//2,1]):(np.max([size_patch//2,1]))+size_image[1]]=1\n",
    "nx,ny=padded_image.shape"
   ]
  },
  {
   "cell_type": "code",
   "execution_count": 49,
   "metadata": {
    "collapsed": false
   },
   "outputs": [
    {
     "data": {
      "text/plain": [
       "<matplotlib.axes._subplots.AxesSubplot at 0x11e1f7810>"
      ]
     },
     "execution_count": 49,
     "metadata": {},
     "output_type": "execute_result"
    },
    {
     "data": {
      "image/png": "[encoded data removed]",
      "text/plain": [
       "<matplotlib.figure.Figure at 0x11e1ed910>"
      ]
     },
     "metadata": {},
     "output_type": "display_data"
    }
   ],
   "source": [
    "sb.heatmap(padded_image)"
   ]
  },
  {
   "cell_type": "code",
   "execution_count": 76,
   "metadata": {
    "collapsed": true
   },
   "outputs": [],
   "source": [
    "test=torch.Tensor([create_BW_mask(size_image,size_patch,ii,jj)[np.max([size_patch//2,1]):np.max([size_patch//2,1])+size_image[0],np.max([size_patch//2,1]):(np.max([size_patch//2,1]))+size_image[1]] \\\n",
    "    for ii in np.arange(0,nx-2*np.max([size_patch//2,1])) \\\n",
    "    for jj in np.arange(0,ny-2*np.max([size_patch//2,1])) ])\n",
    "\n",
    "test=test.view(test.size()[0],-1)"
   ]
  },
  {
   "cell_type": "code",
   "execution_count": 60,
   "metadata": {
    "collapsed": false
   },
   "outputs": [
    {
     "name": "stdout",
     "output_type": "stream",
     "text": [
      "torch.Size([196, 14, 14])\n"
     ]
    },
    {
     "data": {
      "text/plain": [
       "<matplotlib.axes._subplots.AxesSubplot at 0x121bd1150>"
      ]
     },
     "execution_count": 60,
     "metadata": {},
     "output_type": "execute_result"
    },
    {
     "data": {
      "image/png": "[encoded data removed]",
      "text/plain": [
       "<matplotlib.figure.Figure at 0x11eebb950>"
      ]
     },
     "metadata": {},
     "output_type": "display_data"
    }
   ],
   "source": [
    "print(test.size())\n",
    "sb.heatmap(test[45,:,:].numpy())"
   ]
  },
  {
   "cell_type": "code",
   "execution_count": 96,
   "metadata": {
    "collapsed": false
   },
   "outputs": [],
   "source": [
    "#for i in xrange(0,batch_size*(data.size()[1]//batch_size),batch_size):\n",
    "test2=torch.stack([torch.cat([X[u,:,:].t() for u in np.where(test[j,:].numpy()!=0)[0]]+\\\n",
    "            [torch.Tensor(np.zeros((D,nb_data_points)))]*(size_patch**2-len(np.where(test[j,:].numpy()!=0)[0]))) for j in range(test.shape[0])])"
   ]
  },
  {
   "cell_type": "code",
   "execution_count": 121,
   "metadata": {
    "collapsed": false
   },
   "outputs": [
    {
     "data": {
      "text/plain": [
       "(array([244, 244, 256, 256, 271, 272, 272, 273, 281, 281, 281, 281, 281,\n",
       "        281, 281, 281, 281, 281, 281, 281, 281, 281, 281, 281, 281, 281,\n",
       "        281, 281, 282, 282, 282, 282, 282, 282, 282, 282, 282, 282, 282,\n",
       "        282, 282, 282, 282, 282, 282, 282, 282, 282, 282, 282, 282, 282,\n",
       "        282, 282, 282, 282, 282, 282, 282, 282, 282, 282, 282, 282, 282,\n",
       "        282, 282, 282, 282, 282, 282, 282, 282, 282, 282, 282, 282, 282,\n",
       "        282, 282, 282, 282, 282, 282, 282, 282, 282, 282, 282, 282, 282,\n",
       "        282, 282, 282, 282, 282, 282, 282, 282, 282, 282, 282, 282, 282,\n",
       "        282, 282, 282, 282, 282, 282, 282, 282, 282, 282, 282, 282, 282,\n",
       "        282, 282, 282, 282, 282, 282, 282, 282, 282, 282, 282, 282, 282,\n",
       "        282, 282, 282, 282, 282, 282, 282, 282, 282, 282, 282, 282, 282,\n",
       "        282, 282, 282, 282, 282, 282, 282, 282, 282, 282, 282, 282, 282,\n",
       "        282, 282, 282, 282, 282, 282, 282, 282, 282, 282, 282, 282, 282,\n",
       "        282, 282, 282, 282, 282, 282, 282, 282, 282, 282, 282, 282, 282,\n",
       "        282, 282, 282, 282, 282, 282, 282, 282, 282, 282, 282, 282, 282,\n",
       "        282, 282, 282, 282, 282, 282, 282, 282, 282, 282, 282, 282, 282,\n",
       "        282, 282, 282, 282, 282, 282, 282, 282, 282, 282, 282, 282, 282,\n",
       "        282, 282, 282, 282, 282, 282, 282, 282, 282, 282, 282, 282, 282,\n",
       "        282, 282, 282, 282, 282, 282, 282, 282, 282, 282, 282, 282, 282,\n",
       "        282, 282, 282, 282, 282, 282, 282, 282, 282, 282, 282, 282, 282,\n",
       "        282, 282, 282, 282, 282, 282, 282, 282, 282, 282, 282, 282, 282,\n",
       "        282, 282, 282, 282, 282, 282, 282, 282, 282, 282, 282, 282, 282,\n",
       "        282, 282, 282, 282, 282, 282, 282, 282, 282, 282, 282, 282, 282,\n",
       "        282, 282, 282, 282, 282, 282, 283, 283, 283, 283, 283, 283, 283,\n",
       "        283, 283, 283, 283, 283, 283, 283, 283, 283, 283, 283, 283, 283,\n",
       "        283, 283, 283, 283, 283, 283, 283, 283, 283, 283, 283, 283, 283,\n",
       "        283, 283, 283, 283, 283, 283, 283, 283, 283, 283, 283, 283, 283,\n",
       "        283, 283, 283, 283, 283, 283, 283, 283, 283, 283, 283, 283, 283,\n",
       "        283, 283, 283, 283, 283, 283, 283, 283, 283, 283, 283, 283, 283,\n",
       "        283, 283, 283, 283, 283, 283, 283, 283, 283, 283, 283, 283, 283,\n",
       "        283, 283, 283, 283, 283, 283, 283, 283, 283, 283, 283, 283, 283,\n",
       "        283, 283, 283, 283, 283, 283, 283, 283, 283, 283, 283, 283, 283,\n",
       "        283, 283, 283, 283, 283, 283, 283, 283, 284, 285, 285, 285, 290,\n",
       "        290, 344, 344, 356, 356, 371, 372, 372, 373, 381, 381, 381, 381,\n",
       "        381, 381, 381, 381, 381, 381, 381, 381, 381, 381, 381, 381, 381,\n",
       "        381, 381, 381, 382, 382, 382, 382, 382, 382, 382, 382, 382, 382,\n",
       "        382, 382, 382, 382, 382, 382, 382, 382, 382, 382, 382, 382, 382,\n",
       "        382, 382, 382, 382, 382, 382, 382, 382, 382, 382, 382, 382, 382,\n",
       "        382, 382, 382, 382, 382, 382, 382, 382, 382, 382, 382, 382, 382,\n",
       "        382, 382, 382, 382, 382, 382, 382, 382, 382, 382, 382, 382, 382,\n",
       "        382, 382, 382, 382, 382, 382, 382, 382, 382, 382, 382, 382, 382,\n",
       "        382, 382, 382, 382, 382, 382, 382, 382, 382, 382, 382, 382, 382,\n",
       "        382, 382, 382, 382, 382, 382, 382, 382, 382, 382, 382, 382, 382,\n",
       "        382, 382, 382, 382, 382, 382, 382, 382, 382, 382, 382, 382, 382,\n",
       "        382, 382, 382, 382, 382, 382, 382, 382, 382, 382, 382, 382, 382,\n",
       "        382, 382, 382, 382, 382, 382, 382, 382, 382, 382, 382, 382, 382,\n",
       "        382, 382, 382, 382, 382, 382, 382, 382, 382, 382, 382, 382, 382,\n",
       "        382, 382, 382, 382, 382, 382, 382, 382, 382, 382, 382, 382, 382,\n",
       "        382, 382, 382, 382, 382, 382, 382, 382, 382, 382, 382, 382, 382,\n",
       "        382, 382, 382, 382, 382, 382, 382, 382, 382, 382, 382, 382, 382,\n",
       "        382, 382, 382, 382, 382, 382, 382, 382, 382, 382, 382, 382, 382,\n",
       "        382, 382, 382, 382, 382, 382, 382, 382, 382, 382, 382, 382, 382,\n",
       "        382, 382, 382, 382, 382, 382, 382, 382, 382, 382, 382, 382, 382,\n",
       "        382, 382, 382, 382, 382, 382, 382, 382, 382, 382, 382, 382, 382,\n",
       "        382, 382, 382, 382, 382, 382, 382, 382, 382, 382, 382, 382, 382,\n",
       "        382, 382, 382, 382, 382, 382, 382, 382, 382, 382, 382, 382, 382,\n",
       "        382, 382, 382, 382, 382, 382, 382, 383, 383, 383, 383, 383, 383,\n",
       "        383, 383, 383, 383, 383, 383, 383, 383, 383, 383, 383, 383, 383,\n",
       "        383, 383, 383, 383, 383, 383, 383, 383, 383, 383, 383, 383, 383,\n",
       "        383, 383, 383, 383, 383, 383, 383, 383, 383, 383, 383, 383, 383,\n",
       "        383, 383, 383, 383, 383, 383, 383, 383, 383, 383, 383, 383, 383,\n",
       "        383, 383, 383, 383, 383, 383, 383, 383, 383, 383, 383, 383, 383,\n",
       "        383, 383, 383, 383, 383, 383, 383, 383, 383, 383, 383, 383, 383,\n",
       "        383, 383, 383, 383, 383, 383, 383, 383, 383, 383, 383, 383, 383,\n",
       "        383, 383, 383, 383, 383, 383, 383, 383, 383, 383, 383, 383, 383,\n",
       "        383, 383, 383, 383, 383, 383, 383, 383, 383, 384, 385, 385, 385,\n",
       "        390, 390]),\n",
       " array([118, 119, 102, 103, 156, 281, 291,   2, 280, 281, 282, 283, 284,\n",
       "        285, 286, 287, 288, 289, 290, 291, 292, 293, 294, 295, 296, 297,\n",
       "        298, 299,   0,   1,   2,   3,   4,   5,   6,   7,   8,   9,  10,\n",
       "         11,  12,  13,  14,  16,  17,  19,  20,  21,  22,  23,  24,  25,\n",
       "         26,  27,  28,  29,  30,  31,  32,  33,  34,  35,  36,  37,  38,\n",
       "         39,  40,  43,  44,  45,  46,  47,  48,  49,  50,  51,  52,  53,\n",
       "         54,  55,  56,  57,  58,  59,  60,  61,  62,  63,  64,  65,  66,\n",
       "         67,  69,  70,  71,  72,  73,  74,  75,  76,  77,  78,  79,  80,\n",
       "         81,  82,  83,  84,  85,  86,  87,  88,  89,  90,  92,  93,  95,\n",
       "         96,  97,  98,  99, 100, 101, 102, 103, 104, 105, 106, 107, 108,\n",
       "        109, 110, 111, 112, 113, 114, 115, 116, 119, 120, 121, 122, 123,\n",
       "        124, 125, 126, 127, 128, 129, 130, 131, 132, 133, 134, 135, 136,\n",
       "        137, 138, 139, 140, 141, 143, 144, 145, 146, 147, 148, 149, 150,\n",
       "        151, 152, 153, 154, 155, 156, 157, 158, 159, 160, 161, 162, 163,\n",
       "        164, 165, 166, 167, 169, 170, 171, 172, 173, 174, 175, 176, 177,\n",
       "        178, 179, 180, 181, 182, 183, 184, 185, 186, 187, 188, 189, 190,\n",
       "        191, 192, 193, 194, 195, 196, 197, 198, 199, 200, 201, 202, 203,\n",
       "        204, 205, 206, 207, 208, 209, 210, 211, 212, 213, 214, 215, 216,\n",
       "        217, 218, 220, 221, 223, 224, 225, 226, 227, 228, 229, 230, 231,\n",
       "        232, 233, 234, 235, 236, 237, 238, 239, 240, 241, 242, 243, 245,\n",
       "        246, 248, 249, 250, 251, 252, 253, 254, 255, 256, 257, 258, 259,\n",
       "        260, 261, 262, 263, 264, 265, 266, 267, 270, 272, 273, 275, 276,\n",
       "        277, 278, 279, 280, 281, 282, 283, 284, 285, 286, 287, 288, 289,\n",
       "        290, 291, 292, 295, 296, 299,   0,   1,   2,   3,   4,   5,   6,\n",
       "          7,   8,   9,  10,  11,  12,  13,  14,  15,  16,  17,  18,  21,\n",
       "         23,  24,  25,  26,  27,  28,  29,  30,  31,  32,  33,  34,  35,\n",
       "         36,  37,  38,  39,  40,  41,  42,  43,  46,  48,  49,  51,  52,\n",
       "         53,  54,  55,  56,  57,  58,  59,  60,  61,  62,  63,  64,  65,\n",
       "         66,  67,  68,  69,  70,  71,  72,  73,  74,  75,  76,  77,  78,\n",
       "         79,  80,  81,  82,  83,  84,  85,  86,  87,  88,  89,  90,  91,\n",
       "         92,  93,  94,  95,  96,  97,  98,  99, 100, 101, 102, 103, 104,\n",
       "        105, 106, 107, 108, 109, 110, 111, 112, 113, 114, 115, 116, 117,\n",
       "        118, 119, 120, 121, 122, 123, 124, 125,  66, 110, 240, 263,   1,\n",
       "        257, 118, 119, 102, 103, 156, 281, 291,   2, 280, 281, 282, 283,\n",
       "        284, 285, 286, 287, 288, 289, 290, 291, 292, 293, 294, 295, 296,\n",
       "        297, 298, 299,   0,   1,   2,   3,   4,   5,   6,   7,   8,   9,\n",
       "         10,  11,  12,  13,  14,  16,  17,  19,  20,  21,  22,  23,  24,\n",
       "         25,  26,  27,  28,  29,  30,  31,  32,  33,  34,  35,  36,  37,\n",
       "         38,  39,  40,  43,  44,  45,  46,  47,  48,  49,  50,  51,  52,\n",
       "         53,  54,  55,  56,  57,  58,  59,  60,  61,  62,  63,  64,  65,\n",
       "         66,  67,  69,  70,  71,  72,  73,  74,  75,  76,  77,  78,  79,\n",
       "         80,  81,  82,  83,  84,  85,  86,  87,  88,  89,  90,  92,  93,\n",
       "         95,  96,  97,  98,  99, 100, 101, 102, 103, 104, 105, 106, 107,\n",
       "        108, 109, 110, 111, 112, 113, 114, 115, 116, 119, 120, 121, 122,\n",
       "        123, 124, 125, 126, 127, 128, 129, 130, 131, 132, 133, 134, 135,\n",
       "        136, 137, 138, 139, 140, 141, 143, 144, 145, 146, 147, 148, 149,\n",
       "        150, 151, 152, 153, 154, 155, 156, 157, 158, 159, 160, 161, 162,\n",
       "        163, 164, 165, 166, 167, 169, 170, 171, 172, 173, 174, 175, 176,\n",
       "        177, 178, 179, 180, 181, 182, 183, 184, 185, 186, 187, 188, 189,\n",
       "        190, 191, 192, 193, 194, 195, 196, 197, 198, 199, 200, 201, 202,\n",
       "        203, 204, 205, 206, 207, 208, 209, 210, 211, 212, 213, 214, 215,\n",
       "        216, 217, 218, 220, 221, 223, 224, 225, 226, 227, 228, 229, 230,\n",
       "        231, 232, 233, 234, 235, 236, 237, 238, 239, 240, 241, 242, 243,\n",
       "        245, 246, 248, 249, 250, 251, 252, 253, 254, 255, 256, 257, 258,\n",
       "        259, 260, 261, 262, 263, 264, 265, 266, 267, 270, 272, 273, 275,\n",
       "        276, 277, 278, 279, 280, 281, 282, 283, 284, 285, 286, 287, 288,\n",
       "        289, 290, 291, 292, 295, 296, 299,   0,   1,   2,   3,   4,   5,\n",
       "          6,   7,   8,   9,  10,  11,  12,  13,  14,  15,  16,  17,  18,\n",
       "         21,  23,  24,  25,  26,  27,  28,  29,  30,  31,  32,  33,  34,\n",
       "         35,  36,  37,  38,  39,  40,  41,  42,  43,  46,  48,  49,  51,\n",
       "         52,  53,  54,  55,  56,  57,  58,  59,  60,  61,  62,  63,  64,\n",
       "         65,  66,  67,  68,  69,  70,  71,  72,  73,  74,  75,  76,  77,\n",
       "         78,  79,  80,  81,  82,  83,  84,  85,  86,  87,  88,  89,  90,\n",
       "         91,  92,  93,  94,  95,  96,  97,  98,  99, 100, 101, 102, 103,\n",
       "        104, 105, 106, 107, 108, 109, 110, 111, 112, 113, 114, 115, 116,\n",
       "        117, 118, 119, 120, 121, 122, 123, 124, 125,  66, 110, 240, 263,\n",
       "          1, 257]))"
      ]
     },
     "execution_count": 121,
     "metadata": {},
     "output_type": "execute_result"
    }
   ],
   "source": [
    "j=2\n",
    "np.where(np.isnan(torch.cat([X[u,:,:].t() for u in np.where(test[j,:].numpy()!=0)[0]]+\\\n",
    "            [torch.Tensor(D,nb_data_points)]*(size_patch**2-len(np.where(test[j,:].numpy()!=0)[0]))).numpy()))"
   ]
  },
  {
   "cell_type": "code",
   "execution_count": 124,
   "metadata": {
    "collapsed": false
   },
   "outputs": [
    {
     "data": {
      "text/plain": [
       "(array([  0,   1,   2, ..., 148, 148, 148]),\n",
       " array([132, 191,  62, ..., 131, 132, 133]))"
      ]
     },
     "execution_count": 124,
     "metadata": {},
     "output_type": "execute_result"
    }
   ],
   "source": [
    "np.where(np.isnan(torch.cat([torch.Tensor(D,nb_data_points)]*(size_patch**2-len(np.where(test[j,:].numpy()!=0)[0]))).numpy()))"
   ]
  },
  {
   "cell_type": "code",
   "execution_count": 93,
   "metadata": {
    "collapsed": false
   },
   "outputs": [
    {
     "data": {
      "text/plain": [
       "torch.Size([400, 300])"
      ]
     },
     "execution_count": 93,
     "metadata": {},
     "output_type": "execute_result"
    }
   ],
   "source": [
    "torch.cat([X[u,:,:].t() for u in np.where(test[j,:].numpy()!=0)[0]]+\\\n",
    "            [torch.Tensor(D,nb_data_points)]*(size_patch**2-len(np.where(test[j,:].numpy()!=0)[0]))).size()"
   ]
  },
  {
   "cell_type": "code",
   "execution_count": 104,
   "metadata": {
    "collapsed": false
   },
   "outputs": [],
   "source": [
    "tesy=torch.cat([X[u,:,:].t() for u in np.where(test[j,:].numpy()!=0)[0]]+\\\n",
    "            [torch.Tensor(D,nb_data_points)]*(size_patch**2-len(np.where(test[j,:].numpy()!=0)[0])))"
   ]
  },
  {
   "cell_type": "code",
   "execution_count": 110,
   "metadata": {
    "collapsed": false
   },
   "outputs": [
    {
     "data": {
      "text/plain": [
       "0"
      ]
     },
     "execution_count": 110,
     "metadata": {},
     "output_type": "execute_result"
    }
   ],
   "source": [
    "j"
   ]
  },
  {
   "cell_type": "code",
   "execution_count": 105,
   "metadata": {
    "collapsed": false
   },
   "outputs": [
    {
     "data": {
      "text/plain": [
       "2.0"
      ]
     },
     "execution_count": 105,
     "metadata": {},
     "output_type": "execute_result"
    }
   ],
   "source": [
    "torch.max(tesy)"
   ]
  },
  {
   "cell_type": "code",
   "execution_count": 84,
   "metadata": {
    "collapsed": false
   },
   "outputs": [
    {
     "data": {
      "text/plain": [
       "torch.Size([500, 300])"
      ]
     },
     "execution_count": 84,
     "metadata": {},
     "output_type": "execute_result"
    }
   ],
   "source": [
    "torch.cat([X[u,:,:].t() for u in np.where(test[j,:].numpy()!=0)[0]]+\n",
    "            [torch.Tensor(D,nb_data_points)]*(size_patch**2-len(np.where(test[j,:].numpy()!=0)[0])))).size()"
   ]
  },
  {
   "cell_type": "code",
   "execution_count": null,
   "metadata": {
    "collapsed": true
   },
   "outputs": [],
   "source": [
    "a=2*np.max([size_patch//2,1])+size_image[0]\n",
    "    b=2*np.max([size_patch//2,1])+size_image[1]\n",
    "    padded_image=np.zeros((a,b))\n",
    "    padded_image[np.max([size_patch//2,1]):np.max([size_patch//2,1])+size_image[0],np.max([size_patch//2,1]):(np.max([size_patch//2,1]))+size_image[1]]=1\n",
    "    nx,ny=padded_image.shape\n",
    "    print(nx,ny)\n",
    "    patches=torch.Tensor(np.array([(padded_image*create_distance_mask(size_image,size_patch,ii,jj,beta=beta))[np.max([size_patch//2,1]):np.max([size_patch//2,1])+size_image[0],np.max([size_patch//2,1]):(np.max([size_patch//2,1]))+size_image[1]] for ii in np.arange(0,nx-2*np.max([size_patch//2,1])) for jj in np.arange(0,ny-2*np.max([size_patch//2,1])) ]))\n",
    "    n_p,n_d,p_dim=patches.size()\n",
    "    #nn_zero=(torch.sum(torch.abs(patches.view(n_d*n_p,p_dim)    \n",
    "    return patches"
   ]
  },
  {
   "cell_type": "code",
   "execution_count": 21,
   "metadata": {
    "collapsed": true
   },
   "outputs": [],
   "source": [
    "b=0\n",
    "X=input_map\n",
    "batch_size=100\n",
    "nb_locations=X.size()[0]\n",
    "x_dim=int(np.sqrt(X.size()[0]))\n",
    "nb_data_points=X.size()[1]\n",
    "D=200"
   ]
  },
  {
   "cell_type": "code",
   "execution_count": 22,
   "metadata": {
    "collapsed": false
   },
   "outputs": [],
   "source": [
    "n_p,n_d,p_dim=X.size()\n",
    "self=net.Kernel[1]\n",
    "if True:\n",
    "                    if self.standardize is not None:\n",
    "                            input_map=self.standardize.transform(input_map.contiguous().view(-1,input_map.size()[2]).numpy())\n",
    "                            input_map=torch.Tensor(input_map).view(n_p,n_d,-1)\n",
    "                            n_p,n_d,p_dim=input_map.size()\n",
    "                    if self.pca is not None:\n",
    "                            input_map=self.pca.transform(input_map.contiguous().view(-1,input_map.size()[2]).numpy())\n",
    "                            input_map=torch.Tensor(input_map).view(n_p,n_d,-1)\n",
    "                            n_p,n_d,p_dim=input_map.size()"
   ]
  },
  {
   "cell_type": "code",
   "execution_count": 23,
   "metadata": {
    "collapsed": false
   },
   "outputs": [
    {
     "data": {
      "text/plain": [
       "torch.Size([196, 100, 30])"
      ]
     },
     "execution_count": 23,
     "metadata": {},
     "output_type": "execute_result"
    }
   ],
   "source": [
    "input_map[:,b*batch_size:(b+1)*batch_size,:].size(\n",
    ")"
   ]
  },
  {
   "cell_type": "code",
   "execution_count": 24,
   "metadata": {
    "collapsed": false
   },
   "outputs": [
    {
     "data": {
      "text/plain": [
       "Variable containing:\n",
       " 0.0921\n",
       " 0.2507\n",
       " 0.0605\n",
       " 0.0899\n",
       " 0.1309\n",
       " 0.1877\n",
       " 0.0618\n",
       " 0.0729\n",
       " 0.1036\n",
       " 0.1510\n",
       " 0.0352\n",
       " 0.0619\n",
       " 0.1439\n",
       " 0.1345\n",
       " 0.0674\n",
       " 0.1713\n",
       " 0.3698\n",
       " 0.0845\n",
       " 0.0949\n",
       " 0.1317\n",
       " 0.0693\n",
       " 0.1703\n",
       " 0.0912\n",
       " 0.0477\n",
       " 0.1255\n",
       " 0.0613\n",
       " 0.1268\n",
       " 0.0645\n",
       " 0.0981\n",
       " 0.0763\n",
       " 0.1351\n",
       " 0.0858\n",
       " 0.0991\n",
       " 0.1023\n",
       " 0.0639\n",
       " 0.0716\n",
       " 0.0434\n",
       " 0.0703\n",
       " 0.1570\n",
       " 0.0768\n",
       " 0.0476\n",
       " 0.0524\n",
       " 0.3480\n",
       " 0.0587\n",
       " 0.1746\n",
       " 0.1812\n",
       " 0.0789\n",
       " 0.0866\n",
       " 0.0595\n",
       " 0.2165\n",
       " 0.0542\n",
       " 0.0376\n",
       " 0.1419\n",
       " 0.2135\n",
       " 0.1185\n",
       " 0.0399\n",
       " 0.0696\n",
       " 0.0384\n",
       " 0.0782\n",
       " 0.0582\n",
       " 0.1133\n",
       " 0.0591\n",
       " 0.1451\n",
       " 0.2462\n",
       " 0.1421\n",
       " 0.0798\n",
       " 0.0444\n",
       " 0.0710\n",
       " 0.1692\n",
       " 0.0741\n",
       " 0.0478\n",
       " 0.0491\n",
       " 0.0899\n",
       " 0.1385\n",
       " 0.0828\n",
       " 0.0518\n",
       " 0.0217\n",
       " 0.1313\n",
       " 0.1221\n",
       " 0.1166\n",
       " 0.1457\n",
       " 0.0934\n",
       " 0.0949\n",
       " 0.0747\n",
       " 0.1033\n",
       " 0.1053\n",
       " 0.0391\n",
       " 0.0942\n",
       " 0.0631\n",
       " 0.1272\n",
       " 0.0789\n",
       " 0.2636\n",
       " 0.0903\n",
       " 0.0571\n",
       " 0.1435\n",
       " 0.0546\n",
       " 0.0824\n",
       " 0.0364\n",
       " 0.1330\n",
       " 0.0503\n",
       " 0.1083\n",
       " 0.1013\n",
       " 0.1506\n",
       " 0.0623\n",
       " 0.1699\n",
       " 0.0304\n",
       " 0.0762\n",
       " 0.0739\n",
       " 0.1694\n",
       " 0.1208\n",
       " 0.0798\n",
       " 0.0669\n",
       " 0.0774\n",
       " 0.0244\n",
       " 0.1501\n",
       " 0.0841\n",
       " 0.0762\n",
       " 0.0704\n",
       " 0.0907\n",
       " 0.1095\n",
       " 0.2335\n",
       " 0.1264\n",
       " 0.1329\n",
       " 0.0884\n",
       " 0.0783\n",
       " 0.1001\n",
       " 0.0625\n",
       " 0.0840\n",
       " 0.1696\n",
       " 0.0558\n",
       " 0.0430\n",
       " 0.1489\n",
       " 0.1224\n",
       " 0.1242\n",
       " 0.1353\n",
       " 0.1170\n",
       " 0.0372\n",
       " 0.0309\n",
       " 0.3045\n",
       " 0.1181\n",
       " 0.0527\n",
       " 0.0973\n",
       " 0.0971\n",
       " 0.0810\n",
       " 0.0438\n",
       " 0.1025\n",
       " 0.0564\n",
       " 0.0781\n",
       " 0.0968\n",
       " 0.0690\n",
       " 0.0934\n",
       " 0.0940\n",
       " 0.0741\n",
       " 0.1676\n",
       " 0.1285\n",
       " 0.0410\n",
       " 0.0589\n",
       " 0.1391\n",
       " 0.0824\n",
       " 0.0299\n",
       " 0.1026\n",
       " 0.0833\n",
       " 0.3448\n",
       " 0.0260\n",
       " 0.1595\n",
       " 0.0715\n",
       " 0.2447\n",
       " 0.0733\n",
       " 0.1226\n",
       " 0.0234\n",
       " 0.1354\n",
       " 0.0912\n",
       " 0.0687\n",
       " 0.0841\n",
       " 0.0777\n",
       " 0.1441\n",
       " 0.0826\n",
       " 0.0547\n",
       " 0.0971\n",
       " 0.0506\n",
       " 0.1198\n",
       " 0.0480\n",
       " 0.2077\n",
       " 0.0663\n",
       " 0.0458\n",
       " 0.0637\n",
       " 0.0940\n",
       " 0.0717\n",
       " 0.0968\n",
       " 0.0927\n",
       " 0.0916\n",
       " 0.0352\n",
       " 0.1310\n",
       " 0.0792\n",
       " 0.0991\n",
       " 0.0601\n",
       " 0.2529\n",
       " 0.1099\n",
       " 0.1602\n",
       " 0.0897\n",
       "[torch.FloatTensor of size 200]"
      ]
     },
     "execution_count": 24,
     "metadata": {},
     "output_type": "execute_result"
    }
   ],
   "source": [
    "self.eta"
   ]
  },
  {
   "cell_type": "code",
   "execution_count": 25,
   "metadata": {
    "collapsed": false
   },
   "outputs": [
    {
     "data": {
      "text/plain": [
       "torch.Size([19600, 200, 30])"
      ]
     },
     "execution_count": 25,
     "metadata": {},
     "output_type": "execute_result"
    }
   ],
   "source": [
    "sigma=self.sigma\n",
    "self.W.data.unsqueeze(0).expand(n_p*batch_size,D,p_dim).size()"
   ]
  },
  {
   "cell_type": "code",
   "execution_count": 26,
   "metadata": {
    "collapsed": false
   },
   "outputs": [],
   "source": [
    "\n",
    "XX=input_map[:,b*batch_size:(b+1)*batch_size,:].contiguous().view(-1,p_dim)\n",
    "tot=torch.exp(torch.div(torch.sum((XX.unsqueeze(1).expand(n_p*batch_size,D,p_dim)- self.W.data.unsqueeze(0).expand(n_p*batch_size,D,p_dim))**2,dim=2),-sigma))"
   ]
  },
  {
   "cell_type": "code",
   "execution_count": 27,
   "metadata": {
    "collapsed": false
   },
   "outputs": [
    {
     "data": {
      "text/plain": [
       "0.9955015182495117"
      ]
     },
     "execution_count": 27,
     "metadata": {},
     "output_type": "execute_result"
    }
   ],
   "source": [
    "torch.max(tot)"
   ]
  },
  {
   "cell_type": "code",
   "execution_count": 28,
   "metadata": {
    "collapsed": false
   },
   "outputs": [
    {
     "name": "stdout",
     "output_type": "stream",
     "text": [
      "torch.Size([49, 300, 200])\n",
      "torch.Size([300, 49, 200])\n",
      "torch.Size([300, 9800])\n",
      "torch.Size([300, 49, 200])\n"
     ]
    }
   ],
   "source": [
    "# Import datasets, classifiers and performance metrics\n",
    "from sklearn import datasets, svm, pipeline\n",
    "from sklearn.kernel_approximation import (RBFSampler,\n",
    "                                          Nystroem)\n",
    "from sklearn.decomposition import PCA\n",
    "\n",
    "\n",
    "\n",
    "X=net.Kernel[1].output\n",
    "#X=net.propagate_through_network(data,patches_given=False)\n",
    "n_p,n_d,p_dim=X.size()\n",
    "print(X.size())\n",
    "X=X.permute(1,0,2)\n",
    "print(X.size())\n",
    "\n",
    "pca_mnis=PCA(n_components=50,whiten=True)\n",
    "pca_mnis.fit(X.contiguous().view(n_d, n_p*p_dim).numpy())\n",
    "print(X.contiguous().view(n_d, n_p*p_dim).size())\n",
    "\n",
    "print(X.contiguous().size())\n",
    "X2=pca_mnis.transform(X.contiguous().view(n_d, n_p*p_dim).numpy())\n",
    "\n",
    "\n",
    "\n"
   ]
  },
  {
   "cell_type": "code",
   "execution_count": 29,
   "metadata": {
    "collapsed": false
   },
   "outputs": [
    {
     "name": "stdout",
     "output_type": "stream",
     "text": [
      "0.982009\n",
      "0.986666666667\n"
     ]
    },
    {
     "data": {
      "image/png": "[encoded data removed]",
      "text/plain": [
       "<matplotlib.figure.Figure at 0x127388d50>"
      ]
     },
     "metadata": {},
     "output_type": "display_data"
    }
   ],
   "source": [
    "plt.plot(pca_mnis.explained_variance_ratio_)\n",
    "print(np.sum(pca_mnis.explained_variance_ratio_))\n",
    "kernel_svm = svm.SVC(gamma=0.01)\n",
    "\n",
    "kernel_svm.fit(X2, X_labels.numpy())\n",
    "kernel_svm_score = kernel_svm.score(X2, X_labels.numpy())\n",
    "print(kernel_svm_score)\n"
   ]
  },
  {
   "cell_type": "code",
   "execution_count": 30,
   "metadata": {
    "collapsed": false
   },
   "outputs": [
    {
     "data": {
      "text/plain": [
       "torch.Size([196, 300, 100])"
      ]
     },
     "execution_count": 30,
     "metadata": {},
     "output_type": "execute_result"
    }
   ],
   "source": [
    "output_map.size()"
   ]
  },
  {
   "cell_type": "code",
   "execution_count": 31,
   "metadata": {
    "collapsed": false
   },
   "outputs": [],
   "source": [
    "input_map=extract_patches_from_vector(output_map, net.n_patches[1])"
   ]
  },
  {
   "cell_type": "code",
   "execution_count": 32,
   "metadata": {
    "collapsed": false
   },
   "outputs": [
    {
     "data": {
      "text/plain": [
       "torch.Size([196, 300, 400])"
      ]
     },
     "execution_count": 32,
     "metadata": {},
     "output_type": "execute_result"
    }
   ],
   "source": [
    "input_map.size()"
   ]
  },
  {
   "cell_type": "code",
   "execution_count": 33,
   "metadata": {
    "collapsed": true
   },
   "outputs": [],
   "source": [
    "norms=input_map.norm(p=2,dim=2)"
   ]
  },
  {
   "cell_type": "code",
   "execution_count": 34,
   "metadata": {
    "collapsed": false
   },
   "outputs": [
    {
     "data": {
      "text/plain": [
       "3.6541708188624015e+35"
      ]
     },
     "execution_count": 34,
     "metadata": {},
     "output_type": "execute_result"
    }
   ],
   "source": [
    "torch.max(input_map)"
   ]
  },
  {
   "cell_type": "code",
   "execution_count": 35,
   "metadata": {
    "collapsed": true
   },
   "outputs": [],
   "source": [
    "input_map=normalize_output(input_map)"
   ]
  },
  {
   "cell_type": "code",
   "execution_count": 36,
   "metadata": {
    "collapsed": false
   },
   "outputs": [
    {
     "ename": "NameError",
     "evalue": "name 'k' is not defined",
     "output_type": "error",
     "traceback": [
      "\u001b[0;31m---------------------------------------------------------------------------\u001b[0m",
      "\u001b[0;31mNameError\u001b[0m                                 Traceback (most recent call last)",
      "\u001b[0;32m<ipython-input-36-3d062973ef29>\u001b[0m in \u001b[0;36m<module>\u001b[0;34m()\u001b[0m\n\u001b[0;32m----> 1\u001b[0;31m \u001b[0moutput_map2\u001b[0m\u001b[0;34m=\u001b[0m\u001b[0mnet\u001b[0m\u001b[0;34m.\u001b[0m\u001b[0mKernel\u001b[0m\u001b[0;34m[\u001b[0m\u001b[0mk\u001b[0m\u001b[0;34m]\u001b[0m\u001b[0;34m.\u001b[0m\u001b[0mget_activation_map\u001b[0m\u001b[0;34m(\u001b[0m\u001b[0mX\u001b[0m\u001b[0;34m=\u001b[0m\u001b[0minput_map\u001b[0m\u001b[0;34m,\u001b[0m\u001b[0mnorms\u001b[0m\u001b[0;34m=\u001b[0m\u001b[0mnorms\u001b[0m\u001b[0;34m,\u001b[0m\u001b[0mverbose\u001b[0m\u001b[0;34m=\u001b[0m\u001b[0mTrue\u001b[0m\u001b[0;34m)\u001b[0m\u001b[0;34m\u001b[0m\u001b[0m\n\u001b[0m",
      "\u001b[0;31mNameError\u001b[0m: name 'k' is not defined"
     ]
    }
   ],
   "source": [
    "output_map2=net.Kernel[k].get_activation_map(X=input_map,norms=norms,verbose=True)"
   ]
  },
  {
   "cell_type": "code",
   "execution_count": null,
   "metadata": {
    "collapsed": false
   },
   "outputs": [],
   "source": [
    "X_test2=train_loader.dataset.train_data[torch.LongTensor(inds[2*test_batch_size:(3*test_batch_size)])]\n",
    "X_test_labels2=train_loader.dataset.train_labels[torch.LongTensor(inds[2*test_batch_size:(3*test_batch_size)])]\n",
    "\n",
    "X_test2=1.0/255*X_test2.type(torch.FloatTensor)\n",
    "\n",
    "self=net.Kernel[0]\n",
    "input_map = extract_patches_from_image(X_test2, net.n_patches[0])\n",
    "n_p,n_d,dim,_=input_map.size()\n",
    "input_map=input_map.view(n_p,n_d,dim**2)\n",
    "#print 'X is given'\n",
    "if True:\n",
    "                self.data_has_been_scaled = False\n",
    "                #print 'Activation map init. Not scaled yet. Input map has size', input_map.size()\n",
    "                self.norms=norms\n",
    "                n_p,n_d,p_dim=input_map.size()\n",
    "                if self.data_has_been_scaled==False:\n",
    "                    print(np.max(input_map.numpy()))\n",
    "                    if self.standardize is not None:\n",
    "                            input_map2=self.standardize.transform(input_map.contiguous().view(-1,input_map.size()[2]).numpy())\n",
    "                            input_map2=torch.Tensor(input_map2).view(n_p,n_d,-1)\n",
    "                            n_p,n_d,p_dim=input_map.size()\n",
    "                    print(np.max(input_map2.numpy()))\n",
    "                    if self.pca is not None:\n",
    "                            input_map2=self.pca.transform(input_map2.contiguous().view(-1,input_map2.size()[2]).numpy())\n",
    "                            input_map2=torch.Tensor(input_map2).view(n_p,n_d,-1)\n",
    "                            n_p,n_d,p_dim=input_map.size()\n",
    "                    self.data_has_been_scaled=True\n",
    "                    print(np.max(input_map2.numpy()))\n",
    "                    #print 'Activation map :Given data was scaled and has size', input_map2.size()\n",
    "\n",
    "norms=torch.sum(input_map2**2,2)/input_map2.size()[2]\n",
    "k=0\n",
    "print(np.max(norms.numpy()))\n",
    "input_map2=normalize_output(input_map2)\n",
    "print('input map in layer ', k, ' has size ',input_map2.size())\n",
    "print(np.max(input_map2.numpy()))"
   ]
  },
  {
   "cell_type": "code",
   "execution_count": null,
   "metadata": {
    "collapsed": false
   },
   "outputs": [],
   "source": [
    "plt.hist(norms.numpy().reshape([-1,1]))"
   ]
  },
  {
   "cell_type": "code",
   "execution_count": null,
   "metadata": {
    "collapsed": false
   },
   "outputs": [],
   "source": [
    "output_map0=self.get_activation_map(X=input_map2,norms=norms,verbose=True)"
   ]
  },
  {
   "cell_type": "code",
   "execution_count": null,
   "metadata": {
    "collapsed": false
   },
   "outputs": [],
   "source": [
    "torch.max(output_map0)"
   ]
  },
  {
   "cell_type": "code",
   "execution_count": null,
   "metadata": {
    "collapsed": false
   },
   "outputs": [],
   "source": [
    "net.n_patches[1]"
   ]
  },
  {
   "cell_type": "code",
   "execution_count": null,
   "metadata": {
    "collapsed": false
   },
   "outputs": [],
   "source": [
    "input_map = extract_patches_from_vector(output_map0, net.n_patches[1])"
   ]
  },
  {
   "cell_type": "code",
   "execution_count": null,
   "metadata": {
    "collapsed": false
   },
   "outputs": [],
   "source": [
    "torch.max(input_map)"
   ]
  },
  {
   "cell_type": "code",
   "execution_count": null,
   "metadata": {
    "collapsed": false
   },
   "outputs": [],
   "source": [
    "self=net.Kernel[1]\n",
    "k=1\n",
    "input_map = extract_patches_from_vector(output_map0, net.n_patches[1])\n",
    "print('max1',torch.max(input_map))\n",
    "n_p,n_d,p_dim=input_map.size()\n",
    "norms=torch.sum(input_map2**2,2)/input_map2.size()[2]\n",
    "k=0\n",
    "print(np.max(norms.numpy()))\n",
    "input_map2=normalize_output(input_map2)\n",
    "#print 'X is given'\n",
    "if True:\n",
    "                self.data_has_been_scaled = False\n",
    "                #print 'Activation map init. Not scaled yet. Input map has size', input_map.size()\n",
    "                self.norms=norms\n",
    "                n_p,n_d,p_dim=input_map.size()\n",
    "                if self.data_has_been_scaled==False:\n",
    "                    print(np.max(input_map.numpy()))\n",
    "                    if self.standardize is not None:\n",
    "                            input_map2=self.standardize.transform(input_map.contiguous().view(-1,input_map.size()[2]).numpy())\n",
    "                            input_map2=torch.Tensor(input_map2).view(n_p,n_d,-1)\n",
    "                            n_p,n_d,p_dim=input_map.size()\n",
    "                    print(np.max(input_map2.numpy()))\n",
    "                    if self.pca is not None:\n",
    "                            print('here')\n",
    "                            input_map2=self.pca.transform(input_map2.contiguous().view(-1,input_map2.size()[2]).numpy())\n",
    "                            input_map2=torch.Tensor(input_map2).view(n_p,n_d,-1)\n",
    "                            n_p,n_d,p_dim=input_map.size()\n",
    "                    self.data_has_been_scaled=True\n",
    "                    print(np.max(input_map2.numpy()))\n",
    "                    #print 'Activation map :Given data was scaled and has size', input_map2.size()\n",
    "\n",
    "\n",
    "print('input map in layer ', k, ' has size ',input_map2.size())\n",
    "print(np.max(input_map2.numpy()))"
   ]
  },
  {
   "cell_type": "code",
   "execution_count": null,
   "metadata": {
    "collapsed": false
   },
   "outputs": [],
   "source": [
    "input_map2.size()[2]"
   ]
  },
  {
   "cell_type": "code",
   "execution_count": null,
   "metadata": {
    "collapsed": false
   },
   "outputs": [],
   "source": [
    "output_map2=self.get_activation_map(X=input_map2,norms=norms,verbose=True)"
   ]
  },
  {
   "cell_type": "code",
   "execution_count": null,
   "metadata": {
    "collapsed": false
   },
   "outputs": [],
   "source": [
    "self=net.Kernel[1]\n",
    "k=1\n",
    "output_map=net.Kernel[0].output\n",
    "input_map = extract_patches_from_vector(output_map, net.n_patches[1])\n",
    "n_p,n_d,p_dim_=input_map.size()\n",
    "print('input map in layer ', k, ' has size ',input_map.size())\n",
    "#print 'X is given'\n",
    "if True:\n",
    "                self.data_has_been_scaled = False\n",
    "                #print 'Activation map init. Not scaled yet. Input map has size', input_map.size()\n",
    "                self.norms=norms\n",
    "                n_p,n_d,p_dim=input_map.size()\n",
    "                if self.data_has_been_scaled==False:\n",
    "                    print(np.max(input_map.numpy()))\n",
    "                    if self.standardize is not None:\n",
    "                            input_map2=self.standardize.transform(input_map.contiguous().view(-1,input_map.size()[2]).numpy())\n",
    "                            input_map2=torch.Tensor(input_map2).view(n_p,n_d,-1)\n",
    "                            n_p,n_d,p_dim=input_map.size()\n",
    "                    print(np.max(input_map2.numpy()))\n",
    "                    if self.pca is not None:\n",
    "                            print('here')\n",
    "                            input_map2=self.pca.transform(input_map2.contiguous().view(-1,input_map2.size()[2]).numpy())\n",
    "                            input_map2=torch.Tensor(input_map2).view(n_p,n_d,-1)\n",
    "                            n_p,n_d,p_dim=input_map.size()\n",
    "                    self.data_has_been_scaled=True\n",
    "                    print(np.max(input_map2.numpy()))\n",
    "                    #print 'Activation map :Given data was scaled and has size', input_map2.size()"
   ]
  },
  {
   "cell_type": "code",
   "execution_count": null,
   "metadata": {
    "collapsed": false
   },
   "outputs": [],
   "source": [
    "print('input map in layer ', k, ' has size ',input_map.size())"
   ]
  },
  {
   "cell_type": "code",
   "execution_count": null,
   "metadata": {
    "collapsed": false
   },
   "outputs": [],
   "source": [
    "norms=input_map2.norm(p=2,dim=2)\n",
    "k=0\n",
    "print(np.max(norms.numpy()))\n",
    "input_map2=normalize_output(input_map2)\n",
    "print('input map in layer ', k, ' has size ',input_map.size())\n",
    "print(np.max(input_map2.numpy()))"
   ]
  },
  {
   "cell_type": "code",
   "execution_count": null,
   "metadata": {
    "collapsed": false
   },
   "outputs": [],
   "source": [
    "output_map=self.get_activation_map(X=input_map2,norms=norms,verbose=True)"
   ]
  },
  {
   "cell_type": "code",
   "execution_count": null,
   "metadata": {
    "collapsed": false
   },
   "outputs": [],
   "source": [
    "plt.plot(pca_mnis.explained_variance_ratio_)\n",
    "print(np.sum(pca_mnis.explained_variance_ratio_))"
   ]
  },
  {
   "cell_type": "code",
   "execution_count": null,
   "metadata": {
    "collapsed": false
   },
   "outputs": [],
   "source": [
    "plt.plot(pca_mnis.explained_variance_ratio_)\n",
    "print(np.sum(pca_mnis.explained_variance_ratio_))\n",
    "kernel_svm = svm.SVC(gamma=0.01)\n",
    "\n",
    "kernel_svm.fit(X2, X_labels.numpy())\n",
    "kernel_svm_score = kernel_svm.score(X2, X_labels.numpy())\n",
    "print(kernel_svm_score)"
   ]
  },
  {
   "cell_type": "code",
   "execution_count": null,
   "metadata": {
    "collapsed": false
   },
   "outputs": [],
   "source": [
    "X_test=train_loader.dataset.train_data[torch.LongTensor(inds[4*test_batch_size:(5*test_batch_size)])]\n",
    "X_test_labels=train_loader.dataset.train_labels[torch.LongTensor(inds[4*test_batch_size:(5*test_batch_size)])]\n",
    "\n",
    "X_test=1.0/255*X_test.type(torch.FloatTensor)\n",
    "print(X_test.size())\n",
    "#norm_test=torch.max(torch.sum(X_test.view(n_d,-1)**2,1),torch.Tensor([0.00001]))\n",
    "#print(norm_test.size())\n",
    "n_d,p,_=X_test.size()\n"
   ]
  },
  {
   "cell_type": "code",
   "execution_count": null,
   "metadata": {
    "collapsed": false
   },
   "outputs": [],
   "source": [
    "i"
   ]
  },
  {
   "cell_type": "code",
   "execution_count": null,
   "metadata": {
    "collapsed": false
   },
   "outputs": [],
   "source": [
    "print(X_test.size())\n",
    "output_test=net.propagate_through_network(X=X_test,patches_given=False)"
   ]
  },
  {
   "cell_type": "code",
   "execution_count": null,
   "metadata": {
    "collapsed": false
   },
   "outputs": [],
   "source": [
    "net.Kernel[1].data_has_been_scaled"
   ]
  },
  {
   "cell_type": "code",
   "execution_count": null,
   "metadata": {
    "collapsed": false
   },
   "outputs": [],
   "source": [
    "#n_p,n_d,p_dim=X_test.size()\n",
    "XX=output_test\n",
    "print( 'XX size',XX.size())\n",
    "XX=XX.permute(1,0,2)\n",
    "print(XX.size())\n",
    "#X_test1=pca_mnis.transform(X.contiguous().view(n_d, n_p*p_dim).numpy())\n",
    "X_test=pca_mnis.transform(XX.contiguous().view(n_d, n_p*p_dim).numpy())\n",
    "\n",
    "kernel_svm_score = kernel_svm.score(X_test, X_test_labels.numpy())\n",
    "print(kernel_svm_score)"
   ]
  },
  {
   "cell_type": "code",
   "execution_count": null,
   "metadata": {
    "collapsed": false
   },
   "outputs": [],
   "source": [
    "kernel_svm_score = kernel_svm.score(X_test, X_test_labels.numpy())\n",
    "print(kernel_svm_score)"
   ]
  },
  {
   "cell_type": "code",
   "execution_count": null,
   "metadata": {
    "collapsed": false
   },
   "outputs": [],
   "source": [
    "kernel_svm_score=[0]*20\n",
    "for i in range(2,21):\n",
    "    X_test2=train_loader.dataset.train_data[torch.LongTensor(inds[i*test_batch_size:((i+1)*test_batch_size)])]\n",
    "    X_test_labels2=train_loader.dataset.train_labels[torch.LongTensor(inds[i*test_batch_size:((i+1)*test_batch_size)])]\n",
    "\n",
    "    X_test2=1.0/255*X_test2.type(torch.FloatTensor)\n",
    "    output_test2=net.propagate_through_network(X=X_test2,patches_given=False)\n",
    "    XX2=output_test2\n",
    "    print( 'XX size',XX2.size())\n",
    "    XX2=XX2.permute(1,0,2)\n",
    "    print(XX2.size())\n",
    "    X_test2=pca_mnis.transform(XX2.contiguous().view(n_d, n_p*p_dim).numpy())\n",
    "\n",
    "    kernel_svm_score[i] = kernel_svm.score(X_test2, X_test_labels2.numpy())\n",
    "    print(kernel_svm_score)"
   ]
  },
  {
   "cell_type": "code",
   "execution_count": null,
   "metadata": {
    "collapsed": false
   },
   "outputs": [],
   "source": [
    "plt.hist(net.Kernel[1].norms.view(-1,1).numpy()[np.isinf(net.Kernel[1].norms.view(-1,1).numpy())==False])"
   ]
  },
  {
   "cell_type": "code",
   "execution_count": null,
   "metadata": {
    "collapsed": false
   },
   "outputs": [],
   "source": [
    "np.where(np.isinf(net.Kernel[1].norms.view(-1,1).numpy()))"
   ]
  },
  {
   "cell_type": "code",
   "execution_count": null,
   "metadata": {
    "collapsed": false
   },
   "outputs": [],
   "source": [
    "kernel_svm_score"
   ]
  },
  {
   "cell_type": "code",
   "execution_count": null,
   "metadata": {
    "collapsed": true
   },
   "outputs": [],
   "source": []
  }
 ],
 "metadata": {
  "anaconda-cloud": {},
  "kernelspec": {
   "display_name": "Python [default]",
   "language": "python",
   "name": "python2"
  },
  "language_info": {
   "codemirror_mode": {
    "name": "ipython",
    "version": 2
   },
   "file_extension": ".py",
   "mimetype": "text/x-python",
   "name": "python",
   "nbconvert_exporter": "python",
   "pygments_lexer": "ipython2",
   "version": "2.7.11"
  }
 },
 "nbformat": 4,
 "nbformat_minor": 1
}
